{
 "cells": [
  {
   "cell_type": "markdown",
   "id": "ea21399d-9ef0-460c-96fc-1b802da1f4bf",
   "metadata": {},
   "source": [
    "순서가 중요한 데이터 스트럭쳐!"
   ]
  },
  {
   "cell_type": "markdown",
   "id": "5c92df0c-6dd3-4145-aa73-edc662b18b38",
   "metadata": {},
   "source": [
    "# Transpose\n",
    "column vector -> row vector\n",
    "row vector -> column vector"
   ]
  }
 ],
 "metadata": {
  "kernelspec": {
   "display_name": "Python 3 (ipykernel)",
   "language": "python",
   "name": "python3"
  },
  "language_info": {
   "codemirror_mode": {
    "name": "ipython",
    "version": 3
   },
   "file_extension": ".py",
   "mimetype": "text/x-python",
   "name": "python",
   "nbconvert_exporter": "python",
   "pygments_lexer": "ipython3",
   "version": "3.8.11"
  }
 },
 "nbformat": 4,
 "nbformat_minor": 5
}
