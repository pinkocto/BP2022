{
 "cells": [
  {
   "cell_type": "code",
   "execution_count": 1,
   "id": "e3ec1c01",
   "metadata": {},
   "outputs": [],
   "source": [
    "import numpy as np"
   ]
  },
  {
   "cell_type": "code",
   "execution_count": 6,
   "id": "2f474741",
   "metadata": {},
   "outputs": [
    {
     "data": {
      "text/plain": [
       "0.07826655136741911"
      ]
     },
     "execution_count": 6,
     "metadata": {},
     "output_type": "execute_result"
    }
   ],
   "source": [
    "1/(1+np.exp(-1.67))*0.093"
   ]
  },
  {
   "cell_type": "code",
   "execution_count": 1,
   "id": "0535f504",
   "metadata": {},
   "outputs": [
    {
     "data": {
      "text/plain": [
       "-1.9600000000000009"
      ]
     },
     "execution_count": 1,
     "metadata": {},
     "output_type": "execute_result"
    }
   ],
   "source": [
    "(34.08-38)/2"
   ]
  }
 ],
 "metadata": {
  "kernelspec": {
   "display_name": "Python 3 (ipykernel)",
   "language": "python",
   "name": "python3"
  },
  "language_info": {
   "codemirror_mode": {
    "name": "ipython",
    "version": 3
   },
   "file_extension": ".py",
   "mimetype": "text/x-python",
   "name": "python",
   "nbconvert_exporter": "python",
   "pygments_lexer": "ipython3",
   "version": "3.8.13"
  }
 },
 "nbformat": 4,
 "nbformat_minor": 5
}
