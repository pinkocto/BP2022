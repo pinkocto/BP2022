{
 "cells": [
  {
   "cell_type": "markdown",
   "id": "17570dea-5171-49d8-b7ba-fe5fe274454d",
   "metadata": {},
   "source": [
    "# 4. 객체 출력 포맷팅 그래픽\n",
    "> \"작업중\"\n",
    "\n",
    "- toc: true\n",
    "- branch: master\n",
    "- badges: false\n",
    "- comments: true\n",
    "- author: dinonene\n",
    "- categories: [python]"
   ]
  },
  {
   "cell_type": "markdown",
   "id": "30b7e77f-e96c-4956-806d-efb26f627791",
   "metadata": {},
   "source": [
    "### 다른 문자열 포맷팅 방법"
   ]
  },
  {
   "cell_type": "markdown",
   "id": "6d65ab35-d145-42f1-9efd-96e75c850943",
   "metadata": {},
   "source": [
    "`-` % 포맷팅 (구식 포맷팅 방법)"
   ]
  },
  {
   "cell_type": "code",
   "execution_count": 3,
   "id": "06fe7cbd-0bf4-48c0-a467-060644c356e6",
   "metadata": {},
   "outputs": [
    {
     "data": {
      "text/plain": [
       "'radius = 15 area=107.43'"
      ]
     },
     "execution_count": 3,
     "metadata": {},
     "output_type": "execute_result"
    }
   ],
   "source": [
    "\"radius = %d area=%.2f\"%(15, 107.4345)"
   ]
  },
  {
   "cell_type": "markdown",
   "id": "aede7a90-a273-455e-af66-afe4a032a1c3",
   "metadata": {},
   "source": [
    "`-` {} 를 이용한 포맷팅 (신식포맷팅 방법)"
   ]
  },
  {
   "cell_type": "code",
   "execution_count": 5,
   "id": "72d978ac-3dca-4efd-bfcf-112619a0fac5",
   "metadata": {},
   "outputs": [
    {
     "data": {
      "text/plain": [
       "'radius = 15 area=107.43'"
      ]
     },
     "execution_count": 5,
     "metadata": {},
     "output_type": "execute_result"
    }
   ],
   "source": [
    "\"radius = {} area={:.2f}\".format(15, 107.4345)"
   ]
  },
  {
   "cell_type": "code",
   "execution_count": 6,
   "id": "6aab2def-8fe7-49b6-acb4-84ceed85eec4",
   "metadata": {},
   "outputs": [
    {
     "data": {
      "text/plain": [
       "'1 2 1'"
      ]
     },
     "execution_count": 6,
     "metadata": {},
     "output_type": "execute_result"
    }
   ],
   "source": [
    "\"{0} {1} {0}\".format(1, 2)"
   ]
  },
  {
   "cell_type": "code",
   "execution_count": null,
   "id": "53c7e459-cb78-46fb-b8fb-c6ad65239a07",
   "metadata": {},
   "outputs": [],
   "source": []
  },
  {
   "cell_type": "code",
   "execution_count": null,
   "id": "5c7966dd-ac35-4509-8a49-9f04c520beb1",
   "metadata": {},
   "outputs": [],
   "source": []
  },
  {
   "cell_type": "code",
   "execution_count": null,
   "id": "a75d96a3-859f-411f-84ed-ac9c758d2875",
   "metadata": {},
   "outputs": [],
   "source": []
  },
  {
   "cell_type": "code",
   "execution_count": null,
   "id": "e6bab1a9-4e23-4506-a71d-729c6764840e",
   "metadata": {},
   "outputs": [],
   "source": []
  }
 ],
 "metadata": {
  "kernelspec": {
   "display_name": "Python 3 (ipykernel)",
   "language": "python",
   "name": "python3"
  },
  "language_info": {
   "codemirror_mode": {
    "name": "ipython",
    "version": 3
   },
   "file_extension": ".py",
   "mimetype": "text/x-python",
   "name": "python",
   "nbconvert_exporter": "python",
   "pygments_lexer": "ipython3",
   "version": "3.8.11"
  }
 },
 "nbformat": 4,
 "nbformat_minor": 5
}
