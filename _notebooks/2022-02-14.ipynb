{
 "cells": [
  {
   "cell_type": "markdown",
   "id": "fa1a4001-e6d3-48d4-8578-eaa0573f7a84",
   "metadata": {},
   "source": [
    "# (3주차) 2월14일\n",
    "> 제어구조와 조건문(2)\n",
    "- toc: true\n",
    "- branch: master\n",
    "- badges: false\n",
    "- comments: true\n",
    "- author: dinonene\n",
    "- categories: [python]"
   ]
  },
  {
   "cell_type": "markdown",
   "id": "4ef71e47-ccd4-4c36-a7c9-04af502e5740",
   "metadata": {},
   "source": [
    "### 반복의 필요성"
   ]
  },
  {
   "cell_type": "markdown",
   "id": "d5f35d5a-4f6d-4335-8b6f-6d38620d5d5d",
   "metadata": {},
   "source": [
    "#### `-` While loop\n",
    "\n",
    "- 어떤 조건이 거짓이 될 때까지 명령을 반복해서 실행"
   ]
  },
  {
   "cell_type": "markdown",
   "id": "11fa24a8-cda8-4b36-b05b-87e2295946d1",
   "metadata": {},
   "source": [
    "####  `-` While loop의 형태\n",
    "```\n",
    "while loop-계속-조건:\n",
    "    # loop body\n",
    "    문장1\n",
    "문장2\n",
    "```"
   ]
  },
  {
   "cell_type": "markdown",
   "id": "5fa4df3b-b683-4ae0-aa62-bfde3916c22c",
   "metadata": {},
   "source": [
    "- loop-계속-조건은 논리 식\n",
    "- 조건이 참이면 문장1을 실행하고 다시 조건을 검사를 한다\n",
    "- 조건이 거짓이면 반복에서 빠져나가 문장2를 실행한다"
   ]
  },
  {
   "cell_type": "markdown",
   "id": "1f3628d5-4104-4792-a5d6-dcd2d865e909",
   "metadata": {},
   "source": [
    "#### `-` 간단한 While loop의 예시"
   ]
  },
  {
   "cell_type": "markdown",
   "id": "41adf7c7-99f4-4072-be96-d5b3e43bdbc2",
   "metadata": {},
   "source": [
    "`1` 1부터 100까지 정수들의 합을 출력"
   ]
  },
  {
   "cell_type": "code",
   "execution_count": null,
   "id": "01fc572e-8918-4cb3-850b-c28b0b542c62",
   "metadata": {},
   "outputs": [],
   "source": []
  },
  {
   "cell_type": "markdown",
   "id": "43ea0846-648b-48e0-873a-ed835c768dd8",
   "metadata": {},
   "source": [
    "`2` 홀수 출력하기"
   ]
  },
  {
   "cell_type": "code",
   "execution_count": null,
   "id": "2a34323c-b2ab-4fd6-b614-1c8f6f3a99f8",
   "metadata": {},
   "outputs": [],
   "source": []
  },
  {
   "cell_type": "markdown",
   "id": "d1a57ea5-dc86-44e9-98b1-1127fb81da83",
   "metadata": {},
   "source": [
    "`3` 3의 배수 출력하기"
   ]
  },
  {
   "cell_type": "code",
   "execution_count": null,
   "id": "a69ada95-c019-45de-9355-18860b5373c1",
   "metadata": {},
   "outputs": [],
   "source": []
  }
 ],
 "metadata": {
  "kernelspec": {
   "display_name": "Python 3 (ipykernel)",
   "language": "python",
   "name": "python3"
  },
  "language_info": {
   "codemirror_mode": {
    "name": "ipython",
    "version": 3
   },
   "file_extension": ".py",
   "mimetype": "text/x-python",
   "name": "python",
   "nbconvert_exporter": "python",
   "pygments_lexer": "ipython3",
   "version": "3.8.11"
  }
 },
 "nbformat": 4,
 "nbformat_minor": 5
}
