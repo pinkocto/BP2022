{
 "cells": [
  {
   "cell_type": "markdown",
   "id": "bee83d25",
   "metadata": {},
   "source": [
    "# Unbalanced Data\n",
    "> 불균형 데이터 분석을 위한 샘플링 기법\n",
    "- toc: true\n",
    "- branch: master\n",
    "- badges: false\n",
    "- comments: true\n",
    "- author: pinkocto\n",
    "- categories: [python]"
   ]
  },
  {
   "cell_type": "markdown",
   "id": "df820793",
   "metadata": {},
   "source": [
    "## 불균형 데이터란?\n",
    "<font color='blue'>**\"정상\"**</font> 범주의 관측치 수와 <font color='red'>**\"이상\"**</font> 범주의 관측치 수의 차이가 크게 나타나는 경우\n",
    "\n",
    "<img src='./my_icons/unbal.PNG'>"
   ]
  },
  {
   "cell_type": "markdown",
   "id": "351a7330",
   "metadata": {},
   "source": [
    "## 불균형 데이터 특징"
   ]
  },
  {
   "cell_type": "markdown",
   "id": "39fde9a5",
   "metadata": {},
   "source": [
    "### 왜 문제인가?\n",
    "<font color='blue'>정상(다수)</font>을 정확히 분류 vs. <font color='red'>이상(소수)</font>을 정확히 분류\n",
    "\n",
    "`#1.` 일반적으로 <font color='red'>이상(소수)</font>을 정확히 분류하는 것이 중요\n",
    "\n",
    "`#2.` 적절한 분류경계선이 형성되지 못함\n",
    "$\\to$ <font color='red'>이상(소수)</font>을 정확히 찾아내지 못함\n",
    "\n",
    "`#3.` 높은 예측 정확도를 보임(?) 모델 성능에 대한 왜곡이 있을 수 있음."
   ]
  },
  {
   "cell_type": "markdown",
   "id": "405ec088",
   "metadata": {},
   "source": [
    "<img src='./my_icons/unbal2.PNG'>"
   ]
  },
  {
   "cell_type": "markdown",
   "id": "503c87c2",
   "metadata": {},
   "source": [
    "<img src='my_icons/ideal.PNG'>"
   ]
  },
  {
   "cell_type": "markdown",
   "id": "39b6be9b",
   "metadata": {},
   "source": [
    "<img src='./my_icons/real.PNG'>"
   ]
  },
  {
   "cell_type": "markdown",
   "id": "5bb551fb",
   "metadata": {},
   "source": [
    "<img src='./my_icons/real_ideal.PNG'>"
   ]
  },
  {
   "cell_type": "markdown",
   "id": "2083cbd9",
   "metadata": {},
   "source": [
    "불균형 상황 하에서는 분류 경계선이 잘못 설정된다."
   ]
  },
  {
   "cell_type": "markdown",
   "id": "bba960d1",
   "metadata": {},
   "source": [
    "<img src='./my_icons/unbal_pro.PNG'>"
   ]
  },
  {
   "cell_type": "markdown",
   "id": "37b97b71",
   "metadata": {},
   "source": [
    "미래의 이상점이 나타났을 때(회색 점) 실제 분류경계선 옆 주황색 점들은 실제 이상임에도 불구하고 이 분류 경계선에 의하면 정상으로 오분류를 하게 된다.\n",
    "\n",
    "$\\to$ 이상을 잘 찾아내지 못하는 문제 발생"
   ]
  },
  {
   "cell_type": "markdown",
   "id": "8f56c83f",
   "metadata": {},
   "source": [
    "## 성능평가"
   ]
  },
  {
   "cell_type": "markdown",
   "id": "644042c1",
   "metadata": {},
   "source": [
    "<img src='./my_icons/confu.PNG'>"
   ]
  },
  {
   "cell_type": "markdown",
   "id": "7b232246",
   "metadata": {},
   "source": [
    "<img src='my_icons/unbal_score.PNG'>"
   ]
  },
  {
   "cell_type": "markdown",
   "id": "dc3c36e6",
   "metadata": {},
   "source": [
    "- 이것만 봤을때는 정확도는 꽤 좋다. 그래서 우리 모델이 참 좋다! 라고 결론내릴 수 있는데 아마 이건 말이안된다고 생각할 것이다.\n",
    "\n",
    "- 왜냐하면 정상데이터는  다 맞췄지만 우리가 관심있는 것은 이상이고, 이상관점에서만 봤을때는 반 밖에 못맞췄는데?? 이것이 어떻게 좋은 모델일까?\n"
   ]
  },
  {
   "cell_type": "markdown",
   "id": "56da8020",
   "metadata": {},
   "source": [
    "> Warning: 예측 정확도는 높게 나오지만 그것을 곧이곧대로 해석하면 안된다!!"
   ]
  },
  {
   "cell_type": "markdown",
   "id": "ed14cc1a",
   "metadata": {},
   "source": [
    "## 해결방법은?\n"
   ]
  },
  {
   "cell_type": "markdown",
   "id": "8ceaf77e",
   "metadata": {},
   "source": [
    "불균형 데이터의 해결방안은 크게 두가지로 볼 수 있다.\n",
    "\n",
    "1. 첫번째는 데이터를 조절해서 해결한다.\n",
    "\n",
    "2. 두번째는 분류모델 자체를 조절해서 해결한다.\n",
    "\n",
    "세부적으로 불균형 데이터를 해결하는 방법은 3개가 있다고 볼 수 있다.\n",
    "1. 샘플링 기법 (Sampling method)\n",
    "2. 비용 기반 학습 (Cost sensitive leraning)\n",
    "3. 단일 클래스 분류기법 (Novelty detection)"
   ]
  },
  {
   "cell_type": "markdown",
   "id": "25cfe5a2",
   "metadata": {},
   "source": [
    "이번 시간에는 샘플링 기법에 대해서 알아보자."
   ]
  },
  {
   "cell_type": "markdown",
   "id": "3fd77437",
   "metadata": {},
   "source": [
    "## 데이터를 조정해서 해결"
   ]
  },
  {
   "cell_type": "markdown",
   "id": "cf2f3d69",
   "metadata": {},
   "source": [
    "<img src = 'my_icons/unbal_sol.PNG'>"
   ]
  },
  {
   "cell_type": "markdown",
   "id": "a6396e6a",
   "metadata": {},
   "source": [
    "## 데이터를 조정해서 해결 (Sampling)"
   ]
  },
  {
   "cell_type": "markdown",
   "id": "4d3db900",
   "metadata": {},
   "source": [
    "<img src='my_icons/unbal_sampling.PNG'>"
   ]
  },
  {
   "cell_type": "markdown",
   "id": "95446faa",
   "metadata": {},
   "source": [
    "샘플링 기법은 크게 언더 샘플링과 오버 샘플링으로 나눈다.\n",
    "\n",
    "언더샘플링은 다수 범주를 줄여서 소수범주의 개수와 비슷하게 만들자\n",
    "\n",
    "오버샘플링은 소수범주의 개수를 증폭시켜 다수 범주의 개수와 비슷하게 만들자.."
   ]
  },
  {
   "cell_type": "markdown",
   "id": "1b11ae41",
   "metadata": {},
   "source": [
    "### `-` 언더 샘플링"
   ]
  },
  {
   "cell_type": "markdown",
   "id": "ddaa15e0",
   "metadata": {},
   "source": [
    "#### `#1.` Random undersampling"
   ]
  },
  {
   "cell_type": "markdown",
   "id": "81bd7d6d",
   "metadata": {},
   "source": [
    "<img src='my_icons/random_undersampling.PNG'>"
   ]
  },
  {
   "cell_type": "markdown",
   "id": "658e4885",
   "metadata": {},
   "source": [
    "<img src='my_icons/random_under.PNG'>"
   ]
  },
  {
   "cell_type": "markdown",
   "id": "3e73caf2",
   "metadata": {},
   "source": [
    "<img src='my_icons/random_under_ex1.PNG'>"
   ]
  },
  {
   "cell_type": "markdown",
   "id": "3f9a903d",
   "metadata": {},
   "source": [
    "<img src='my_icons/random_under_ex2.PNG'>"
   ]
  },
  {
   "cell_type": "markdown",
   "id": "2564c303",
   "metadata": {},
   "source": [
    "또 이런식으로 샘플링 될 수도 있겠지.. 이런 경우에는 분류경계선이 다음과 같다."
   ]
  },
  {
   "cell_type": "markdown",
   "id": "eec3c6f1",
   "metadata": {},
   "source": [
    "<img src='./my_icons/random_under_ex2-v2.PNG'>"
   ]
  },
  {
   "cell_type": "markdown",
   "id": "eb866291",
   "metadata": {},
   "source": [
    "<img src='my_icons/random_under_ex3.PNG'>"
   ]
  },
  {
   "cell_type": "markdown",
   "id": "a98c2b3a",
   "metadata": {},
   "source": [
    "랜덤 언더샘플링은 무작위로 샘플링하기 때문에 할 때마다 다른 결과가 나올 수 있다.\n",
    "\n",
    "굉장히 쉬운방법이긴 하나 단점으로 작용할 수 있다.\n",
    "\n",
    "잘 작동할때도 많이 있지만(의외로 잘 작동한다.) 샘플링할 때마다 성능이 달라질 수 있다는 문제가 있다."
   ]
  },
  {
   "cell_type": "markdown",
   "id": "9da88f32",
   "metadata": {},
   "source": [
    "#### `#2.` Tomek links"
   ]
  },
  {
   "cell_type": "markdown",
   "id": "39b756f1",
   "metadata": {},
   "source": [
    "두 범주 사이를 탐지하고 정리를 통해 부정확한 분류경계선 방지\n",
    "\n",
    "정의: $d(x_i,x_k) < d(x_i, x_j) 또는 d(x_j,x_k) < d(x_i, x_j)$가 되는 관측치 $x_k$가 없는 경우\n",
    "\n",
    "$\\to$ 두 샘플 $x_i, x_j$는 Tomek links를 형성\n",
    "\n",
    "$\\to$ 둘 중 하나는 노이즈 이거나 둘 다 경계선 근처에 있음"
   ]
  },
  {
   "cell_type": "markdown",
   "id": "9d6d63d6",
   "metadata": {},
   "source": [
    "<img src='./my_icons/tomek_links.PNG'>"
   ]
  },
  {
   "cell_type": "markdown",
   "id": "f3ca75e4",
   "metadata": {},
   "source": [
    "두 점사이에는 k점이 없어야 한다. \n",
    "\n",
    "k점은 뭐냐? 하면은 두 점사이(다수범주의 점1, 소수범주의 점1)에 어떠한 한점으로 각 점과 k점이 연결되었을 때 i와 j를 연결한 것보다 거리보다 작은 그런 중간에 있는 점이 없을 때 그 두 점을 연결한것을 tomek links라고 한다."
   ]
  },
  {
   "cell_type": "markdown",
   "id": "c17f5db4",
   "metadata": {},
   "source": [
    "<img src='./my_icons/tomek_links_ex1.PNG'>"
   ]
  },
  {
   "cell_type": "markdown",
   "id": "2142b381",
   "metadata": {},
   "source": [
    "보라색으로 표시한 부분이 Tomek link"
   ]
  },
  {
   "cell_type": "markdown",
   "id": "25e5e653",
   "metadata": {},
   "source": [
    "<img src='./my_icons/tomek_links_ex2.PNG'>"
   ]
  },
  {
   "cell_type": "markdown",
   "id": "ce4b97b5",
   "metadata": {},
   "source": [
    "Tomek links에 해당하는 다수 범주에 속한 관측치가 제거되었기떄문에 언더샘플링이 된 것!"
   ]
  },
  {
   "cell_type": "markdown",
   "id": "5251bf69",
   "metadata": {},
   "source": [
    "<img src='./my_icons/tomek_effect.PNG'>"
   ]
  },
  {
   "cell_type": "markdown",
   "id": "3d13c159",
   "metadata": {},
   "source": [
    "샘플링 이전에는 분류경계선이 다수 범주에 편향된 분류경계선이 나온다면,\n",
    "\n",
    "샘플링 이후에는 일부를 지웠기때문에(다수범주를 언더샘플링 헀기때문에) 분류경계선이 조금 더 향상되게 나온다."
   ]
  },
  {
   "cell_type": "markdown",
   "id": "0d32bca7",
   "metadata": {},
   "source": [
    "####  `#4.` CNN (condensed nearest neighbor)\n",
    ">1-NN 알고리즘을 통해 원데이터를 분류"
   ]
  },
  {
   "cell_type": "markdown",
   "id": "38e8aec2",
   "metadata": {},
   "source": [
    "<img src='./my_icons/cnn_effect.PNG'>"
   ]
  },
  {
   "cell_type": "markdown",
   "id": "9b6e849f",
   "metadata": {},
   "source": [
    "- $k=1$ 이어야만 한다.\n",
    "- $k$가 1이 아니면? 모든 다수클래스가 이상으로된다. = CNN이 의미없다."
   ]
  },
  {
   "cell_type": "markdown",
   "id": "4186f74e",
   "metadata": {},
   "source": [
    "#### `#4` OSS (One-Side Selection)\n",
    "> Tomek links + CNN"
   ]
  },
  {
   "cell_type": "markdown",
   "id": "1a122297",
   "metadata": {},
   "source": [
    "<img src='my_icons/oss.PNG'>"
   ]
  },
  {
   "cell_type": "markdown",
   "id": "fcf2b725",
   "metadata": {},
   "source": [
    "<img src='./my_icons/oss_effect.PNG'>"
   ]
  },
  {
   "cell_type": "markdown",
   "id": "b8124a6a",
   "metadata": {},
   "source": [
    "####  Summary\n",
    "\n",
    "#### [ 🌞 장점 ]\n",
    "- 다수 범주 관측치 제거로 계산 시간 감소\n",
    "- 데이터 클랜징으로 클래스 오버랩 감소 가능\n",
    "\n",
    "\n",
    "#### [ 🌚 단점 ]\n",
    "- 데이터 제거로 인한 정보 손실 방생"
   ]
  },
  {
   "cell_type": "markdown",
   "id": "d19acb5b",
   "metadata": {},
   "source": [
    "### 오버 샘플링\n",
    "> Resampling, SMOTE, Borderline-SMOTE, ADASYN"
   ]
  },
  {
   "cell_type": "markdown",
   "id": "f79b075a",
   "metadata": {},
   "source": [
    "#### `#1.` Resampling\n",
    "> 소수 범주 내 관측치를 늘려보자. (단순히 증폭) <br>\n",
    "> 다수 범주의 관측치 수가 비슷해지도록 소수클래스 관측치 복제"
   ]
  },
  {
   "cell_type": "markdown",
   "id": "2bc99e8e",
   "metadata": {},
   "source": [
    "<img src='./my_icons/resampling.PNG'>"
   ]
  },
  {
   "cell_type": "markdown",
   "id": "2f3efb03",
   "metadata": {},
   "source": [
    "<img src='my_icons/resampling_ex.PNG'>"
   ]
  },
  {
   "cell_type": "markdown",
   "id": "4c9ee8a1",
   "metadata": {},
   "source": [
    "<img src='./my_icons/before_resample.PNG'>"
   ]
  },
  {
   "cell_type": "markdown",
   "id": "3cac97a5",
   "metadata": {},
   "source": [
    "<img src='./my_icons/after_resample.PNG'>"
   ]
  },
  {
   "cell_type": "markdown",
   "id": "e8ef4fb5",
   "metadata": {},
   "source": [
    "<img src='./my_icons/before_after_resample.PNG'>"
   ]
  },
  {
   "cell_type": "markdown",
   "id": "c66ff254",
   "metadata": {},
   "source": [
    "단점: 오히려 소수 클래스를 잡으려다 보니까 다수 클래스가 너무 안좋아지는 과적합이 발생할 수 있다."
   ]
  },
  {
   "cell_type": "markdown",
   "id": "79e860be",
   "metadata": {},
   "source": [
    "정상도 잘 분류하고 이상도 잘 분류하는게 우리의 궁긍적인 목표인데 이상은 제대로 하는데 정상이 너무 안좋아지는..그러한 경우"
   ]
  },
  {
   "cell_type": "markdown",
   "id": "dcf3a986",
   "metadata": {},
   "source": [
    "이를 보완하는 꽤 많은 방법들이 있는데 그 중 하나로 **가상의 관측치를 생성**하는 것이다."
   ]
  },
  {
   "cell_type": "markdown",
   "id": "5c9a0b75",
   "metadata": {},
   "source": [
    "가상의 데이터를 생성하자. (빨간색을 그대로 카피하지 말고 그 주변에 생성을 하면 앞의 단점들이 보완되지 않을까..? $\\to$ **SMOTE**"
   ]
  },
  {
   "cell_type": "markdown",
   "id": "a77e078a",
   "metadata": {},
   "source": [
    "#### `#2.` SMOTE (synthetic minority oversampling technique)\n",
    "> 소수 범주에서 가상의 데이터를 생성하는 방법"
   ]
  },
  {
   "cell_type": "markdown",
   "id": "34755b96",
   "metadata": {},
   "source": [
    "<img src='./my_icons/smote.PNG'>"
   ]
  },
  {
   "cell_type": "markdown",
   "id": "6a456bc9",
   "metadata": {},
   "source": [
    "<img src='./my_icons/smote4.PNG'>"
   ]
  },
  {
   "cell_type": "markdown",
   "id": "c156e5ca",
   "metadata": {},
   "source": [
    "$$synthetic = X + u \\cdot (X(nn) - X)$$"
   ]
  },
  {
   "cell_type": "markdown",
   "id": "c0b13695",
   "metadata": {},
   "source": [
    "<img src='./my_icons/smote2.PNG'>"
   ]
  },
  {
   "cell_type": "markdown",
   "id": "a6f9680e",
   "metadata": {},
   "source": [
    "<img src='./my_icons/smote3.PNG'>"
   ]
  },
  {
   "cell_type": "markdown",
   "id": "0597a493",
   "metadata": {},
   "source": [
    "<img src='./my_icons/smote_step1.PNG'>"
   ]
  },
  {
   "cell_type": "markdown",
   "id": "02c15765",
   "metadata": {},
   "source": [
    "<img src='./my_icons/smote_step2.PNG'>"
   ]
  },
  {
   "cell_type": "markdown",
   "id": "8d22a580",
   "metadata": {},
   "source": [
    "<img src='./my_icons/smote_step3.PNG'>"
   ]
  },
  {
   "cell_type": "markdown",
   "id": "2fa31be2",
   "metadata": {},
   "source": [
    "***K는 반드시 2이상을 설정해야 한다.***"
   ]
  },
  {
   "cell_type": "markdown",
   "id": "1564576d",
   "metadata": {},
   "source": [
    "<img src='./my_icons/smote_k.PNG'>"
   ]
  },
  {
   "cell_type": "markdown",
   "id": "1af61909",
   "metadata": {},
   "source": [
    "<img src='./my_icons/smote_before_after.PNG'>"
   ]
  },
  {
   "cell_type": "markdown",
   "id": "bc366055",
   "metadata": {},
   "source": [
    "#### `#3.` Borderline - SMOTE\n",
    "> Borderline(경계선) 부분만 샘플링 <br>\n",
    "> 정상과 이상의 경계부분만 오버샘플링을 하면 좋지 않을까?"
   ]
  },
  {
   "cell_type": "markdown",
   "id": "49cacb14",
   "metadata": {},
   "source": [
    "<img src = './my_icons/borderline_step1.PNG'>"
   ]
  },
  {
   "cell_type": "markdown",
   "id": "4a884152",
   "metadata": {},
   "source": [
    "`-` safe 관측치 (Borderline X)"
   ]
  },
  {
   "cell_type": "markdown",
   "id": "b174fcad",
   "metadata": {},
   "source": [
    "<img src='./my_icons/borderline_no.PNG'>"
   ]
  },
  {
   "cell_type": "markdown",
   "id": "489c275a",
   "metadata": {},
   "source": [
    "`-` Danger 관측치 (Borderline O)"
   ]
  },
  {
   "cell_type": "markdown",
   "id": "575ea525",
   "metadata": {},
   "source": [
    "<img src='./my_icons/borderline_yes.PNG'>"
   ]
  },
  {
   "cell_type": "markdown",
   "id": "473d96a2",
   "metadata": {},
   "source": [
    "`-` Noise 관측치 (Borderline X)"
   ]
  },
  {
   "attachments": {},
   "cell_type": "markdown",
   "id": "c17110b1",
   "metadata": {},
   "source": [
    "<img src='./my_icons/borderline_noise.PNG'>"
   ]
  },
  {
   "cell_type": "markdown",
   "id": "08c45303",
   "metadata": {},
   "source": [
    "전체 중 다수가 몇개 있어야 safe이고, 몇개 있어야 노이즈인지 기준이 있어야 한다."
   ]
  },
  {
   "cell_type": "markdown",
   "id": "b76b9fcf",
   "metadata": {},
   "source": [
    "<img src = './my_icons/borderline_stan.PNG'>"
   ]
  },
  {
   "cell_type": "markdown",
   "id": "24a98b29",
   "metadata": {},
   "source": [
    "**즉, Danger 관측치가 borderline에 있다고 할 수 있다.**"
   ]
  },
  {
   "cell_type": "markdown",
   "id": "63f15f2f",
   "metadata": {},
   "source": [
    "<img src= './my_icons/borderline_smote.PNG'>"
   ]
  },
  {
   "cell_type": "markdown",
   "id": "3dbed1d7",
   "metadata": {},
   "source": [
    "`-` Danger 관측치에 대해 SMOTE 적용"
   ]
  },
  {
   "cell_type": "markdown",
   "id": "ba6247f9",
   "metadata": {},
   "source": [
    "<img src = './my_icons/danger_obs.PNG'>"
   ]
  },
  {
   "cell_type": "markdown",
   "id": "49a78bd5",
   "metadata": {},
   "source": [
    "Danger 관측치를 하나 설정하고, $k$를 5라고 하면 그 주변의 5개 선정하고 그 중 하나를 랜덤하게 선택한다."
   ]
  },
  {
   "cell_type": "markdown",
   "id": "fb1d1de7",
   "metadata": {},
   "source": [
    "`-` Danger 관측치 5개 선정 ($k=5$)"
   ]
  },
  {
   "cell_type": "markdown",
   "id": "f7d18b84",
   "metadata": {},
   "source": [
    "<img src='./my_icons/danser_obs5.PNG'>"
   ]
  },
  {
   "cell_type": "markdown",
   "id": "3b0388f4",
   "metadata": {},
   "source": [
    "`-` 5개 중 1개를 랜덤으로 선택"
   ]
  },
  {
   "cell_type": "markdown",
   "id": "06ff05e4",
   "metadata": {},
   "source": [
    "<img src='./my_icons/danger_obs_random1.PNG'>"
   ]
  },
  {
   "cell_type": "markdown",
   "id": "bd2903d5",
   "metadata": {},
   "source": [
    "`-` 다음과 같은 방법을 통해 복원"
   ]
  },
  {
   "cell_type": "markdown",
   "id": "49fa1e3b",
   "metadata": {},
   "source": [
    "<img src='./my_icons/border_method.PNG'>"
   ]
  },
  {
   "cell_type": "markdown",
   "id": "f40a29e7",
   "metadata": {},
   "source": [
    "`-` Borderline - SMOTE"
   ]
  },
  {
   "cell_type": "markdown",
   "id": "697763dd",
   "metadata": {},
   "source": [
    "<img src ='./my_icons/borderline_smote_result.PNG'>"
   ]
  },
  {
   "cell_type": "markdown",
   "id": "43aa16ad",
   "metadata": {},
   "source": [
    "original SMOTE 같은 경우 소수 관측치 전반에 걸쳐서 증폭이 됐다면, 이제는 경계선 위치에만 데이터가 샘플링 되는 효과를 얻을 수 있다."
   ]
  },
  {
   "cell_type": "markdown",
   "id": "d8d06e43",
   "metadata": {},
   "source": [
    "`-` Borderline-SMOTE 전 / 후 비교"
   ]
  },
  {
   "cell_type": "markdown",
   "id": "835579c8",
   "metadata": {},
   "source": [
    "<img  src='./my_icons/borderline_smote_compare.PNG'>"
   ]
  },
  {
   "cell_type": "markdown",
   "id": "7dd67741",
   "metadata": {},
   "source": [
    "샘플링 이전에는 다수 관측치에 분류경계선이 편향되서 나온다면, 샘플링 이후에는 (오버샘플링 되었기 때문에) 분류경계선이 약간 왼쪽으로 이동한다.\n",
    "\n",
    "**새로 생성된 데이터들이 경계선 부분에 주로 생성이 된다**"
   ]
  },
  {
   "cell_type": "markdown",
   "id": "a8f9b385",
   "metadata": {},
   "source": [
    "`-` Borderline - SMOTE를 제안한 논문"
   ]
  },
  {
   "cell_type": "markdown",
   "id": "e922d86f",
   "metadata": {},
   "source": [
    "<img src='./my_icons/borderline_smote_ref.PNG'>"
   ]
  },
  {
   "cell_type": "markdown",
   "id": "6f6ac4a5",
   "metadata": {},
   "source": [
    "(1) 검은색이 다수범주, 빨간색이 소수범주, 데이터는 눈사람 형태로 되어있다.\n",
    "\n",
    "(2) 파란색 점이 Borderline주변에 Danger 관측치가 잘 선정이 됐다.\n",
    "\n",
    "(3) 이 부분에 대해서만 SMOTE를 적용해서 오버샘플링 되었다."
   ]
  },
  {
   "cell_type": "markdown",
   "id": "56b23476",
   "metadata": {},
   "source": [
    "#### `#4.` ADASYN (adaptive synthetic sampling approach)\n",
    "> 샘플링하는 개수를 위치에 따라 다르게"
   ]
  },
  {
   "cell_type": "markdown",
   "id": "e339e9e6",
   "metadata": {},
   "source": [
    "<img src='./my_icons/adasyn.PNG'>"
   ]
  },
  {
   "cell_type": "markdown",
   "id": "da331e59",
   "metadata": {},
   "source": [
    "**각 <font color='red'>소수</font> 클래스 주변에 얼마나 많은 <font color='blue'>다수</font> 클래스 관측치가 있는가를 정량화 한 지표**"
   ]
  },
  {
   "cell_type": "markdown",
   "id": "c6cae64b",
   "metadata": {},
   "source": [
    "`-` 예제1"
   ]
  },
  {
   "cell_type": "markdown",
   "id": "e124d203",
   "metadata": {},
   "source": [
    "<img src='./my_icons/adasyn_ex1.PNG'>"
   ]
  },
  {
   "cell_type": "markdown",
   "id": "0d3e6c55",
   "metadata": {},
   "source": [
    "`-` 예제2"
   ]
  },
  {
   "cell_type": "markdown",
   "id": "3f0a5f76",
   "metadata": {},
   "source": [
    "<img src = './my_icons/adasyn_ex2.PNG'>"
   ]
  },
  {
   "cell_type": "markdown",
   "id": "73fedf7e",
   "metadata": {},
   "source": [
    "`-` 예제3"
   ]
  },
  {
   "cell_type": "markdown",
   "id": "1241358f",
   "metadata": {},
   "source": [
    "<img src = './my_icons/adasyn_ex3.PNG'>"
   ]
  },
  {
   "cell_type": "markdown",
   "id": "9f0985f0",
   "metadata": {},
   "source": [
    "<img src='./my_icons/adasyn_ratio.PNG'>"
   ]
  },
  {
   "cell_type": "markdown",
   "id": "5e009815",
   "metadata": {},
   "source": [
    "<img src='./my_icons/adasyn_scaling.PNG'>"
   ]
  },
  {
   "cell_type": "markdown",
   "id": "eaa94e21",
   "metadata": {},
   "source": [
    "<img src='./my_icons/adasyn_num.PNG'>"
   ]
  },
  {
   "cell_type": "markdown",
   "id": "9e47ac0c",
   "metadata": {},
   "source": [
    "괄호 안에 있는 개수만큼 개수를 증폭시키겠다는 말이다.\n",
    "첫번째 소수클래스 주변에 14개를, 13번째 주변에는 40개를 생성해내겠다."
   ]
  },
  {
   "cell_type": "markdown",
   "id": "5789e1fc",
   "metadata": {},
   "source": [
    "소수 클래스 주변에 다수클래스가 몇 개 있느냐에 따라 비율이 ($r_i$) 결정되고, 그에 따라 증폭되는 오버샘플링한 데이터의 개수가 달라진다."
   ]
  },
  {
   "cell_type": "markdown",
   "id": "0c767a18",
   "metadata": {},
   "source": [
    "<img src = './my_icons/adasyn_ex4.PNG'>"
   ]
  },
  {
   "cell_type": "markdown",
   "id": "3e97fa26",
   "metadata": {},
   "source": [
    "<img src='./my_icons/adasyn_ex5.PNG'>"
   ]
  },
  {
   "cell_type": "markdown",
   "id": "d7d3e501",
   "metadata": {},
   "source": [
    "**소수 클래스 주변의 다수 클래스의 수에 따라 유동적으로 오버샘플링 개수 생성이 가능**"
   ]
  },
  {
   "cell_type": "markdown",
   "id": "f8996230",
   "metadata": {},
   "source": [
    "#### ADASYN 어떻게 생성하는가?\n",
    "ADASYN도 SMOTE를 적용한다. SMOTE의 imporve된 버전이라고 생각하면 된다.,\n",
    "\n",
    "단 일반 SMOTE처럼 모든데에 다 적용하는 것이 아닌 조금 adaptive하게 한다는 것."
   ]
  },
  {
   "cell_type": "markdown",
   "id": "4cb1256e",
   "metadata": {},
   "source": [
    "`-` STEP1"
   ]
  },
  {
   "cell_type": "markdown",
   "id": "c7da0e03",
   "metadata": {},
   "source": [
    "<img src='./my_icons/adasyn_step1.PNG'>"
   ]
  },
  {
   "cell_type": "markdown",
   "id": "fdd14c95",
   "metadata": {},
   "source": [
    "`-` STEP2"
   ]
  },
  {
   "cell_type": "markdown",
   "id": "62d31f37",
   "metadata": {},
   "source": [
    "<img src='./my_icons/adasyn_step2.PNG'>"
   ]
  },
  {
   "cell_type": "markdown",
   "id": "8c41b142",
   "metadata": {},
   "source": [
    "`-` STEP3"
   ]
  },
  {
   "cell_type": "markdown",
   "id": "9b9cf67c",
   "metadata": {},
   "source": [
    "<img src='./my_icons/adasyn_step3.PNG'>"
   ]
  },
  {
   "cell_type": "markdown",
   "id": "0ab56e2a",
   "metadata": {},
   "source": [
    "`-` STEP4"
   ]
  },
  {
   "cell_type": "markdown",
   "id": "28d26dc2",
   "metadata": {},
   "source": [
    "<img src='./my_icons/adasyn_step4.PNG'>"
   ]
  },
  {
   "cell_type": "markdown",
   "id": "91378000",
   "metadata": {},
   "source": [
    "`-` STEP5"
   ]
  },
  {
   "cell_type": "markdown",
   "id": "2afa268a",
   "metadata": {},
   "source": [
    "<img src='./my_icons/adasyn_step5.PNG'>"
   ]
  },
  {
   "cell_type": "markdown",
   "id": "ab43f94e",
   "metadata": {},
   "source": [
    "`-` ADASYN 적용 전/후 비교"
   ]
  },
  {
   "attachments": {},
   "cell_type": "markdown",
   "id": "0ba245ef",
   "metadata": {},
   "source": [
    "<img src='./my_icons/adasyn_compare.PNG'>"
   ]
  },
  {
   "cell_type": "markdown",
   "id": "1cde53c6",
   "metadata": {},
   "source": [
    "### Borderlin - SMOTE    vs.    ADASYN"
   ]
  },
  {
   "cell_type": "markdown",
   "id": "4f2ec216",
   "metadata": {},
   "source": [
    "Borderline-SMOTE는 경계선에 집중하겠다라는 것이고, ADASYN은 경계선은 당연하고 다수 클래스 쪽에 있는 소수 클래스가 있는 부분에 집중을 하자는 것이다. "
   ]
  },
  {
   "cell_type": "markdown",
   "id": "0bd638c0",
   "metadata": {},
   "source": [
    "$\\to$ 분류 성능을 높이자!"
   ]
  },
  {
   "cell_type": "markdown",
   "id": "73c325c7",
   "metadata": {},
   "source": [
    "### oversampling - ADASYN 관련 논문"
   ]
  },
  {
   "cell_type": "markdown",
   "id": "90df7f10",
   "metadata": {},
   "source": [
    "<img src='./my_icons/adasyn_ref.PNG'>"
   ]
  },
  {
   "cell_type": "markdown",
   "id": "3b80293d",
   "metadata": {},
   "source": [
    "이 데이터의 특징은 다수 클래스의 데이터가 3개의 패턴이 존재한다. 이런것을 멀티모달이라고 한다. 정상 데이터 즉 다수 클래스가 유니모달 패턴이 아닌 여러개의 패턴이 있는 경우 ADASYN이 작동을 잘 한다."
   ]
  },
  {
   "cell_type": "markdown",
   "id": "df1a951a",
   "metadata": {},
   "source": [
    "- SMOTE같은 경우 소수 클래스에 적용이 되고 있다.\n",
    "\n",
    "- Borderlin-SMOTE의 경우 Borderline 주변에 생성이 되어 있다.\n",
    "\n",
    "- ADASYN의 경우 Borderline도 잘 잡는다. Borderline을 오히려 Borderline SMOTE보다 더 잘 잡는다. \n",
    "\n",
    "***SMOTE도 데이터의 패턴에 따라 잘 생성된 것 같은데 불필요한 부분에도 생성된 것을 볼 수 있다. ADASYN의 경우 SMOTE와 Borderline - SMOTE의 장점을 잘 포함하고 있다.***"
   ]
  },
  {
   "cell_type": "markdown",
   "id": "507b3a95",
   "metadata": {},
   "source": [
    "#### `#5.` GAN"
   ]
  },
  {
   "cell_type": "markdown",
   "id": "18fef920",
   "metadata": {},
   "source": [
    "<img src='./my_icons/gan.PNG'>"
   ]
  },
  {
   "cell_type": "markdown",
   "id": "3976b3eb",
   "metadata": {},
   "source": [
    "`-` GAN 예시"
   ]
  },
  {
   "cell_type": "markdown",
   "id": "682518f0",
   "metadata": {},
   "source": [
    "<img src='./my_icons/gan_ex0.PNG'>"
   ]
  },
  {
   "cell_type": "markdown",
   "id": "3bd38420",
   "metadata": {},
   "source": [
    "<img src='./my_icons/gan_ex1.PNG'>"
   ]
  }
 ],
 "metadata": {
  "kernelspec": {
   "display_name": "Python 3 (ipykernel)",
   "language": "python",
   "name": "python3"
  },
  "language_info": {
   "codemirror_mode": {
    "name": "ipython",
    "version": 3
   },
   "file_extension": ".py",
   "mimetype": "text/x-python",
   "name": "python",
   "nbconvert_exporter": "python",
   "pygments_lexer": "ipython3",
   "version": "3.8.13"
  }
 },
 "nbformat": 4,
 "nbformat_minor": 5
}
