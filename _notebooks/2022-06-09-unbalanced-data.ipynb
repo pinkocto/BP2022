{
 "cells": [
  {
   "cell_type": "markdown",
   "id": "bee83d25",
   "metadata": {},
   "source": [
    "# Unbalanced Data\n",
    "> 불균형 데이터 분석을 위한 샘플링 기법\n",
    "- toc: true\n",
    "- branch: master\n",
    "- badges: false\n",
    "- comments: true\n",
    "- author: pinkocto\n",
    "- categories: [python]"
   ]
  },
  {
   "cell_type": "markdown",
   "id": "df820793",
   "metadata": {},
   "source": [
    "## 불균형 데이터란?\n",
    "<font color='blue'>**\"정상\"**</font> 범주의 관측치 수와 <font color='red'>**\"이상\"**</font> 범주의 관측치 수의 차이가 크게 나타나는 경우\n",
    "\n",
    "<img src='./my_icons/unbal.PNG'>"
   ]
  },
  {
   "cell_type": "markdown",
   "id": "351a7330",
   "metadata": {},
   "source": [
    "## 불균형 데이터 특징"
   ]
  },
  {
   "cell_type": "markdown",
   "id": "39fde9a5",
   "metadata": {},
   "source": [
    "### 왜 문제인가?\n",
    "<font color='blue'>정상(다수)</font>을 정확히 분류 vs. <font color='red'>이상(소수)</font>을 정확히 분류\n",
    "\n",
    "`#1.` 일반적으로 <font color='red'>이상(소수)</font>을 정확히 분류하는 것이 중요\n",
    "\n",
    "`#2.` 적절한 분류경계선이 형성되지 못함\n",
    "$\\to$ <font color='red'>이상(소수)</font>을 정확히 찾아내지 못함\n",
    "\n",
    "`#3.` 높은 예측 정확도를 보임(?) 모델 성능에 대한 왜곡이 있을 수 있음."
   ]
  },
  {
   "cell_type": "markdown",
   "id": "405ec088",
   "metadata": {},
   "source": [
    "<img src='./my_icons/unbal2.PNG'>"
   ]
  },
  {
   "cell_type": "markdown",
   "id": "503c87c2",
   "metadata": {},
   "source": [
    "<img src='my_icons/ideal.PNG'>"
   ]
  },
  {
   "cell_type": "markdown",
   "id": "39b6be9b",
   "metadata": {},
   "source": [
    "<img src='./my_icons/real.PNG'>"
   ]
  },
  {
   "cell_type": "markdown",
   "id": "5bb551fb",
   "metadata": {},
   "source": [
    "<img src='./my_icons/real_ideal.PNG'>"
   ]
  },
  {
   "cell_type": "markdown",
   "id": "2083cbd9",
   "metadata": {},
   "source": [
    "불균형 상황 하에서는 분류 경계선이 잘못 설정된다."
   ]
  },
  {
   "cell_type": "markdown",
   "id": "bba960d1",
   "metadata": {},
   "source": [
    "<img src='./my_icons/unbal_pro.PNG'>"
   ]
  },
  {
   "cell_type": "markdown",
   "id": "37b97b71",
   "metadata": {},
   "source": [
    "미래의 이상점이 나타났을 때(회색 점) 실제 분류경계선 옆 주황색 점들은 실제 이상임에도 불구하고 이 분류 경계선에 의하면 정상으로 오분류를 하게 된다.\n",
    "\n",
    "$\\to$ 이상을 잘 찾아내지 못하는 문제 발생"
   ]
  },
  {
   "cell_type": "markdown",
   "id": "8f56c83f",
   "metadata": {},
   "source": [
    "## 성능평가"
   ]
  },
  {
   "cell_type": "markdown",
   "id": "644042c1",
   "metadata": {},
   "source": [
    "<img src='./my_icons/confu.PNG'>"
   ]
  },
  {
   "cell_type": "markdown",
   "id": "7b232246",
   "metadata": {},
   "source": [
    "<img src='my_icons/unbal_score.PNG'>"
   ]
  },
  {
   "cell_type": "markdown",
   "id": "dc3c36e6",
   "metadata": {},
   "source": [
    "- 이것만 봤을때는 정확도는 꽤 좋다. 그래서 우리 모델이 참 좋다! 라고 결론내릴 수 있는데 아마 이건 말이안된다고 생각할 것이다.\n",
    "\n",
    "- 왜냐하면 정상데이터는  다 맞췄지만 우리가 관심있는 것은 이상이고, 이상관점에서만 봤을때는 반 밖에 못맞췄는데?? 이것이 어떻게 좋은 모델일까?\n"
   ]
  },
  {
   "cell_type": "markdown",
   "id": "56da8020",
   "metadata": {},
   "source": [
    "> Warning: 예측 정확도는 높게 나오지만 그것을 곧이곧대로 해석하면 안된다!!"
   ]
  },
  {
   "cell_type": "markdown",
   "id": "ed14cc1a",
   "metadata": {},
   "source": [
    "## 해결방법은?\n"
   ]
  },
  {
   "cell_type": "markdown",
   "id": "8ceaf77e",
   "metadata": {},
   "source": [
    "불균형 데이터의 해결방안은 크게 두가지로 볼 수 있다.\n",
    "\n",
    "1. 첫번째는 데이터를 조절해서 해결한다.\n",
    "\n",
    "2. 두번째는 분류모델 자체를 조절해서 해결한다.\n",
    "\n",
    "세부적으로 불균형 데이터를 해결하는 방법은 3개가 있다고 볼 수 있다.\n",
    "1. 샘플링 기법 (Sampling method)\n",
    "2. 비용 기반 학습 (Cost sensitive leraning)\n",
    "3. 단일 클래스 분류기법 (Novelty detection)"
   ]
  },
  {
   "cell_type": "markdown",
   "id": "25cfe5a2",
   "metadata": {},
   "source": [
    "이번 시간에는 샘플링 기법에 대해서 알아보자."
   ]
  },
  {
   "cell_type": "markdown",
   "id": "3fd77437",
   "metadata": {},
   "source": [
    "## 데이터를 조정해서 해결"
   ]
  },
  {
   "cell_type": "markdown",
   "id": "cf2f3d69",
   "metadata": {},
   "source": [
    "<img src = 'my_icons/unbal_sol.PNG'>"
   ]
  },
  {
   "cell_type": "markdown",
   "id": "a6396e6a",
   "metadata": {},
   "source": [
    "## 데이터를 조정해서 해결 (Sampling)"
   ]
  },
  {
   "cell_type": "markdown",
   "id": "4d3db900",
   "metadata": {},
   "source": [
    "<img src='my_icons/unbal_sampling.PNG'>"
   ]
  },
  {
   "cell_type": "markdown",
   "id": "95446faa",
   "metadata": {},
   "source": [
    "샘플링 기법은 크게 언더 샘플링과 오버 샘플링으로 나눈다.\n",
    "\n",
    "언더샘플링은 다수 범주를 줄여서 소수범주의 개수와 비슷하게 만들자\n",
    "\n",
    "오버샘플링은 소수범주의 개수를 증폭시켜 다수 범주의 개수와 비슷하게 만들자.."
   ]
  },
  {
   "cell_type": "markdown",
   "id": "1b11ae41",
   "metadata": {},
   "source": [
    "### `-` 언더 샘플링"
   ]
  },
  {
   "cell_type": "markdown",
   "id": "ddaa15e0",
   "metadata": {},
   "source": [
    "#### `#1.` Random undersampling"
   ]
  },
  {
   "cell_type": "markdown",
   "id": "81bd7d6d",
   "metadata": {},
   "source": [
    "<img src='my_icons/random_undersampling.PNG'>"
   ]
  },
  {
   "cell_type": "markdown",
   "id": "658e4885",
   "metadata": {},
   "source": [
    "<img src='my_icons/random_under.PNG'>"
   ]
  },
  {
   "cell_type": "markdown",
   "id": "3e73caf2",
   "metadata": {},
   "source": [
    "<img src='my_icons/random_under_ex1.PNG'>"
   ]
  },
  {
   "cell_type": "markdown",
   "id": "3f9a903d",
   "metadata": {},
   "source": [
    "<img src='my_icons/random_under_ex2.PNG'>"
   ]
  },
  {
   "cell_type": "markdown",
   "id": "2564c303",
   "metadata": {},
   "source": [
    "또 이런식으로 샘플링 될 수도 있겠지.. 이런 경우에는 분류경계선이 다음과 같다."
   ]
  },
  {
   "attachments": {},
   "cell_type": "markdown",
   "id": "eec3c6f1",
   "metadata": {},
   "source": [
    "<img src='./my_icons/random_under_ex2-v2.PNG'>"
   ]
  },
  {
   "cell_type": "markdown",
   "id": "eb866291",
   "metadata": {},
   "source": [
    "<img src='my_icons/random_under_ex3.PNG'>"
   ]
  },
  {
   "cell_type": "markdown",
   "id": "a98c2b3a",
   "metadata": {},
   "source": [
    "랜덤 언더샘플링은 무작위로 샘플링하기 때문에 할 때마다 다른 결과가 나올 수 있다.\n",
    "\n",
    "굉장히 쉬운방법이긴 하나 단점으로 작용할 수 있다.\n",
    "\n",
    "잘 작동할때도 많이 있지만(의외로 잘 작동한다.) 샘플링할 때마다 성능이 달라질 수 있다는 문제가 있다."
   ]
  },
  {
   "cell_type": "markdown",
   "id": "9da88f32",
   "metadata": {},
   "source": [
    "#### `#2.` Tomek links"
   ]
  },
  {
   "cell_type": "markdown",
   "id": "39b756f1",
   "metadata": {},
   "source": [
    "두 범주 사이를 탐지하고 정리를 통해 부정확한 분류경계선 방지\n",
    "\n",
    "정의: $d(x_i,x_k) < d(x_i, x_j) 또는 d(x_j,x_k) < d(x_i, x_j)$가 되는 관측치 $x_k$가 없는 경우\n",
    "\n",
    "$\\to$ 두 샘플 $x_i, x_j$는 Tomek links를 형성\n",
    "\n",
    "$\\to$ 둘 중 하나는 노이즈 이거나 둘 다 경계선 근처에 있음"
   ]
  },
  {
   "cell_type": "markdown",
   "id": "9d6d63d6",
   "metadata": {},
   "source": [
    "<img src='./my_icons/tomek_links.PNG'>"
   ]
  },
  {
   "cell_type": "markdown",
   "id": "f3ca75e4",
   "metadata": {},
   "source": [
    "두 점사이에는 k점이 없어야 한다. \n",
    "\n",
    "k점은 뭐냐? 하면은 두 점사이(다수범주의 점1, 소수범주의 점1)에 어떠한 한점으로 각 점과 k점이 연결되었을 때 i와 j를 연결한 것보다 거리보다 작은 그런 중간에 있는 점이 없을 때 그 두 점을 연결한것을 tomek links라고 한다."
   ]
  },
  {
   "cell_type": "markdown",
   "id": "c17f5db4",
   "metadata": {},
   "source": [
    "<img src='./my_icons/tomek_links_ex1.PNG'>"
   ]
  },
  {
   "cell_type": "markdown",
   "id": "2142b381",
   "metadata": {},
   "source": [
    "보라색으로 표시한 부분이 Tomek link"
   ]
  },
  {
   "cell_type": "markdown",
   "id": "25e5e653",
   "metadata": {},
   "source": [
    "<img src='./my_icons/tomek_links_ex2.PNG'>"
   ]
  },
  {
   "cell_type": "markdown",
   "id": "ce4b97b5",
   "metadata": {},
   "source": [
    "Tomek links에 해당하는 다수 범주에 속한 관측치가 제거되었기떄문에 언더샘플링이 된 것!"
   ]
  }
 ],
 "metadata": {
  "kernelspec": {
   "display_name": "Python 3 (ipykernel)",
   "language": "python",
   "name": "python3"
  },
  "language_info": {
   "codemirror_mode": {
    "name": "ipython",
    "version": 3
   },
   "file_extension": ".py",
   "mimetype": "text/x-python",
   "name": "python",
   "nbconvert_exporter": "python",
   "pygments_lexer": "ipython3",
   "version": "3.8.13"
  }
 },
 "nbformat": 4,
 "nbformat_minor": 5
}
