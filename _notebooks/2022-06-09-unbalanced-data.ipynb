{
 "cells": [
  {
   "cell_type": "markdown",
   "id": "bee83d25",
   "metadata": {},
   "source": [
    "# Unbalanced Data\n",
    "> 불균형 데이터 분석을 위한 샘플링 기법\n",
    "- toc: true\n",
    "- branch: master\n",
    "- badges: false\n",
    "- comments: true\n",
    "- author: pinkocto\n",
    "- categories: [python]"
   ]
  },
  {
   "cell_type": "markdown",
   "id": "df820793",
   "metadata": {},
   "source": [
    "## 불균형 데이터란?\n",
    "<font color='blue'>**\"정상\"**</font> 범주의 관측치 수와 <font color='red'>**\"이상\"**</font> 범주의 관측치 수의 차이가 크게 나타나는 경우\n",
    "\n",
    "<img src='./my_icons/unbal.PNG'>"
   ]
  },
  {
   "cell_type": "markdown",
   "id": "351a7330",
   "metadata": {},
   "source": [
    "## 불균형 데이터 특징"
   ]
  },
  {
   "cell_type": "markdown",
   "id": "39fde9a5",
   "metadata": {},
   "source": [
    "### 왜 문제인가?\n",
    "<font color='blue'>정상(다수)</font>을 정확히 분류 vs. <font color='red'>이상(소수)</font>을 정확히 분류\n",
    "\n",
    "`#1.` 일반적으로 <font color='red'>이상(소수)</font>을 정확히 분류하는 것이 중요\n",
    "\n",
    "`#2.` 적절한 분류경계선이 형성되지 못함\n",
    "$\\to$ <font color='red'>이상(소수)</font>을 정확히 찾아내지 못함\n",
    "\n",
    "`#3.` 높은 예측 정확도를 보임(?) 모델 성능에 대한 왜곡이 있을 수 있음."
   ]
  },
  {
   "cell_type": "markdown",
   "id": "405ec088",
   "metadata": {},
   "source": [
    "<img src='./my_icons/unbal2.PNG'>"
   ]
  },
  {
   "cell_type": "markdown",
   "id": "503c87c2",
   "metadata": {},
   "source": [
    "<img src='my_icons/ideal.PNG'>"
   ]
  },
  {
   "cell_type": "markdown",
   "id": "39b6be9b",
   "metadata": {},
   "source": [
    "<img src='./my_icons/real.PNG'>"
   ]
  },
  {
   "cell_type": "markdown",
   "id": "5bb551fb",
   "metadata": {},
   "source": [
    "<img src='./my_icons/real_ideal.PNG'>"
   ]
  },
  {
   "cell_type": "markdown",
   "id": "2083cbd9",
   "metadata": {},
   "source": [
    "불균형 상황 하에서는 분류 경계선이 잘못 설정된다."
   ]
  },
  {
   "cell_type": "markdown",
   "id": "bba960d1",
   "metadata": {},
   "source": [
    "<img src='./my_icons/unbal_pro.PNG'>"
   ]
  },
  {
   "cell_type": "markdown",
   "id": "37b97b71",
   "metadata": {},
   "source": [
    "미래의 이상점이 나타났을 때(회색 점) 실제 분류경계선 옆 주황색 점들은 실제 이상임에도 불구하고 이 분류 경계선에 의하면 정상으로 오분류를 하게 된다.\n",
    "\n",
    "$\\to$ 이상을 잘 찾아내지 못하는 문제 발생"
   ]
  },
  {
   "cell_type": "markdown",
   "id": "8f56c83f",
   "metadata": {},
   "source": [
    "## 성능평가"
   ]
  },
  {
   "cell_type": "markdown",
   "id": "644042c1",
   "metadata": {},
   "source": [
    "<img src='./my_icons/confu.PNG'>"
   ]
  },
  {
   "cell_type": "markdown",
   "id": "7b232246",
   "metadata": {},
   "source": [
    "<img src='my_icons/unbal_score.PNG'>"
   ]
  },
  {
   "cell_type": "markdown",
   "id": "dc3c36e6",
   "metadata": {},
   "source": [
    "- 이것만 봤을때는 정확도는 꽤 좋다. 그래서 우리 모델이 참 좋다! 라고 결론내릴 수 있는데 아마 이건 말이안된다고 생각할 것이다.\n",
    "\n",
    "- 왜냐하면 정상데이터는  다 맞췄지만 우리가 관심있는 것은 이상이고, 이상관점에서만 봤을때는 반 밖에 못맞췄는데?? 이것이 어떻게 좋은 모델일까?\n"
   ]
  },
  {
   "cell_type": "markdown",
   "id": "56da8020",
   "metadata": {},
   "source": [
    "> Warning: 예측 정확도는 높게 나오지만 그것을 곧이곧대로 해석하면 안된다!!"
   ]
  },
  {
   "cell_type": "markdown",
   "id": "ed14cc1a",
   "metadata": {},
   "source": [
    "## 해결방법은?\n"
   ]
  },
  {
   "cell_type": "markdown",
   "id": "8ceaf77e",
   "metadata": {},
   "source": [
    "불균형 데이터의 해결방안은 크게 두가지로 볼 수 있다.\n",
    "\n",
    "1. 첫번째는 데이터를 조절해서 해결한다.\n",
    "\n",
    "2. 두번째는 분류모델 자체를 조절해서 해결한다.\n",
    "\n",
    "세부적으로 불균형 데이터를 해결하는 방법은 3개가 있다고 볼 수 있다.\n",
    "1. 샘플링 기법 (Sampling method)\n",
    "2. 비용 기반 학습 (Cost sensitive leraning)\n",
    "3. 단일 클래스 분류기법 (Novelty detection)"
   ]
  },
  {
   "cell_type": "markdown",
   "id": "25cfe5a2",
   "metadata": {},
   "source": [
    "이번 시간에는 샘플링 기법에 대해서 알아보자."
   ]
  },
  {
   "cell_type": "markdown",
   "id": "3fd77437",
   "metadata": {},
   "source": [
    "## 데이터를 조정해서 해결"
   ]
  },
  {
   "cell_type": "markdown",
   "id": "cf2f3d69",
   "metadata": {},
   "source": [
    "<img src = 'my_icons/unbal_sol.PNG'>"
   ]
  },
  {
   "cell_type": "markdown",
   "id": "a6396e6a",
   "metadata": {},
   "source": [
    "## 데이터를 조정해서 해결 (Sampling)"
   ]
  },
  {
   "cell_type": "markdown",
   "id": "4d3db900",
   "metadata": {},
   "source": [
    "<img src='my_icons/unbal_sampling.PNG'>"
   ]
  },
  {
   "cell_type": "markdown",
   "id": "95446faa",
   "metadata": {},
   "source": [
    "샘플링 기법은 크게 언더 샘플링과 오버 샘플링으로 나눈다.\n",
    "\n",
    "언더샘플링은 다수 범주를 줄여서 소수범주의 개수와 비슷하게 만들자\n",
    "\n",
    "오버샘플링은 소수범주의 개수를 증폭시켜 다수 범주의 개수와 비슷하게 만들자.."
   ]
  },
  {
   "cell_type": "markdown",
   "id": "1b11ae41",
   "metadata": {},
   "source": [
    "### `-` 언더 샘플링"
   ]
  },
  {
   "cell_type": "markdown",
   "id": "ddaa15e0",
   "metadata": {},
   "source": [
    "#### `#1.` Random undersampling"
   ]
  },
  {
   "cell_type": "markdown",
   "id": "81bd7d6d",
   "metadata": {},
   "source": [
    "<img src='my_icons/random_undersampling.PNG'>"
   ]
  },
  {
   "cell_type": "markdown",
   "id": "658e4885",
   "metadata": {},
   "source": [
    "<img src='my_icons/random_under.PNG'>"
   ]
  },
  {
   "cell_type": "markdown",
   "id": "3e73caf2",
   "metadata": {},
   "source": [
    "<img src='my_icons/random_under_ex1.PNG'>"
   ]
  },
  {
   "cell_type": "markdown",
   "id": "3f9a903d",
   "metadata": {},
   "source": [
    "<img src='my_icons/random_under_ex2.PNG'>"
   ]
  },
  {
   "cell_type": "markdown",
   "id": "2564c303",
   "metadata": {},
   "source": [
    "또 이런식으로 샘플링 될 수도 있겠지.. 이런 경우에는 분류경계선이 다음과 같다."
   ]
  },
  {
   "cell_type": "markdown",
   "id": "eec3c6f1",
   "metadata": {},
   "source": [
    "<img src='./my_icons/random_under_ex2-v2.PNG'>"
   ]
  },
  {
   "cell_type": "markdown",
   "id": "eb866291",
   "metadata": {},
   "source": [
    "<img src='my_icons/random_under_ex3.PNG'>"
   ]
  },
  {
   "cell_type": "markdown",
   "id": "a98c2b3a",
   "metadata": {},
   "source": [
    "랜덤 언더샘플링은 무작위로 샘플링하기 때문에 할 때마다 다른 결과가 나올 수 있다.\n",
    "\n",
    "굉장히 쉬운방법이긴 하나 단점으로 작용할 수 있다.\n",
    "\n",
    "잘 작동할때도 많이 있지만(의외로 잘 작동한다.) 샘플링할 때마다 성능이 달라질 수 있다는 문제가 있다."
   ]
  },
  {
   "cell_type": "markdown",
   "id": "9da88f32",
   "metadata": {},
   "source": [
    "#### `#2.` Tomek links"
   ]
  },
  {
   "cell_type": "markdown",
   "id": "39b756f1",
   "metadata": {},
   "source": [
    "두 범주 사이를 탐지하고 정리를 통해 부정확한 분류경계선 방지\n",
    "\n",
    "정의: $d(x_i,x_k) < d(x_i, x_j) 또는 d(x_j,x_k) < d(x_i, x_j)$가 되는 관측치 $x_k$가 없는 경우\n",
    "\n",
    "$\\to$ 두 샘플 $x_i, x_j$는 Tomek links를 형성\n",
    "\n",
    "$\\to$ 둘 중 하나는 노이즈 이거나 둘 다 경계선 근처에 있음"
   ]
  },
  {
   "cell_type": "markdown",
   "id": "9d6d63d6",
   "metadata": {},
   "source": [
    "<img src='./my_icons/tomek_links.PNG'>"
   ]
  },
  {
   "cell_type": "markdown",
   "id": "f3ca75e4",
   "metadata": {},
   "source": [
    "두 점사이에는 k점이 없어야 한다. \n",
    "\n",
    "k점은 뭐냐? 하면은 두 점사이(다수범주의 점1, 소수범주의 점1)에 어떠한 한점으로 각 점과 k점이 연결되었을 때 i와 j를 연결한 것보다 거리보다 작은 그런 중간에 있는 점이 없을 때 그 두 점을 연결한것을 tomek links라고 한다."
   ]
  },
  {
   "cell_type": "markdown",
   "id": "c17f5db4",
   "metadata": {},
   "source": [
    "<img src='./my_icons/tomek_links_ex1.PNG'>"
   ]
  },
  {
   "cell_type": "markdown",
   "id": "2142b381",
   "metadata": {},
   "source": [
    "보라색으로 표시한 부분이 Tomek link"
   ]
  },
  {
   "cell_type": "markdown",
   "id": "25e5e653",
   "metadata": {},
   "source": [
    "<img src='./my_icons/tomek_links_ex2.PNG'>"
   ]
  },
  {
   "cell_type": "markdown",
   "id": "ce4b97b5",
   "metadata": {},
   "source": [
    "Tomek links에 해당하는 다수 범주에 속한 관측치가 제거되었기떄문에 언더샘플링이 된 것!"
   ]
  },
  {
   "cell_type": "markdown",
   "id": "e99ce048",
   "metadata": {},
   "source": [
    "<img src='./my_icons/tomek_effect.PNG'>"
   ]
  },
  {
   "cell_type": "markdown",
   "id": "ea2631f8",
   "metadata": {},
   "source": [
    "샘플링 이전에는 분류경계선이 다수 범주에 편향된 분류경계선이 나온다면,\n",
    "\n",
    "샘플링 이후에는 일부를 지웠기때문에(다수범주를 언더샘플링 헀기때문에) 분류경계선이 조금 더 향상되게 나온다."
   ]
  },
  {
   "cell_type": "markdown",
   "id": "105eb7ab",
   "metadata": {},
   "source": [
    "####  `#3.` CNN (condensed nearest neighbor)\n",
    ">1-NN 알고리즘을 통해 원데이터를 분류"
   ]
  },
  {
   "cell_type": "markdown",
   "id": "2e8022f6",
   "metadata": {},
   "source": [
    "<img src='./my_icons/cnn_effect.PNG'>"
   ]
  },
  {
   "cell_type": "markdown",
   "id": "a0d46a11",
   "metadata": {},
   "source": [
    "- $k=1$ 이어야만 한다.\n",
    "- $k$가 1이 아니면? 모든 다수클래스가 이상으로된다. = CNN이 의미없다."
   ]
  },
  {
   "cell_type": "markdown",
   "id": "cf3e8c45",
   "metadata": {},
   "source": [
    "#### `#4.` OSS (One-Side Selection)\n",
    "> Tomek links + CNN"
   ]
  },
  {
   "cell_type": "markdown",
   "id": "2f861da0",
   "metadata": {},
   "source": [
    "<img src='my_icons/oss.PNG'>"
   ]
  },
  {
   "cell_type": "markdown",
   "id": "c361803a",
   "metadata": {},
   "source": [
    "<img src='./my_icons/oss_effect.PNG'>"
   ]
  },
  {
   "cell_type": "markdown",
   "id": "09a35457",
   "metadata": {},
   "source": [
    "####  Summary\n",
    "\n",
    "#### [ 🌞 장점 ]\n",
    "- 다수 범주 관측치 제거로 계산 시간 감소\n",
    "- 데이터 클랜징으로 클래스 오버랩 감소 가능\n",
    "\n",
    "\n",
    "#### [ 🌚 단점 ]\n",
    "- 데이터 제거로 인한 정보 손실 방생"
   ]
  },
  {
   "cell_type": "markdown",
   "id": "d6926d8e",
   "metadata": {},
   "source": [
    "### 오버 샘플링\n",
    "> Resampling, SMOTE, Borderline-SMOTE, ADASYN"
   ]
  },
  {
   "cell_type": "markdown",
   "id": "a961e468",
   "metadata": {},
   "source": [
    "#### `#1.` Resampling\n",
    "> 소수 범주 내 관측치를 늘려보자. (단순히 증폭) <br>\n",
    "> 다수 범주의 관측치 수가 비슷해지도록 소수클래스 관측치 복제"
   ]
  },
  {
   "cell_type": "markdown",
   "id": "87c5175c",
   "metadata": {},
   "source": [
    "<img src='./my_icons/resampling.PNG'>"
   ]
  },
  {
   "cell_type": "markdown",
   "id": "e3b1d6fc",
   "metadata": {},
   "source": [
    "<img src='my_icons/resampling_ex.PNG'>"
   ]
  },
  {
   "cell_type": "markdown",
   "id": "1548fff0",
   "metadata": {},
   "source": [
    "<img src='./my_icons/before_resample.PNG'>"
   ]
  },
  {
   "cell_type": "markdown",
   "id": "0c9e2312",
   "metadata": {},
   "source": [
    "<img src='./my_icons/after_resample.PNG'>"
   ]
  },
  {
   "cell_type": "markdown",
   "id": "e6aa0499",
   "metadata": {},
   "source": [
    "<img src='./my_icons/before_after_resample.PNG'>"
   ]
  },
  {
   "cell_type": "markdown",
   "id": "c751f0db",
   "metadata": {},
   "source": [
    "단점: 오히려 소수 클래스를 잡으려다 보니까 다수 클래스가 너무 안좋아지는 과적합이 발생할 수 있다."
   ]
  },
  {
   "cell_type": "markdown",
   "id": "a7107ab3",
   "metadata": {},
   "source": [
    "정상도 잘 분류하고 이상도 잘 분류하는게 우리의 궁긍적인 목표인데 이상은 제대로 하는데 정상이 너무 안좋아지는..그러한 경우"
   ]
  },
  {
   "cell_type": "markdown",
   "id": "ee3a7030",
   "metadata": {},
   "source": [
    "이를 보완하는 꽤 많은 방법들이 있는데 그 중 하나로 **가상의 관측치를 생성**하는 것이다."
   ]
  },
  {
   "cell_type": "markdown",
   "id": "84f8141a",
   "metadata": {},
   "source": [
    "가상의 데이터를 생성하자. (빨간색을 그대로 카피하지 말고 그 주변에 생성을 하면 앞의 단점들이 보완되지 않을까..? $\\to$ **SMOTE**"
   ]
  },
  {
   "cell_type": "markdown",
   "id": "4cbc4ccc",
   "metadata": {},
   "source": [
    "#### `#2.` SMOTE (synthetic minority oversampling technique)\n",
    "> 소수 범주에서 가상의 데이터를 생성하는 방법"
   ]
  },
  {
   "cell_type": "markdown",
   "id": "e0ebad35",
   "metadata": {},
   "source": [
    "<img src='./my_icons/smote.PNG'>"
   ]
  },
  {
   "cell_type": "markdown",
   "id": "2e8df8f0",
   "metadata": {},
   "source": [
    "<img src='./my_icons/smote4.PNG'>"
   ]
  },
  {
   "cell_type": "markdown",
   "id": "34732199",
   "metadata": {},
   "source": [
    "$$synthetic = X + u \\cdot (X(nn) - X)$$"
   ]
  },
  {
   "cell_type": "markdown",
   "id": "e75b953d",
   "metadata": {},
   "source": [
    "<img src='./my_icons/smote2.PNG'>"
   ]
  },
  {
   "cell_type": "markdown",
   "id": "de692770",
   "metadata": {},
   "source": [
    "<img src='./my_icons/smote3.PNG'>"
   ]
  },
  {
   "cell_type": "markdown",
   "id": "802c6112",
   "metadata": {},
   "source": [
    "<img src='./my_icons/smote_step1.PNG'>"
   ]
  },
  {
   "cell_type": "markdown",
   "id": "63111f6f",
   "metadata": {},
   "source": [
    "<img src='./my_icons/smote_step2.PNG'>"
   ]
  },
  {
   "cell_type": "markdown",
   "id": "007de831",
   "metadata": {},
   "source": [
    "<img src='./my_icons/smote_step3.PNG'>"
   ]
  },
  {
   "cell_type": "markdown",
   "id": "d4d12afc",
   "metadata": {},
   "source": [
    "***K는 반드시 2이상을 설정해야 한다.***"
   ]
  },
  {
   "cell_type": "markdown",
   "id": "21003032",
   "metadata": {},
   "source": [
    "<img src='./my_icons/smote_k.PNG'>"
   ]
  },
  {
   "cell_type": "markdown",
   "id": "1f99fa65",
   "metadata": {},
   "source": [
    "<img src='./my_icons/smote_before_after.PNG'>"
   ]
  },
  {
   "cell_type": "markdown",
   "id": "a5960ce1",
   "metadata": {},
   "source": [
    "#### `#3.` Borderline - SMOTE\n",
    "> Borderline(경계선) 부분만 샘플링 <br>\n",
    "> 정상과 이상의 경계부분만 오버샘플링을 하면 좋지 않을까?"
   ]
  },
  {
   "cell_type": "markdown",
   "id": "e6ff7a62",
   "metadata": {},
   "source": [
    "<img src = './my_icons/borderline_step1.PNG'>"
   ]
  },
  {
   "cell_type": "markdown",
   "id": "7dcf5ef8",
   "metadata": {},
   "source": [
    "`-` safe 관측치 (Borderline X)"
   ]
  },
  {
   "cell_type": "markdown",
   "id": "ed734c25",
   "metadata": {},
   "source": [
    "<img src='./my_icons/borderline_no.PNG'>"
   ]
  },
  {
   "cell_type": "markdown",
   "id": "16234e7f",
   "metadata": {},
   "source": [
    "`-` Danger 관측치 (Borderline O)"
   ]
  },
  {
   "cell_type": "markdown",
   "id": "6f37489f",
   "metadata": {},
   "source": [
    "<img src='./my_icons/borderline_yes.PNG'>"
   ]
  },
  {
   "cell_type": "markdown",
   "id": "5b995459",
   "metadata": {},
   "source": [
    "`-` Noise 관측치 (Borderline X)"
   ]
  },
  {
   "attachments": {},
   "cell_type": "markdown",
   "id": "633d3cd0",
   "metadata": {},
   "source": [
    "<img src='./my_icons/borderline_noise.PNG'>"
   ]
  },
  {
   "cell_type": "markdown",
   "id": "d42844cc",
   "metadata": {},
   "source": [
    "전체 중 다수가 몇개 있어야 safe이고, 몇개 있어야 노이즈인지 기준이 있어야 한다."
   ]
  },
  {
   "cell_type": "markdown",
   "id": "cf2f986c",
   "metadata": {},
   "source": [
    "<img src = './my_icons/borderline_stan.PNG'>"
   ]
  },
  {
   "cell_type": "markdown",
   "id": "ace7150f",
   "metadata": {},
   "source": [
    "**즉, Danger 관측치가 borderline에 있다고 할 수 있다.**"
   ]
  },
  {
   "cell_type": "markdown",
   "id": "be76b926",
   "metadata": {},
   "source": [
    "<img src= './my_icons/borderline_smote.PNG'>"
   ]
  },
  {
   "cell_type": "markdown",
   "id": "d7e3215e",
   "metadata": {},
   "source": [
    "`-` Danger 관측치에 대해 SMOTE 적용"
   ]
  },
  {
   "cell_type": "markdown",
   "id": "a7eea757",
   "metadata": {},
   "source": [
    "<img src = './my_icons/danger_obs.PNG'>"
   ]
  },
  {
   "cell_type": "markdown",
   "id": "b6eb0c5b",
   "metadata": {},
   "source": [
    "Danger 관측치를 하나 설정하고, $k$를 5라고 하면 그 주변의 5개 선정하고 그 중 하나를 랜덤하게 선택한다."
   ]
  },
  {
   "cell_type": "markdown",
   "id": "d9fc06fa",
   "metadata": {},
   "source": [
    "`-` Danger 관측치 5개 선정 ($k=5$)"
   ]
  },
  {
   "cell_type": "markdown",
   "id": "d0379028",
   "metadata": {},
   "source": [
    "<img src='./my_icons/danser_obs5.PNG'>"
   ]
  },
  {
   "cell_type": "markdown",
   "id": "35d7d0c1",
   "metadata": {},
   "source": [
    "`-` 5개 중 1개를 랜덤으로 선택"
   ]
  },
  {
   "cell_type": "markdown",
   "id": "8dd0c6b5",
   "metadata": {},
   "source": [
    "<img src='./my_icons/danger_obs_random1.PNG'>"
   ]
  },
  {
   "cell_type": "markdown",
   "id": "29936f18",
   "metadata": {},
   "source": [
    "`-` 다음과 같은 방법을 통해 복원"
   ]
  },
  {
   "cell_type": "markdown",
   "id": "bc615d28",
   "metadata": {},
   "source": [
    "<img src='./my_icons/border_method.PNG'>"
   ]
  },
  {
   "cell_type": "markdown",
   "id": "57b03873",
   "metadata": {},
   "source": [
    "`-` Borderline - SMOTE"
   ]
  },
  {
   "cell_type": "markdown",
   "id": "ad3fffe6",
   "metadata": {},
   "source": [
    "<img src ='./my_icons/borderline_smote_result.PNG'>"
   ]
  },
  {
   "cell_type": "markdown",
   "id": "0cbebf45",
   "metadata": {},
   "source": [
    "original SMOTE 같은 경우 소수 관측치 전반에 걸쳐서 증폭이 됐다면, 이제는 경계선 위치에만 데이터가 샘플링 되는 효과를 얻을 수 있다."
   ]
  },
  {
   "cell_type": "markdown",
   "id": "2c062845",
   "metadata": {},
   "source": [
    "`-` Borderline-SMOTE 전 / 후 비교"
   ]
  },
  {
   "cell_type": "markdown",
   "id": "8dfd00cf",
   "metadata": {},
   "source": [
    "<img  src='./my_icons/borderline_smote_compare.PNG'>"
   ]
  },
  {
   "cell_type": "markdown",
   "id": "35cc0f9c",
   "metadata": {},
   "source": [
    "샘플링 이전에는 다수 관측치에 분류경계선이 편향되서 나온다면, 샘플링 이후에는 (오버샘플링 되었기 때문에) 분류경계선이 약간 왼쪽으로 이동한다.\n",
    "\n",
    "**새로 생성된 데이터들이 경계선 부분에 주로 생성이 된다**"
   ]
  },
  {
   "cell_type": "markdown",
   "id": "b138c3ba",
   "metadata": {},
   "source": [
    "`-` Borderline - SMOTE를 제안한 논문"
   ]
  },
  {
   "cell_type": "markdown",
   "id": "3353bc0b",
   "metadata": {},
   "source": [
    "<img src='./my_icons/borderline_smote_ref.PNG'>"
   ]
  },
  {
   "cell_type": "markdown",
   "id": "c0ec5816",
   "metadata": {},
   "source": [
    "(1) 검은색이 다수범주, 빨간색이 소수범주, 데이터는 눈사람 형태로 되어있다.\n",
    "\n",
    "(2) 파란색 점이 Borderline주변에 Danger 관측치가 잘 선정이 됐다.\n",
    "\n",
    "(3) 이 부분에 대해서만 SMOTE를 적용해서 오버샘플링 되었다."
   ]
  },
  {
   "cell_type": "markdown",
   "id": "1be3ddbe",
   "metadata": {},
   "source": [
    "#### `#4.` ADASYN (adaptive synthetic sampling approach)\n",
    "> 샘플링하는 개수를 위치에 따라 다르게"
   ]
  },
  {
   "cell_type": "markdown",
   "id": "727d9375",
   "metadata": {},
   "source": [
    "<img src='./my_icons/adasyn.PNG'>"
   ]
  },
  {
   "cell_type": "markdown",
   "id": "16e67750",
   "metadata": {},
   "source": [
    "**각 <font color='red'>소수</font> 클래스 주변에 얼마나 많은 <font color='blue'>다수</font> 클래스 관측치가 있는가를 정량화 한 지표**"
   ]
  },
  {
   "cell_type": "markdown",
   "id": "0c5da4ed",
   "metadata": {},
   "source": [
    "`-` 예제1"
   ]
  },
  {
   "cell_type": "markdown",
   "id": "261ff45c",
   "metadata": {},
   "source": [
    "<img src='./my_icons/adasyn_ex1.PNG'>"
   ]
  },
  {
   "cell_type": "markdown",
   "id": "4e4d81d2",
   "metadata": {},
   "source": [
    "`-` 예제2"
   ]
  },
  {
   "cell_type": "markdown",
   "id": "8953adb2",
   "metadata": {},
   "source": [
    "<img src = './my_icons/adasyn_ex2.PNG'>"
   ]
  },
  {
   "cell_type": "markdown",
   "id": "047a9393",
   "metadata": {},
   "source": [
    "`-` 예제3"
   ]
  },
  {
   "cell_type": "markdown",
   "id": "baa08eed",
   "metadata": {},
   "source": [
    "<img src = './my_icons/adasyn_ex3.PNG'>"
   ]
  },
  {
   "cell_type": "markdown",
   "id": "29d75a66",
   "metadata": {},
   "source": [
    "<img src='./my_icons/adasyn_ratio.PNG'>"
   ]
  },
  {
   "cell_type": "markdown",
   "id": "b98281fb",
   "metadata": {},
   "source": [
    "<img src='./my_icons/adasyn_scaling.PNG'>"
   ]
  },
  {
   "cell_type": "markdown",
   "id": "ae777094",
   "metadata": {},
   "source": [
    "<img src='./my_icons/adasyn_num.PNG'>"
   ]
  },
  {
   "cell_type": "markdown",
   "id": "73603b00",
   "metadata": {},
   "source": [
    "괄호 안에 있는 개수만큼 개수를 증폭시키겠다는 말이다.\n",
    "첫번째 소수클래스 주변에 14개를, 13번째 주변에는 40개를 생성해내겠다."
   ]
  },
  {
   "cell_type": "markdown",
   "id": "054771e0",
   "metadata": {},
   "source": [
    "소수 클래스 주변에 다수클래스가 몇 개 있느냐에 따라 비율이 ($r_i$) 결정되고, 그에 따라 증폭되는 오버샘플링한 데이터의 개수가 달라진다."
   ]
  },
  {
   "cell_type": "markdown",
   "id": "5ef0912a",
   "metadata": {},
   "source": [
    "<img src = './my_icons/adasyn_ex4.PNG'>"
   ]
  },
  {
   "cell_type": "markdown",
   "id": "4d765e52",
   "metadata": {},
   "source": [
    "<img src='./my_icons/adasyn_ex5.PNG'>"
   ]
  },
  {
   "cell_type": "markdown",
   "id": "bba6be02",
   "metadata": {},
   "source": [
    "**소수 클래스 주변의 다수 클래스의 수에 따라 유동적으로 오버샘플링 개수 생성이 가능**"
   ]
  },
  {
   "cell_type": "markdown",
   "id": "6c6b78a3",
   "metadata": {},
   "source": [
    "#### ADASYN 어떻게 생성하는가?\n",
    "ADASYN도 SMOTE를 적용한다. SMOTE의 imporve된 버전이라고 생각하면 된다.,\n",
    "\n",
    "단 일반 SMOTE처럼 모든데에 다 적용하는 것이 아닌 조금 adaptive하게 한다는 것."
   ]
  },
  {
   "cell_type": "markdown",
   "id": "9885cb28",
   "metadata": {},
   "source": [
    "`-` STEP1"
   ]
  },
  {
   "cell_type": "markdown",
   "id": "93690a46",
   "metadata": {},
   "source": [
    "<img src='./my_icons/adasyn_step1.PNG'>"
   ]
  },
  {
   "cell_type": "markdown",
   "id": "11c6d55c",
   "metadata": {},
   "source": [
    "`-` STEP2"
   ]
  },
  {
   "cell_type": "markdown",
   "id": "4fa4c8cf",
   "metadata": {},
   "source": [
    "<img src='./my_icons/adasyn_step2.PNG'>"
   ]
  },
  {
   "cell_type": "markdown",
   "id": "1cd9f2ac",
   "metadata": {},
   "source": [
    "`-` STEP3"
   ]
  },
  {
   "cell_type": "markdown",
   "id": "6b831122",
   "metadata": {},
   "source": [
    "<img src='./my_icons/adasyn_step3.PNG'>"
   ]
  },
  {
   "cell_type": "markdown",
   "id": "630791e6",
   "metadata": {},
   "source": [
    "`-` STEP4"
   ]
  },
  {
   "cell_type": "markdown",
   "id": "9286ba98",
   "metadata": {},
   "source": [
    "<img src='./my_icons/adasyn_step4.PNG'>"
   ]
  },
  {
   "cell_type": "markdown",
   "id": "5b3fb3bc",
   "metadata": {},
   "source": [
    "`-` STEP5"
   ]
  },
  {
   "cell_type": "markdown",
   "id": "2c8ca10d",
   "metadata": {},
   "source": [
    "<img src='./my_icons/adasyn_step5.PNG'>"
   ]
  },
  {
   "cell_type": "markdown",
   "id": "2211cd08",
   "metadata": {},
   "source": [
    "`-` ADASYN 적용 전/후 비교"
   ]
  },
  {
   "attachments": {},
   "cell_type": "markdown",
   "id": "d2788710",
   "metadata": {},
   "source": [
    "<img src='./my_icons/adasyn_compare.PNG'>"
   ]
  },
  {
   "cell_type": "markdown",
   "id": "61942682",
   "metadata": {},
   "source": [
    "#### (*) Borderlin - SMOTE    vs.    ADASYN"
   ]
  },
  {
   "cell_type": "markdown",
   "id": "1d1e4d7d",
   "metadata": {},
   "source": [
    "Borderline-SMOTE는 경계선에 집중하겠다라는 것이고, ADASYN은 경계선은 당연하고 다수 클래스 쪽에 있는 소수 클래스가 있는 부분에 집중을 하자는 것이다. "
   ]
  },
  {
   "cell_type": "markdown",
   "id": "24cd2313",
   "metadata": {},
   "source": [
    "$\\to$ 분류 성능을 높이자!"
   ]
  },
  {
   "cell_type": "markdown",
   "id": "c1953b2a",
   "metadata": {},
   "source": [
    "#### (*) oversampling - ADASYN 관련 논문"
   ]
  },
  {
   "cell_type": "markdown",
   "id": "fae1c6cb",
   "metadata": {},
   "source": [
    "<img src='./my_icons/adasyn_ref.PNG'>"
   ]
  },
  {
   "cell_type": "markdown",
   "id": "e571ad7c",
   "metadata": {},
   "source": [
    "이 데이터의 특징은 다수 클래스의 데이터가 3개의 패턴이 존재한다. 이런것을 멀티모달이라고 한다. 정상 데이터 즉 다수 클래스가 유니모달 패턴이 아닌 여러개의 패턴이 있는 경우 ADASYN이 작동을 잘 한다."
   ]
  },
  {
   "cell_type": "markdown",
   "id": "edd3f710",
   "metadata": {},
   "source": [
    "- SMOTE같은 경우 소수 클래스에 적용이 되고 있다.\n",
    "\n",
    "- Borderlin-SMOTE의 경우 Borderline 주변에 생성이 되어 있다.\n",
    "\n",
    "- ADASYN의 경우 Borderline도 잘 잡는다. Borderline을 오히려 Borderline SMOTE보다 더 잘 잡는다. \n",
    "\n",
    "***SMOTE도 데이터의 패턴에 따라 잘 생성된 것 같은데 불필요한 부분에도 생성된 것을 볼 수 있다. ADASYN의 경우 SMOTE와 Borderline - SMOTE의 장점을 잘 포함하고 있다.***"
   ]
  },
  {
   "cell_type": "markdown",
   "id": "f32ae8ea",
   "metadata": {},
   "source": [
    "#### `#5.` GAN"
   ]
  },
  {
   "cell_type": "markdown",
   "id": "c31ebf6f",
   "metadata": {},
   "source": [
    "<img src='./my_icons/gan.PNG'>"
   ]
  },
  {
   "cell_type": "markdown",
   "id": "fc126e80",
   "metadata": {},
   "source": [
    "`-` GAN 예시"
   ]
  },
  {
   "cell_type": "markdown",
   "id": "0a49887a",
   "metadata": {},
   "source": [
    "<img src='./my_icons/gan_ex0.PNG'>"
   ]
  },
  {
   "cell_type": "markdown",
   "id": "f3b9d909",
   "metadata": {},
   "source": [
    "<img src='./my_icons/gan_ex1.PNG'>"
   ]
  },
  {
   "cell_type": "markdown",
   "id": "19c16113",
   "metadata": {},
   "source": [
    "### Summary"
   ]
  },
  {
   "cell_type": "markdown",
   "id": "14119dc7",
   "metadata": {},
   "source": [
    "<img src='./my_icons/over_summary.PNG'>"
   ]
  },
  {
   "cell_type": "markdown",
   "id": "5618c8dd",
   "metadata": {},
   "source": [
    "## 비용 기반 학습"
   ]
  },
  {
   "cell_type": "markdown",
   "id": "cd1f1525",
   "metadata": {},
   "source": [
    "`-` 오분류 비용이 같을까?\n",
    "\n",
    "1.<font color='red'>이상(소수)</font>을 <font color='blue'>정상(다수)</font>으로 분류   \n",
    "\n",
    "2.<font color='blue'>정상(다수)</font>을 <font color='red'>이상(소수)</font>으로 분류"
   ]
  },
  {
   "cell_type": "markdown",
   "id": "f77e39ba",
   "metadata": {},
   "source": [
    "1번, 2번 둘 다 오분류 이기는 하지만, 1번이 더 치명적 (원래 이상인데 정상이라고 얘기했을 때 더 치명적..)\n",
    "\n",
    "**오분류 비용이 다르다** $\\to$  **모델링에 오분류 비용을 고려**"
   ]
  },
  {
   "cell_type": "markdown",
   "id": "bfe26120",
   "metadata": {},
   "source": [
    "<img src='./my_icons/cost_base.PNG'>"
   ]
  },
  {
   "cell_type": "markdown",
   "id": "891066ae",
   "metadata": {},
   "source": [
    "`-` 이상인데 정상으로 분류한 애들을 주황색으로 표시"
   ]
  },
  {
   "cell_type": "markdown",
   "id": "33518e45",
   "metadata": {},
   "source": [
    "<img src='./my_icons/cost_base1.PNG'>"
   ]
  },
  {
   "cell_type": "markdown",
   "id": "5b4b78ae",
   "metadata": {},
   "source": [
    "`-` 이상인데 정상으로 잘못 분류한 애들한테 가중치"
   ]
  },
  {
   "cell_type": "markdown",
   "id": "9311fff8",
   "metadata": {},
   "source": [
    "<img src='./my_icons/cost_base2.PNG'>"
   ]
  },
  {
   "cell_type": "markdown",
   "id": "039f0639",
   "metadata": {},
   "source": [
    "`-` 분류경계선 이동"
   ]
  },
  {
   "cell_type": "markdown",
   "id": "5202d875",
   "metadata": {},
   "source": [
    "<img src='./my_icons/cost_base4.PNG'>"
   ]
  },
  {
   "cell_type": "markdown",
   "id": "aed78f69",
   "metadata": {},
   "source": [
    "`-` 모델에 적용"
   ]
  },
  {
   "cell_type": "markdown",
   "id": "9dc2d58b",
   "metadata": {},
   "source": [
    "<img src='./my_icons/cost_base5.PNG'>"
   ]
  },
  {
   "cell_type": "markdown",
   "id": "3823348b",
   "metadata": {},
   "source": [
    "- 분류 경계선이 소수 클래스에 우호적으로 변경이 된다."
   ]
  },
  {
   "cell_type": "markdown",
   "id": "ef32673d",
   "metadata": {},
   "source": [
    "## 단일 클래스 분류 기법"
   ]
  },
  {
   "cell_type": "markdown",
   "id": "cf91a6f8",
   "metadata": {},
   "source": [
    "두 범주를 모두 고려해야하나? $\\to$ **다수 범주**만 고려해서 분류"
   ]
  },
  {
   "cell_type": "markdown",
   "id": "69b94f19",
   "metadata": {},
   "source": [
    "<img src='./my_icons/one_class.PNG'>"
   ]
  },
  {
   "cell_type": "markdown",
   "id": "e0eebc9c",
   "metadata": {},
   "source": [
    "<img src='./my_icons/one_class1.PNG'>"
   ]
  },
  {
   "cell_type": "markdown",
   "id": "5273b73f",
   "metadata": {},
   "source": [
    "미래에 데이터가 왔을 때 바운더리 안에 있으면 다수클래스, 밖에 있으면 그렇지 않다."
   ]
  },
  {
   "cell_type": "markdown",
   "id": "5a796e17",
   "metadata": {},
   "source": [
    "<img src='./my_icons/one_class2.PNG'>"
   ]
  },
  {
   "cell_type": "markdown",
   "id": "5817d9a4",
   "metadata": {},
   "source": [
    "- 2 Class Classification은 클래스 정보를 이용해서 클래스를 잘 나누는 Decision boundary를 구하고, 미래의 데이터가 왔을 때 이 Decision boundary가 둘 중에 어떤 범주야 이렇게 얘기한다.\n",
    "\n",
    "\n",
    "- 1 Class Classification은 소수가 있긴 한데, 소수를 무시한다. 그래서 지금 다수만 있는 것. (노란색)\n",
    "\n",
    "    - 다수를 잘 아우를 수 있는 closed boundary를 구한 다음에 미래의 데이터가 왔을 때 안에 들어가 있으면 정상, 밖에 있으면 비정상 혹은 정상이 아니다라고 표현을 한다."
   ]
  },
  {
   "cell_type": "markdown",
   "id": "dd369715",
   "metadata": {},
   "source": [
    "## Summary"
   ]
  },
  {
   "cell_type": "markdown",
   "id": "7a58958a",
   "metadata": {},
   "source": [
    "<img src = 'my_icons/unbal_sol.PNG'>"
   ]
  },
  {
   "cell_type": "markdown",
   "id": "46edcf57",
   "metadata": {},
   "source": [
    "불균형 데이터가 일상생활에서 많이 나온다. 그것을 해결할 수 있는 방안은 크게 3가지가 있다. 샘플링을 통해서, 비용기반, 단일 클래스 분류기법을 통해서 할 수 있다.\n",
    "그 중 샘플링 기법에 대해서 자세히 배워보았다.\n",
    "\n",
    "샘플링 기법은 크게 언더 샘플링 오버 샘플링으로 나누고, 언더 샘플링에 4가지 오버 샘플링에 4가지가 있으며, GAN에 대해 간단한 개념을 배워보았다."
   ]
  }
 ],
 "metadata": {
  "kernelspec": {
   "display_name": "Python 3 (ipykernel)",
   "language": "python",
   "name": "python3"
  },
  "language_info": {
   "codemirror_mode": {
    "name": "ipython",
    "version": 3
   },
   "file_extension": ".py",
   "mimetype": "text/x-python",
   "name": "python",
   "nbconvert_exporter": "python",
   "pygments_lexer": "ipython3",
   "version": "3.8.13"
  }
 },
 "nbformat": 4,
 "nbformat_minor": 5
}
