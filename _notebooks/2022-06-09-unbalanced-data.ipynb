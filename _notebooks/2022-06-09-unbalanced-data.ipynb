{
 "cells": [
  {
   "cell_type": "markdown",
   "id": "bbc3464f",
   "metadata": {},
   "source": [
    "# Unbalanced Data\n",
    "> 불균형 데이터 분석을 위한 샘플링 기법\n",
    "- toc: true\n",
    "- branch: master\n",
    "- badges: false\n",
    "- comments: true\n",
    "- author: pinkocto\n",
    "- categories: [python]"
   ]
  },
  {
   "cell_type": "markdown",
   "id": "521b5bb8",
   "metadata": {},
   "source": [
    "## 불균형 데이터란?\n",
    "<font color='blue'>**\"정상\"**</font> 범주의 관측치 수와 <font color='red'>**\"이상\"**</font> 범주의 관측치 수의 차이가 크게 나타나는 경우\n",
    "\n",
    "<img src='./my_icons/unbal.PNG'>"
   ]
  },
  {
   "cell_type": "markdown",
   "id": "4a8f4d18",
   "metadata": {},
   "source": [
    "## 불균형 데이터 특징"
   ]
  },
  {
   "cell_type": "markdown",
   "id": "1724a43a",
   "metadata": {},
   "source": [
    "### 왜 문제인가?\n",
    "<font color='blue'>**정상(다수)**</font>을 정확히 분류 vs. <font color='red'>**이상(소수)**</font>을 정확히 분류\n",
    "\n",
    "- 일반적으로 <font color='red'>**이상(소수)**</font>을 정확히 분류하는 것이 중요\n",
    "\n",
    "- 적절한 분류경계선이 형성되지 못함\n",
    "$\\to$ <font color='red'>**이상(소수)**</font>을 정확히 찾아내지 못함"
   ]
  },
  {
   "cell_type": "markdown",
   "id": "0627be60",
   "metadata": {},
   "source": [
    "<img src='./my_icons/unbal2.PNG'>"
   ]
  },
  {
   "cell_type": "markdown",
   "id": "a9a48c95",
   "metadata": {},
   "source": [
    "<img src='my_icons/ideal.PNG'>"
   ]
  },
  {
   "cell_type": "markdown",
   "id": "fcf0caf2",
   "metadata": {},
   "source": [
    "<img src='./my_icons/real.PNG'>"
   ]
  },
  {
   "cell_type": "markdown",
   "id": "5f7d4b31",
   "metadata": {},
   "source": [
    "<img src='./my_icons/real_ideal.PNG'>"
   ]
  },
  {
   "cell_type": "markdown",
   "id": "49ef8314",
   "metadata": {},
   "source": [
    "불균형 상황 하에서는 분류 경계선이 잘못 설정된다."
   ]
  },
  {
   "cell_type": "markdown",
   "id": "2b78fee5",
   "metadata": {},
   "source": [
    "<img src='./my_icons/unbal_pro.PNG'>"
   ]
  },
  {
   "cell_type": "markdown",
   "id": "10a7b9cb",
   "metadata": {},
   "source": [
    "미래의 이상점이 나타났을 때(회색 점) 실제 분류경계선 옆 주황색 점들은 실제 이상임에도 불구하고 이 분류 경계선에 의하면 정상으로 오분류를 하게 된다.\n",
    "\n",
    "$\\to$ 이상을 잘 찾아내지 못하는 문제 발생"
   ]
  },
  {
   "cell_type": "markdown",
   "id": "ed5aca5e",
   "metadata": {},
   "source": [
    "### 성능평가"
   ]
  },
  {
   "cell_type": "markdown",
   "id": "90acfe7d",
   "metadata": {},
   "source": [
    "<img src='./my_icons/confu.PNG'>"
   ]
  },
  {
   "cell_type": "code",
   "execution_count": null,
   "id": "5d1584d7",
   "metadata": {},
   "outputs": [],
   "source": []
  }
 ],
 "metadata": {
  "kernelspec": {
   "display_name": "Python 3 (ipykernel)",
   "language": "python",
   "name": "python3"
  },
  "language_info": {
   "codemirror_mode": {
    "name": "ipython",
    "version": 3
   },
   "file_extension": ".py",
   "mimetype": "text/x-python",
   "name": "python",
   "nbconvert_exporter": "python",
   "pygments_lexer": "ipython3",
   "version": "3.8.13"
  }
 },
 "nbformat": 4,
 "nbformat_minor": 5
}
