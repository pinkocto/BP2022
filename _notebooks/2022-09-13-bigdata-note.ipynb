{
 "cells": [
  {
   "cell_type": "markdown",
   "id": "521582a4",
   "metadata": {},
   "source": [
    "# note\n",
    "> 머신러닝 정리, 빅분기 대비\n",
    "\n",
    "- toc: true\n",
    "- branch: master\n",
    "- badges: false\n",
    "- comments: true\n",
    "- author: pinkocto\n",
    "- categories: [python]"
   ]
  },
  {
   "cell_type": "markdown",
   "id": "14229645",
   "metadata": {},
   "source": [
    "## 기계학습\n"
   ]
  },
  {
   "cell_type": "markdown",
   "id": "6cf9e141",
   "metadata": {},
   "source": [
    "### 특성공학\n",
    "\n",
    "#### `-` Scaling :  숫자 데이터의 스케일 조정 (Standard / MinMax / Robust)\n",
    "#### `-` Encoding: 숫자 데이터를 문자로 변환 (Label / One hot)\n",
    "#### `-` Cross Validation: 교차 검증을 통해, 여러개의 모델\n",
    "#### `-` Model Hyperparameter Tunning: 알고리즘 내 구조를 Tunning"
   ]
  },
  {
   "cell_type": "markdown",
   "id": "b8e98eef",
   "metadata": {},
   "source": [
    "### 지도 학습\n",
    "#### `-` $Y$ 연속형 (숫자) : Regression 회귀 / 예측\n",
    "#### `-` $Y$ 범주형 (문자) : Classification 분류\n"
   ]
  },
  {
   "cell_type": "markdown",
   "id": "55dbd389",
   "metadata": {},
   "source": [
    "### 비지도 학습"
   ]
  },
  {
   "cell_type": "markdown",
   "id": "6789ff10",
   "metadata": {},
   "source": [
    "#### `-` 군집분석\n",
    "#### `-` 차원축소  / 연관분석"
   ]
  }
 ],
 "metadata": {
  "kernelspec": {
   "display_name": "Python 3 (ipykernel)",
   "language": "python",
   "name": "python3"
  },
  "language_info": {
   "codemirror_mode": {
    "name": "ipython",
    "version": 3
   },
   "file_extension": ".py",
   "mimetype": "text/x-python",
   "name": "python",
   "nbconvert_exporter": "python",
   "pygments_lexer": "ipython3",
   "version": "3.8.13"
  }
 },
 "nbformat": 4,
 "nbformat_minor": 5
}
