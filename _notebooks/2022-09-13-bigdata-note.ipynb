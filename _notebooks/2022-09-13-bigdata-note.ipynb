{
 "cells": [
  {
   "cell_type": "markdown",
   "id": "fbcf7cb3",
   "metadata": {},
   "source": [
    "# note\n",
    "> 머신러닝 정리, 빅분기 대비\n",
    "\n",
    "- toc: true\n",
    "- branch: master\n",
    "- badges: false\n",
    "- comments: true\n",
    "- author: pinkocto\n",
    "- categories: [python]"
   ]
  },
  {
   "cell_type": "markdown",
   "id": "5d4a7aa9",
   "metadata": {},
   "source": [
    "## 기계학습\n"
   ]
  },
  {
   "cell_type": "markdown",
   "id": "a34c9b62",
   "metadata": {},
   "source": [
    "### 특성공학\n",
    "\n",
    "#### `-` Scaling :  숫자 데이터의 스케일 조정 (Standard / MinMax / Robust)\n",
    "#### `-` Encoding: 숫자 데이터를 문자로 변환 (Label / One hot)\n",
    "#### `-` Cross Validation: 교차 검증을 통해, 여러개의 모델\n",
    "#### `-` Model Hyperparameter Tunning: 알고리즘 내 구조를 Tunning"
   ]
  },
  {
   "cell_type": "markdown",
   "id": "dd3767f6",
   "metadata": {},
   "source": [
    "### 지도 학습\n",
    "#### `-` $Y$ 연속형 (숫자) : Regression 회귀 / 예측\n",
    "#### `-` $Y$ 범주형 (문자) : Classification 분류\n"
   ]
  },
  {
   "cell_type": "markdown",
   "id": "e7da67f1",
   "metadata": {},
   "source": [
    "### 비지도 학습"
   ]
  },
  {
   "cell_type": "markdown",
   "id": "694a1563",
   "metadata": {},
   "source": [
    "#### `-` 군집분석\n",
    "#### `-` 차원축소  / 연관분석"
   ]
  },
  {
   "cell_type": "code",
   "execution_count": 1,
   "id": "1a916eba",
   "metadata": {},
   "outputs": [],
   "source": [
    "# Pandas 라이브러리 호출\n",
    "import pandas as pd"
   ]
  },
  {
   "cell_type": "code",
   "execution_count": null,
   "id": "c8e415e0",
   "metadata": {},
   "outputs": [],
   "source": [
    "# 데이터 파일 불러오기\n",
    "df1 = pd.read_csv('ex1.csv')"
   ]
  },
  {
   "cell_type": "code",
   "execution_count": null,
   "id": "74b2539c",
   "metadata": {},
   "outputs": [],
   "source": [
    "# 데이터 구조 및 타입 확인\n",
    "df1.info()"
   ]
  },
  {
   "cell_type": "code",
   "execution_count": null,
   "id": "e05509f5",
   "metadata": {},
   "outputs": [],
   "source": [
    "df1['Diagnosis'] # Target"
   ]
  }
 ],
 "metadata": {
  "kernelspec": {
   "display_name": "Python 3 (ipykernel)",
   "language": "python",
   "name": "python3"
  },
  "language_info": {
   "codemirror_mode": {
    "name": "ipython",
    "version": 3
   },
   "file_extension": ".py",
   "mimetype": "text/x-python",
   "name": "python",
   "nbconvert_exporter": "python",
   "pygments_lexer": "ipython3",
   "version": "3.8.13"
  }
 },
 "nbformat": 4,
 "nbformat_minor": 5
}
