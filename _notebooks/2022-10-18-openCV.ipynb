{
 "cells": [
  {
   "cell_type": "markdown",
   "id": "00e4c8a7",
   "metadata": {},
   "source": [
    "# (OpenCV - Chap5) 10월 18일\n",
    "> 기본 배열 연산 (Operations on Arrays) 함수\n",
    "- toc: true\n",
    "- branch: master\n",
    "- badges: false\n",
    "- comments: true\n",
    "- author: dinonene\n",
    "- categories: [python]"
   ]
  },
  {
   "cell_type": "markdown",
   "id": "4230edd8",
   "metadata": {},
   "source": [
    "## 05. 기본 배열 연산 함수\n",
    "OpenCV는 수학과 과학 연산을 위한 파이썬 패키지인 넘파이(numpy)와 연동해 배열을 생성할 수 있으며, 이런 배열을 처리할 수 있는 다양한 연산함수를 지원한다.\n",
    "\n",
    "파이썬에서는 배열을 처리하기 위한 자료형으로 리스트, 튜플, 사전 등의 열거형(sequence) 객체가 있다. 리스트는 다차원의 배열을 만들고 원소를 수정할 수 있으며, 튜플은 다차원의 배열을 만들 수 있지만, 수정이 불가능한 자료형이다. OpenCV 모듈의 함수들은 넘파이 모듈의 배열(ndarray) 객체를 기반으로 입력 배열과 출력 배열을 사용한다.\n",
    "\n",
    "이 장에서는 OpenCV에서 지원하는 여러 배열 처리 함수들을 살펴본다."
   ]
  },
  {
   "cell_type": "markdown",
   "id": "e4020a90",
   "metadata": {},
   "source": [
    "### 5.1 기본 배열 (Array) 함수"
   ]
  },
  {
   "cell_type": "markdown",
   "id": "76eab564",
   "metadata": {},
   "source": [
    "OpenCVㅇ서는 배열을 옵션에 따라 여러 방향으로 뒤집거나 여러 번 반복하는 등 배열 자체를 처리하는 함수를 제공하고 있다. "
   ]
  },
  {
   "cell_type": "code",
   "execution_count": null,
   "id": "1e2e671c",
   "metadata": {},
   "outputs": [],
   "source": [
    "import c"
   ]
  }
 ],
 "metadata": {
  "kernelspec": {
   "display_name": "Python 3 (ipykernel)",
   "language": "python",
   "name": "python3"
  },
  "language_info": {
   "codemirror_mode": {
    "name": "ipython",
    "version": 3
   },
   "file_extension": ".py",
   "mimetype": "text/x-python",
   "name": "python",
   "nbconvert_exporter": "python",
   "pygments_lexer": "ipython3",
   "version": "3.9.13"
  }
 },
 "nbformat": 4,
 "nbformat_minor": 5
}
