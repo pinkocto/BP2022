{
 "cells": [
  {
   "cell_type": "markdown",
   "id": "da86f25e",
   "metadata": {},
   "source": [
    "# (OpenCV - Chap5) OpenCV 인터페이스\n",
    "> 사용자 인터페이스를 위한 기본 함수인 윈도우에 그리기 함수와 이벤트 함수를 알아본다.}\n",
    "\n",
    "- toc: true\n",
    "- branch: master\n",
    "- badges: false\n",
    "- comments: true\n",
    "- author: pinkocto\n",
    "- categories: [python]"
   ]
  },
  {
   "cell_type": "markdown",
   "id": "6d6f02c1",
   "metadata": {},
   "source": [
    "## 4.1 윈도우 제어"
   ]
  },
  {
   "cell_type": "markdown",
   "id": "5e8867f3",
   "metadata": {},
   "source": [
    "영상처리를 간단히 말하면, 2차원 행렬에 대한 연산이라 할 수 있다. 여기서 행렬에 대한 다양한 연산 과정에서 행렬 원소의 값이 변한다. 이 때 변화된 행렬의 화소들을 윈도우에 영상으로 바로 표시할 수 있다면 적용된 행렬 연산의 의미를 이해하기가 훨씬 더 쉬울 것이다."
   ]
  },
  {
   "cell_type": "markdown",
   "id": "bb4e71ab",
   "metadata": {},
   "source": [
    "OpenCV에서는 윈도우(window, 창)가 활성화된 상태에서만 마우스나 키보드 이벤트를 감지할 수 있다. 따라서 이런 이벤트를 감지해서 처리하려면 윈도우를 생성하고 제어할 수 있어야 한다."
   ]
  },
  {
   "cell_type": "code",
   "execution_count": 12,
   "id": "a8b520a0",
   "metadata": {},
   "outputs": [],
   "source": [
    "import numpy as np\n",
    "import cv2\n",
    "\n",
    "image = np.zeros((200, 400), np.uint8)             # 행렬 생성\n",
    "image[:] = 200                                     # 밝은 회색(200) 바탕 영상 생성\n",
    "\n",
    "title1, title2 = 'Position1', 'Position2'          # 윈도우 이름\n",
    "cv2.namedWindow(title1, cv2.WINDOW_AUTOSIZE)       # 윈도우 생성 및 크기조절 옵션\n",
    "cv2.namedWindow(title2)\n",
    "cv2.moveWindow(title1, 150, 150)\n",
    "cv2.moveWindow(title2, 400, 50)\n",
    "\n",
    "cv2.imshow(title1, image)\n",
    "cv2.imshow(title2, image)\n",
    "cv2.waitKey(0)\n",
    "\n",
    "cv2.destroyAllWindows()"
   ]
  },
  {
   "cell_type": "code",
   "execution_count": 3,
   "id": "b72db50c",
   "metadata": {},
   "outputs": [
    {
     "data": {
      "text/plain": [
       "array([[200, 200, 200, ..., 200, 200, 200],\n",
       "       [200, 200, 200, ..., 200, 200, 200],\n",
       "       [200, 200, 200, ..., 200, 200, 200],\n",
       "       ...,\n",
       "       [200, 200, 200, ..., 200, 200, 200],\n",
       "       [200, 200, 200, ..., 200, 200, 200],\n",
       "       [200, 200, 200, ..., 200, 200, 200]], dtype=uint8)"
      ]
     },
     "execution_count": 3,
     "metadata": {},
     "output_type": "execute_result"
    }
   ],
   "source": [
    "image"
   ]
  },
  {
   "cell_type": "code",
   "execution_count": 14,
   "id": "48e0b21e",
   "metadata": {},
   "outputs": [],
   "source": [
    "# window resize\n",
    "import numpy as np\n",
    "import cv2\n",
    "\n",
    "image = np.zeros((200,300), np.uint8)        # ndarray 행렬 생성\n",
    "image.fill(255)                              # 모든 원소에 255(흰색) 지정\n",
    "image, image.shape\n",
    "\n",
    "title1, title2 = 'AUTOSIZE', 'NORMAL'\n",
    "cv2.namedWindow(title1, cv2.WINDOW_AUTOSIZE)\n",
    "cv2.namedWindow(title2, cv2.WINDOW_NORMAL)\n",
    "# cv2.moveWindow(title1, 150, 150)              # 윈도우 이동 - 위치 지정\n",
    "# cv2.moveWindow(title2, 400, 50)               \n",
    "\n",
    "cv2.imshow('image', image)                    # 원본 이미지\n",
    "cv2.imshow(title1, image)                     # AUTOSIZE\n",
    "cv2.imshow(title2, image)                     # NORMAL\n",
    "\n",
    "cv2.resizeWindow(title1, 400, 300)             # 윈도우 크기 변경\n",
    "cv2.resizeWindow(title2, 400, 300)\n",
    "cv2.waitKey(0)                                  # 키 이벤트 대기\n",
    "cv2.destroyAllWindows()                         # 열린 모든 윈도우 닫기"
   ]
  },
  {
   "cell_type": "markdown",
   "id": "fa3f8d4b",
   "metadata": {},
   "source": [
    "- 실행결과, 행렬을 두 윈도우에 영상을 표시한 후에 cv2.resizeWindow() 영상의 크기를 가로 400화소, 세로 300화소로 변경한다. 여기서 두 윈도우에 나타나는 영상(image 행렬)의 형태가 다르다.\n",
    "- 즉, `AUTOSIZE` 윈도우는 행렬의 크기 변경 없이 윈도우의 크기만 바꾸며,\n",
    "- `NORMAL` 윈도우는 변경된 윈도우와 동일하게 행렬의 크기도 바뀐다. 단, image 행렬의 실제 크기를 바꾸는 것이 아니라 보여지는 형태만 바꾸는 것"
   ]
  },
  {
   "cell_type": "markdown",
   "id": "5c16accd",
   "metadata": {},
   "source": [
    "## 4.1 이벤트 처리 함수\n",
    "> OpenCV에서 지원하는 이벤트 처리 함수에 대해 배워본다."
   ]
  },
  {
   "cell_type": "markdown",
   "id": "f641f6d4",
   "metadata": {},
   "source": [
    "대표적인 이벤트 발생은 사용자가 마우스를 움직인다거나 키보드의 키를 누르는 것 등이 대표적이다. 윈도우 운영체제에서는 다양한 이벤트가 발생하며, 이러한 이벤트 처리를 통해 사용하기 편리한 대화형 프로그램을 만들 수 있다."
   ]
  },
  {
   "cell_type": "markdown",
   "id": "8ee08a6f",
   "metadata": {},
   "source": [
    "일반적으로 이벤트를 처리하기 위해 `콜백(callback) 함수`를 사용한다. 콜백 함수는 개발자가 시스템 함수를 직접 호출하는 방식이 아니라, 어떤 이벤트가 발생하거나 특정 시점에 도달했을 때 시스템이 개발자가 등록한 함수를 호출하는 것."
   ]
  },
  {
   "cell_type": "markdown",
   "id": "3117cc7e",
   "metadata": {},
   "source": [
    "OpenCV에서도 기본적인 이벤트 처리 함수들을 지원한다. 대표적으로 키보드 이벤트, 마우스 이벤트, 트랙바(trackbar) 이벤트를 처리하는 콜백 함수들이 있다."
   ]
  },
  {
   "cell_type": "markdown",
   "id": "451ccfcd",
   "metadata": {},
   "source": [
    "### 4.2.1 키보드 이벤트 제어"
   ]
  },
  {
   "cell_type": "markdown",
   "id": "2ce2733f",
   "metadata": {},
   "source": [
    "#### `-` cv2.waitKey([, delay)\n",
    "- delay $\\leq 0 $ : 키 이벤트 발생까지 무한대기\n",
    "- delay > $0$ : 지연 시간 동안 키 입력 대기, 지연 시간 안에 키 이벤트 없으면 -1 반환"
   ]
  },
  {
   "cell_type": "code",
   "execution_count": 5,
   "id": "86f8be75",
   "metadata": {},
   "outputs": [
    {
     "ename": "SyntaxError",
     "evalue": "invalid syntax (1153687976.py, line 5)",
     "output_type": "error",
     "traceback": [
      "\u001b[1;36m  Cell \u001b[1;32mIn [5], line 5\u001b[1;36m\u001b[0m\n\u001b[1;33m    switch_case {\u001b[0m\n\u001b[1;37m                ^\u001b[0m\n\u001b[1;31mSyntaxError\u001b[0m\u001b[1;31m:\u001b[0m invalid syntax\n"
     ]
    }
   ],
   "source": [
    "import numpy as np\n",
    "import cv2\n",
    "\n",
    "# switch case문을 사전으로 구현\n",
    "switch_case {\n",
    "    ord('a'): \"a키 입력\",         # ord()함수: 문자를 아스키코드로 변환\n",
    "    ord('b'): \"b키 입력\"\n",
    "    0x41: \"A키 입력\",\n",
    "    int('ox42', 16): \"B키 입력\",\n",
    "    2424832: \"왼쪽 화살표키 입력\",\n",
    "    2490368: \"윗쪽 화살표키 입력\",\n",
    "    2555904: \"오른쪽 화살표키 입력\",\n",
    "    2621440: \"아래쪽 화살표키 입력\"\n",
    "}\n",
    "\n",
    "image = np.ones((200,300), np.float)    # 원소값이 1인 행렬 생성\n",
    "cv2.namedWindow(\"Keyboard Event\")\n",
    "cv2.imshow(\"Keyboard Event\", image)\n",
    "\n",
    "while True:                            # 무한 반복\n",
    "    key = cv2.waitKeyEx(100)            # 100ms 동안 키 이벤트 대기\n",
    "    if key == 27: break                # ESC 키 누르면 종료\n",
    "        \n",
    "    try:\n",
    "        result = switch_cas[key]\n",
    "        print(result)\n",
    "    except keyError:\n",
    "        result = -1\n",
    "        \n",
    "cv2.destroyAllWindows()                 # 열른 모든 윈도우 제거"
   ]
  },
  {
   "cell_type": "markdown",
   "id": "ddd00196",
   "metadata": {},
   "source": [
    "### 4.2.2 마우스 이벤트 제어"
   ]
  },
  {
   "cell_type": "code",
   "execution_count": 4,
   "id": "9bcaf88b",
   "metadata": {},
   "outputs": [
    {
     "name": "stdout",
     "output_type": "stream",
     "text": [
      "마우스 왼쪽 버튼 누르기\n",
      "마우스 왼쪽 버튼 떼기\n",
      "마우스 오른쪽 버튼 누르기\n",
      "마우스 오른쪽 버튼 떼기\n",
      "마우스 왼쪽 버튼 누르기\n",
      "마우스 왼쪽 버튼 떼기\n",
      "마우스 왼쪽 버튼 더블 클릭\n",
      "마우스 왼쪽 버튼 누르기\n",
      "마우스 왼쪽 버튼 떼기\n"
     ]
    }
   ],
   "source": [
    "# 마우스 이벤트 사용 \n",
    "import numpy as np\n",
    "import cv2\n",
    "\n",
    "def onMouse(event, x, y, flags, param):\n",
    "    if event == cv2.EVENT_LBUTTONDOWN:\n",
    "        print('마우스 왼쪽 버튼 누르기')\n",
    "    \n",
    "    elif event == cv2.EVENT_RBUTTONDOWN:\n",
    "        print('마우스 오른쪽 버튼 누르기')\n",
    "        \n",
    "    elif event == cv2.EVENT_LBUTTONUP:\n",
    "        print('마우스 왼쪽 버튼 떼기')\n",
    "        \n",
    "    elif event == cv2.EVENT_RBUTTONUP:\n",
    "        print('마우스 오른쪽 버튼 떼기')\n",
    "        \n",
    "    elif event == cv2.EVENT_LBUTTONDBLCLK:\n",
    "        print('마우스 왼쪽 버튼 더블 클릭')\n",
    "        \n",
    "image = np.full((200, 300), 255, np.uint8)  # 초기 영상 생성\n",
    "\n",
    "title1, title2 = \"Mouse Event1\", \"Mouse Event2\"   # 윈도우 이름\n",
    "cv2.imshow(title1, image)                         # 영상 보기\n",
    "cv2.imshow(title2, image)\n",
    "\n",
    "cv2.setMouseCallback(title1, onMouse)       # 마우스 콜백 함수\n",
    "cv2.waitKey(0)\n",
    "cv2.destroyAllWindows()"
   ]
  },
  {
   "cell_type": "markdown",
   "id": "e5e35196",
   "metadata": {},
   "source": [
    "### 4.2.3 트랙바 이벤트 제어"
   ]
  },
  {
   "cell_type": "code",
   "execution_count": 4,
   "id": "e222cc5a",
   "metadata": {},
   "outputs": [
    {
     "name": "stdout",
     "output_type": "stream",
     "text": [
      "추가 화소값: 5\n",
      "추가 화소값: 4\n",
      "추가 화소값: 2\n",
      "추가 화소값: 2\n",
      "추가 화소값: 1\n",
      "추가 화소값: 2\n",
      "추가 화소값: 1\n",
      "추가 화소값: 3\n",
      "추가 화소값: 1\n",
      "추가 화소값: 1\n",
      "추가 화소값: 1\n",
      "추가 화소값: 1\n",
      "추가 화소값: 1\n",
      "추가 화소값: 1\n",
      "추가 화소값: 1\n",
      "추가 화소값: 1\n",
      "추가 화소값: 2\n",
      "추가 화소값: 1\n",
      "추가 화소값: 1\n",
      "추가 화소값: 1\n"
     ]
    }
   ],
   "source": [
    "# 트랙바 이벤트 사용\n",
    "import numpy as np\n",
    "import cv2\n",
    "\n",
    "def onChange(value):      # 트랙바 콜백 함수\n",
    "    global image, title   # 전역 변수 참조\n",
    "    \n",
    "    add_value = value - int(image[0][0])   # 트랙바 값과 영상 화소값 차분\n",
    "    print('추가 화소값:', add_value)\n",
    "    image = image + add_value              # 행렬과 스칼라 덧셈 수행\n",
    "    cv2.imshow(title,image)\n",
    "\n",
    "    \n",
    "image = np.zeros((300, 500), np.uint8)    # 영상 생성\n",
    "\n",
    "title = 'Trackbar Event'\n",
    "cv2.imshow(title, image)\n",
    "\n",
    "cv2.createTrackbar('Brightness', title, image[0][0], 255, onChange)  # 트랙바 콜백 함수 등록\n",
    "cv2.waitKey(0)\n",
    "cv2.destroyAllWindows()"
   ]
  },
  {
   "cell_type": "markdown",
   "id": "e1e2e402",
   "metadata": {},
   "source": [
    "## 4.3 그리기 함수"
   ]
  }
 ],
 "metadata": {
  "kernelspec": {
   "display_name": "Python 3 (ipykernel)",
   "language": "python",
   "name": "python3"
  },
  "language_info": {
   "codemirror_mode": {
    "name": "ipython",
    "version": 3
   },
   "file_extension": ".py",
   "mimetype": "text/x-python",
   "name": "python",
   "nbconvert_exporter": "python",
   "pygments_lexer": "ipython3",
   "version": "3.9.13"
  }
 },
 "nbformat": 4,
 "nbformat_minor": 5
}
