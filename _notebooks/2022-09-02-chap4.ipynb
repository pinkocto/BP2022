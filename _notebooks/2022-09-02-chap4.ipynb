{
 "cells": [
  {
   "cell_type": "markdown",
   "id": "4d285067",
   "metadata": {},
   "source": [
    "# (OpenCV - Chap5) OpenCV 인터페이스\n",
    "> 사용자 인터페이스를 위한 기본 함수인 윈도우에 그리기 함수와 이벤트 함수를 알아본다.}\n",
    "\n",
    "- toc: true\n",
    "- branch: master\n",
    "- badges: false\n",
    "- comments: true\n",
    "- author: pinkocto\n",
    "- categories: [python]"
   ]
  },
  {
   "cell_type": "markdown",
   "id": "12e4f9a7",
   "metadata": {},
   "source": [
    "## 4.1 윈도우 제어"
   ]
  },
  {
   "cell_type": "markdown",
   "id": "9a5976a1",
   "metadata": {},
   "source": [
    "영상처리를 간단히 말하면, 2차원 행렬에 대한 연산이라 할 수 있다. 여기서 행렬에 대한 다양한 연산 과정에서 행렬 원소의 값이 변한다. 이 때 변화된 행렬의 화소들을 윈도우에 영상으로 바로 표시할 수 있다면 적용된 행렬 연산의 의미를 이해하기가 훨씬 더 쉬울 것이다."
   ]
  },
  {
   "cell_type": "markdown",
   "id": "9e6f1f5c",
   "metadata": {},
   "source": [
    "OpenCV에서는 윈도우(window, 창)가 활성화된 상태에서만 마우스나 키보드 이벤트를 감지할 수 있다. 따라서 이런 이벤트를 감지해서 처리하려면 윈도우를 생성하고 제어할 수 있어야 한다."
   ]
  },
  {
   "cell_type": "code",
   "execution_count": 12,
   "id": "d3a6d90f",
   "metadata": {},
   "outputs": [],
   "source": [
    "import numpy as np\n",
    "import cv2\n",
    "\n",
    "image = np.zeros((200, 400), np.uint8)             # 행렬 생성\n",
    "image[:] = 200                                     # 밝은 회색(200) 바탕 영상 생성\n",
    "\n",
    "title1, title2 = 'Position1', 'Position2'          # 윈도우 이름\n",
    "cv2.namedWindow(title1, cv2.WINDOW_AUTOSIZE)       # 윈도우 생성 및 크기조절 옵션\n",
    "cv2.namedWindow(title2)\n",
    "cv2.moveWindow(title1, 150, 150)\n",
    "cv2.moveWindow(title2, 400, 50)\n",
    "\n",
    "cv2.imshow(title1, image)\n",
    "cv2.imshow(title2, image)\n",
    "cv2.waitKey(0)\n",
    "\n",
    "cv2.destroyAllWindows()"
   ]
  },
  {
   "cell_type": "code",
   "execution_count": 3,
   "id": "f52559bf",
   "metadata": {},
   "outputs": [
    {
     "data": {
      "text/plain": [
       "array([[200, 200, 200, ..., 200, 200, 200],\n",
       "       [200, 200, 200, ..., 200, 200, 200],\n",
       "       [200, 200, 200, ..., 200, 200, 200],\n",
       "       ...,\n",
       "       [200, 200, 200, ..., 200, 200, 200],\n",
       "       [200, 200, 200, ..., 200, 200, 200],\n",
       "       [200, 200, 200, ..., 200, 200, 200]], dtype=uint8)"
      ]
     },
     "execution_count": 3,
     "metadata": {},
     "output_type": "execute_result"
    }
   ],
   "source": [
    "image"
   ]
  },
  {
   "cell_type": "code",
   "execution_count": 14,
   "id": "3212240b",
   "metadata": {},
   "outputs": [],
   "source": [
    "# window resize\n",
    "import numpy as np\n",
    "import cv2\n",
    "\n",
    "image = np.zeros((200,300), np.uint8)        # ndarray 행렬 생성\n",
    "image.fill(255)                              # 모든 원소에 255(흰색) 지정\n",
    "image, image.shape\n",
    "\n",
    "title1, title2 = 'AUTOSIZE', 'NORMAL'\n",
    "cv2.namedWindow(title1, cv2.WINDOW_AUTOSIZE)\n",
    "cv2.namedWindow(title2, cv2.WINDOW_NORMAL)\n",
    "# cv2.moveWindow(title1, 150, 150)              # 윈도우 이동 - 위치 지정\n",
    "# cv2.moveWindow(title2, 400, 50)               \n",
    "\n",
    "cv2.imshow('image', image)                    # 원본 이미지\n",
    "cv2.imshow(title1, image)                     # AUTOSIZE\n",
    "cv2.imshow(title2, image)                     # NORMAL\n",
    "\n",
    "cv2.resizeWindow(title1, 400, 300)             # 윈도우 크기 변경\n",
    "cv2.resizeWindow(title2, 400, 300)\n",
    "cv2.waitKey(0)                                  # 키 이벤트 대기\n",
    "cv2.destroyAllWindows()                         # 열린 모든 윈도우 닫기"
   ]
  },
  {
   "cell_type": "markdown",
   "id": "87447d3d",
   "metadata": {},
   "source": [
    "- 실행결과, 행렬을 두 윈도우에 영상을 표시한 후에 cv2.resizeWindow() 영상의 크기를 가로 400화소, 세로 300화소로 변경한다. 여기서 두 윈도우에 나타나는 영상(image 행렬)의 형태가 다르다.\n",
    "- 즉, AUTOSIZE 윈도우는 행렬의 크기 변경 없이 윈도우의 크기만 바꾸며,\n",
    "- NORMAL 윈도우는 변경된 윈도우와 동일하게 행렬의 크기도 바뀐다. 단, image 행렬의 실제 크기를 바꾼"
   ]
  },
  {
   "cell_type": "markdown",
   "id": "048c9afb",
   "metadata": {},
   "source": []
  }
 ],
 "metadata": {
  "kernelspec": {
   "display_name": "Python 3 (ipykernel)",
   "language": "python",
   "name": "python3"
  },
  "language_info": {
   "codemirror_mode": {
    "name": "ipython",
    "version": 3
   },
   "file_extension": ".py",
   "mimetype": "text/x-python",
   "name": "python",
   "nbconvert_exporter": "python",
   "pygments_lexer": "ipython3",
   "version": "3.9.13"
  }
 },
 "nbformat": 4,
 "nbformat_minor": 5
}
