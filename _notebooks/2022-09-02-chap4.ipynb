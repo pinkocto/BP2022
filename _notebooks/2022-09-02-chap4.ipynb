{
 "cells": [
  {
   "cell_type": "markdown",
   "id": "25ce304f",
   "metadata": {},
   "source": [
    "# (OpenCV - Chap5) OpenCV 인터페이스\n",
    "> 사용자 인터페이스를 위한 기본 함수인 윈도우에 그리기 함수와 이벤트 함수를 알아본다.}\n",
    "\n",
    "- toc: true\n",
    "- branch: master\n",
    "- badges: false\n",
    "- comments: true\n",
    "- author: pinkocto\n",
    "- categories: [python]"
   ]
  },
  {
   "cell_type": "markdown",
   "id": "19221e0c",
   "metadata": {},
   "source": [
    "## 4.1 윈도우 제어"
   ]
  },
  {
   "cell_type": "markdown",
   "id": "21800cae",
   "metadata": {},
   "source": [
    "영상처리를 간단히 말하면, 2차원 행렬에 대한 연산이라 할 수 있다. 여기서 행렬에 대한 다양한 연산 과정에서 행렬 원소의 값이 변한다. 이 때 변화된 행렬의 화소들을 윈도우에 영상으로 바로 표시할 수 있다면 적용된 행렬 연산의 의미를 이해하기가 훨씬 더 쉬울 것이다."
   ]
  },
  {
   "cell_type": "markdown",
   "id": "bd148f7b",
   "metadata": {},
   "source": [
    "OpenCV에서는 윈도우(window, 창)가 활성화된 상태에서만 마우스나 키보드 이벤트를 감지할 수 있다. 따라서 이런 이벤트를 감지해서 처리하려면 윈도우를 생성하고 제어할 수 있어야 한다."
   ]
  },
  {
   "cell_type": "code",
   "execution_count": null,
   "id": "db7ee9ad",
   "metadata": {},
   "outputs": [],
   "source": []
  }
 ],
 "metadata": {
  "kernelspec": {
   "display_name": "Python 3 (ipykernel)",
   "language": "python",
   "name": "python3"
  },
  "language_info": {
   "codemirror_mode": {
    "name": "ipython",
    "version": 3
   },
   "file_extension": ".py",
   "mimetype": "text/x-python",
   "name": "python",
   "nbconvert_exporter": "python",
   "pygments_lexer": "ipython3",
   "version": "3.9.13"
  }
 },
 "nbformat": 4,
 "nbformat_minor": 5
}
