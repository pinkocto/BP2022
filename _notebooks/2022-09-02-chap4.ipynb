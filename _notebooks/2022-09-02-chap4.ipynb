{
 "cells": [
  {
   "cell_type": "markdown",
   "id": "065d9ca6",
   "metadata": {},
   "source": [
    "# (OpenCV - Chap5) OpenCV 인터페이스\n",
    "> 사용자 인터페이스를 위한 기본 함수인 윈도우에 그리기 함수와 이벤트 함수를 알아본다.}\n",
    "\n",
    "- toc: true\n",
    "- branch: master\n",
    "- badges: false\n",
    "- comments: true\n",
    "- author: pinkocto\n",
    "- categories: [python]"
   ]
  },
  {
   "cell_type": "markdown",
   "id": "ff53d0c3",
   "metadata": {},
   "source": [
    "## 4.1 윈도우 제어"
   ]
  },
  {
   "cell_type": "markdown",
   "id": "16aa108c",
   "metadata": {},
   "source": [
    "영상처리를 간단히 말하면, 2차원 행렬에 대한 연산이라 할 수 있다. 여기서 행렬에 대한 다양한 연산 과정에서 행렬 원소의 값이 변한다. 이 때 변화된 행렬의 화소들을 윈도우에 영상으로 바로 표시할 수 있다면 적용된 행렬 연산의 의미를 이해하기가 훨씬 더 쉬울 것이다."
   ]
  },
  {
   "cell_type": "markdown",
   "id": "f07fa013",
   "metadata": {},
   "source": [
    "OpenCV에서는 윈도우(window, 창)가 활성화된 상태에서만 마우스나 키보드 이벤트를 감지할 수 있다. 따라서 이런 이벤트를 감지해서 처리하려면 윈도우를 생성하고 제어할 수 있어야 한다."
   ]
  },
  {
   "cell_type": "code",
   "execution_count": 12,
   "id": "8eb1076b",
   "metadata": {},
   "outputs": [],
   "source": [
    "import numpy as np\n",
    "import cv2\n",
    "\n",
    "image = np.zeros((200, 400), np.uint8)             # 행렬 생성\n",
    "image[:] = 200                                     # 밝은 회색(200) 바탕 영상 생성\n",
    "\n",
    "title1, title2 = 'Position1', 'Position2'          # 윈도우 이름\n",
    "cv2.namedWindow(title1, cv2.WINDOW_AUTOSIZE)       # 윈도우 생성 및 크기조절 옵션\n",
    "cv2.namedWindow(title2)\n",
    "cv2.moveWindow(title1, 150, 150)\n",
    "cv2.moveWindow(title2, 400, 50)\n",
    "\n",
    "cv2.imshow(title1, image)\n",
    "cv2.imshow(title2, image)\n",
    "cv2.waitKey(0)\n",
    "\n",
    "cv2.destroyAllWindows()"
   ]
  },
  {
   "cell_type": "code",
   "execution_count": 3,
   "id": "383a4b0a",
   "metadata": {},
   "outputs": [
    {
     "data": {
      "text/plain": [
       "array([[200, 200, 200, ..., 200, 200, 200],\n",
       "       [200, 200, 200, ..., 200, 200, 200],\n",
       "       [200, 200, 200, ..., 200, 200, 200],\n",
       "       ...,\n",
       "       [200, 200, 200, ..., 200, 200, 200],\n",
       "       [200, 200, 200, ..., 200, 200, 200],\n",
       "       [200, 200, 200, ..., 200, 200, 200]], dtype=uint8)"
      ]
     },
     "execution_count": 3,
     "metadata": {},
     "output_type": "execute_result"
    }
   ],
   "source": [
    "image"
   ]
  },
  {
   "cell_type": "code",
   "execution_count": 14,
   "id": "6063ca2c",
   "metadata": {},
   "outputs": [],
   "source": [
    "# window resize\n",
    "import numpy as np\n",
    "import cv2\n",
    "\n",
    "image = np.zeros((200,300), np.uint8)        # ndarray 행렬 생성\n",
    "image.fill(255)                              # 모든 원소에 255(흰색) 지정\n",
    "image, image.shape\n",
    "\n",
    "title1, title2 = 'AUTOSIZE', 'NORMAL'\n",
    "cv2.namedWindow(title1, cv2.WINDOW_AUTOSIZE)\n",
    "cv2.namedWindow(title2, cv2.WINDOW_NORMAL)\n",
    "# cv2.moveWindow(title1, 150, 150)              # 윈도우 이동 - 위치 지정\n",
    "# cv2.moveWindow(title2, 400, 50)               \n",
    "\n",
    "cv2.imshow('image', image)                    # 원본 이미지\n",
    "cv2.imshow(title1, image)                     # AUTOSIZE\n",
    "cv2.imshow(title2, image)                     # NORMAL\n",
    "\n",
    "cv2.resizeWindow(title1, 400, 300)             # 윈도우 크기 변경\n",
    "cv2.resizeWindow(title2, 400, 300)\n",
    "cv2.waitKey(0)                                  # 키 이벤트 대기\n",
    "cv2.destroyAllWindows()                         # 열린 모든 윈도우 닫기"
   ]
  },
  {
   "cell_type": "markdown",
   "id": "b8201d85",
   "metadata": {},
   "source": [
    "- 실행결과, 행렬을 두 윈도우에 영상을 표시한 후에 cv2.resizeWindow() 영상의 크기를 가로 400화소, 세로 300화소로 변경한다. 여기서 두 윈도우에 나타나는 영상(image 행렬)의 형태가 다르다.\n",
    "- 즉, `AUTOSIZE` 윈도우는 행렬의 크기 변경 없이 윈도우의 크기만 바꾸며,\n",
    "- `NORMAL` 윈도우는 변경된 윈도우와 동일하게 행렬의 크기도 바뀐다. 단, image 행렬의 실제 크기를 바꾸는 것이 아니라 보여지는 형태만 바꾸는 것"
   ]
  },
  {
   "cell_type": "markdown",
   "id": "3f66a221",
   "metadata": {},
   "source": [
    "### 4.1 이벤트 처리 함수\n",
    "> OpenCV에서 지원하는 이벤트 처리 함수에 대해 배워본다."
   ]
  },
  {
   "cell_type": "markdown",
   "id": "7a2ab93f",
   "metadata": {},
   "source": [
    "대표적인 이벤트 발생은 사용자가 마우스를 움직인다거나 키보드의 키를 누르는 것 등이 대표적이다. 윈도우 운영체제에서는 다양한 이벤트가 발생하며, 이러한 이벤트 처리를 통해 사용하기 편리한 대화형 프로그램을 만들 수 있다."
   ]
  },
  {
   "cell_type": "markdown",
   "id": "f10c935f",
   "metadata": {},
   "source": [
    "일반적으로 이벤트를 처리하기 위해 `콜백(callback) 함수`를 사용한다. 콜백 함수는 개발자가 시스템 함수를 직접 호출하는 방식이 아니라, 어떤 이벤트가 발생하거나 특정 시점에 도달했을 때 시스템이 개발자가 등록한 함수를 호출하는 것."
   ]
  },
  {
   "cell_type": "markdown",
   "id": "89447cea",
   "metadata": {},
   "source": [
    "OpenCV에서도 기본적인 이벤트 처리 함수들을 지원한다. 대표적으로 키보드 이벤트, 마우스 이벤트, 트랙바(trackbar) 이벤트를 처리하는 콜백 함수들이 있다."
   ]
  },
  {
   "cell_type": "markdown",
   "id": "ec727013",
   "metadata": {},
   "source": [
    "#### `-` cv2.waitKey([, delay)\n",
    "- delay $\\leq 0 $ : 키 이벤트 발생까지 무한대기\n",
    "- delay > $0$ : 지연 시간 동안 키 입력 대기, 지연 시간 안에 키 이벤트 없으면 -1 반환"
   ]
  },
  {
   "cell_type": "code",
   "execution_count": 4,
   "id": "3575228c",
   "metadata": {},
   "outputs": [
    {
     "name": "stdout",
     "output_type": "stream",
     "text": [
      "마우스 왼쪽 버튼 누르기\n",
      "마우스 왼쪽 버튼 떼기\n",
      "마우스 오른쪽 버튼 누르기\n",
      "마우스 오른쪽 버튼 떼기\n",
      "마우스 왼쪽 버튼 누르기\n",
      "마우스 왼쪽 버튼 떼기\n",
      "마우스 왼쪽 버튼 더블 클릭\n",
      "마우스 왼쪽 버튼 누르기\n",
      "마우스 왼쪽 버튼 떼기\n"
     ]
    }
   ],
   "source": [
    "# 마우스 이벤트 사용 \n",
    "import numpy as np\n",
    "import cv2\n",
    "\n",
    "def onMouse(event, x, y, flags, param):\n",
    "    if event == cv2.EVENT_LBUTTONDOWN:\n",
    "        print('마우스 왼쪽 버튼 누르기')\n",
    "    \n",
    "    elif event == cv2.EVENT_RBUTTONDOWN:\n",
    "        print('마우스 오른쪽 버튼 누르기')\n",
    "        \n",
    "    elif event == cv2.EVENT_LBUTTONUP:\n",
    "        print('마우스 왼쪽 버튼 떼기')\n",
    "        \n",
    "    elif event == cv2.EVENT_RBUTTONUP:\n",
    "        print('마우스 오른쪽 버튼 떼기')\n",
    "        \n",
    "    elif event == cv2.EVENT_LBUTTONDBLCLK:\n",
    "        print('마우스 왼쪽 버튼 더블 클릭')\n",
    "        \n",
    "image = np.full((200, 300), 255, np.uint8)  # 초기 영상 생성\n",
    "\n",
    "title1, title2 = \"Mouse Event1\", \"Mouse Event2\"   # 윈도우 이름\n",
    "cv2.imshow(title1, image)                         # 영상 보기\n",
    "cv2.imshow(title2, image)\n",
    "\n",
    "cv2.setMouseCallback(title1, onMouse)       # 마우스 콜백 함수\n",
    "cv2.waitKey(0)\n",
    "cv2.destroyAllWindows()"
   ]
  },
  {
   "cell_type": "code",
   "execution_count": null,
   "id": "e7753c4c",
   "metadata": {},
   "outputs": [],
   "source": []
  }
 ],
 "metadata": {
  "kernelspec": {
   "display_name": "Python 3 (ipykernel)",
   "language": "python",
   "name": "python3"
  },
  "language_info": {
   "codemirror_mode": {
    "name": "ipython",
    "version": 3
   },
   "file_extension": ".py",
   "mimetype": "text/x-python",
   "name": "python",
   "nbconvert_exporter": "python",
   "pygments_lexer": "ipython3",
   "version": "3.9.13"
  }
 },
 "nbformat": 4,
 "nbformat_minor": 5
}
