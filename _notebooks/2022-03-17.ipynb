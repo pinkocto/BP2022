{
 "cells": [
  {
   "cell_type": "markdown",
   "id": "9c2a0e26-b59f-46c1-ab1d-822970465bdc",
   "metadata": {},
   "source": [
    "# (2주차 ML) 3월 10일\n",
    "> 생선 분류 문제 (KNN)\n",
    "\n",
    "- toc: true\n",
    "- branch: master\n",
    "- badges: false\n",
    "- comments: true\n",
    "- author: dinonene\n",
    "- categories: [python]"
   ]
  },
  {
   "cell_type": "markdown",
   "id": "c69ed25f-4408-41f5-8e04-c0bebeac5fbd",
   "metadata": {},
   "source": [
    "## 생선 분류 문제"
   ]
  },
  {
   "cell_type": "markdown",
   "id": "1369b567-a524-4d54-9213-9a7830958e97",
   "metadata": {},
   "source": [
    "### 도미(bream) 데이터 준비하기"
   ]
  },
  {
   "cell_type": "code",
   "execution_count": 2,
   "id": "2ce489af-fe1b-4454-8467-e50dd5a3a221",
   "metadata": {},
   "outputs": [],
   "source": [
    "bream_length = [25.4, 26.3, 26.5, 29.0, 29.0, 29.7, 29.7, 30.0, 30.0, 30.7, 31.0, 31.0, 31.5, 32.0, 32.0, 32.0, 33.0, 33.0, 33.5, 33.5, 34.0, 34.0, 34.5, 35.0, 35.0, 35.0, 35.0, 36.0, 36.0, 37.0, 38.5, 38.5, 39.5, 41.0, 41.0]\n",
    "bream_weight = [242.0, 290.0, 340.0, 363.0, 430.0, 450.0, 500.0, 390.0, 450.0, 500.0, 475.0, 500.0, 500.0, 340.0, 600.0, 600.0, 700.0, 700.0, 610.0, 650.0, 575.0, 685.0, 620.0, 680.0, 700.0, 725.0, 720.0, 714.0, 850.0, 1000.0, 920.0, 955.0, 925.0, 975.0, 950.0]"
   ]
  },
  {
   "cell_type": "code",
   "execution_count": 3,
   "id": "273ea653-d654-4276-8013-3405b77cc683",
   "metadata": {},
   "outputs": [
    {
     "data": {
      "text/plain": [
       "Text(0, 0.5, 'weight')"
      ]
     },
     "execution_count": 3,
     "metadata": {},
     "output_type": "execute_result"
    },
    {
     "data": {
      "image/png": "[encoded data removed]",
      "text/plain": [
       "<Figure size 432x288 with 1 Axes>"
      ]
     },
     "metadata": {
      "needs_background": "light"
     },
     "output_type": "display_data"
    }
   ],
   "source": [
    "import matplotlib.pyplot as plt\n",
    "\n",
    "plt.scatter(bream_length, bream_weight)\n",
    "plt.xlabel('length') # 몸 길이\n",
    "plt.ylabel('weight') # 몸 무게"
   ]
  },
  {
   "cell_type": "markdown",
   "id": "24366dca-b5b5-4b26-8c0e-aeb52535599e",
   "metadata": {},
   "source": [
    "### 빙어(smelt) 데이터 준비하기"
   ]
  },
  {
   "cell_type": "code",
   "execution_count": 4,
   "id": "88001ec4-8762-4522-a6a6-c5eb945d1498",
   "metadata": {},
   "outputs": [],
   "source": [
    "smelt_length = [9.8, 10.5, 10.6, 11.0, 11.2, 11.3, 11.8, 11.8, 12.0, 12.2, 12.4, 13.0, 14.3, 15.0]\n",
    "smelt_weight = [6.7, 7.5, 7.0, 9.7, 9.8, 8.7, 10.0, 9.9, 9.8, 12.2, 13.4, 12.2, 19.7, 19.9]"
   ]
  },
  {
   "cell_type": "code",
   "execution_count": 5,
   "id": "58da61eb-acbf-46ff-bdfd-b7b31f696e02",
   "metadata": {},
   "outputs": [
    {
     "data": {
      "image/png": "[encoded data removed]",
      "text/plain": [
       "<Figure size 432x288 with 1 Axes>"
      ]
     },
     "metadata": {
      "needs_background": "light"
     },
     "output_type": "display_data"
    }
   ],
   "source": [
    "plt.scatter(bream_length, bream_weight, label='bream') ## 도미\n",
    "plt.scatter(smelt_length, smelt_weight, label='smelt') ## 빙어\n",
    "plt.xlabel('length')\n",
    "plt.ylabel('weight')\n",
    "plt.legend()\n",
    "plt.show()"
   ]
  },
  {
   "cell_type": "markdown",
   "id": "a8c66dc2-18de-4198-b104-645d12c1bf0a",
   "metadata": {},
   "source": [
    "- 빙어는 길이가 늘어나더라도 무게가 많이 늘지 않는다. \n",
    "    $\\Rightarrow$ 빙어의 산점도 역시 선형적이지만 무게가 길이에 영향을 덜 받는다."
   ]
  },
  {
   "cell_type": "markdown",
   "id": "2c1ea323-6e1b-4e65-a04e-3b6a2ce76855",
   "metadata": {},
   "source": [
    "### binary classification (도미, 빙어) 준비"
   ]
  },
  {
   "cell_type": "markdown",
   "id": "a30f30b1-2752-426e-b323-4e83b41616b4",
   "metadata": {},
   "source": [
    "- 다음으로 데이터만 보고 어떤 것이 도미이고 어떤 것이 빙어인지 스스로 구분하기 위해 프로그램을 만들어 보자!\n",
    "- ***KNN(K-Nearest Neighbors)*** 방법을 이용할 것."
   ]
  },
  {
   "cell_type": "markdown",
   "id": "68b309eb-e75c-404f-9e8d-21bd449e489a",
   "metadata": {},
   "source": [
    "`-`  우선 KNN 알고리즘을 써먹으려면 도미와 빙어 데이터를 하나의 데이터로 합쳐야 한다."
   ]
  },
  {
   "cell_type": "code",
   "execution_count": 6,
   "id": "6cede054-82ca-4a8e-ab3a-4dfc5e01f87f",
   "metadata": {},
   "outputs": [],
   "source": [
    "## 두 리스트 하나로 합치기\n",
    "length = bream_length + smelt_length\n",
    "weight = bream_weight + smelt_length"
   ]
  },
  {
   "cell_type": "markdown",
   "id": "55bacee0-bb0a-49c4-b213-f8ba3b041937",
   "metadata": {},
   "source": [
    "- `+` 연산자가 list 일 경우에는 합쳐지는 역할을 하고, 정수일 때는 우리가 일반적으로 알고있는 덧셈 연산을 한다."
   ]
  },
  {
   "cell_type": "code",
   "execution_count": 7,
   "id": "b41dc26c-18fe-408c-9c02-9e933449674e",
   "metadata": {},
   "outputs": [
    {
     "data": {
      "text/plain": [
       "(35, 14, 35, 14)"
      ]
     },
     "execution_count": 7,
     "metadata": {},
     "output_type": "execute_result"
    }
   ],
   "source": [
    "len(bream_length), len(smelt_length), len(bream_weight), len(smelt_length)"
   ]
  },
  {
   "cell_type": "code",
   "execution_count": 8,
   "id": "b4a169a0-3df5-4460-bb96-59400d202fef",
   "metadata": {},
   "outputs": [
    {
     "data": {
      "text/plain": [
       "(49, 49)"
      ]
     },
     "execution_count": 8,
     "metadata": {},
     "output_type": "execute_result"
    }
   ],
   "source": [
    "len(length), len(weight)"
   ]
  },
  {
   "cell_type": "markdown",
   "id": "a24dc358-ae94-42b3-ba76-cf6c7a138796",
   "metadata": {},
   "source": [
    "- 잘 합쳐진 것 같다."
   ]
  },
  {
   "cell_type": "markdown",
   "id": "f828de5f-5d53-4bab-8ebe-a1a2b912defb",
   "metadata": {},
   "source": [
    "`-`  2차원 리스트로 만들어 보자. (Scikit-learn을 사용하기위해)"
   ]
  },
  {
   "cell_type": "markdown",
   "id": "97a7145b-9728-4a9f-bd37-6b0842ca9741",
   "metadata": {},
   "source": [
    "```\n",
    "## 이런 식으로 2차원 리스트로 만들것!\n",
    "\n",
    "  길이   무게\n",
    "[[25.4, 242.0],\n",
    " [26.3, 290.0].\n",
    "   .      .\n",
    "   .      .\n",
    "   .      .\n",
    " [15.0, 19.9]]\n",
    "```"
   ]
  },
  {
   "cell_type": "code",
   "execution_count": 9,
   "id": "bf295d3e-57ee-4de1-8e67-c47022653192",
   "metadata": {},
   "outputs": [],
   "source": [
    "fish_data = [[l,w] for l, w in zip(length, weight)]"
   ]
  },
  {
   "cell_type": "markdown",
   "id": "9e0ddddc-6337-4595-bb58-9b38a7b2d286",
   "metadata": {},
   "source": [
    "`-` 정답 준비"
   ]
  },
  {
   "cell_type": "markdown",
   "id": "c07a8265-66f6-4f62-8ca3-bbfb14e9f854",
   "metadata": {},
   "source": [
    "- 도미(bream)를 1로 놓고, 빙어(smelt)를 0으로 놓자. (0과 1로 분류하는 이진분류)"
   ]
  },
  {
   "cell_type": "code",
   "execution_count": 10,
   "id": "f789c82a-92c6-4733-ab9e-1d1a064b705d",
   "metadata": {},
   "outputs": [],
   "source": [
    "fish_target = [1]*35 + [0]*14"
   ]
  },
  {
   "cell_type": "markdown",
   "id": "6bfef506-bc5d-4d66-af8a-4aa5d1e53a4f",
   "metadata": {},
   "source": [
    "### K-최근접 이웃"
   ]
  },
  {
   "cell_type": "code",
   "execution_count": 11,
   "id": "782ab3ce-22c6-4a43-af53-f5929502ec21",
   "metadata": {},
   "outputs": [],
   "source": [
    "from sklearn.neighbors import KNeighborsClassifier"
   ]
  },
  {
   "cell_type": "code",
   "execution_count": 12,
   "id": "a0e42117-fe1a-4293-bdfa-f86e553efee7",
   "metadata": {},
   "outputs": [],
   "source": [
    "kn = KNeighborsClassifier() # class의 instance(객체) 를 만든다."
   ]
  },
  {
   "cell_type": "code",
   "execution_count": 13,
   "id": "ac2bd17a-68b7-45d1-a057-db998b03aeda",
   "metadata": {},
   "outputs": [
    {
     "data": {
      "text/plain": [
       "KNeighborsClassifier()"
      ]
     },
     "execution_count": 13,
     "metadata": {},
     "output_type": "execute_result"
    }
   ],
   "source": [
    "## kn 객체의 fit 메서드에 전달 (훈련)\n",
    "kn.fit(fish_data, fish_target) ## kn을 모델이라 부름"
   ]
  },
  {
   "cell_type": "markdown",
   "id": "20d66c2a-5b79-4c04-aa26-eb7cb416bdec",
   "metadata": {},
   "source": [
    "- 머신러닝 프로그램의 알고리즘이 객체화 된것을 모델이라고 부른다.\n",
    "- 종종 그 알고리즘 자체를 모델이라고도 부름."
   ]
  },
  {
   "cell_type": "code",
   "execution_count": 14,
   "id": "35321561-9a01-4964-9dbe-83c7c8fb3b03",
   "metadata": {},
   "outputs": [
    {
     "data": {
      "text/plain": [
       "1.0"
      ]
     },
     "execution_count": 14,
     "metadata": {},
     "output_type": "execute_result"
    }
   ],
   "source": [
    "## 평가 (얼마나 잘 맞췄나?)\n",
    "kn.score(fish_data, fish_target)"
   ]
  },
  {
   "cell_type": "markdown",
   "id": "85206a65-94ab-44ff-9e04-f171967a4e4a",
   "metadata": {},
   "source": [
    "- 100% 다 맞췄다! (100% 정확도 달성!)"
   ]
  },
  {
   "cell_type": "markdown",
   "id": "0a0e4f6f-1aa7-4421-9b8e-d5a98198d479",
   "metadata": {},
   "source": [
    "### 새로운 생선 예측"
   ]
  },
  {
   "cell_type": "markdown",
   "id": "18d818fe-9fde-4a31-8b78-259ea9099042",
   "metadata": {},
   "source": [
    "- 그래프에 표시된 초록색 삼각형은 어떤 생선일까?"
   ]
  },
  {
   "cell_type": "code",
   "execution_count": 15,
   "id": "aa443cef-13fa-4a56-a3aa-b8c0c16292a7",
   "metadata": {},
   "outputs": [
    {
     "data": {
      "image/png": "[encoded data removed]",
      "text/plain": [
       "<Figure size 432x288 with 1 Axes>"
      ]
     },
     "metadata": {
      "needs_background": "light"
     },
     "output_type": "display_data"
    }
   ],
   "source": [
    "plt.scatter(bream_length, bream_weight, label='bream')\n",
    "plt.scatter(smelt_length, smelt_weight, label='smelt')\n",
    "plt.scatter(30, 600, marker='^')\n",
    "plt.xlabel('length')\n",
    "plt.ylabel('weight')\n",
    "plt.legend()\n",
    "plt.show()"
   ]
  },
  {
   "cell_type": "markdown",
   "id": "9e65633f-df82-49a2-a5e4-39ad47fe13f5",
   "metadata": {},
   "source": [
    "- 직관적으로 봤을때 도미(bream) 일 것 같다.\n",
    "- 실제로도 그런지 확인해보자."
   ]
  },
  {
   "cell_type": "code",
   "execution_count": 16,
   "id": "94efbb62-56e5-4c9b-9f27-007610a1990a",
   "metadata": {},
   "outputs": [
    {
     "data": {
      "text/plain": [
       "array([1])"
      ]
     },
     "execution_count": 16,
     "metadata": {},
     "output_type": "execute_result"
    }
   ],
   "source": [
    "kn.predict([[30, 600]]) ## predict method"
   ]
  },
  {
   "cell_type": "markdown",
   "id": "05975f0c-c6ec-4b73-833c-803a57bb62be",
   "metadata": {},
   "source": [
    "- predict method 안에 넣을 때도 2차원 배열 데이터를 넣어준다. (사이킷런이 기대하는 것)\n",
    "- `n_neighbors=5`가 default, 주위에 있는 이웃의 개수(K)만큼 주변 샘플의 class 중 가장 많은 클래스를 정답클래스로 삼는다."
   ]
  },
  {
   "cell_type": "code",
   "execution_count": 17,
   "id": "5ef4c944-05af-4757-a6b5-d7e4f3c4dffc",
   "metadata": {},
   "outputs": [
    {
     "name": "stdout",
     "output_type": "stream",
     "text": [
      "[[  25.4  242. ]\n",
      " [  26.3  290. ]\n",
      " [  26.5  340. ]\n",
      " [  29.   363. ]\n",
      " [  29.   430. ]\n",
      " [  29.7  450. ]\n",
      " [  29.7  500. ]\n",
      " [  30.   390. ]\n",
      " [  30.   450. ]\n",
      " [  30.7  500. ]\n",
      " [  31.   475. ]\n",
      " [  31.   500. ]\n",
      " [  31.5  500. ]\n",
      " [  32.   340. ]\n",
      " [  32.   600. ]\n",
      " [  32.   600. ]\n",
      " [  33.   700. ]\n",
      " [  33.   700. ]\n",
      " [  33.5  610. ]\n",
      " [  33.5  650. ]\n",
      " [  34.   575. ]\n",
      " [  34.   685. ]\n",
      " [  34.5  620. ]\n",
      " [  35.   680. ]\n",
      " [  35.   700. ]\n",
      " [  35.   725. ]\n",
      " [  35.   720. ]\n",
      " [  36.   714. ]\n",
      " [  36.   850. ]\n",
      " [  37.  1000. ]\n",
      " [  38.5  920. ]\n",
      " [  38.5  955. ]\n",
      " [  39.5  925. ]\n",
      " [  41.   975. ]\n",
      " [  41.   950. ]\n",
      " [   9.8    9.8]\n",
      " [  10.5   10.5]\n",
      " [  10.6   10.6]\n",
      " [  11.    11. ]\n",
      " [  11.2   11.2]\n",
      " [  11.3   11.3]\n",
      " [  11.8   11.8]\n",
      " [  11.8   11.8]\n",
      " [  12.    12. ]\n",
      " [  12.2   12.2]\n",
      " [  12.4   12.4]\n",
      " [  13.    13. ]\n",
      " [  14.3   14.3]\n",
      " [  15.    15. ]]\n"
     ]
    }
   ],
   "source": [
    "print(kn._fit_X)"
   ]
  },
  {
   "cell_type": "code",
   "execution_count": 18,
   "id": "4d80e6f2",
   "metadata": {},
   "outputs": [
    {
     "name": "stdout",
     "output_type": "stream",
     "text": [
      "[1 1 1 1 1 1 1 1 1 1 1 1 1 1 1 1 1 1 1 1 1 1 1 1 1 1 1 1 1 1 1 1 1 1 1 0 0\n",
      " 0 0 0 0 0 0 0 0 0 0 0 0]\n"
     ]
    }
   ],
   "source": [
    "print(kn._y)"
   ]
  },
  {
   "cell_type": "markdown",
   "id": "2f19c11e-73ee-4059-9bbd-ac355d633d59",
   "metadata": {},
   "source": [
    "### 무조건 도미"
   ]
  },
  {
   "cell_type": "markdown",
   "id": "1d39d57f-e375-45ec-acf7-6b5f64789e7c",
   "metadata": {},
   "source": [
    "Fish 데이터의 총 개수는 49개이다. 이번에는 n_neighbors = 49로 지정 해보자."
   ]
  },
  {
   "cell_type": "code",
   "execution_count": 19,
   "id": "54709fdc-fba3-4c84-9811-e486da14f868",
   "metadata": {},
   "outputs": [],
   "source": [
    "kn49 = KNeighborsClassifier(n_neighbors=49)"
   ]
  },
  {
   "cell_type": "code",
   "execution_count": 20,
   "id": "ff712dd8-d847-44e0-9160-f0bd337e9def",
   "metadata": {},
   "outputs": [
    {
     "data": {
      "text/plain": [
       "KNeighborsClassifier(n_neighbors=49)"
      ]
     },
     "execution_count": 20,
     "metadata": {},
     "output_type": "execute_result"
    }
   ],
   "source": [
    "kn49.fit(fish_data, fish_target)"
   ]
  },
  {
   "cell_type": "code",
   "execution_count": 21,
   "id": "a70d3263-ede9-4664-beaf-7334f5636fca",
   "metadata": {},
   "outputs": [
    {
     "data": {
      "text/plain": [
       "0.7142857142857143"
      ]
     },
     "execution_count": 21,
     "metadata": {},
     "output_type": "execute_result"
    }
   ],
   "source": [
    "kn49.score(fish_data, fish_target) ## 점수"
   ]
  },
  {
   "cell_type": "markdown",
   "id": "a2bef5d1-1d17-4235-aa84-2ff91db8713d",
   "metadata": {},
   "source": [
    "- score method : 훈련한 모델을 가지고 어떤 데이터를 집어 넣어서 얼마만큼 잘 맞는지를 확인해 보는 것이다.\n",
    "- 분류문제일 경우에는 정확도를 출력 (모델이 어느정도 정확한지를 알아보는 메서드.)"
   ]
  },
  {
   "cell_type": "code",
   "execution_count": 22,
   "id": "350bc461-ac44-401c-9e1f-193406d61b53",
   "metadata": {},
   "outputs": [
    {
     "name": "stdout",
     "output_type": "stream",
     "text": [
      "0.7142857142857143\n"
     ]
    }
   ],
   "source": [
    "print(35/49)"
   ]
  },
  {
   "cell_type": "markdown",
   "id": "cf544bdb-c676-428f-8b2f-348e5750b5a8",
   "metadata": {},
   "source": [
    "- 이렇게 모델을 만들면 전체 샘플의 다수는 도미 $\\to$ 무조건 다 도미\n",
    "- `n_neighbors` 매개변수로 주위의 샘플개수를 바꿔볼 수도 있다. 바꾸면 알고리즘의 정확도가 높을수록, 낮을수도 있다."
   ]
  },
  {
   "cell_type": "markdown",
   "id": "9009364e-1cdb-4161-9a4e-df0ceaeb0725",
   "metadata": {},
   "source": [
    "### 확인 문제"
   ]
  },
  {
   "cell_type": "code",
   "execution_count": 23,
   "id": "497ece9d-4b61-4387-bafb-c384fa8a481d",
   "metadata": {},
   "outputs": [
    {
     "name": "stdout",
     "output_type": "stream",
     "text": [
      "18 0.9795918367346939\n"
     ]
    }
   ],
   "source": [
    "kn = KNeighborsClassifier()\n",
    "kn.fit(fish_data, fish_target)\n",
    "\n",
    "for n in range(5, 50):\n",
    "    # 최근접 이웃 개수 설정\n",
    "    kn.n_neighbors = n\n",
    "    #접수 계산\n",
    "    score = kn.score(fish_data, fish_target)\n",
    "    # 100% 정확도에 미치지 못하는 이웃 개수 출력\n",
    "    if score < 1:\n",
    "        print(n, score)\n",
    "        break"
   ]
  }
 ],
 "metadata": {
  "kernelspec": {
   "display_name": "Python 3 (ipykernel)",
   "language": "python",
   "name": "python3"
  },
  "language_info": {
   "codemirror_mode": {
    "name": "ipython",
    "version": 3
   },
   "file_extension": ".py",
   "mimetype": "text/x-python",
   "name": "python",
   "nbconvert_exporter": "python",
   "pygments_lexer": "ipython3",
   "version": "3.8.11"
  }
 },
 "nbformat": 4,
 "nbformat_minor": 5
}
