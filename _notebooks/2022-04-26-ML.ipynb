{
 "cells": [
  {
   "cell_type": "markdown",
   "id": "addf14bc-f28d-447a-bdf0-ae86a91b4ca8",
   "metadata": {},
   "source": [
    "# 암 예측\n",
    "> Logistic Regression\n",
    "- toc: true\n",
    "- branch: master\n",
    "- badges: false\n",
    "- comments: true\n",
    "- author: dinonene\n",
    "- categories: [python]"
   ]
  },
  {
   "cell_type": "code",
   "execution_count": 31,
   "id": "12504fcb-9c9f-4b3c-9f4c-6c07ee70203f",
   "metadata": {},
   "outputs": [],
   "source": [
    "import pandas as pd\n",
    "import numpy as np\n",
    "import matplotlib.pyplot as plt\n",
    "import seaborn as sns"
   ]
  },
  {
   "cell_type": "code",
   "execution_count": 64,
   "id": "8dac1a5f-e151-41ef-954e-7da1a010aef7",
   "metadata": {},
   "outputs": [],
   "source": [
    "import matplotlib.pyplot as plt  ## 파이썬 내에서 그래프 출력시 디테일한 옵션\n",
    "import matplotlib as mpl ## 한글폰트 설정, 글씨체 흐릿한 것을 선명하게 (전체적인 큰 틀의 옵션)"
   ]
  },
  {
   "cell_type": "code",
   "execution_count": 65,
   "id": "e7dfe742-3c32-4d22-912c-b4fb7e52a6b7",
   "metadata": {},
   "outputs": [],
   "source": [
    "mpl.rc('font', family='Malgun Gothic') ## 맑은 고딕 "
   ]
  },
  {
   "cell_type": "markdown",
   "id": "4473794e-9b8c-4b90-9839-4b05e319b57c",
   "metadata": {},
   "source": [
    "## 1. Data"
   ]
  },
  {
   "cell_type": "markdown",
   "id": "d773fdf1-af9f-4963-8b0f-783d37b9d847",
   "metadata": {},
   "source": [
    "위스콘신 유방암 데이터(Wisconsin Breast Cancer data)를 분석해보자.\n",
    "\n",
    "\n",
    "분석의 목적은 30개의 설명변수를 사용해 진단값이 악성인지 양성인지 예측하는 것이다."
   ]
  },
  {
   "cell_type": "markdown",
   "id": "2b37efaf-d868-4413-a6f0-a99e6aec3bb9",
   "metadata": {},
   "source": [
    "### 1.1 Data Load"
   ]
  },
  {
   "cell_type": "code",
   "execution_count": 3,
   "id": "7b1a2a0b-e394-4f9f-93f1-ded5d03118c9",
   "metadata": {},
   "outputs": [],
   "source": [
    "from sklearn.datasets import load_breast_cancer"
   ]
  },
  {
   "cell_type": "code",
   "execution_count": 4,
   "id": "6d91572e-ddbb-4097-8c62-31d8221deda7",
   "metadata": {},
   "outputs": [],
   "source": [
    "cancer = load_breast_cancer()"
   ]
  },
  {
   "cell_type": "code",
   "execution_count": 5,
   "id": "d2b64b36-669a-43c4-a94f-9639a127763f",
   "metadata": {},
   "outputs": [
    {
     "data": {
      "text/plain": [
       "array(['mean radius', 'mean texture', 'mean perimeter', 'mean area',\n",
       "       'mean smoothness', 'mean compactness', 'mean concavity',\n",
       "       'mean concave points', 'mean symmetry', 'mean fractal dimension',\n",
       "       'radius error', 'texture error', 'perimeter error', 'area error',\n",
       "       'smoothness error', 'compactness error', 'concavity error',\n",
       "       'concave points error', 'symmetry error',\n",
       "       'fractal dimension error', 'worst radius', 'worst texture',\n",
       "       'worst perimeter', 'worst area', 'worst smoothness',\n",
       "       'worst compactness', 'worst concavity', 'worst concave points',\n",
       "       'worst symmetry', 'worst fractal dimension'], dtype='<U23')"
      ]
     },
     "execution_count": 5,
     "metadata": {},
     "output_type": "execute_result"
    }
   ],
   "source": [
    "cancer[\"feature_names\"]"
   ]
  },
  {
   "cell_type": "markdown",
   "id": "3ca7d83c-e29b-46ff-9aca-24ac5473d380",
   "metadata": {},
   "source": [
    "|Variable name|Description|\n",
    "|-------------|-----------|\n",
    "|radius|반지름|\n",
    "|texture|그레이스케일 값의 표준편차|\n",
    "|perimeter|둘레|\n",
    "|area|면적|\n",
    "|smoothness|반지름의 국소적 변화정도(local variation)|\n",
    "|compactness|$\\frac{\\text{perimeter}^2}{area}-1.0$|\n",
    "|concavity|오목한 정도(severity of concave portions of the contour)|\n",
    "|concave_points|오목한 점들의 개수(number of concave portions of contour)|\n",
    "|symmetry|대칭도|\n",
    "|fractal dimension|프랙탈 차원($\\text{\"coastline approximation\"} - 1$)|"
   ]
  },
  {
   "cell_type": "code",
   "execution_count": 7,
   "id": "0ae3af3b-a212-4dd7-839e-e26693899979",
   "metadata": {},
   "outputs": [
    {
     "data": {
      "text/plain": [
       "array(['malignant', 'benign'], dtype='<U9')"
      ]
     },
     "execution_count": 7,
     "metadata": {},
     "output_type": "execute_result"
    }
   ],
   "source": [
    "cancer[\"target_names\"]"
   ]
  },
  {
   "cell_type": "markdown",
   "id": "a66699b2-ca5d-40c3-98e0-b1245ccbfb2d",
   "metadata": {},
   "source": [
    "- malignant : 악성 ($0$)\n",
    "- benign : 양성 ($1$)"
   ]
  },
  {
   "cell_type": "markdown",
   "id": "85096f28-bd1f-407f-b336-5f7b728e1065",
   "metadata": {},
   "source": [
    "`-` 데이터와 정답을 확인해보자."
   ]
  },
  {
   "cell_type": "code",
   "execution_count": 9,
   "id": "6802dd95-1fa8-45fd-9690-56c8086eda8d",
   "metadata": {},
   "outputs": [],
   "source": [
    "data, target = cancer[\"data\"], cancer[\"target\"]"
   ]
  },
  {
   "cell_type": "code",
   "execution_count": 10,
   "id": "7911f7b9-d8e8-4b1b-a62a-e6525ee12376",
   "metadata": {},
   "outputs": [
    {
     "data": {
      "text/plain": [
       "array([[1.799e+01, 1.038e+01, 1.228e+02, ..., 2.654e-01, 4.601e-01,\n",
       "        1.189e-01],\n",
       "       [2.057e+01, 1.777e+01, 1.329e+02, ..., 1.860e-01, 2.750e-01,\n",
       "        8.902e-02],\n",
       "       [1.969e+01, 2.125e+01, 1.300e+02, ..., 2.430e-01, 3.613e-01,\n",
       "        8.758e-02],\n",
       "       ...,\n",
       "       [1.660e+01, 2.808e+01, 1.083e+02, ..., 1.418e-01, 2.218e-01,\n",
       "        7.820e-02],\n",
       "       [2.060e+01, 2.933e+01, 1.401e+02, ..., 2.650e-01, 4.087e-01,\n",
       "        1.240e-01],\n",
       "       [7.760e+00, 2.454e+01, 4.792e+01, ..., 0.000e+00, 2.871e-01,\n",
       "        7.039e-02]])"
      ]
     },
     "execution_count": 10,
     "metadata": {},
     "output_type": "execute_result"
    }
   ],
   "source": [
    "data"
   ]
  },
  {
   "cell_type": "code",
   "execution_count": 11,
   "id": "cc23d7bb-e199-4f95-85b5-8741d7606ace",
   "metadata": {},
   "outputs": [
    {
     "data": {
      "text/plain": [
       "array([0, 0, 0, 0, 0, 0, 0, 0, 0, 0, 0, 0, 0, 0, 0, 0, 0, 0, 0, 1, 1, 1,\n",
       "       0, 0, 0, 0, 0, 0, 0, 0, 0, 0, 0, 0, 0, 0, 0, 1, 0, 0, 0, 0, 0, 0,\n",
       "       0, 0, 1, 0, 1, 1, 1, 1, 1, 0, 0, 1, 0, 0, 1, 1, 1, 1, 0, 1, 0, 0,\n",
       "       1, 1, 1, 1, 0, 1, 0, 0, 1, 0, 1, 0, 0, 1, 1, 1, 0, 0, 1, 0, 0, 0,\n",
       "       1, 1, 1, 0, 1, 1, 0, 0, 1, 1, 1, 0, 0, 1, 1, 1, 1, 0, 1, 1, 0, 1,\n",
       "       1, 1, 1, 1, 1, 1, 1, 0, 0, 0, 1, 0, 0, 1, 1, 1, 0, 0, 1, 0, 1, 0,\n",
       "       0, 1, 0, 0, 1, 1, 0, 1, 1, 0, 1, 1, 1, 1, 0, 1, 1, 1, 1, 1, 1, 1,\n",
       "       1, 1, 0, 1, 1, 1, 1, 0, 0, 1, 0, 1, 1, 0, 0, 1, 1, 0, 0, 1, 1, 1,\n",
       "       1, 0, 1, 1, 0, 0, 0, 1, 0, 1, 0, 1, 1, 1, 0, 1, 1, 0, 0, 1, 0, 0,\n",
       "       0, 0, 1, 0, 0, 0, 1, 0, 1, 0, 1, 1, 0, 1, 0, 0, 0, 0, 1, 1, 0, 0,\n",
       "       1, 1, 1, 0, 1, 1, 1, 1, 1, 0, 0, 1, 1, 0, 1, 1, 0, 0, 1, 0, 1, 1,\n",
       "       1, 1, 0, 1, 1, 1, 1, 1, 0, 1, 0, 0, 0, 0, 0, 0, 0, 0, 0, 0, 0, 0,\n",
       "       0, 0, 1, 1, 1, 1, 1, 1, 0, 1, 0, 1, 1, 0, 1, 1, 0, 1, 0, 0, 1, 1,\n",
       "       1, 1, 1, 1, 1, 1, 1, 1, 1, 1, 1, 0, 1, 1, 0, 1, 0, 1, 1, 1, 1, 1,\n",
       "       1, 1, 1, 1, 1, 1, 1, 1, 1, 0, 1, 1, 1, 0, 1, 0, 1, 1, 1, 1, 0, 0,\n",
       "       0, 1, 1, 1, 1, 0, 1, 0, 1, 0, 1, 1, 1, 0, 1, 1, 1, 1, 1, 1, 1, 0,\n",
       "       0, 0, 1, 1, 1, 1, 1, 1, 1, 1, 1, 1, 1, 0, 0, 1, 0, 0, 0, 1, 0, 0,\n",
       "       1, 1, 1, 1, 1, 0, 1, 1, 1, 1, 1, 0, 1, 1, 1, 0, 1, 1, 0, 0, 1, 1,\n",
       "       1, 1, 1, 1, 0, 1, 1, 1, 1, 1, 1, 1, 0, 1, 1, 1, 1, 1, 0, 1, 1, 0,\n",
       "       1, 1, 1, 1, 1, 1, 1, 1, 1, 1, 1, 1, 0, 1, 0, 0, 1, 0, 1, 1, 1, 1,\n",
       "       1, 0, 1, 1, 0, 1, 0, 1, 1, 0, 1, 0, 1, 1, 1, 1, 1, 1, 1, 1, 0, 0,\n",
       "       1, 1, 1, 1, 1, 1, 0, 1, 1, 1, 1, 1, 1, 1, 1, 1, 1, 0, 1, 1, 1, 1,\n",
       "       1, 1, 1, 0, 1, 0, 1, 1, 0, 1, 1, 1, 1, 1, 0, 0, 1, 0, 1, 0, 1, 1,\n",
       "       1, 1, 1, 0, 1, 1, 0, 1, 0, 1, 0, 0, 1, 1, 1, 0, 1, 1, 1, 1, 1, 1,\n",
       "       1, 1, 1, 1, 1, 0, 1, 0, 0, 1, 1, 1, 1, 1, 1, 1, 1, 1, 1, 1, 1, 1,\n",
       "       1, 1, 1, 1, 1, 1, 1, 1, 1, 1, 1, 1, 0, 0, 0, 0, 0, 0, 1])"
      ]
     },
     "execution_count": 11,
     "metadata": {},
     "output_type": "execute_result"
    }
   ],
   "source": [
    "target"
   ]
  },
  {
   "cell_type": "markdown",
   "id": "6414cb35-60e0-4467-9e29-83919e0f09f1",
   "metadata": {},
   "source": [
    "### 1.2 EDA"
   ]
  },
  {
   "cell_type": "code",
   "execution_count": 12,
   "id": "f5d94570-8998-47aa-8cc2-0e92741eff1f",
   "metadata": {},
   "outputs": [
    {
     "data": {
      "text/html": [
       "<div>\n",
       "<style scoped>\n",
       "    .dataframe tbody tr th:only-of-type {\n",
       "        vertical-align: middle;\n",
       "    }\n",
       "\n",
       "    .dataframe tbody tr th {\n",
       "        vertical-align: top;\n",
       "    }\n",
       "\n",
       "    .dataframe thead th {\n",
       "        text-align: right;\n",
       "    }\n",
       "</style>\n",
       "<table border=\"1\" class=\"dataframe\">\n",
       "  <thead>\n",
       "    <tr style=\"text-align: right;\">\n",
       "      <th></th>\n",
       "      <th>mean radius</th>\n",
       "      <th>mean texture</th>\n",
       "      <th>mean perimeter</th>\n",
       "      <th>mean area</th>\n",
       "      <th>mean smoothness</th>\n",
       "      <th>mean compactness</th>\n",
       "      <th>mean concavity</th>\n",
       "      <th>mean concave points</th>\n",
       "      <th>mean symmetry</th>\n",
       "      <th>mean fractal dimension</th>\n",
       "      <th>...</th>\n",
       "      <th>worst radius</th>\n",
       "      <th>worst texture</th>\n",
       "      <th>worst perimeter</th>\n",
       "      <th>worst area</th>\n",
       "      <th>worst smoothness</th>\n",
       "      <th>worst compactness</th>\n",
       "      <th>worst concavity</th>\n",
       "      <th>worst concave points</th>\n",
       "      <th>worst symmetry</th>\n",
       "      <th>worst fractal dimension</th>\n",
       "    </tr>\n",
       "  </thead>\n",
       "  <tbody>\n",
       "    <tr>\n",
       "      <th>count</th>\n",
       "      <td>569.000000</td>\n",
       "      <td>569.000000</td>\n",
       "      <td>569.000000</td>\n",
       "      <td>569.000000</td>\n",
       "      <td>569.000000</td>\n",
       "      <td>569.000000</td>\n",
       "      <td>569.000000</td>\n",
       "      <td>569.000000</td>\n",
       "      <td>569.000000</td>\n",
       "      <td>569.000000</td>\n",
       "      <td>...</td>\n",
       "      <td>569.000000</td>\n",
       "      <td>569.000000</td>\n",
       "      <td>569.000000</td>\n",
       "      <td>569.000000</td>\n",
       "      <td>569.000000</td>\n",
       "      <td>569.000000</td>\n",
       "      <td>569.000000</td>\n",
       "      <td>569.000000</td>\n",
       "      <td>569.000000</td>\n",
       "      <td>569.000000</td>\n",
       "    </tr>\n",
       "    <tr>\n",
       "      <th>mean</th>\n",
       "      <td>14.127292</td>\n",
       "      <td>19.289649</td>\n",
       "      <td>91.969033</td>\n",
       "      <td>654.889104</td>\n",
       "      <td>0.096360</td>\n",
       "      <td>0.104341</td>\n",
       "      <td>0.088799</td>\n",
       "      <td>0.048919</td>\n",
       "      <td>0.181162</td>\n",
       "      <td>0.062798</td>\n",
       "      <td>...</td>\n",
       "      <td>16.269190</td>\n",
       "      <td>25.677223</td>\n",
       "      <td>107.261213</td>\n",
       "      <td>880.583128</td>\n",
       "      <td>0.132369</td>\n",
       "      <td>0.254265</td>\n",
       "      <td>0.272188</td>\n",
       "      <td>0.114606</td>\n",
       "      <td>0.290076</td>\n",
       "      <td>0.083946</td>\n",
       "    </tr>\n",
       "    <tr>\n",
       "      <th>std</th>\n",
       "      <td>3.524049</td>\n",
       "      <td>4.301036</td>\n",
       "      <td>24.298981</td>\n",
       "      <td>351.914129</td>\n",
       "      <td>0.014064</td>\n",
       "      <td>0.052813</td>\n",
       "      <td>0.079720</td>\n",
       "      <td>0.038803</td>\n",
       "      <td>0.027414</td>\n",
       "      <td>0.007060</td>\n",
       "      <td>...</td>\n",
       "      <td>4.833242</td>\n",
       "      <td>6.146258</td>\n",
       "      <td>33.602542</td>\n",
       "      <td>569.356993</td>\n",
       "      <td>0.022832</td>\n",
       "      <td>0.157336</td>\n",
       "      <td>0.208624</td>\n",
       "      <td>0.065732</td>\n",
       "      <td>0.061867</td>\n",
       "      <td>0.018061</td>\n",
       "    </tr>\n",
       "    <tr>\n",
       "      <th>min</th>\n",
       "      <td>6.981000</td>\n",
       "      <td>9.710000</td>\n",
       "      <td>43.790000</td>\n",
       "      <td>143.500000</td>\n",
       "      <td>0.052630</td>\n",
       "      <td>0.019380</td>\n",
       "      <td>0.000000</td>\n",
       "      <td>0.000000</td>\n",
       "      <td>0.106000</td>\n",
       "      <td>0.049960</td>\n",
       "      <td>...</td>\n",
       "      <td>7.930000</td>\n",
       "      <td>12.020000</td>\n",
       "      <td>50.410000</td>\n",
       "      <td>185.200000</td>\n",
       "      <td>0.071170</td>\n",
       "      <td>0.027290</td>\n",
       "      <td>0.000000</td>\n",
       "      <td>0.000000</td>\n",
       "      <td>0.156500</td>\n",
       "      <td>0.055040</td>\n",
       "    </tr>\n",
       "    <tr>\n",
       "      <th>25%</th>\n",
       "      <td>11.700000</td>\n",
       "      <td>16.170000</td>\n",
       "      <td>75.170000</td>\n",
       "      <td>420.300000</td>\n",
       "      <td>0.086370</td>\n",
       "      <td>0.064920</td>\n",
       "      <td>0.029560</td>\n",
       "      <td>0.020310</td>\n",
       "      <td>0.161900</td>\n",
       "      <td>0.057700</td>\n",
       "      <td>...</td>\n",
       "      <td>13.010000</td>\n",
       "      <td>21.080000</td>\n",
       "      <td>84.110000</td>\n",
       "      <td>515.300000</td>\n",
       "      <td>0.116600</td>\n",
       "      <td>0.147200</td>\n",
       "      <td>0.114500</td>\n",
       "      <td>0.064930</td>\n",
       "      <td>0.250400</td>\n",
       "      <td>0.071460</td>\n",
       "    </tr>\n",
       "    <tr>\n",
       "      <th>50%</th>\n",
       "      <td>13.370000</td>\n",
       "      <td>18.840000</td>\n",
       "      <td>86.240000</td>\n",
       "      <td>551.100000</td>\n",
       "      <td>0.095870</td>\n",
       "      <td>0.092630</td>\n",
       "      <td>0.061540</td>\n",
       "      <td>0.033500</td>\n",
       "      <td>0.179200</td>\n",
       "      <td>0.061540</td>\n",
       "      <td>...</td>\n",
       "      <td>14.970000</td>\n",
       "      <td>25.410000</td>\n",
       "      <td>97.660000</td>\n",
       "      <td>686.500000</td>\n",
       "      <td>0.131300</td>\n",
       "      <td>0.211900</td>\n",
       "      <td>0.226700</td>\n",
       "      <td>0.099930</td>\n",
       "      <td>0.282200</td>\n",
       "      <td>0.080040</td>\n",
       "    </tr>\n",
       "    <tr>\n",
       "      <th>75%</th>\n",
       "      <td>15.780000</td>\n",
       "      <td>21.800000</td>\n",
       "      <td>104.100000</td>\n",
       "      <td>782.700000</td>\n",
       "      <td>0.105300</td>\n",
       "      <td>0.130400</td>\n",
       "      <td>0.130700</td>\n",
       "      <td>0.074000</td>\n",
       "      <td>0.195700</td>\n",
       "      <td>0.066120</td>\n",
       "      <td>...</td>\n",
       "      <td>18.790000</td>\n",
       "      <td>29.720000</td>\n",
       "      <td>125.400000</td>\n",
       "      <td>1084.000000</td>\n",
       "      <td>0.146000</td>\n",
       "      <td>0.339100</td>\n",
       "      <td>0.382900</td>\n",
       "      <td>0.161400</td>\n",
       "      <td>0.317900</td>\n",
       "      <td>0.092080</td>\n",
       "    </tr>\n",
       "    <tr>\n",
       "      <th>max</th>\n",
       "      <td>28.110000</td>\n",
       "      <td>39.280000</td>\n",
       "      <td>188.500000</td>\n",
       "      <td>2501.000000</td>\n",
       "      <td>0.163400</td>\n",
       "      <td>0.345400</td>\n",
       "      <td>0.426800</td>\n",
       "      <td>0.201200</td>\n",
       "      <td>0.304000</td>\n",
       "      <td>0.097440</td>\n",
       "      <td>...</td>\n",
       "      <td>36.040000</td>\n",
       "      <td>49.540000</td>\n",
       "      <td>251.200000</td>\n",
       "      <td>4254.000000</td>\n",
       "      <td>0.222600</td>\n",
       "      <td>1.058000</td>\n",
       "      <td>1.252000</td>\n",
       "      <td>0.291000</td>\n",
       "      <td>0.663800</td>\n",
       "      <td>0.207500</td>\n",
       "    </tr>\n",
       "  </tbody>\n",
       "</table>\n",
       "<p>8 rows × 30 columns</p>\n",
       "</div>"
      ],
      "text/plain": [
       "       mean radius  mean texture  mean perimeter    mean area  \\\n",
       "count   569.000000    569.000000      569.000000   569.000000   \n",
       "mean     14.127292     19.289649       91.969033   654.889104   \n",
       "std       3.524049      4.301036       24.298981   351.914129   \n",
       "min       6.981000      9.710000       43.790000   143.500000   \n",
       "25%      11.700000     16.170000       75.170000   420.300000   \n",
       "50%      13.370000     18.840000       86.240000   551.100000   \n",
       "75%      15.780000     21.800000      104.100000   782.700000   \n",
       "max      28.110000     39.280000      188.500000  2501.000000   \n",
       "\n",
       "       mean smoothness  mean compactness  mean concavity  mean concave points  \\\n",
       "count       569.000000        569.000000      569.000000           569.000000   \n",
       "mean          0.096360          0.104341        0.088799             0.048919   \n",
       "std           0.014064          0.052813        0.079720             0.038803   \n",
       "min           0.052630          0.019380        0.000000             0.000000   \n",
       "25%           0.086370          0.064920        0.029560             0.020310   \n",
       "50%           0.095870          0.092630        0.061540             0.033500   \n",
       "75%           0.105300          0.130400        0.130700             0.074000   \n",
       "max           0.163400          0.345400        0.426800             0.201200   \n",
       "\n",
       "       mean symmetry  mean fractal dimension  ...  worst radius  \\\n",
       "count     569.000000              569.000000  ...    569.000000   \n",
       "mean        0.181162                0.062798  ...     16.269190   \n",
       "std         0.027414                0.007060  ...      4.833242   \n",
       "min         0.106000                0.049960  ...      7.930000   \n",
       "25%         0.161900                0.057700  ...     13.010000   \n",
       "50%         0.179200                0.061540  ...     14.970000   \n",
       "75%         0.195700                0.066120  ...     18.790000   \n",
       "max         0.304000                0.097440  ...     36.040000   \n",
       "\n",
       "       worst texture  worst perimeter   worst area  worst smoothness  \\\n",
       "count     569.000000       569.000000   569.000000        569.000000   \n",
       "mean       25.677223       107.261213   880.583128          0.132369   \n",
       "std         6.146258        33.602542   569.356993          0.022832   \n",
       "min        12.020000        50.410000   185.200000          0.071170   \n",
       "25%        21.080000        84.110000   515.300000          0.116600   \n",
       "50%        25.410000        97.660000   686.500000          0.131300   \n",
       "75%        29.720000       125.400000  1084.000000          0.146000   \n",
       "max        49.540000       251.200000  4254.000000          0.222600   \n",
       "\n",
       "       worst compactness  worst concavity  worst concave points  \\\n",
       "count         569.000000       569.000000            569.000000   \n",
       "mean            0.254265         0.272188              0.114606   \n",
       "std             0.157336         0.208624              0.065732   \n",
       "min             0.027290         0.000000              0.000000   \n",
       "25%             0.147200         0.114500              0.064930   \n",
       "50%             0.211900         0.226700              0.099930   \n",
       "75%             0.339100         0.382900              0.161400   \n",
       "max             1.058000         1.252000              0.291000   \n",
       "\n",
       "       worst symmetry  worst fractal dimension  \n",
       "count      569.000000               569.000000  \n",
       "mean         0.290076                 0.083946  \n",
       "std          0.061867                 0.018061  \n",
       "min          0.156500                 0.055040  \n",
       "25%          0.250400                 0.071460  \n",
       "50%          0.282200                 0.080040  \n",
       "75%          0.317900                 0.092080  \n",
       "max          0.663800                 0.207500  \n",
       "\n",
       "[8 rows x 30 columns]"
      ]
     },
     "execution_count": 12,
     "metadata": {},
     "output_type": "execute_result"
    }
   ],
   "source": [
    "df = pd.DataFrame(data, columns=cancer[\"feature_names\"])\n",
    "df.describe()"
   ]
  },
  {
   "cell_type": "code",
   "execution_count": 103,
   "id": "61810e4c-f211-494d-86b9-5cea2547bc4a",
   "metadata": {},
   "outputs": [
    {
     "data": {
      "text/plain": [
       "array(['mean radius', 'mean texture', 'mean perimeter', 'mean area',\n",
       "       'mean smoothness', 'mean compactness', 'mean concavity',\n",
       "       'mean concave points', 'mean symmetry', 'mean fractal dimension',\n",
       "       'radius error', 'texture error', 'perimeter error', 'area error',\n",
       "       'smoothness error', 'compactness error', 'concavity error',\n",
       "       'concave points error', 'symmetry error',\n",
       "       'fractal dimension error', 'worst radius', 'worst texture',\n",
       "       'worst perimeter', 'worst area', 'worst smoothness',\n",
       "       'worst compactness', 'worst concavity', 'worst concave points',\n",
       "       'worst symmetry', 'worst fractal dimension'], dtype='<U23')"
      ]
     },
     "execution_count": 103,
     "metadata": {},
     "output_type": "execute_result"
    }
   ],
   "source": [
    "cancer[\"feature_names\"]"
   ]
  },
  {
   "cell_type": "markdown",
   "id": "59ecab22-c614-49c4-93b3-dd13cff1e160",
   "metadata": {},
   "source": [
    "양성과 악성의 비율은 다음과 같다."
   ]
  },
  {
   "cell_type": "code",
   "execution_count": 14,
   "id": "95f28a95-a9fa-4d93-80df-300043c5e852",
   "metadata": {},
   "outputs": [
    {
     "data": {
      "text/plain": [
       "1    357\n",
       "0    212\n",
       "dtype: int64"
      ]
     },
     "execution_count": 14,
     "metadata": {},
     "output_type": "execute_result"
    }
   ],
   "source": [
    "pd.Series(cancer[\"target\"]).value_counts()"
   ]
  },
  {
   "cell_type": "markdown",
   "id": "b5f054a6-711b-4635-bff9-2b4a1f8563ea",
   "metadata": {},
   "source": [
    "종양진단 결과를 나타내는 class 변수의 도수분포로부터 357 명의 관측치가 양성(benign, class=0)에 해당하고, 이보다 적은 212명의 관측치가 악성(malign, class=1)에 해당함을 알 수 있다."
   ]
  },
  {
   "cell_type": "code",
   "execution_count": 91,
   "id": "8c288ef2-680a-4f7d-95fe-3ec16f85191a",
   "metadata": {},
   "outputs": [
    {
     "data": {
      "image/png": "[encoded data removed]",
      "text/plain": [
       "<Figure size 432x288 with 1 Axes>"
      ]
     },
     "metadata": {
      "needs_background": "light"
     },
     "output_type": "display_data"
    }
   ],
   "source": [
    "sns.countplot(x=target)\n",
    "plt.title(\"종양진단 class별 도수분포\")\n",
    "plt.xlabel(\"class\")\n",
    "plt.ylim([0, 450])\n",
    "plt.text(-0.1, 220, \"악성\")\n",
    "plt.text(.9, 370, \"양성\")\n",
    "plt.show()"
   ]
  },
  {
   "cell_type": "code",
   "execution_count": 122,
   "id": "b901b6bb-1fa0-4439-aebd-3981841fd03b",
   "metadata": {},
   "outputs": [
    {
     "data": {
      "text/plain": [
       "Text(0.5, 0, 'class')"
      ]
     },
     "execution_count": 122,
     "metadata": {},
     "output_type": "execute_result"
    },
    {
     "data": {
      "image/png": "[encoded data removed]",
      "text/plain": [
       "<Figure size 432x288 with 1 Axes>"
      ]
     },
     "metadata": {
      "needs_background": "light"
     },
     "output_type": "display_data"
    }
   ],
   "source": [
    "sns.boxplot(x=target, y=df[\"mean concave points\"])\n",
    "plt.xlabel(\"class\")"
   ]
  },
  {
   "cell_type": "markdown",
   "id": "ee14090f-e7b3-448b-a863-586d6b79c01f",
   "metadata": {},
   "source": [
    "- 악성 종양세포에서 mean_concave_points 값이 훨씬 높은 편임을 알 수 있다."
   ]
  },
  {
   "cell_type": "code",
   "execution_count": 123,
   "id": "a02a1273-ea7b-4f84-a73c-c156ef7e1036",
   "metadata": {},
   "outputs": [
    {
     "data": {
      "text/plain": [
       "<AxesSubplot:ylabel='mean radius'>"
      ]
     },
     "execution_count": 123,
     "metadata": {},
     "output_type": "execute_result"
    },
    {
     "data": {
      "image/png": "[encoded data removed]",
      "text/plain": [
       "<Figure size 432x288 with 1 Axes>"
      ]
     },
     "metadata": {
      "needs_background": "light"
     },
     "output_type": "display_data"
    }
   ],
   "source": [
    "sns.boxplot(x=target, y=df[\"mean radius\"])"
   ]
  },
  {
   "cell_type": "markdown",
   "id": "dd663d3f-e557-4972-89c2-f7b061ef1192",
   "metadata": {},
   "source": [
    "- 악성 종양세포에서 mean_radius 값이 훨씬 높은 편임을 알 수 있다."
   ]
  },
  {
   "cell_type": "code",
   "execution_count": 113,
   "id": "0ae8252b-1524-471a-b09e-2b6f59b04f67",
   "metadata": {},
   "outputs": [
    {
     "data": {
      "text/plain": [
       "Text(0, 0.5, 'mean_radius')"
      ]
     },
     "execution_count": 113,
     "metadata": {},
     "output_type": "execute_result"
    },
    {
     "data": {
      "image/png": "[encoded data removed]",
      "text/plain": [
       "<Figure size 432x288 with 1 Axes>"
      ]
     },
     "metadata": {
      "needs_background": "light"
     },
     "output_type": "display_data"
    }
   ],
   "source": [
    "plt.scatter(x=df[\"mean concave points\"], y=df[\"mean radius\"], alpha=.5)\n",
    "plt.xlabel(\"mean_concave_points\")\n",
    "plt.ylabel(\"mean_radius\")"
   ]
  },
  {
   "cell_type": "markdown",
   "id": "ee980b5d-e410-48ac-adf0-dc4460f14e29",
   "metadata": {},
   "source": [
    "- 위의 그림은 `mean_concave_points`와 `mean_radius` 변수 사이의 강한 양의 상관관계가 있음을 보여준다."
   ]
  },
  {
   "cell_type": "markdown",
   "id": "6f307659-fb7f-424e-9ce4-18d6217c1b74",
   "metadata": {},
   "source": [
    "### 1.3 Data Split"
   ]
  },
  {
   "cell_type": "markdown",
   "id": "260931d5-5c38-439a-817f-db3ff9a7c664",
   "metadata": {},
   "source": [
    "데이터를 $7:3$의 비율로 train/test set으로 나누자"
   ]
  },
  {
   "cell_type": "code",
   "execution_count": 26,
   "id": "ddaa5dd6-6e2b-4c06-8d7d-b2a8bb777d7c",
   "metadata": {},
   "outputs": [],
   "source": [
    "from sklearn.model_selection import train_test_split\n",
    "\n",
    "train_data, test_data, train_target, test_target = train_test_split(\n",
    "    data, target, train_size= 0.7, random_state=2022,\n",
    ")"
   ]
  },
  {
   "cell_type": "code",
   "execution_count": 92,
   "id": "5924ff0f-ef35-4d8f-a296-3c2e678c4402",
   "metadata": {},
   "outputs": [
    {
     "name": "stdout",
     "output_type": "stream",
     "text": [
      "train data 개수: 398\n",
      "test data 개수: 171\n"
     ]
    }
   ],
   "source": [
    "print(\"train data 개수:\", len(train_data))\n",
    "print(\"test data 개수:\", len(test_data))"
   ]
  },
  {
   "cell_type": "markdown",
   "id": "7f89f1b5-3eb4-4bf3-a215-39df5fd0670a",
   "metadata": {},
   "source": [
    "## 2. Linear Regression and Categorical Label"
   ]
  },
  {
   "cell_type": "markdown",
   "id": "93c31961-764b-4ce7-af19-1b2ae48cf95b",
   "metadata": {},
   "source": [
    "Logistic Regression을 학습하기에 앞서 Linear Regression으로 학습할 경우 어떻게 되는지 보자."
   ]
  },
  {
   "cell_type": "code",
   "execution_count": 28,
   "id": "367ea813-b955-4702-9ad7-dc3029e7458b",
   "metadata": {},
   "outputs": [],
   "source": [
    "from sklearn.linear_model import LinearRegression\n",
    "\n",
    "linear_regressor = LinearRegression()"
   ]
  },
  {
   "cell_type": "markdown",
   "id": "762d3061-a056-4393-97e3-d236f699976f",
   "metadata": {},
   "source": [
    "### 2.1 학습"
   ]
  },
  {
   "cell_type": "code",
   "execution_count": 124,
   "id": "61e57f96-6143-4833-8548-9d5d2488eff7",
   "metadata": {},
   "outputs": [
    {
     "data": {
      "text/plain": [
       "LinearRegression()"
      ]
     },
     "execution_count": 124,
     "metadata": {},
     "output_type": "execute_result"
    }
   ],
   "source": [
    "linear_regressor.fit(train_data, train_target)"
   ]
  },
  {
   "cell_type": "markdown",
   "id": "b09f13ac-79e2-4cd8-afc8-12d9a6fa3f2f",
   "metadata": {},
   "source": [
    "### 2.2 예측"
   ]
  },
  {
   "cell_type": "code",
   "execution_count": 127,
   "id": "d1bf8329-b678-422e-bb73-feea0e6e2485",
   "metadata": {},
   "outputs": [],
   "source": [
    "train_pred = linear_regressor.predict(train_data)\n",
    "test_pred = linear_regressor.predict(test_data)"
   ]
  },
  {
   "cell_type": "markdown",
   "id": "b475f222-e632-45fe-9749-70efd636b4fd",
   "metadata": {},
   "source": [
    "- 예측 결과를 보면 $0 \\sim 1$ 사이를 벗어난 예측값이 보이는데..?\n",
    "- 일단 넘어가자.."
   ]
  },
  {
   "cell_type": "markdown",
   "id": "238221be-1e17-47e1-a44a-113f2c11afff",
   "metadata": {},
   "source": [
    "### 2.3 시각화"
   ]
  },
  {
   "cell_type": "code",
   "execution_count": 135,
   "id": "ae0c1ba4-5978-4428-b44a-96072f7f6392",
   "metadata": {},
   "outputs": [
    {
     "data": {
      "image/png": "[encoded data removed]",
      "text/plain": [
       "<Figure size 720x360 with 2 Axes>"
      ]
     },
     "metadata": {
      "needs_background": "light"
     },
     "output_type": "display_data"
    }
   ],
   "source": [
    "fig, axes = plt.subplots(nrows=1, ncols=2, figsize=(10,5))\n",
    "\n",
    "preds = [\n",
    "    (\"Train\", train_data, train_pred),\n",
    "    (\"Test\", test_data, test_pred),\n",
    "]\n",
    "for idx, (name, d, pred) in enumerate(preds):\n",
    "    ax = axes[idx]\n",
    "    ax.scatter(x=d[:,0], y=pred)\n",
    "    ax.axhline(0, color=\"red\", linestyle=\"--\")\n",
    "    ax.axhline(1, color=\"red\", linestyle=\"--\")\n",
    "    ax.set_xlabel('mean_radius')\n",
    "    ax.set_ylabel('predict')\n",
    "    ax.set_title(f\"{name} Data\")\n",
    "\n",
    "plt.show()"
   ]
  },
  {
   "cell_type": "markdown",
   "id": "5eb824fb-d48d-4e0c-beb2-ef134e53cf86",
   "metadata": {},
   "source": [
    "### 2.4 평가하기"
   ]
  },
  {
   "cell_type": "markdown",
   "id": "34c7d3cf-58dd-49bc-9dd1-32057f4402c1",
   "metadata": {},
   "source": [
    "Linear Regression의 성능을 측정하기 위해서는 우선 예측값을 0과 1로 변환시켜줘야 한다.\n",
    "\n",
    "Youden's Index를 이용해 Best Threshold를 찾은 후, 0과 1로 변화시킨 후 정확도를 비교해보자."
   ]
  },
  {
   "cell_type": "markdown",
   "id": "f87701d3-46a3-4241-a47a-9e4dcb9b853e",
   "metadata": {},
   "source": [
    "#### ($\\star$)Youden's J statistic"
   ]
  },
  {
   "cell_type": "markdown",
   "id": "719e4410-c220-48b5-89ab-90b08fe62edc",
   "metadata": {},
   "source": [
    "참고링크: https://en.wikipedia.org/wiki/Youden%27s_J_statistic"
   ]
  },
  {
   "cell_type": "markdown",
   "id": "1a4c8296-ade4-49cf-be3a-7d99d595bf95",
   "metadata": {},
   "source": [
    "$$ J = \\text{sensitivity} + \\text{specificity} - 1$$\n",
    "\n",
    "$$ J = \\frac{\\text{True positives}}{\\text{True positives}+\\text{False negatives}} + \\frac{\\text{True negatives}}{\\text{True negatives}+\\text{False positives}} - 1$$"
   ]
  },
  {
   "cell_type": "markdown",
   "id": "f363aa3e-dc1b-4214-89cc-9ca270ed7ea3",
   "metadata": {},
   "source": [
    "![](https://miro.medium.com/max/959/1*xp3hdwxxwrcue2mP6gAV5A.png)"
   ]
  },
  {
   "cell_type": "code",
   "execution_count": 136,
   "id": "6100fbfe-0316-4487-b858-e1fc83a11e40",
   "metadata": {},
   "outputs": [],
   "source": [
    "from sklearn.metrics import auc, roc_curve\n",
    "\n",
    "fpr, tpr, threshold = roc_curve(train_target, train_pred)\n",
    "auroc = auc(fpr, tpr)"
   ]
  },
  {
   "cell_type": "code",
   "execution_count": 137,
   "id": "22c0e81d-c1c7-474b-bb01-b2dab537c695",
   "metadata": {},
   "outputs": [
    {
     "data": {
      "text/plain": [
       "array([0.        , 0.        , 0.        , 0.00694444, 0.00694444,\n",
       "       0.01388889, 0.01388889, 0.02083333, 0.02083333, 0.03472222,\n",
       "       0.03472222, 0.04166667, 0.04166667, 0.08333333, 0.08333333,\n",
       "       0.15277778, 0.15277778, 1.        ])"
      ]
     },
     "execution_count": 137,
     "metadata": {},
     "output_type": "execute_result"
    }
   ],
   "source": [
    "fpr"
   ]
  },
  {
   "cell_type": "code",
   "execution_count": 138,
   "id": "6527a259-f95a-430d-9be3-cac0bcc07c8a",
   "metadata": {},
   "outputs": [
    {
     "data": {
      "text/plain": [
       "array([0.        , 0.00393701, 0.86614173, 0.86614173, 0.91732283,\n",
       "       0.91732283, 0.9488189 , 0.9488189 , 0.97244094, 0.97244094,\n",
       "       0.98818898, 0.98818898, 0.99212598, 0.99212598, 0.99606299,\n",
       "       0.99606299, 1.        , 1.        ])"
      ]
     },
     "execution_count": 138,
     "metadata": {},
     "output_type": "execute_result"
    }
   ],
   "source": [
    "tpr"
   ]
  },
  {
   "cell_type": "code",
   "execution_count": 139,
   "id": "47a7512b-fba3-406d-bfdb-c134130e9785",
   "metadata": {},
   "outputs": [
    {
     "data": {
      "text/plain": [
       "array([ 2.4361067 ,  1.4361067 ,  0.73541392,  0.73504832,  0.69821109,\n",
       "        0.69157174,  0.66179116,  0.65237359,  0.63746448,  0.6287956 ,\n",
       "        0.60051723,  0.59041758,  0.5843251 ,  0.51934856,  0.49908788,\n",
       "        0.42737293,  0.42101901, -0.53268251])"
      ]
     },
     "execution_count": 139,
     "metadata": {},
     "output_type": "execute_result"
    }
   ],
   "source": [
    "threshold"
   ]
  },
  {
   "cell_type": "markdown",
   "id": "beb19aed-bb26-410c-9e94-b6f051d69d7f",
   "metadata": {},
   "source": [
    "AUROC를 그려보자."
   ]
  },
  {
   "cell_type": "code",
   "execution_count": 140,
   "id": "86a83fd4-83d7-49ce-93a7-f875a1d48aa7",
   "metadata": {},
   "outputs": [
    {
     "data": {
      "text/plain": [
       "Text(0, 0.5, 'tpr')"
      ]
     },
     "execution_count": 140,
     "metadata": {},
     "output_type": "execute_result"
    },
    {
     "data": {
      "image/png": "[encoded data removed]",
      "text/plain": [
       "<Figure size 432x288 with 1 Axes>"
      ]
     },
     "metadata": {
      "needs_background": "light"
     },
     "output_type": "display_data"
    }
   ],
   "source": [
    "plt.plot(fpr, tpr)\n",
    "plt.xlabel(\"fpr\")\n",
    "plt.ylabel(\"tpr\")"
   ]
  },
  {
   "cell_type": "markdown",
   "id": "3449bfa5-9fe2-4e6b-861f-9b0450d58627",
   "metadata": {},
   "source": [
    "AUROC 값을 계산하면 다음과 같다."
   ]
  },
  {
   "cell_type": "code",
   "execution_count": 141,
   "id": "95b263b0-ae77-471f-92cd-6cf3e86686eb",
   "metadata": {},
   "outputs": [
    {
     "name": "stdout",
     "output_type": "stream",
     "text": [
      "AUROC :  0.9971\n"
     ]
    }
   ],
   "source": [
    "print(f\"AUROC : {auroc: .4f}\")"
   ]
  },
  {
   "cell_type": "markdown",
   "id": "6a762f61-8a47-41d5-a9ef-2837c5c59542",
   "metadata": {},
   "source": [
    "이제 Best Threshold를 계산해보자."
   ]
  },
  {
   "cell_type": "code",
   "execution_count": 142,
   "id": "e6bf5b8e-506e-43e1-9254-7e51f399cdf4",
   "metadata": {},
   "outputs": [
    {
     "data": {
      "text/plain": [
       "10"
      ]
     },
     "execution_count": 142,
     "metadata": {},
     "output_type": "execute_result"
    }
   ],
   "source": [
    "np.argmax(tpr - fpr)"
   ]
  },
  {
   "cell_type": "markdown",
   "id": "c399b1fd-3c0c-4f1d-92aa-b9310e2df192",
   "metadata": {},
   "source": [
    "- 10인 index 에서 **Best Threshold**를 갖는다는 의미"
   ]
  },
  {
   "cell_type": "code",
   "execution_count": 145,
   "id": "75d6646a-ebaf-4587-b58a-596b16b1f3f6",
   "metadata": {},
   "outputs": [
    {
     "name": "stdout",
     "output_type": "stream",
     "text": [
      "Best Threshold's sensitivity is 0.9882\n",
      "Best Threshold's specificity is 0.9653\n",
      "Best Threshold's J is 0.9535\n"
     ]
    }
   ],
   "source": [
    "J = tpr - fpr\n",
    "idx = np.argmax(J)\n",
    "best_thresh = threshold[idx]\n",
    "print(f\"Best Threshold's sensitivity is {tpr[idx]:.4f}\")\n",
    "print(f\"Best Threshold's specificity is {1-fpr[idx]:.4f}\")\n",
    "print(f\"Best Threshold's J is {J[idx]:.4f}\")"
   ]
  },
  {
   "cell_type": "markdown",
   "id": "b0c1581e-b706-433a-9581-68d5e6494483",
   "metadata": {},
   "source": [
    "Best Threshold는 AUROC 그래프에서 직선이 가장 긴 곳이다."
   ]
  },
  {
   "cell_type": "code",
   "execution_count": 148,
   "id": "971f6f08-a92b-45b3-baca-b2433c4c0fec",
   "metadata": {},
   "outputs": [
    {
     "data": {
      "image/png": "[encoded data removed]",
      "text/plain": [
       "<Figure size 432x288 with 1 Axes>"
      ]
     },
     "metadata": {
      "needs_background": "light"
     },
     "output_type": "display_data"
    }
   ],
   "source": [
    "plt.plot(fpr, tpr)\n",
    "plt.plot(np.linspace(0, 1, 10), np.linspace(0, 1, 10))\n",
    "plt.plot((fpr[idx], fpr[idx]), (fpr[idx], tpr[idx]), color=\"red\", linestyle=\"--\")\n",
    "plt.xlabel(\"fpr\")\n",
    "plt.ylabel(\"tpr\")\n",
    "plt.show()"
   ]
  },
  {
   "cell_type": "markdown",
   "id": "a4d67b84-d858-49e1-b523-8aa6e0fdea9b",
   "metadata": {},
   "source": [
    "예측값에서의 Best threshold 의 위치를 그려보자"
   ]
  },
  {
   "cell_type": "code",
   "execution_count": 150,
   "id": "89ba76cb-aac5-4c4f-86dd-e1a2005e5803",
   "metadata": {},
   "outputs": [
    {
     "data": {
      "image/png": "[encoded data removed]",
      "text/plain": [
       "<Figure size 720x360 with 2 Axes>"
      ]
     },
     "metadata": {
      "needs_background": "light"
     },
     "output_type": "display_data"
    }
   ],
   "source": [
    "fig, axes = plt.subplots(nrows=1, ncols=2, figsize=(10, 5))\n",
    "\n",
    "preds = [\n",
    "    (\"Train\", train_data, train_pred),\n",
    "    (\"Test\", test_data, test_pred),\n",
    "]\n",
    "for idx, (name, d, pred) in enumerate(preds):\n",
    "    ax = axes[idx]\n",
    "    ax.scatter(x=d[:,0], y=pred)\n",
    "    ax.axhline(0, color=\"red\", linestyle=\"--\")\n",
    "    ax.axhline(1, color=\"red\", linestyle=\"--\")\n",
    "    ax.set_xlabel(\"mean_radius\")\n",
    "    ax.set_ylabel(\"predict\")\n",
    "    ax.set_title(f\"{name} Data\")\n",
    "    ax.axhline(best_thresh, color=\"blue\")\n",
    "plt.show()"
   ]
  },
  {
   "cell_type": "markdown",
   "id": "fa5228e5-63db-4b68-b88a-0bb8d5635f78",
   "metadata": {},
   "source": [
    "이제 Threshold로 예측값을 $0,1$로 변환 후 정확도를 보자"
   ]
  },
  {
   "cell_type": "code",
   "execution_count": 151,
   "id": "d76adca2-5068-4f82-9b62-69f9e7224872",
   "metadata": {},
   "outputs": [],
   "source": [
    "train_pred_label = list(map(int, (train_pred > best_thresh)))\n",
    "test_pred_label = list(map(int, (test_pred > best_thresh)))"
   ]
  },
  {
   "cell_type": "code",
   "execution_count": 152,
   "id": "c4a93344-1f3a-4897-980a-f9784c913249",
   "metadata": {},
   "outputs": [],
   "source": [
    "from sklearn.metrics import accuracy_score\n",
    "\n",
    "linear_train_accuracy = accuracy_score(train_target, train_pred_label)\n",
    "linear_test_accuracy = accuracy_score(test_target, test_pred_label)"
   ]
  },
  {
   "cell_type": "code",
   "execution_count": 153,
   "id": "5fd6a982-b7b2-4a19-8dd1-7cc6245ad6f4",
   "metadata": {},
   "outputs": [
    {
     "name": "stdout",
     "output_type": "stream",
     "text": [
      "Train accuracy is : 0.98\n",
      "Test accuracy is : 0.96\n"
     ]
    }
   ],
   "source": [
    "print(f\"Train accuracy is : {linear_train_accuracy:.2f}\")\n",
    "print(f\"Test accuracy is : {linear_test_accuracy:.2f}\")"
   ]
  },
  {
   "cell_type": "code",
   "execution_count": null,
   "id": "d42c45f5-1edc-4bbc-81db-041e0a5cf5b1",
   "metadata": {},
   "outputs": [],
   "source": []
  }
 ],
 "metadata": {
  "kernelspec": {
   "display_name": "Python 3 (ipykernel)",
   "language": "python",
   "name": "python3"
  },
  "language_info": {
   "codemirror_mode": {
    "name": "ipython",
    "version": 3
   },
   "file_extension": ".py",
   "mimetype": "text/x-python",
   "name": "python",
   "nbconvert_exporter": "python",
   "pygments_lexer": "ipython3",
   "version": "3.8.11"
  }
 },
 "nbformat": 4,
 "nbformat_minor": 5
}
