{
 "cells": [
  {
   "cell_type": "markdown",
   "id": "a7b5156c",
   "metadata": {},
   "source": [
    "# (OpenCV - Chap5) 10월 13일(2)\n",
    "> 사칙연산, 지수, 로그, 제곱근 함수\n",
    "\n",
    "- toc: true\n",
    "- branch: master\n",
    "- badges: false\n",
    "- comments: true\n",
    "- author: pinkocto\n",
    "- categories: [python]"
   ]
  },
  {
   "cell_type": "markdown",
   "id": "2c3d4494",
   "metadata": {},
   "source": [
    "### 5.3.1 사칙 연산 (행렬 산술 연산)"
   ]
  },
  {
   "cell_type": "markdown",
   "id": "03b458fb",
   "metadata": {},
   "source": [
    "사칙연산을 위한 OpenCV함수에 대해 알아보자.\n",
    "\n",
    "- **`cv2.add(src1, src2[, mask[, dtype]]]) -> dst`**\n",
    "    - 두 개의 배열 혹은 배열과 스칼라의 각 원소 간 합을 계산한다. 입력인수 src1, src2 중 하나는 스칼라값일 수 있다.\n",
    "    \n",
    "        - $dst(i) = saturate(src1(i) + src2(i)) \\quad \\text{if } mask(i) \\neq 0$\n",
    "        - $dst(i) = saturate(src1 + src2(i)) \\quad \\text{if } mask(i) \\neq 0$\n",
    "        - $dst(i) = saturate(src1(i) + src2) \\quad \\text{if } mask(i) \\neq 0$\n",
    "        \n",
    "        \n",
    "- **`cv2.addWeighted(src1, alpha1, src2, beta, gammap[,[dst[,dtype]]) -> dst`**\n",
    "    - 두 배열의 각 원소에 가중치를 곱한 후에 각 원소 간 합 즉, 가중된(weighted) 합을 계산한다.\n",
    "    - 수식: $dst(i) = saturate(src1(i)\\cdot\\alpha + src2(i)\\cdot \\beta + \\gamma$"
   ]
  },
  {
   "cell_type": "code",
   "execution_count": 1,
   "id": "09c6d900",
   "metadata": {},
   "outputs": [],
   "source": [
    "#collapse-hide\n",
    "import numpy as np, cv2\n",
    "\n",
    "m1 = np.full((3,6), 10, np.uint8)           # 단일채널 생성 및 초기화\n",
    "m2 = np.full((3,6), 50, np.uint8)          \n",
    "m_mask = np.zeros(m1.shape, np.uint8)       # 마스크 생성\n",
    "m_mask[:,3:] = 1                            # 관심 영역(모든행, 3열부터)을 지정한 후, 1을 할당"
   ]
  },
  {
   "cell_type": "code",
   "execution_count": 2,
   "id": "7ca3c84a",
   "metadata": {},
   "outputs": [
    {
     "data": {
      "text/plain": [
       "array([[10, 10, 10, 10, 10, 10],\n",
       "       [10, 10, 10, 10, 10, 10],\n",
       "       [10, 10, 10, 10, 10, 10]], dtype=uint8)"
      ]
     },
     "execution_count": 2,
     "metadata": {},
     "output_type": "execute_result"
    }
   ],
   "source": [
    "m1"
   ]
  },
  {
   "cell_type": "code",
   "execution_count": 3,
   "id": "3109cbdb",
   "metadata": {},
   "outputs": [
    {
     "data": {
      "text/plain": [
       "array([[50, 50, 50, 50, 50, 50],\n",
       "       [50, 50, 50, 50, 50, 50],\n",
       "       [50, 50, 50, 50, 50, 50]], dtype=uint8)"
      ]
     },
     "execution_count": 3,
     "metadata": {},
     "output_type": "execute_result"
    }
   ],
   "source": [
    "m2"
   ]
  },
  {
   "cell_type": "code",
   "execution_count": 4,
   "id": "7ccca93c",
   "metadata": {},
   "outputs": [
    {
     "data": {
      "text/plain": [
       "array([[0, 0, 0, 1, 1, 1],\n",
       "       [0, 0, 0, 1, 1, 1],\n",
       "       [0, 0, 0, 1, 1, 1]], dtype=uint8)"
      ]
     },
     "execution_count": 4,
     "metadata": {},
     "output_type": "execute_result"
    }
   ],
   "source": [
    "m_mask"
   ]
  },
  {
   "cell_type": "markdown",
   "id": "e011b491",
   "metadata": {},
   "source": [
    "`-` 행렬 덧셈"
   ]
  },
  {
   "cell_type": "code",
   "execution_count": 5,
   "id": "f713d87b",
   "metadata": {},
   "outputs": [
    {
     "data": {
      "text/plain": [
       "array([[60, 60, 60, 60, 60, 60],\n",
       "       [60, 60, 60, 60, 60, 60],\n",
       "       [60, 60, 60, 60, 60, 60]], dtype=uint8)"
      ]
     },
     "execution_count": 5,
     "metadata": {},
     "output_type": "execute_result"
    }
   ],
   "source": [
    "#collapse-hide\n",
    "m_add1 = cv2.add(m1, m2)\n",
    "m_add1"
   ]
  },
  {
   "cell_type": "code",
   "execution_count": 7,
   "id": "76eb8eb3",
   "metadata": {},
   "outputs": [
    {
     "data": {
      "text/plain": [
       "array([[ 0,  0,  0, 60, 60, 60],\n",
       "       [ 0,  0,  0, 60, 60, 60],\n",
       "       [ 0,  0,  0, 60, 60, 60]], dtype=uint8)"
      ]
     },
     "execution_count": 7,
     "metadata": {},
     "output_type": "execute_result"
    }
   ],
   "source": [
    "#collapse-hide\n",
    "m_add2 = cv2.add(m1, m2, mask=m_mask)\n",
    "m_add2"
   ]
  },
  {
   "cell_type": "markdown",
   "id": "81dab6d1",
   "metadata": {},
   "source": [
    "- 마스크 영역 (관심영역)만 덧셈 연산이 된 것을 확인!"
   ]
  },
  {
   "cell_type": "markdown",
   "id": "d9754e9f",
   "metadata": {},
   "source": [
    "`-` 행렬 나눗셈"
   ]
  },
  {
   "cell_type": "code",
   "execution_count": 8,
   "id": "119796f6",
   "metadata": {},
   "outputs": [
    {
     "data": {
      "text/plain": [
       "array([[0, 0, 0, 0, 0, 0],\n",
       "       [0, 0, 0, 0, 0, 0],\n",
       "       [0, 0, 0, 0, 0, 0]], dtype=uint8)"
      ]
     },
     "execution_count": 8,
     "metadata": {},
     "output_type": "execute_result"
    }
   ],
   "source": [
    "#collapse-hide\n",
    "m_div1 = cv2.divide(m1, m2)\n",
    "m_div1"
   ]
  },
  {
   "cell_type": "markdown",
   "id": "f4d51f06",
   "metadata": {},
   "source": [
    "- 전부 0으로 나온다? 0.2가 나와야 하는데?? (소수 부분이 상실되었다.)"
   ]
  },
  {
   "cell_type": "markdown",
   "id": "7c58e06f",
   "metadata": {},
   "source": [
    "`-` 소수부분 소실 방지\n",
    "\n",
    "행렬 원소 자료형을 32비트 실수형(np.float32)로 변환"
   ]
  },
  {
   "cell_type": "code",
   "execution_count": 9,
   "id": "55f24f26",
   "metadata": {},
   "outputs": [
    {
     "data": {
      "text/plain": [
       "array([[0.2, 0.2, 0.2, 0.2, 0.2, 0.2],\n",
       "       [0.2, 0.2, 0.2, 0.2, 0.2, 0.2],\n",
       "       [0.2, 0.2, 0.2, 0.2, 0.2, 0.2]], dtype=float32)"
      ]
     },
     "execution_count": 9,
     "metadata": {},
     "output_type": "execute_result"
    }
   ],
   "source": [
    "#collapse-hide\n",
    "m1 = m1.astype(np.float32)           # 소수부분 보존위해 행변환\n",
    "m2 = np.float32(m2)                  # 형 변환 방법2\n",
    "m_div2 = cv2.divide(m1, m2)\n",
    "m_div2"
   ]
  },
  {
   "cell_type": "markdown",
   "id": "42805b60",
   "metadata": {},
   "source": [
    "- 소수부분 소실 문제가 잘 해결되었다."
   ]
  },
  {
   "cell_type": "markdown",
   "id": "38c0b300",
   "metadata": {},
   "source": [
    "### 5.3.2 지수, 로그, 제곱근 관련 함수"
   ]
  },
  {
   "cell_type": "code",
   "execution_count": 10,
   "id": "f1a8f503",
   "metadata": {},
   "outputs": [],
   "source": [
    "#collapse-hide\n",
    "import numpy as np, cv2\n",
    "\n",
    "## ndarray 생성\n",
    "v1 = np.array([1,2,3], np.float32)          # 1차원 리스트로 행렬 생성\n",
    "v2 = np.array([[1],[2],[3]], np.float32)    # 2차원 리스트 (3행, 1열) - 열벡터\n",
    "v3 = np.array([[1,2,3]],np.float32)         # 2차원 리스트 (1행, 3열) - 행벡터"
   ]
  },
  {
   "cell_type": "code",
   "execution_count": 11,
   "id": "b122b9a1",
   "metadata": {},
   "outputs": [
    {
     "data": {
      "text/plain": [
       "array([1., 2., 3.], dtype=float32)"
      ]
     },
     "execution_count": 11,
     "metadata": {},
     "output_type": "execute_result"
    }
   ],
   "source": [
    "v1        # 1차원 리스트로 행렬 생성"
   ]
  },
  {
   "cell_type": "code",
   "execution_count": 12,
   "id": "024b074b",
   "metadata": {},
   "outputs": [
    {
     "data": {
      "text/plain": [
       "array([[1.],\n",
       "       [2.],\n",
       "       [3.]], dtype=float32)"
      ]
     },
     "execution_count": 12,
     "metadata": {},
     "output_type": "execute_result"
    }
   ],
   "source": [
    "v2        # 2차원 리스트 (3행, 1열) - 열벡터"
   ]
  },
  {
   "cell_type": "code",
   "execution_count": 13,
   "id": "4fb4f206",
   "metadata": {},
   "outputs": [
    {
     "data": {
      "text/plain": [
       "array([[1., 2., 3.]], dtype=float32)"
      ]
     },
     "execution_count": 13,
     "metadata": {},
     "output_type": "execute_result"
    }
   ],
   "source": [
    "v3       # 2차원 리스트 (1행, 3열) - 행벡터"
   ]
  },
  {
   "cell_type": "code",
   "execution_count": 16,
   "id": "f2a51ca7",
   "metadata": {},
   "outputs": [],
   "source": [
    "#collapse-hide\n",
    "v_exp = cv2.exp(v1)        # 1차원 행렬에 대한 지수\n",
    "m_exp = cv2.exp(v2)        # 행벡터 (1*3)에 대한 지수계산\n",
    "m_exp = cv2.exp(v3)        # 열벡터 (3*1)에 대한 지수 계산\n",
    "v_log = cv2.log(v1)        # 로그 계산\n",
    "m_sqrt = cv2.sqrt(v2)      # 제곱근 계산\n",
    "m_pow = cv2.pow(v3, 3)     # 3의 거듭제곱 계산"
   ]
  },
  {
   "cell_type": "code",
   "execution_count": 17,
   "id": "c77c94b7",
   "metadata": {},
   "outputs": [
    {
     "data": {
      "text/plain": [
       "array([[ 2.718282 ],\n",
       "       [ 7.3890557],\n",
       "       [20.085539 ]], dtype=float32)"
      ]
     },
     "execution_count": 17,
     "metadata": {},
     "output_type": "execute_result"
    }
   ],
   "source": [
    "# cv2.exp\n",
    "v_exp"
   ]
  },
  {
   "cell_type": "code",
   "execution_count": 27,
   "id": "8541a785",
   "metadata": {},
   "outputs": [
    {
     "data": {
      "text/plain": [
       "array([[ 2.71828183],\n",
       "       [ 7.3890561 ],\n",
       "       [20.08553692]])"
      ]
     },
     "execution_count": 27,
     "metadata": {},
     "output_type": "execute_result"
    }
   ],
   "source": [
    "# np.exp\n",
    "np.array([[np.exp(1)], [np.exp(2)],[np.exp(3)]])"
   ]
  },
  {
   "cell_type": "markdown",
   "id": "dfb7f0e3",
   "metadata": {},
   "source": [
    "- 잘 계산되는구만!"
   ]
  },
  {
   "cell_type": "code",
   "execution_count": 18,
   "id": "ff8d70a6",
   "metadata": {},
   "outputs": [
    {
     "data": {
      "text/plain": [
       "array([[ 2.718282 ,  7.3890557, 20.085539 ]], dtype=float32)"
      ]
     },
     "execution_count": 18,
     "metadata": {},
     "output_type": "execute_result"
    }
   ],
   "source": [
    "m_exp"
   ]
  },
  {
   "cell_type": "code",
   "execution_count": 19,
   "id": "d44cd2c1",
   "metadata": {},
   "outputs": [
    {
     "data": {
      "text/plain": [
       "array([[0.       ],\n",
       "       [0.6931472],\n",
       "       [1.0986123]], dtype=float32)"
      ]
     },
     "execution_count": 19,
     "metadata": {},
     "output_type": "execute_result"
    }
   ],
   "source": [
    "v_log"
   ]
  },
  {
   "cell_type": "code",
   "execution_count": 20,
   "id": "ff868fdd",
   "metadata": {},
   "outputs": [
    {
     "data": {
      "text/plain": [
       "array([[1.       ],\n",
       "       [1.4142135],\n",
       "       [1.7320508]], dtype=float32)"
      ]
     },
     "execution_count": 20,
     "metadata": {},
     "output_type": "execute_result"
    }
   ],
   "source": [
    "m_sqrt"
   ]
  },
  {
   "cell_type": "code",
   "execution_count": 21,
   "id": "9a74111f",
   "metadata": {},
   "outputs": [
    {
     "data": {
      "text/plain": [
       "array([[ 1.,  8., 27.]], dtype=float32)"
      ]
     },
     "execution_count": 21,
     "metadata": {},
     "output_type": "execute_result"
    }
   ],
   "source": [
    "m_pow"
   ]
  }
 ],
 "metadata": {
  "kernelspec": {
   "display_name": "Python 3 (ipykernel)",
   "language": "python",
   "name": "python3"
  },
  "language_info": {
   "codemirror_mode": {
    "name": "ipython",
    "version": 3
   },
   "file_extension": ".py",
   "mimetype": "text/x-python",
   "name": "python",
   "nbconvert_exporter": "python",
   "pygments_lexer": "ipython3",
   "version": "3.9.13"
  }
 },
 "nbformat": 4,
 "nbformat_minor": 5
}
