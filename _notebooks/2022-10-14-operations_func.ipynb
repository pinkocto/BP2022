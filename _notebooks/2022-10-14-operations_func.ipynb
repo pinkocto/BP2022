{
 "cells": [
  {
   "cell_type": "markdown",
   "id": "4438de18",
   "metadata": {},
   "source": [
    "# (OpenCV - Chap5) 10월 13일(2)\n",
    "> 사칙연산, 지수, 로그, 제곱근 함수\n",
    "\n",
    "- toc: true\n",
    "- branch: master\n",
    "- badges: false\n",
    "- comments: true\n",
    "- author: pinkocto\n",
    "- categories: [python]"
   ]
  },
  {
   "cell_type": "markdown",
   "id": "ad7f65a7",
   "metadata": {},
   "source": [
    "### 5.3.1 사칙 연산 (행렬 산술 연산)"
   ]
  },
  {
   "cell_type": "markdown",
   "id": "3a56c273",
   "metadata": {},
   "source": [
    "사칙연산을 위한 OpenCV함수에 대해 알아보자.\n",
    "\n",
    "- **`cv2.add(src1, src2[, mask[, dtype]]]) -> dst`**\n",
    "    - 두 개의 배열 혹은 배열과 스칼라의 각 원소 간 합을 계산한다. 입력인수 src1, src2 중 하나는 스칼라값일 수 있다.\n",
    "    \n",
    "        - $dst(i) = saturate(src1(i) + src2(i)) \\quad \\text{if } mask(i) \\neq 0$\n",
    "        - $dst(i) = saturate(src1 + src2(i)) \\quad \\text{if } mask(i) \\neq 0$\n",
    "        - $dst(i) = saturate(src1(i) + src2) \\quad \\text{if } mask(i) \\neq 0$\n",
    "        \n",
    "        \n",
    "- **`cv2.addWeighted(src1, alpha1, src2, beta, gamma[,[dst[,dtype]]) -> dst`**\n",
    "    - 두 배열의 각 원소에 가중치를 곱한 후에 각 원소 간 합 즉, 가중된(weighted) 합을 계산한다.\n",
    "    - 수식: $dst(i) = saturate(src1(i)\\cdot\\alpha + src2(i)\\cdot \\beta + \\gamma)$"
   ]
  },
  {
   "cell_type": "markdown",
   "id": "bf433ec3",
   "metadata": {},
   "source": [
    "<div class=\"alert-success\">\n",
    "[ 참고 ]\n",
    "\n",
    "OpenCV에서 **saturate()** 는 0이하는 0으로, 255이상은 255로 범위를 한정시키는 연산이다.\n",
    "</div>"
   ]
  },
  {
   "cell_type": "code",
   "execution_count": 1,
   "id": "ab9bac2d",
   "metadata": {},
   "outputs": [],
   "source": [
    "#collapse-hide\n",
    "import numpy as np, cv2\n",
    "\n",
    "m1 = np.full((3,6), 10, np.uint8)           # 단일채널 생성 및 초기화\n",
    "m2 = np.full((3,6), 50, np.uint8)          \n",
    "m_mask = np.zeros(m1.shape, np.uint8)       # 마스크 생성\n",
    "m_mask[:,3:] = 1                            # 관심 영역(모든행, 3열부터)을 지정한 후, 1을 할당"
   ]
  },
  {
   "cell_type": "code",
   "execution_count": 2,
   "id": "3825b318",
   "metadata": {},
   "outputs": [
    {
     "data": {
      "text/plain": [
       "array([[10, 10, 10, 10, 10, 10],\n",
       "       [10, 10, 10, 10, 10, 10],\n",
       "       [10, 10, 10, 10, 10, 10]], dtype=uint8)"
      ]
     },
     "execution_count": 2,
     "metadata": {},
     "output_type": "execute_result"
    }
   ],
   "source": [
    "m1"
   ]
  },
  {
   "cell_type": "code",
   "execution_count": 3,
   "id": "1e3f74f6",
   "metadata": {},
   "outputs": [
    {
     "data": {
      "text/plain": [
       "array([[50, 50, 50, 50, 50, 50],\n",
       "       [50, 50, 50, 50, 50, 50],\n",
       "       [50, 50, 50, 50, 50, 50]], dtype=uint8)"
      ]
     },
     "execution_count": 3,
     "metadata": {},
     "output_type": "execute_result"
    }
   ],
   "source": [
    "m2"
   ]
  },
  {
   "cell_type": "code",
   "execution_count": 4,
   "id": "8bc52c31",
   "metadata": {},
   "outputs": [
    {
     "data": {
      "text/plain": [
       "array([[0, 0, 0, 1, 1, 1],\n",
       "       [0, 0, 0, 1, 1, 1],\n",
       "       [0, 0, 0, 1, 1, 1]], dtype=uint8)"
      ]
     },
     "execution_count": 4,
     "metadata": {},
     "output_type": "execute_result"
    }
   ],
   "source": [
    "m_mask"
   ]
  },
  {
   "cell_type": "markdown",
   "id": "7eb43add",
   "metadata": {},
   "source": [
    "`-` 행렬 덧셈"
   ]
  },
  {
   "cell_type": "code",
   "execution_count": 5,
   "id": "4575d1b6",
   "metadata": {},
   "outputs": [
    {
     "data": {
      "text/plain": [
       "array([[60, 60, 60, 60, 60, 60],\n",
       "       [60, 60, 60, 60, 60, 60],\n",
       "       [60, 60, 60, 60, 60, 60]], dtype=uint8)"
      ]
     },
     "execution_count": 5,
     "metadata": {},
     "output_type": "execute_result"
    }
   ],
   "source": [
    "m_add1 = cv2.add(m1, m2)\n",
    "m_add1"
   ]
  },
  {
   "cell_type": "code",
   "execution_count": 7,
   "id": "a12e69de",
   "metadata": {},
   "outputs": [
    {
     "data": {
      "text/plain": [
       "array([[ 0,  0,  0, 60, 60, 60],\n",
       "       [ 0,  0,  0, 60, 60, 60],\n",
       "       [ 0,  0,  0, 60, 60, 60]], dtype=uint8)"
      ]
     },
     "execution_count": 7,
     "metadata": {},
     "output_type": "execute_result"
    }
   ],
   "source": [
    "m_add2 = cv2.add(m1, m2, mask=m_mask)\n",
    "m_add2"
   ]
  },
  {
   "cell_type": "markdown",
   "id": "3d1c609c",
   "metadata": {},
   "source": [
    "- 마스크 영역 (관심영역)만 덧셈 연산이 된 것을 확인!"
   ]
  },
  {
   "cell_type": "markdown",
   "id": "dce343d3",
   "metadata": {},
   "source": [
    "`-` 행렬 나눗셈"
   ]
  },
  {
   "cell_type": "code",
   "execution_count": 8,
   "id": "f42e275a",
   "metadata": {},
   "outputs": [
    {
     "data": {
      "text/plain": [
       "array([[0, 0, 0, 0, 0, 0],\n",
       "       [0, 0, 0, 0, 0, 0],\n",
       "       [0, 0, 0, 0, 0, 0]], dtype=uint8)"
      ]
     },
     "execution_count": 8,
     "metadata": {},
     "output_type": "execute_result"
    }
   ],
   "source": [
    "m_div1 = cv2.divide(m1, m2)\n",
    "m_div1"
   ]
  },
  {
   "cell_type": "markdown",
   "id": "fb9e1323",
   "metadata": {},
   "source": [
    "- 전부 0으로 나온다? 0.2가 나와야 하는데?? (소수 부분이 상실되었다.)"
   ]
  },
  {
   "cell_type": "markdown",
   "id": "c17cdace",
   "metadata": {},
   "source": [
    "`-` 소수부분 소실 방지\n",
    "\n",
    "행렬 원소 자료형을 32비트 실수형(np.float32)로 변환"
   ]
  },
  {
   "cell_type": "code",
   "execution_count": 9,
   "id": "0575c5a4",
   "metadata": {},
   "outputs": [
    {
     "data": {
      "text/plain": [
       "array([[0.2, 0.2, 0.2, 0.2, 0.2, 0.2],\n",
       "       [0.2, 0.2, 0.2, 0.2, 0.2, 0.2],\n",
       "       [0.2, 0.2, 0.2, 0.2, 0.2, 0.2]], dtype=float32)"
      ]
     },
     "execution_count": 9,
     "metadata": {},
     "output_type": "execute_result"
    }
   ],
   "source": [
    "m1 = m1.astype(np.float32)           # 소수부분 보존위해 행변환\n",
    "m2 = np.float32(m2)                  # 형 변환 방법2\n",
    "m_div2 = cv2.divide(m1, m2)\n",
    "m_div2"
   ]
  },
  {
   "cell_type": "markdown",
   "id": "f86da619",
   "metadata": {},
   "source": [
    "- 소수부분 소실 문제가 잘 해결되었다."
   ]
  },
  {
   "cell_type": "markdown",
   "id": "54e79f6d",
   "metadata": {},
   "source": [
    "### 5.3.2 지수, 로그, 제곱근 관련 함수"
   ]
  },
  {
   "cell_type": "code",
   "execution_count": 10,
   "id": "ea6c24cb",
   "metadata": {},
   "outputs": [],
   "source": [
    "#collapse-hide\n",
    "import numpy as np, cv2\n",
    "\n",
    "## ndarray 생성\n",
    "v1 = np.array([1,2,3], np.float32)          # 1차원 리스트로 행렬 생성\n",
    "v2 = np.array([[1],[2],[3]], np.float32)    # 2차원 리스트 (3행, 1열) - 열벡터\n",
    "v3 = np.array([[1,2,3]],np.float32)         # 2차원 리스트 (1행, 3열) - 행벡터"
   ]
  },
  {
   "cell_type": "code",
   "execution_count": 11,
   "id": "a1117b0c",
   "metadata": {},
   "outputs": [
    {
     "data": {
      "text/plain": [
       "array([1., 2., 3.], dtype=float32)"
      ]
     },
     "execution_count": 11,
     "metadata": {},
     "output_type": "execute_result"
    }
   ],
   "source": [
    "v1        # 1차원 리스트로 행렬 생성"
   ]
  },
  {
   "cell_type": "code",
   "execution_count": 12,
   "id": "6bd5f770",
   "metadata": {},
   "outputs": [
    {
     "data": {
      "text/plain": [
       "array([[1.],\n",
       "       [2.],\n",
       "       [3.]], dtype=float32)"
      ]
     },
     "execution_count": 12,
     "metadata": {},
     "output_type": "execute_result"
    }
   ],
   "source": [
    "v2        # 2차원 리스트 (3행, 1열) - 열벡터"
   ]
  },
  {
   "cell_type": "code",
   "execution_count": 13,
   "id": "7df74654",
   "metadata": {},
   "outputs": [
    {
     "data": {
      "text/plain": [
       "array([[1., 2., 3.]], dtype=float32)"
      ]
     },
     "execution_count": 13,
     "metadata": {},
     "output_type": "execute_result"
    }
   ],
   "source": [
    "v3       # 2차원 리스트 (1행, 3열) - 행벡터"
   ]
  },
  {
   "cell_type": "code",
   "execution_count": 16,
   "id": "038f5e97",
   "metadata": {},
   "outputs": [],
   "source": [
    "#collapse-hide\n",
    "v_exp = cv2.exp(v1)        # 1차원 행렬에 대한 지수\n",
    "m_exp = cv2.exp(v2)        # 행벡터 (1*3)에 대한 지수계산\n",
    "m_exp = cv2.exp(v3)        # 열벡터 (3*1)에 대한 지수 계산\n",
    "v_log = cv2.log(v1)        # 로그 계산\n",
    "m_sqrt = cv2.sqrt(v2)      # 제곱근 계산\n",
    "m_pow = cv2.pow(v3, 3)     # 3의 거듭제곱 계산"
   ]
  },
  {
   "cell_type": "code",
   "execution_count": 17,
   "id": "db9a9350",
   "metadata": {},
   "outputs": [
    {
     "data": {
      "text/plain": [
       "array([[ 2.718282 ],\n",
       "       [ 7.3890557],\n",
       "       [20.085539 ]], dtype=float32)"
      ]
     },
     "execution_count": 17,
     "metadata": {},
     "output_type": "execute_result"
    }
   ],
   "source": [
    "# cv2.exp\n",
    "v_exp"
   ]
  },
  {
   "cell_type": "code",
   "execution_count": 27,
   "id": "399a0243",
   "metadata": {},
   "outputs": [
    {
     "data": {
      "text/plain": [
       "array([[ 2.71828183],\n",
       "       [ 7.3890561 ],\n",
       "       [20.08553692]])"
      ]
     },
     "execution_count": 27,
     "metadata": {},
     "output_type": "execute_result"
    }
   ],
   "source": [
    "# np.exp\n",
    "np.array([[np.exp(1)], [np.exp(2)],[np.exp(3)]])"
   ]
  },
  {
   "cell_type": "markdown",
   "id": "68e963f8",
   "metadata": {},
   "source": [
    "- 잘 계산되는구만!"
   ]
  },
  {
   "cell_type": "code",
   "execution_count": 18,
   "id": "4d4c91fa",
   "metadata": {},
   "outputs": [
    {
     "data": {
      "text/plain": [
       "array([[ 2.718282 ,  7.3890557, 20.085539 ]], dtype=float32)"
      ]
     },
     "execution_count": 18,
     "metadata": {},
     "output_type": "execute_result"
    }
   ],
   "source": [
    "m_exp"
   ]
  },
  {
   "cell_type": "code",
   "execution_count": 19,
   "id": "db3b6ba9",
   "metadata": {},
   "outputs": [
    {
     "data": {
      "text/plain": [
       "array([[0.       ],\n",
       "       [0.6931472],\n",
       "       [1.0986123]], dtype=float32)"
      ]
     },
     "execution_count": 19,
     "metadata": {},
     "output_type": "execute_result"
    }
   ],
   "source": [
    "v_log"
   ]
  },
  {
   "cell_type": "code",
   "execution_count": 20,
   "id": "aa64a35c",
   "metadata": {},
   "outputs": [
    {
     "data": {
      "text/plain": [
       "array([[1.       ],\n",
       "       [1.4142135],\n",
       "       [1.7320508]], dtype=float32)"
      ]
     },
     "execution_count": 20,
     "metadata": {},
     "output_type": "execute_result"
    }
   ],
   "source": [
    "m_sqrt"
   ]
  },
  {
   "cell_type": "code",
   "execution_count": 21,
   "id": "2140f49d",
   "metadata": {},
   "outputs": [
    {
     "data": {
      "text/plain": [
       "array([[ 1.,  8., 27.]], dtype=float32)"
      ]
     },
     "execution_count": 21,
     "metadata": {},
     "output_type": "execute_result"
    }
   ],
   "source": [
    "m_pow"
   ]
  },
  {
   "cell_type": "markdown",
   "id": "480f497f",
   "metadata": {},
   "source": [
    "#### 행벡터를 열벡터로, 열벡터를 행벡터로 (Transpose)"
   ]
  },
  {
   "cell_type": "code",
   "execution_count": 47,
   "id": "839b82a8",
   "metadata": {},
   "outputs": [
    {
     "name": "stdout",
     "output_type": "stream",
     "text": [
      "[[0.        0.6931472 1.0986123]]\n"
     ]
    }
   ],
   "source": [
    "## 열벡터를 1행에 출력\n",
    "print( v_log.T)"
   ]
  },
  {
   "cell_type": "code",
   "execution_count": 46,
   "id": "f52212a3",
   "metadata": {},
   "outputs": [
    {
     "name": "stdout",
     "output_type": "stream",
     "text": [
      "[[1.        1.4142135 1.7320508]]\n"
     ]
    }
   ],
   "source": [
    "print(m_sqrt.T)"
   ]
  },
  {
   "cell_type": "code",
   "execution_count": 45,
   "id": "3a65f5e8",
   "metadata": {},
   "outputs": [
    {
     "name": "stdout",
     "output_type": "stream",
     "text": [
      "[[ 1.]\n",
      " [ 8.]\n",
      " [27.]]\n"
     ]
    }
   ],
   "source": [
    "print(m_pow.T)"
   ]
  },
  {
   "cell_type": "markdown",
   "id": "d212a060",
   "metadata": {},
   "source": [
    "- 열벡터는 행벡터로, 행벡터는 열벡터로 변환하였다!"
   ]
  },
  {
   "cell_type": "markdown",
   "id": "53daa9a1",
   "metadata": {},
   "source": [
    "####  2차원 행렬을 벡터(1차원)로 변환\n",
    "- `np.ravel`\n",
    "- `.flatten()`"
   ]
  },
  {
   "cell_type": "code",
   "execution_count": 63,
   "id": "1154c206",
   "metadata": {},
   "outputs": [
    {
     "name": "stdout",
     "output_type": "stream",
     "text": [
      "[[1.       ]\n",
      " [1.4142135]\n",
      " [1.7320508]]\n"
     ]
    }
   ],
   "source": [
    "print(m_sqrt)"
   ]
  },
  {
   "cell_type": "code",
   "execution_count": 64,
   "id": "30a730d2",
   "metadata": {},
   "outputs": [
    {
     "name": "stdout",
     "output_type": "stream",
     "text": [
      "[1.        1.4142135 1.7320508]\n"
     ]
    }
   ],
   "source": [
    "print(np.ravel(m_sqrt))"
   ]
  },
  {
   "cell_type": "markdown",
   "id": "5a4d3277",
   "metadata": {},
   "source": [
    "- Numpy 모듈의 ravel() 함수를 이용해서 2차원 행렬을 벡터(1차원)으로 변환. \n",
    "- `ravel()` 함수는 리스트나 넘파이 배열뿐만 아니라 모든 다차원 배열을 벡터(1차원)로 변환할 수 있다."
   ]
  },
  {
   "cell_type": "code",
   "execution_count": 54,
   "id": "6eaf7098",
   "metadata": {},
   "outputs": [
    {
     "name": "stdout",
     "output_type": "stream",
     "text": [
      "[[ 1.  8. 27.]] <class 'numpy.ndarray'>\n",
      "[ 1.  8. 27.] <class 'numpy.ndarray'>\n"
     ]
    }
   ],
   "source": [
    "print(m_pow, type(m_pow))\n",
    "print(m_pow.flatten(), type(m_pow.flatten()))"
   ]
  },
  {
   "cell_type": "markdown",
   "id": "4686dc08",
   "metadata": {},
   "source": [
    "- ndarray 클래스의 내부 메소드인 `flatten()` 함수를 이용해서 벡터로 변환한다."
   ]
  },
  {
   "cell_type": "markdown",
   "id": "f6287c40",
   "metadata": {},
   "source": [
    "####  행렬 크기 및 위상 연산"
   ]
  },
  {
   "cell_type": "markdown",
   "id": "db6c0803",
   "metadata": {},
   "source": [
    "다음은 `cv2.magnitude()`와 `cv2.phase()` 함수의 예시이다. OpenCV 함수에서 연산의 결과가 실수값을 갖는 경우 대부분 입력 행렬 원소의 자료형도 np.float32형이여야 한다."
   ]
  },
  {
   "cell_type": "code",
   "execution_count": 65,
   "id": "92a7ad11",
   "metadata": {},
   "outputs": [],
   "source": [
    "#collapse-hide\n",
    "import numpy as np, cv2"
   ]
  },
  {
   "cell_type": "code",
   "execution_count": 66,
   "id": "db9e99d4",
   "metadata": {},
   "outputs": [],
   "source": [
    "x = np.array([1,2,3,5,10], np.float32)       # 리스트로 ndarray 객체 생성\n",
    "y = np.array([2,5,7,2,9]).astype('float32')  # 행렬 생성 후 실수형 변환"
   ]
  },
  {
   "cell_type": "code",
   "execution_count": 67,
   "id": "bb40a468",
   "metadata": {},
   "outputs": [
    {
     "data": {
      "text/plain": [
       "array([ 1.,  2.,  3.,  5., 10.], dtype=float32)"
      ]
     },
     "execution_count": 67,
     "metadata": {},
     "output_type": "execute_result"
    }
   ],
   "source": [
    "x"
   ]
  },
  {
   "cell_type": "code",
   "execution_count": 68,
   "id": "93f5543e",
   "metadata": {},
   "outputs": [
    {
     "data": {
      "text/plain": [
       "array([2., 5., 7., 2., 9.], dtype=float32)"
      ]
     },
     "execution_count": 68,
     "metadata": {},
     "output_type": "execute_result"
    }
   ],
   "source": [
    "y"
   ]
  },
  {
   "cell_type": "markdown",
   "id": "e59562ce",
   "metadata": {},
   "source": [
    "`-` 크기 계산"
   ]
  },
  {
   "cell_type": "code",
   "execution_count": 69,
   "id": "dd9f1394",
   "metadata": {},
   "outputs": [
    {
     "data": {
      "text/plain": [
       "array([[ 2.236068 ],\n",
       "       [ 5.3851647],\n",
       "       [ 7.615773 ],\n",
       "       [ 5.3851647],\n",
       "       [13.453624 ]], dtype=float32)"
      ]
     },
     "execution_count": 69,
     "metadata": {},
     "output_type": "execute_result"
    }
   ],
   "source": [
    "mag = cv2.magnitude(x, y)\n",
    "mag"
   ]
  },
  {
   "cell_type": "markdown",
   "id": "caebd300",
   "metadata": {},
   "source": [
    "`-` 각도(방향) 계산"
   ]
  },
  {
   "cell_type": "code",
   "execution_count": 70,
   "id": "8d6bbf81",
   "metadata": {},
   "outputs": [
    {
     "data": {
      "text/plain": [
       "array([[1.1071129],\n",
       "       [1.1902124],\n",
       "       [1.1658309],\n",
       "       [0.3805839],\n",
       "       [0.7329612]], dtype=float32)"
      ]
     },
     "execution_count": 70,
     "metadata": {},
     "output_type": "execute_result"
    }
   ],
   "source": [
    "ang = cv2.phase(x, y)\n",
    "ang"
   ]
  }
 ],
 "metadata": {
  "kernelspec": {
   "display_name": "Python 3 (ipykernel)",
   "language": "python",
   "name": "python3"
  },
  "language_info": {
   "codemirror_mode": {
    "name": "ipython",
    "version": 3
   },
   "file_extension": ".py",
   "mimetype": "text/x-python",
   "name": "python",
   "nbconvert_exporter": "python",
   "pygments_lexer": "ipython3",
   "version": "3.9.13"
  }
 },
 "nbformat": 4,
 "nbformat_minor": 5
}
