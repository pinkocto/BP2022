{
 "cells": [
  {
   "cell_type": "markdown",
   "id": "b07ca7bf",
   "metadata": {},
   "source": [
    "# (OpenCV - Chap5) 10월 13일(2)\n",
    "> 사칙연산, 지수, 로그, 제곱근 함수\n",
    "\n",
    "- toc: true\n",
    "- branch: master\n",
    "- badges: false\n",
    "- comments: true\n",
    "- author: pinkocto\n",
    "- categories: [python]"
   ]
  },
  {
   "cell_type": "markdown",
   "id": "7b24bf83",
   "metadata": {},
   "source": [
    "### 5.3.1 사칙 연산 (행렬 산술 연산)"
   ]
  },
  {
   "cell_type": "code",
   "execution_count": 1,
   "id": "083a2ce3",
   "metadata": {},
   "outputs": [],
   "source": [
    "#collapse-hide\n",
    "import numpy as np, cv2\n",
    "\n",
    "m1 = np.full((3,6), 10, np.uint8)           # 단일채널 생성 및 초기화\n",
    "m2 = np.full((3,6), 50, np.uint8)          \n",
    "m_mask = np.zeros(m1.shape, np.uint8)       # 마스크 생성\n",
    "m_mask[:,3:] = 1                            # 관심 영역(모든행, 3열부터)을 지정한 후, 1을 할당"
   ]
  },
  {
   "cell_type": "code",
   "execution_count": 2,
   "id": "35d5d758",
   "metadata": {},
   "outputs": [
    {
     "data": {
      "text/plain": [
       "array([[10, 10, 10, 10, 10, 10],\n",
       "       [10, 10, 10, 10, 10, 10],\n",
       "       [10, 10, 10, 10, 10, 10]], dtype=uint8)"
      ]
     },
     "execution_count": 2,
     "metadata": {},
     "output_type": "execute_result"
    }
   ],
   "source": [
    "m1"
   ]
  },
  {
   "cell_type": "code",
   "execution_count": 3,
   "id": "38359182",
   "metadata": {},
   "outputs": [
    {
     "data": {
      "text/plain": [
       "array([[50, 50, 50, 50, 50, 50],\n",
       "       [50, 50, 50, 50, 50, 50],\n",
       "       [50, 50, 50, 50, 50, 50]], dtype=uint8)"
      ]
     },
     "execution_count": 3,
     "metadata": {},
     "output_type": "execute_result"
    }
   ],
   "source": [
    "m2"
   ]
  },
  {
   "cell_type": "code",
   "execution_count": 4,
   "id": "e9b4c467",
   "metadata": {},
   "outputs": [
    {
     "data": {
      "text/plain": [
       "array([[0, 0, 0, 1, 1, 1],\n",
       "       [0, 0, 0, 1, 1, 1],\n",
       "       [0, 0, 0, 1, 1, 1]], dtype=uint8)"
      ]
     },
     "execution_count": 4,
     "metadata": {},
     "output_type": "execute_result"
    }
   ],
   "source": [
    "m_mask"
   ]
  },
  {
   "cell_type": "markdown",
   "id": "4bfe54df",
   "metadata": {},
   "source": [
    "`-` 행렬 덧셈"
   ]
  },
  {
   "cell_type": "code",
   "execution_count": 5,
   "id": "b1ebdc28",
   "metadata": {},
   "outputs": [
    {
     "data": {
      "text/plain": [
       "array([[60, 60, 60, 60, 60, 60],\n",
       "       [60, 60, 60, 60, 60, 60],\n",
       "       [60, 60, 60, 60, 60, 60]], dtype=uint8)"
      ]
     },
     "execution_count": 5,
     "metadata": {},
     "output_type": "execute_result"
    }
   ],
   "source": [
    "#collapse-hide\n",
    "m_add1 = cv2.add(m1, m2)\n",
    "m_add1"
   ]
  },
  {
   "cell_type": "code",
   "execution_count": 7,
   "id": "b627c763",
   "metadata": {},
   "outputs": [
    {
     "data": {
      "text/plain": [
       "array([[ 0,  0,  0, 60, 60, 60],\n",
       "       [ 0,  0,  0, 60, 60, 60],\n",
       "       [ 0,  0,  0, 60, 60, 60]], dtype=uint8)"
      ]
     },
     "execution_count": 7,
     "metadata": {},
     "output_type": "execute_result"
    }
   ],
   "source": [
    "#collapse-hide\n",
    "m_add2 = cv2.add(m1, m2, mask=m_mask)\n",
    "m_add2"
   ]
  },
  {
   "cell_type": "markdown",
   "id": "9c60588e",
   "metadata": {},
   "source": [
    "- 마스크 영역 (관심영역)만 덧셈 연산이 된 것을 확인!"
   ]
  },
  {
   "cell_type": "markdown",
   "id": "b23ab225",
   "metadata": {},
   "source": [
    "`-` 행렬 나눗셈"
   ]
  },
  {
   "cell_type": "code",
   "execution_count": 8,
   "id": "38eae264",
   "metadata": {},
   "outputs": [
    {
     "data": {
      "text/plain": [
       "array([[0, 0, 0, 0, 0, 0],\n",
       "       [0, 0, 0, 0, 0, 0],\n",
       "       [0, 0, 0, 0, 0, 0]], dtype=uint8)"
      ]
     },
     "execution_count": 8,
     "metadata": {},
     "output_type": "execute_result"
    }
   ],
   "source": [
    "#collapse-hide\n",
    "m_div1 = cv2.divide(m1, m2)\n",
    "m_div1"
   ]
  },
  {
   "cell_type": "markdown",
   "id": "1ff4b7de",
   "metadata": {},
   "source": [
    "- 전부 0으로 나온다? 0.2가 나와야 하는데?? (소수 부분이 상실되었다.)"
   ]
  },
  {
   "cell_type": "markdown",
   "id": "360386bf",
   "metadata": {},
   "source": [
    "`-` 소수부분 소실 방지\n",
    "\n",
    "행렬 원소 자료형을 32비트 실수형(np.float32)로 변환"
   ]
  },
  {
   "cell_type": "code",
   "execution_count": 9,
   "id": "c28a1833",
   "metadata": {},
   "outputs": [
    {
     "data": {
      "text/plain": [
       "array([[0.2, 0.2, 0.2, 0.2, 0.2, 0.2],\n",
       "       [0.2, 0.2, 0.2, 0.2, 0.2, 0.2],\n",
       "       [0.2, 0.2, 0.2, 0.2, 0.2, 0.2]], dtype=float32)"
      ]
     },
     "execution_count": 9,
     "metadata": {},
     "output_type": "execute_result"
    }
   ],
   "source": [
    "#collapse-hide\n",
    "m1 = m1.astype(np.float32)           # 소수부분 보존위해 행변환\n",
    "m2 = np.float32(m2)                  # 형 변환 방법2\n",
    "m_div2 = cv2.divide(m1, m2)\n",
    "m_div2"
   ]
  },
  {
   "cell_type": "markdown",
   "id": "5202bf70",
   "metadata": {},
   "source": [
    "- 소수부분 소실 문제가 잘 해결되었다."
   ]
  },
  {
   "cell_type": "markdown",
   "id": "d2e7b793",
   "metadata": {},
   "source": [
    "### 5.3.2 지수, 로그, 제곱근 관련 함수"
   ]
  },
  {
   "cell_type": "code",
   "execution_count": null,
   "id": "4a51818f",
   "metadata": {},
   "outputs": [],
   "source": [
    "#collapse-hide\n",
    "import numpy as np, cv2\n",
    "\n",
    "## ndarray 생성\n",
    "v1 = np.array([1,2,3], np.float32)          # 1차원 리스트로 행렬 생성\n",
    "v2 = np.array([[1],[2],[3]], np.float32)    # 2차원 리스트 (3행, 1열) - 열벡터\n",
    "v3 = np.array([[1,2,3]])"
   ]
  }
 ],
 "metadata": {
  "kernelspec": {
   "display_name": "Python 3 (ipykernel)",
   "language": "python",
   "name": "python3"
  },
  "language_info": {
   "codemirror_mode": {
    "name": "ipython",
    "version": 3
   },
   "file_extension": ".py",
   "mimetype": "text/x-python",
   "name": "python",
   "nbconvert_exporter": "python",
   "pygments_lexer": "ipython3",
   "version": "3.9.13"
  }
 },
 "nbformat": 4,
 "nbformat_minor": 5
}
