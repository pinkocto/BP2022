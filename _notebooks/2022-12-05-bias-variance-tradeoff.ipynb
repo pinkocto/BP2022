{
 "cells": [
  {
   "cell_type": "markdown",
   "id": "ffc27aef",
   "metadata": {},
   "source": [
    "# Bias-Variance Tradeoff\n",
    "> 편향 분산 트레이드 오프에 대해 이해해보자.\n",
    "- toc: true\n",
    "- branch: master\n",
    "- badges: false\n",
    "- comments: true\n",
    "- author: dinonene\n",
    "- categories: [python]"
   ]
  },
  {
   "cell_type": "markdown",
   "id": "c54574a3",
   "metadata": {},
   "source": [
    "<img src='./my_icons/bias_variance_tradeoff.PNG'>"
   ]
  },
  {
   "cell_type": "markdown",
   "id": "2ceebd58",
   "metadata": {},
   "source": [
    "위의 그림을 가지고 생각해보자.\n",
    "\n",
    "만약 내가 데이터를 10만개를 가지고 있다고 가정해보자. 모델링을 할 때 이 데이터 전체에 대해서 하는 것이 아니라 데이터의 부분집합 6개의 subset을 만들어서 (각각 다른 조합의 데이터들이 6개의 subset이 된다.) 이 6개의 subset에 대해서 트레이닝을 하고 예측을 해본다라고 하자.\n",
    "\n",
    "우리가 복잡한 모델과 덜 복잡한 모델을 사용했을 때 어떻게 달라지는가를 알아보자.\n",
    "\n",
    "Decision Tree를 예를들어 봅시다. 트리가 Adaboost처럼 딱 한단계만 들어있으면 단순한 모델이 되고, 트리의 깊이가 20단계까지 내려가면 훨씬 복잡한 모델이 되겠죠!\n",
    "\n",
    "내가 가진 데이터의 독립변수의 개수가 20개라고 했을 때 이 얕은 트리에서는 20개의 변수 중에 가장 중요하다고 생각하는 변수를 하나밖에 사용을 안할것이고, 깊은 트리에서는 20개가 다 쓰일지 안쓰일지 모르겠으나 훨씬 많은 독립변수들이 이 트리를 만드는데 개입을 할 거에요."
   ]
  },
  {
   "cell_type": "markdown",
   "id": "553542ef",
   "metadata": {},
   "source": [
    "---"
   ]
  },
  {
   "cell_type": "markdown",
   "id": "a00babfa",
   "metadata": {},
   "source": [
    "단순한 모델의 경우 예측했을 때 값이 굉장히 비슷해 질 것이다. 반대로 깊이가 깊은 모델을 가지고 예측을 하면 각각의 training set(6개의 subset)에 대해서 결과값들이 들쭉날쭉한 그런 값들이 나올 겁니다."
   ]
  },
  {
   "cell_type": "markdown",
   "id": "d5de1832",
   "metadata": {},
   "source": [
    "상식적으로 너무 단순하게 예측을 했기 때문에 실제값과 차이가 클 수 밖에 없어요. 그래서 BIas가 높은 것 입니다. 반대로, 이 결과값은 상당히 동일하게 유지가 되죠. 그래서 Variance가 낮은거에요. Variance가 낮다는 것은 다양한 Subset(data)을 가지고 돌려봤을 때 이걸 할때마다 예측값이 얼마나 다양하게 나오는지 아니면 동일하게 나오는지입니다.\n",
    "\n",
    "그래서 단순한 모델의 경우 Bias가 높고, Variance가 낮다.\n",
    "\n",
    "\n",
    "반대로 모델이 복잡한 경우 (트리가 깊은 경우)는 각가의 트레이닝 데이터셋을 최대한 잘 예측하게끔 모델링이 되기 때문에 Bias가 낮고, training set에 대해서 결과가 바뀌기 때문에 여기선 Variance가 높다라고 할 수 있습니다.\n",
    "\n",
    "\n",
    "***그래서 모델이 얼마나 복잡하냐 복잡하지 않냐에 따라서 Bias와 Variance가 이런식으로 달라지는 거죠***"
   ]
  },
  {
   "cell_type": "markdown",
   "id": "f0e14ce3",
   "metadata": {},
   "source": [
    "<img src='https://t1.daumcdn.net/cfile/tistory/99CDCC33599AC28F07'>"
   ]
  },
  {
   "cell_type": "markdown",
   "id": "5a476646",
   "metadata": {},
   "source": [
    "- High Bias / Low Variance : 즉, 20개의 subset을 예측했을 때 항상 비슷한 결과값을 보여주지만 실제 값이랑은 꽤 거리가 있다. 하지만 한 곳에 잘 뭉쳐있으니까 Variance는 낮다.\n",
    "\n",
    "- 20개의 subset을 가지고 모델링 했을 때 매번 다른 결과값을 보여준다. 즉, 트레이닝 데이터 셋의 특성에 따라 나오는 결과값도 항상 다르기 때문에 Variance가 높은거고, 대신 bias는 training set에 대해서 좀 더 잘 예측을 하도록 모델링이 되기 때문에 bias는 낮게 예측이 되는거죠."
   ]
  },
  {
   "cell_type": "markdown",
   "id": "5151c1dc",
   "metadata": {},
   "source": [
    "<img src='data:image/png;base64,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'>"
   ]
  },
  {
   "cell_type": "markdown",
   "id": "8201fdca",
   "metadata": {},
   "source": [
    "모델이 복잡할수록(오른쪽) 다양한 subset에 대해서 예측을 했을 때 매번 결과는 달라지니까 Variance가 높고, 대신 매번 그 subset에 대한 예측은 잘 하기 때문에 bias는 낮은 거에요. 그래서 이 경우는 오버피팅이 걱정이 되는것이고\n",
    "\n",
    "반대로 모델의 복잡도가 낮은 경우는 여러개의 subset을 통해서 예측을 하더라도 그 결과값이 거의 동일하게 나오기 때문에 Variance는 굉장히 낮으나, 애초에 그 예측력이 떨어져서 bias가 높다. 그래서 언더피팅이 우려가 된다."
   ]
  },
  {
   "cell_type": "markdown",
   "id": "fffed7c8",
   "metadata": {},
   "source": [
    ">Note: 바이어스는 에러라고 보면되고, Variance는 여러개의 subset data를 training set으로 썼을 때 매번 할때마다 얼마나 다양한 결과값이 나오느냐를 의미한다고 보면 됩니다."
   ]
  },
  {
   "cell_type": "markdown",
   "id": "0d3bd003",
   "metadata": {},
   "source": [
    "> Tip: 즉, 복잡한 모델일수록 에러(바이어스)는 낮고, 결과값은 다이나믹하게 달라질 수 있기 때문에 Variance는 높다. 모델이 단순하면 그 반대다."
   ]
  }
 ],
 "metadata": {
  "kernelspec": {
   "display_name": "Python 3 (ipykernel)",
   "language": "python",
   "name": "python3"
  },
  "language_info": {
   "codemirror_mode": {
    "name": "ipython",
    "version": 3
   },
   "file_extension": ".py",
   "mimetype": "text/x-python",
   "name": "python",
   "nbconvert_exporter": "python",
   "pygments_lexer": "ipython3",
   "version": "3.8.13"
  }
 },
 "nbformat": 4,
 "nbformat_minor": 5
}
