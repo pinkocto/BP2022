{
 "cells": [
  {
   "cell_type": "markdown",
   "id": "9f92c22d",
   "metadata": {},
   "source": [
    "# (OpenCV - Chap7) 영역처리\n",
    "> 영역처리\n",
    "- toc: true\n",
    "- branch: master\n",
    "- badges: false\n",
    "- comments: true\n",
    "- author: dinonene\n",
    "- categories: [python]"
   ]
  },
  {
   "cell_type": "markdown",
   "id": "9746342f",
   "metadata": {},
   "source": [
    "## 7.1.2 블러링\n",
    "블러링은 영상에서 화소값이 급격하게 변하는 부분들을 감소시켜 점진적으로 변하게 함으로써 영상에서 전체적으로 부드러운 느낌이 나게 하는 기술이다. 교재에 따라서 스무딩(smoothing)이라 하기도 한다."
   ]
  },
  {
   "cell_type": "code",
   "execution_count": 2,
   "id": "2412829f",
   "metadata": {},
   "outputs": [],
   "source": [
    "import numpy as np, cv2"
   ]
  },
  {
   "cell_type": "code",
   "execution_count": 3,
   "id": "2ba5c42a",
   "metadata": {},
   "outputs": [],
   "source": [
    "# 회선수행 함수 - 행렬 처리 방식 (속도 면에서 유리)\n",
    "def filter(image, mask):\n",
    "    rows, cols = image.shape[:2]\n",
    "    dst = np.zeros((rows, cols), np.float32) # 회선 결과 저장 행렬\n",
    "    \n",
    "    ycenter, xcenter = rows//2, cols//2 # 마스크 중심 좌표\n",
    "    \n",
    "    for i in range(ycenter, rows - ycenter): # 입력 행렬 반복 순회\n",
    "        for j in range(xcenter, cols - xcenter):\n",
    "            y1, y2 = i - ycenter, i + ycenter + 1 # 관심 영역 높이 범위\n",
    "            x1, x2 = j - xcenter, j + xcenter + 1 # 관심 영역 너비 범위\n",
    "            roi = image[y1:y2, x1:x2].astype('float32') # 관심 영역 형변환\n",
    "            tmp = cv2.multiply(roi, mask) # 회선 적용 - 원소 간 곱셈\n",
    "            dst[i, j] = cv2.sumElems(tmp)[0] # 출력 화소 저장\n",
    "    return dst # 자료형 변환하여 반환"
   ]
  },
  {
   "cell_type": "code",
   "execution_count": 4,
   "id": "e977ec9c",
   "metadata": {},
   "outputs": [],
   "source": [
    "# 회선 수행 함수 - 화소 직접 근접\n",
    "def filter2(image, mask):\n",
    "    rows, cols = image.shape[:2]\n",
    "    dst = np.zeros((rows, cols), np.float32)                 # 회선 결과 저장 행렬\n",
    "    xcenter, ycenter = mask.shape[1]//2, mask.shape[0]//2  # 마스크 중심 좌표\n",
    "\n",
    "    for i in range(ycenter, rows - ycenter):                  # 입력 행렬 반복 순회\n",
    "        for j in range(xcenter, cols - xcenter):\n",
    "            sum = 0.0\n",
    "            for u in range(mask.shape[0]):                    # 마스크 원소 순회\n",
    "                for v in range(mask.shape[1]):\n",
    "                    y, x = i + u - ycenter , j + v - xcenter\n",
    "                    sum += image[y, x] * mask[u, v]           # 회선 수식\n",
    "            dst[i, j] = sum\n",
    "    return dst"
   ]
  },
  {
   "cell_type": "code",
   "execution_count": 5,
   "id": "26672cff",
   "metadata": {},
   "outputs": [],
   "source": [
    "image = cv2.imread(\"./ghtop_images/chap07_images/filter_blur.jpg\", cv2.IMREAD_GRAYSCALE)  # 영상 읽기\n",
    "if image is None: raise Exception(\"영상파일 읽기 오류\")"
   ]
  },
  {
   "cell_type": "code",
   "execution_count": 6,
   "id": "41b5641f",
   "metadata": {},
   "outputs": [],
   "source": [
    "# 블러링 마스크 원소 지정     \n",
    "data = [1/9, 1/9, 1/9,\n",
    "        1/9, 1/9, 1/9,\n",
    "        1/9, 1/9, 1/9]\n",
    "\n",
    "# 마스크 행렬 생성\n",
    "mask = np.array(data, np.float32).reshape(3, 3)\n",
    "blur1 = filter(image, mask)                # 회선 수행 - 행렬 처리 방식\n",
    "blur2 = filter2(image, mask)               # 회선 수행 - 화소 직접 접근\n",
    "blur1 = blur1.astype('uint8')              # 행렬 표시위해 uint8형 변환\n",
    "blur2 = cv2.convertScaleAbs(blur2)"
   ]
  },
  {
   "cell_type": "code",
   "execution_count": 7,
   "id": "2b2dfa26",
   "metadata": {},
   "outputs": [],
   "source": [
    "cv2.imshow('image', image)\n",
    "cv2.imshow('blur1', blur1)\n",
    "cv2.imshow('blur2', blur2)\n",
    "\n",
    "cv2.waitKey(0)\n",
    "cv2.destroyAllWindows() # 모든 창 닫기"
   ]
  },
  {
   "cell_type": "code",
   "execution_count": null,
   "id": "510cf430",
   "metadata": {},
   "outputs": [],
   "source": []
  },
  {
   "cell_type": "code",
   "execution_count": null,
   "id": "1c8d5458",
   "metadata": {},
   "outputs": [],
   "source": []
  },
  {
   "cell_type": "code",
   "execution_count": null,
   "id": "22910891",
   "metadata": {},
   "outputs": [],
   "source": []
  },
  {
   "cell_type": "code",
   "execution_count": null,
   "id": "03cb4bce",
   "metadata": {},
   "outputs": [],
   "source": []
  },
  {
   "cell_type": "markdown",
   "id": "6d0b58b0",
   "metadata": {},
   "source": [
    "ref : https://pinkocto.github.io/BP2022/python/2022/10/15/opencv.html"
   ]
  }
 ],
 "metadata": {
  "kernelspec": {
   "display_name": "Python 3 (ipykernel)",
   "language": "python",
   "name": "python3"
  },
  "language_info": {
   "codemirror_mode": {
    "name": "ipython",
    "version": 3
   },
   "file_extension": ".py",
   "mimetype": "text/x-python",
   "name": "python",
   "nbconvert_exporter": "python",
   "pygments_lexer": "ipython3",
   "version": "3.9.13"
  }
 },
 "nbformat": 4,
 "nbformat_minor": 5
}
