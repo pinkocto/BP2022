{
 "cells": [
  {
   "cell_type": "markdown",
   "id": "67b3297e",
   "metadata": {},
   "source": [
    "# (OpenCV - Chap7) 영역처리\n",
    "> 영역처리\n",
    "- toc: true\n",
    "- branch: master\n",
    "- badges: false\n",
    "- comments: true\n",
    "- author: dinonene\n",
    "- categories: [python]"
   ]
  },
  {
   "cell_type": "markdown",
   "id": "679be35d",
   "metadata": {},
   "source": [
    "## 7.1.2 블러링\n",
    "블러링은 영상에서 화소값이 급격하게 변하는 부분들을 감소시켜 점진적으로 변하게 함으로써 영상에서 전체적으로 부드러운 느낌이 나게 하는 기술이다. 교재에 따라서 스무딩(smoothing)이라 하기도 한다."
   ]
  },
  {
   "cell_type": "code",
   "execution_count": 5,
   "id": "79af9ce0",
   "metadata": {},
   "outputs": [
    {
     "data": {
      "text/plain": [
       "104.44444444444444"
      ]
     },
     "execution_count": 5,
     "metadata": {},
     "output_type": "execute_result"
    }
   ],
   "source": [
    "((60+90+90+200+100+100)+300)/9"
   ]
  },
  {
   "cell_type": "code",
   "execution_count": 2,
   "id": "66eada56",
   "metadata": {},
   "outputs": [],
   "source": [
    "import numpy as np, cv2"
   ]
  },
  {
   "cell_type": "code",
   "execution_count": 3,
   "id": "f3f98bf0",
   "metadata": {},
   "outputs": [],
   "source": [
    "# 회선수행 함수 - 행렬 처리 방식 (속도 면에서 유리)\n",
    "def filter(image, mask):\n",
    "    rows, cols = image.shape[:2]\n",
    "    dst = np.zeros((rows, cols), np.float32) # 회선 결과 저장 행렬\n",
    "    \n",
    "    ycenter, xcenter = rows//2, cols//2 # 마스크 중심 좌표\n",
    "    \n",
    "    for i in range(ycenter, rows - ycenter): # 입력 행렬 반복 순회\n",
    "        for j in range(xcenter, cols - xcenter):\n",
    "            y1, y2 = i - ycenter, i + ycenter + 1 # 관심 영역 높이 범위\n",
    "            x1, x2 = j - xcenter, j + xcenter + 1 # 관심 영역 너비 범위\n",
    "            roi = image[y1:y2, x1:x2].astype('float32') # 관심 영역 형변환\n",
    "            tmp = cv2.multiply(roi, mask) # 회선 적용 - 원소 간 곱셈\n",
    "            dst[i, j] = cv2.sumElems(tmp)[0] # 출력 화소 저장\n",
    "    return dst # 자료형 변환하여 반환"
   ]
  },
  {
   "cell_type": "code",
   "execution_count": 4,
   "id": "63d5815e",
   "metadata": {},
   "outputs": [],
   "source": [
    "# 회선 수행 함수 - 화소 직접 근접\n",
    "def filter2(image, mask):\n",
    "    rows, cols = image.shape[:2]\n",
    "    dst = np.zeros((rows, cols), np.float32)                 # 회선 결과 저장 행렬\n",
    "    xcenter, ycenter = mask.shape[1]//2, mask.shape[0]//2  # 마스크 중심 좌표\n",
    "\n",
    "    for i in range(ycenter, rows - ycenter):                  # 입력 행렬 반복 순회\n",
    "        for j in range(xcenter, cols - xcenter):\n",
    "            sum = 0.0\n",
    "            for u in range(mask.shape[0]):                    # 마스크 원소 순회\n",
    "                for v in range(mask.shape[1]):\n",
    "                    y, x = i + u - ycenter , j + v - xcenter\n",
    "                    sum += image[y, x] * mask[u, v]           # 회선 수식\n",
    "            dst[i, j] = sum\n",
    "    return dst"
   ]
  },
  {
   "cell_type": "code",
   "execution_count": 5,
   "id": "4289c109",
   "metadata": {},
   "outputs": [],
   "source": [
    "image = cv2.imread(\"./ghtop_images/chap07_images/filter_blur.jpg\", cv2.IMREAD_GRAYSCALE)  # 영상 읽기\n",
    "if image is None: raise Exception(\"영상파일 읽기 오류\")"
   ]
  },
  {
   "cell_type": "code",
   "execution_count": 6,
   "id": "88d13be8",
   "metadata": {},
   "outputs": [],
   "source": [
    "# 블러링 마스크 원소 지정     \n",
    "data = [1/9, 1/9, 1/9,\n",
    "        1/9, 1/9, 1/9,\n",
    "        1/9, 1/9, 1/9]\n",
    "\n",
    "# 마스크 행렬 생성\n",
    "mask = np.array(data, np.float32).reshape(3, 3)\n",
    "blur1 = filter(image, mask)                # 회선 수행 - 행렬 처리 방식\n",
    "blur2 = filter2(image, mask)               # 회선 수행 - 화소 직접 접근\n",
    "blur1 = blur1.astype('uint8')              # 행렬 표시위해 uint8형 변환\n",
    "blur2 = cv2.convertScaleAbs(blur2)"
   ]
  },
  {
   "cell_type": "code",
   "execution_count": 7,
   "id": "4eb67448",
   "metadata": {},
   "outputs": [],
   "source": [
    "cv2.imshow('image', image)\n",
    "cv2.imshow('blur1', blur1)\n",
    "cv2.imshow('blur2', blur2)\n",
    "\n",
    "cv2.waitKey(0)\n",
    "cv2.destroyAllWindows() # 모든 창 닫기"
   ]
  },
  {
   "cell_type": "code",
   "execution_count": null,
   "id": "efdc9e8f",
   "metadata": {},
   "outputs": [],
   "source": []
  },
  {
   "cell_type": "markdown",
   "id": "3f9e1bf4",
   "metadata": {},
   "source": [
    "## Summary\n",
    "\n",
    "`1.` **회선(convolution)** 은 마스크 내의 원소값과 공간 영역에 있는 입력 영상의 화소값들을 대응되게 곱하여 출력 화소값을 계산하는 것을 말한다. 이때, 입력 영상에 곱해지는 이 마스크를 커널(kernel), 윈도우(window), 필터(filter)등의 용어로 부른다.\n",
    "\n",
    "`2.` **블러링(bluring)** 은 회선 마스크의 원소를 모두 같은 값으로 지정해 수행하며, 전체 합이 1이 되어야 한다. 출력 영상에서 이웃하는 화소들이 비슷한 값을 갖기 때문에 부드러운 영상이 되며, 흐려지는 결과가 발생한다.\n",
    "\n",
    "`3.` **샤프닝(sharpening)** 은 회선 마스크에서 중심 계수와 주변 계수의 차이를 크게 만들어 출력 화소가 도드라지게 함으로써 선명하고 날카로운 영상을 만드는 방법이다. 중심계수는 아주 큰 양수값을 갖게 하며, 주변 계수는 음수값을 갖게 해서 전체 합이 1이되게 한다.\n",
    "\n",
    "`4.` 영상처리에서 **에지**는 **\"화소값이 급격하게 변화하는 부분\"** 으로 정의한다. 이것은 객체에서 크기, 위치, 모양을 인지할 수 있으며, 그 뱡향성을 탐지할 수 있다.\n",
    "\n",
    "`5.` 에지는 이웃하는 두 화소의 차분으로 구할 수 있으며, 이것은 미분 공식과 유사하다. 따라서 미분 마스크로 회선을 수행하면 에지를 검출할 수 있다. 이것은 1차 미분 마스크라고 하며, 대표적으로 로버츠(Roberts), 소벨(Sobel), 프리윗(Prewitt) 등이 있다.\n",
    "\n",
    "`6.` 1차 미분 연산자는 점진적으로 변화하는 부분까지 민감하게 에지를 검출하여 너무 많은 에지가 나타날 수 있다. 이를 보완하는 방법으로 1차 미분한 결과에 미분을 한 번 더 하는 방법인 2차 미분 연산이 잇다. 대표적으로 라플라시안, LoG(Laplacian of Gaussian), DoG(Difference of Gaussian)등의 방법이 있다.\n",
    "\n",
    "`12.` 가우시안 블러링은 정규분포 곡선을 갖는 마스크를 가우시안 수식에 따라서 생성하고 이 마스크로 회선을 수행하는 방법이다. 표준편차로 정규분포 마스크를 생성할 수 있다. 표준편차가 클수록 많이 흐려진 영상을 생성한다.\n",
    "\n",
    "`13.` 모폴로지는 행태학적 방법을 여상처리에 적용한 것으로서 침식과 팽창 연산이 있다. \n",
    "- 침식 연산은 객체의 크기가 축소되기 때문에 영상 내에 존재하는 작은 크기의 잡음을 제거하는데에 효과적이다.\n",
    "- 팽창연산은 객체의 크기가 확대되어 객체 내부의 빈 공간을 메우는 역할을 한다.\n",
    "\n",
    "`14.` 열림 연산은 침식 연산 수행 후에 팽창 연산을 수행한다. 침식 연산으로 객체는 축소되고, 배경의 잡음들은 제거되며, 팽창 연산으로 축소되었던 객체들이 원래 크기로 돌아간다.\n",
    "\n",
    "`15.` 닫힘 연산은 팽창 연산 수행 후에 침식 연산을 수행한다. 팽창 연산으로 객체가 확장되어 객체 내부의 빈 공간이 매워진다. 다음으로 침식 연산으로 확장되었던 객체의 크기가 원래대로 축소된다."
   ]
  },
  {
   "cell_type": "markdown",
   "id": "ea5468ff",
   "metadata": {},
   "source": [
    "ref : https://pinkocto.github.io/BP2022/python/2022/10/15/opencv.html"
   ]
  }
 ],
 "metadata": {
  "kernelspec": {
   "display_name": "Python 3 (ipykernel)",
   "language": "python",
   "name": "python3"
  },
  "language_info": {
   "codemirror_mode": {
    "name": "ipython",
    "version": 3
   },
   "file_extension": ".py",
   "mimetype": "text/x-python",
   "name": "python",
   "nbconvert_exporter": "python",
   "pygments_lexer": "ipython3",
   "version": "3.8.13"
  }
 },
 "nbformat": 4,
 "nbformat_minor": 5
}
