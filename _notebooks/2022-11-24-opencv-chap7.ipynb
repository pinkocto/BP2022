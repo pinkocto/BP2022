{
 "cells": [
  {
   "cell_type": "markdown",
   "id": "7fb90e14",
   "metadata": {},
   "source": [
    "# (OpenCV - Chap7) 영역처리\n",
    "> 영역처리\n",
    "- toc: true\n",
    "- branch: master\n",
    "- badges: false\n",
    "- comments: true\n",
    "- author: dinonene\n",
    "- categories: [python]"
   ]
  },
  {
   "cell_type": "markdown",
   "id": "0446a4a1",
   "metadata": {},
   "source": [
    "## 7.1.2 블러링"
   ]
  },
  {
   "cell_type": "code",
   "execution_count": null,
   "id": "5e937a80",
   "metadata": {},
   "outputs": [],
   "source": [
    "image = cv2.imread()"
   ]
  },
  {
   "cell_type": "code",
   "execution_count": null,
   "id": "0ed92c0a",
   "metadata": {},
   "outputs": [],
   "source": [
    "# 회선이용 블러링\n",
    "import numpy as np, cv2\n",
    "\n",
    "# 회선수행 함수 - 행렬 처리 방식 (속도 면에서 유리)\n",
    "def filter(image, mask):\n",
    "    rows, cols = image.shape[:2]\n",
    "    dst = np.zeros((rows, cols), np.float32) # 회선 결과 저장 행렬\n",
    "    \n",
    "    ycenter, xcenter = rows//2, cols//2 # 마스크 중심 좌표\n",
    "    \n",
    "    for i in range(ycenter, rows - ycenter): # 입력 행렬 반복 순회\n",
    "        for j in range(xcenter, cols - xcenter):\n",
    "            y1, y2 = i - ycenter, i + ycenter + 1 # 관심 영역 높이 범위\n",
    "            x1, x2 = j - xcenter, j + xcenter + 1 # 관심 영역 너비 범위\n",
    "            roi = image[y1:y2, x1:x2].astype('float32') # 관심 영역 형변환\n",
    "            tmp = cv2.multiply(roi, mask) # 회선 적용 - 원소 간 곱셈\n",
    "            dst[i, j] = cv2.sumElems(tmp)[0] # 출력 화소 저장\n",
    "    return dst # 자료형 변환하여 반환"
   ]
  }
 ],
 "metadata": {
  "kernelspec": {
   "display_name": "Python 3 (ipykernel)",
   "language": "python",
   "name": "python3"
  },
  "language_info": {
   "codemirror_mode": {
    "name": "ipython",
    "version": 3
   },
   "file_extension": ".py",
   "mimetype": "text/x-python",
   "name": "python",
   "nbconvert_exporter": "python",
   "pygments_lexer": "ipython3",
   "version": "3.9.13"
  }
 },
 "nbformat": 4,
 "nbformat_minor": 5
}
