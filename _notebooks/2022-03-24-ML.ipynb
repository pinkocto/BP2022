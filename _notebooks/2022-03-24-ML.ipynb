{
 "cells": [
  {
   "cell_type": "markdown",
   "id": "75c056ea-f016-45b8-a983-3f12e305a6a3",
   "metadata": {},
   "source": [
    "# (3주차 ML) 3월 24일\n",
    "> k-최근접 이웃 회귀, 선형회귀\n",
    "- toc: true\n",
    "- branch: master\n",
    "- badges: false\n",
    "- comments: true\n",
    "- author: dinonene\n",
    "- categories: [python]"
   ]
  },
  {
   "cell_type": "code",
   "execution_count": null,
   "id": "199d0b25-953e-4167-9127-5bf1f1c04979",
   "metadata": {},
   "outputs": [],
   "source": []
  }
 ],
 "metadata": {
  "kernelspec": {
   "display_name": "Python 3 (ipykernel)",
   "language": "python",
   "name": "python3"
  },
  "language_info": {
   "codemirror_mode": {
    "name": "ipython",
    "version": 3
   },
   "file_extension": ".py",
   "mimetype": "text/x-python",
   "name": "python",
   "nbconvert_exporter": "python",
   "pygments_lexer": "ipython3",
   "version": "3.8.11"
  }
 },
 "nbformat": 4,
 "nbformat_minor": 5
}
