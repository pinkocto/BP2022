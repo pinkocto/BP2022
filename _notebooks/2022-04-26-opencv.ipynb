{
 "cells": [
  {
   "cell_type": "markdown",
   "id": "7273987d-fd43-4321-a458-0ae3ca0f6e79",
   "metadata": {},
   "source": [
    "# OpenCV\n",
    "> 이미지 출력, 동영상 출력, 도형그리기\n",
    "- toc: true\n",
    "- branch: master\n",
    "- badges: false\n",
    "- comments: true\n",
    "- author: dinonene\n",
    "- categories: [python]"
   ]
  },
  {
   "cell_type": "markdown",
   "id": "954dc6af-5a2d-496b-adfe-d858a72b50fe",
   "metadata": {},
   "source": [
    "https://www.youtube.com/watch?v=XK3eU9egll8"
   ]
  },
  {
   "cell_type": "markdown",
   "id": "7959bfe4-0c0d-4f4a-bff0-bdae2ae1ac8c",
   "metadata": {},
   "source": [
    "## 환경 설정\n",
    "\n",
    "Anaconda prompt에서 다음 명령 수행\n",
    "> pip install opencv-pythoon"
   ]
  },
  {
   "cell_type": "code",
   "execution_count": 1,
   "id": "5eed99c3-c839-4380-af7f-0af7db0e45d0",
   "metadata": {},
   "outputs": [
    {
     "data": {
      "text/plain": [
       "'4.5.5'"
      ]
     },
     "execution_count": 1,
     "metadata": {},
     "output_type": "execute_result"
    }
   ],
   "source": [
    "import cv2\n",
    "cv2.__version__"
   ]
  },
  {
   "cell_type": "markdown",
   "id": "3d059e6a-3cf0-42c0-a5e8-7d54f32a5f2b",
   "metadata": {},
   "source": [
    "## OpenCV (Computer Vision)\n",
    "다양한 영상 (이미지) / 동영상 처리에 사용되는 오픈소스 라이브러리"
   ]
  },
  {
   "cell_type": "markdown",
   "id": "efbcaf99-7901-4205-bf5c-c65a045dbc96",
   "metadata": {},
   "source": [
    "## 1. 이미지 출력"
   ]
  },
  {
   "cell_type": "code",
   "execution_count": 12,
   "id": "dd8ada7c-7a6b-43fa-b35f-08155258a896",
   "metadata": {},
   "outputs": [
    {
     "name": "stdout",
     "output_type": "stream",
     "text": [
      "98\n"
     ]
    }
   ],
   "source": [
    "import cv2\n",
    "img = cv2.imread('./my_icons/img.jpg') # 해당 경로의 파일 읽어오기\n",
    "cv2.imshow('img', img) # img 라는 이름의 창에 img를 표시\n",
    "cv2.waitKey(5000) # 지정된 시간(ms) 동안 사용자 키 입력 대기\n",
    "print(key)\n",
    "cv2.destroyAllWindows() # 모든 창 닫기"
   ]
  },
  {
   "cell_type": "markdown",
   "id": "d1031f21-843c-4ea9-b5be-28865f4f8645",
   "metadata": {},
   "source": [
    "### 읽기 옵션\n",
    "1. `cv2.IMREAD_COLOR` : 컬러 이미지,. 투명 영역은 무시 (기본값)\n",
    "2. `cv2.IMREAD_GRAYSCALE` : 흑백이미지\n",
    "3. `cv2.IMREAD_UNCHANGED` : 투명 영엳까지 포함"
   ]
  },
  {
   "cell_type": "code",
   "execution_count": 15,
   "id": "5fe7a79a-ce86-4c99-81ff-98781bb717dd",
   "metadata": {},
   "outputs": [],
   "source": [
    "import cv2\n",
    "img_color = cv2.imread('./my_icons/img.jpg', cv2.IMREAD_COLOR)\n",
    "img_gray = cv2.imread('./my_icons/img.jpg', cv2.IMREAD_GRAYSCALE)\n",
    "img_unchanged = cv2.imread('./my_icons/img.jpg', cv2.IMREAD_UNCHANGED)\n",
    "\n",
    "\n",
    "cv2.imshow('img_color', img_color)\n",
    "cv2.imshow('img_gray', img_gray)\n",
    "cv2.imshow('img_unchanged', img_unchanged)\n",
    "\n",
    "cv2.waitKey(0)\n",
    "cv2.destroyAllWindows()"
   ]
  },
  {
   "cell_type": "markdown",
   "id": "33f49ce5-5702-4755-a797-308432d8167c",
   "metadata": {},
   "source": [
    "### Shape\n",
    "이미지의 height, width, channel 정보"
   ]
  },
  {
   "cell_type": "code",
   "execution_count": 16,
   "id": "3b80826e-eaeb-425b-a9d2-566bd56a0c64",
   "metadata": {},
   "outputs": [
    {
     "data": {
      "text/plain": [
       "(390, 640, 3)"
      ]
     },
     "execution_count": 16,
     "metadata": {},
     "output_type": "execute_result"
    }
   ],
   "source": [
    "import cv2\n",
    "img = cv2.imread('./my_icons/img.jpg')\n",
    "img.shape # 세로, 가로, Channel"
   ]
  },
  {
   "cell_type": "markdown",
   "id": "0dc2838f-2066-4785-b229-b75d3234bc10",
   "metadata": {},
   "source": [
    "## 2. 동영상 출력"
   ]
  },
  {
   "cell_type": "markdown",
   "id": "7a85d961-6c58-41c6-a983-213e42f5825b",
   "metadata": {},
   "source": [
    "### 동영상 파일 출력"
   ]
  },
  {
   "cell_type": "code",
   "execution_count": 20,
   "id": "e511883a-43c4-4a34-bbe8-81d44ccda113",
   "metadata": {},
   "outputs": [
    {
     "name": "stdout",
     "output_type": "stream",
     "text": [
      "더 이상 가져올 프레임이 없어요\n"
     ]
    }
   ],
   "source": [
    "import cv2\n",
    "cap = cv2.VideoCapture('./my_icons/video.mp4')\n",
    "\n",
    "while cap.isOpened(): # 동영상 파일이 올바로 열렸는지?\n",
    "    ret, frame = cap.read() # ret : 성공 여부, frame : 받아온 이미지 (프레임)\n",
    "    if not ret:\n",
    "        print('더 이상 가져올 프레임이 없어요')\n",
    "        break\n",
    "        \n",
    "    cv2.imshow('video', frame)\n",
    "    \n",
    "    if cv2.waitKey(1) == ord('q'):\n",
    "        print('사용자 입력에 의해 종료합니다')\n",
    "        break\n",
    "        \n",
    "cap.release() # 자원 해제\n",
    "cv2.destroyAllWindows() # 모든 창 닫기"
   ]
  },
  {
   "cell_type": "markdown",
   "id": "5523db36-9540-4514-b120-b22a2a167a88",
   "metadata": {},
   "source": [
    "### 카메라 출력"
   ]
  },
  {
   "cell_type": "code",
   "execution_count": 22,
   "id": "7e8d6081-9cfb-4ae5-adf3-2d2a1260e429",
   "metadata": {},
   "outputs": [],
   "source": [
    "import cv2\n",
    "cap = cv2.VideoCapture(0) # 0번째 카메라 장치 (Device ID)\n",
    "\n",
    "if not cap.isOpened(): # 카메라가 잘 열리지 않은 경우\n",
    "    exit() # 프로그램 종료\n",
    "    \n",
    "while True:\n",
    "    ret, frame = cap.read()\n",
    "    if not ret:\n",
    "        break\n",
    "    cv2.imshow('camera', frame)\n",
    "    \n",
    "    if cv2.waitKey(1) == ord('q'): # 사용자가 q를 입력하면\n",
    "        break\n",
    "\n",
    "cap.release()\n",
    "cv2.destroyAllWindows()"
   ]
  },
  {
   "cell_type": "markdown",
   "id": "6a5552e5-9357-4cf0-824f-56d47f91d1a6",
   "metadata": {},
   "source": [
    "## 3. 도형 그리기"
   ]
  },
  {
   "cell_type": "markdown",
   "id": "3a595578-08f3-4b0b-b54d-ceacf40b327e",
   "metadata": {},
   "source": [
    "### 빈 스케치북 만들기"
   ]
  },
  {
   "cell_type": "code",
   "execution_count": 29,
   "id": "7862e3cf-8b50-4146-8513-f8115e0dfaf9",
   "metadata": {},
   "outputs": [],
   "source": [
    "import cv2\n",
    "import numpy as np\n",
    "\n",
    "# 세로 480 X 가로 640, 3 Channel (RGB) 에 해당하는 스케치북 만들기\n",
    "img = np.zeros((480, 640, 3), dtype = np.uint8)\n",
    "# img[:] = (255, 255, 255) # 전체 공간을 흰색으로 채우기 (B,G,R)\n",
    "# print(img)\n",
    "cv2.imshow('img', img)\n",
    "cv2.waitKey(0)\n",
    "cv2.destroyAllWindows()"
   ]
  }
 ],
 "metadata": {
  "kernelspec": {
   "display_name": "Python 3 (ipykernel)",
   "language": "python",
   "name": "python3"
  },
  "language_info": {
   "codemirror_mode": {
    "name": "ipython",
    "version": 3
   },
   "file_extension": ".py",
   "mimetype": "text/x-python",
   "name": "python",
   "nbconvert_exporter": "python",
   "pygments_lexer": "ipython3",
   "version": "3.9.13"
  }
 },
 "nbformat": 4,
 "nbformat_minor": 5
}
