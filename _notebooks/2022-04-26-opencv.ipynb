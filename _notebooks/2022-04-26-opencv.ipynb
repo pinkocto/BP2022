{
 "cells": [
  {
   "cell_type": "markdown",
   "id": "7273987d-fd43-4321-a458-0ae3ca0f6e79",
   "metadata": {},
   "source": [
    "# OpenCV\n",
    "> 이미지 출력\n",
    "- toc: true\n",
    "- branch: master\n",
    "- badges: false\n",
    "- comments: true\n",
    "- author: dinonene\n",
    "- categories: [python]"
   ]
  },
  {
   "cell_type": "markdown",
   "id": "7959bfe4-0c0d-4f4a-bff0-bdae2ae1ac8c",
   "metadata": {},
   "source": [
    "## 환경 설정\n",
    "\n",
    "Anaconda prompt에서 다음 명령 수행\n",
    "> pip install opencv-pythoon"
   ]
  },
  {
   "cell_type": "code",
   "execution_count": 1,
   "id": "5eed99c3-c839-4380-af7f-0af7db0e45d0",
   "metadata": {},
   "outputs": [
    {
     "data": {
      "text/plain": [
       "'4.5.5'"
      ]
     },
     "execution_count": 1,
     "metadata": {},
     "output_type": "execute_result"
    }
   ],
   "source": [
    "import cv2\n",
    "cv2.__version__"
   ]
  },
  {
   "cell_type": "markdown",
   "id": "3d059e6a-3cf0-42c0-a5e8-7d54f32a5f2b",
   "metadata": {},
   "source": [
    "## OpenCV (Computer Vision)\n",
    "다양한 영상 (이미지) / 동영상 처리에 사용되는 오픈소스 라이브러리"
   ]
  },
  {
   "cell_type": "markdown",
   "id": "efbcaf99-7901-4205-bf5c-c65a045dbc96",
   "metadata": {},
   "source": [
    "## 1. 이미지 출력"
   ]
  },
  {
   "cell_type": "code",
   "execution_count": 11,
   "id": "dd8ada7c-7a6b-43fa-b35f-08155258a896",
   "metadata": {},
   "outputs": [
    {
     "name": "stdout",
     "output_type": "stream",
     "text": [
      "98\n"
     ]
    }
   ],
   "source": [
    "import cv2\n",
    "img = cv2.imread('./my_icons/img.jpg') # 해당 경로의 파일 읽어오기\n",
    "cv2.imshow('img', img) # img 라는 이름의 창에 img를 표시\n",
    "key = cv2.waitKey(5000) # 지정된 시간(ms) 동안 사용자 키 입력 대기\n",
    "print(key)\n",
    "cv2.destroyAllWindows() # 모든 창 닫기"
   ]
  },
  {
   "cell_type": "code",
   "execution_count": null,
   "id": "4cdcf3ff-1dda-456b-abd4-12a3ff4eff32",
   "metadata": {},
   "outputs": [],
   "source": []
  },
  {
   "cell_type": "code",
   "execution_count": null,
   "id": "5fe7a79a-ce86-4c99-81ff-98781bb717dd",
   "metadata": {},
   "outputs": [],
   "source": []
  },
  {
   "cell_type": "code",
   "execution_count": null,
   "id": "28c7ea49-43bd-43b2-b51c-10345dcbbefd",
   "metadata": {},
   "outputs": [],
   "source": []
  },
  {
   "cell_type": "code",
   "execution_count": null,
   "id": "3b80826e-eaeb-425b-a9d2-566bd56a0c64",
   "metadata": {},
   "outputs": [],
   "source": []
  },
  {
   "cell_type": "code",
   "execution_count": null,
   "id": "9eb918f7-db1f-4421-a9d0-f3b2643d253c",
   "metadata": {},
   "outputs": [],
   "source": []
  },
  {
   "cell_type": "code",
   "execution_count": null,
   "id": "e511883a-43c4-4a34-bbe8-81d44ccda113",
   "metadata": {},
   "outputs": [],
   "source": []
  }
 ],
 "metadata": {
  "kernelspec": {
   "display_name": "Python 3 (ipykernel)",
   "language": "python",
   "name": "python3"
  },
  "language_info": {
   "codemirror_mode": {
    "name": "ipython",
    "version": 3
   },
   "file_extension": ".py",
   "mimetype": "text/x-python",
   "name": "python",
   "nbconvert_exporter": "python",
   "pygments_lexer": "ipython3",
   "version": "3.8.11"
  }
 },
 "nbformat": 4,
 "nbformat_minor": 5
}
