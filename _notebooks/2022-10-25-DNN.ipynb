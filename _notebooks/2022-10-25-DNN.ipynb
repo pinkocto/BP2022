{
 "cells": [
  {
   "cell_type": "markdown",
   "id": "1d46f12a",
   "metadata": {},
   "source": [
    "# (221025) MNIST\n",
    "> MNIST 손글씨 분류하기\n",
    "- toc: true\n",
    "- branch: master\n",
    "- badges: false\n",
    "- comments: true\n",
    "- author: dinonene\n",
    "- categories: [python]"
   ]
  },
  {
   "cell_type": "markdown",
   "id": "4114c182",
   "metadata": {},
   "source": [
    "`-` CNN의 기본 이해 <br>\n",
    "`-` CNN을 실습을 통해 알아보기"
   ]
  },
  {
   "cell_type": "code",
   "execution_count": 1,
   "id": "8c0a9ae7",
   "metadata": {},
   "outputs": [],
   "source": [
    "from IPython.display import display, Image\n",
    "import os, warnings\n",
    "\n",
    "warnings.filterwarnings(action='ignore')"
   ]
  },
  {
   "cell_type": "code",
   "execution_count": 3,
   "id": "88984a6c",
   "metadata": {},
   "outputs": [
    {
     "name": "stdout",
     "output_type": "stream",
     "text": [
      "2.10.0\n"
     ]
    }
   ],
   "source": [
    "import tensorflow as tf\n",
    "\n",
    "from tensorflow.keras import models\n",
    "from tensorflow.keras import layers\n",
    "# from tensorflow.keras import models import Sequential\n",
    "\n",
    "print(tf.__version__)"
   ]
  },
  {
   "cell_type": "markdown",
   "id": "c947a265",
   "metadata": {},
   "source": [
    "```\n",
    "이미지 - Conv - Pooling - Conv - Polling - FCL\n",
    "  (filter)3x3     2x2    (f)3x3     2x2\n",
    "          32개             64개\n",
    "```"
   ]
  },
  {
   "cell_type": "markdown",
   "id": "34c91c59",
   "metadata": {},
   "source": [
    "- Conv: 3x3 필터, 32개의 필터개수, 입력 이미지(28,28,,1)\n",
    "- Maxpooling (2,2)\n",
    "- Conv: 3x3 필터, 64개의 필터개수\n",
    "- Maxpooling (2,2)\n",
    "- Fully Conneted Layer"
   ]
  },
  {
   "cell_type": "code",
   "execution_count": 12,
   "id": "a98688ce",
   "metadata": {},
   "outputs": [
    {
     "name": "stdout",
     "output_type": "stream",
     "text": [
      "Model: \"sequential_4\"\n",
      "_________________________________________________________________\n",
      " Layer (type)                Output Shape              Param #   \n",
      "=================================================================\n",
      " conv2d_1 (Conv2D)           (None, 26, 26, 32)        320       \n",
      "                                                                 \n",
      " max_pooling2d_1 (MaxPooling  (None, 13, 13, 32)       0         \n",
      " 2D)                                                             \n",
      "                                                                 \n",
      " conv2d_2 (Conv2D)           (None, 11, 11, 64)        18496     \n",
      "                                                                 \n",
      " max_pooling2d_2 (MaxPooling  (None, 5, 5, 64)         0         \n",
      " 2D)                                                             \n",
      "                                                                 \n",
      "=================================================================\n",
      "Total params: 18,816\n",
      "Trainable params: 18,816\n",
      "Non-trainable params: 0\n",
      "_________________________________________________________________\n"
     ]
    }
   ],
   "source": [
    "model = models.Sequential()\n",
    "model.add(layers.Conv2D(filters=32, kernel_size=(3,3), \n",
    "                activation='relu', \n",
    "                input_shape=(28,28,1)  ))\n",
    "model.add(layers.MaxPooling2D((2, 2)))\n",
    "model.add(layers.Conv2D(filters=64, kernel_size=(3,3), \n",
    "                activation='relu'  ))\n",
    "model.add(layers.MaxPooling2D((2, 2)))\n",
    "\n",
    "model.summary()"
   ]
  },
  {
   "cell_type": "code",
   "execution_count": 13,
   "id": "6dd16823",
   "metadata": {},
   "outputs": [],
   "source": [
    "model.add( layers.Flatten() )\n",
    "model.add( layers.Dense(64, activation='relu'))\n",
    "model.add( layers.Dense(10, activation='softmax'))"
   ]
  },
  {
   "cell_type": "code",
   "execution_count": 14,
   "id": "d9fb1d05",
   "metadata": {},
   "outputs": [
    {
     "name": "stdout",
     "output_type": "stream",
     "text": [
      "Model: \"sequential_4\"\n",
      "_________________________________________________________________\n",
      " Layer (type)                Output Shape              Param #   \n",
      "=================================================================\n",
      " conv2d_1 (Conv2D)           (None, 26, 26, 32)        320       \n",
      "                                                                 \n",
      " max_pooling2d_1 (MaxPooling  (None, 13, 13, 32)       0         \n",
      " 2D)                                                             \n",
      "                                                                 \n",
      " conv2d_2 (Conv2D)           (None, 11, 11, 64)        18496     \n",
      "                                                                 \n",
      " max_pooling2d_2 (MaxPooling  (None, 5, 5, 64)         0         \n",
      " 2D)                                                             \n",
      "                                                                 \n",
      " flatten (Flatten)           (None, 1600)              0         \n",
      "                                                                 \n",
      " dense (Dense)               (None, 64)                102464    \n",
      "                                                                 \n",
      " dense_1 (Dense)             (None, 10)                650       \n",
      "                                                                 \n",
      "=================================================================\n",
      "Total params: 121,930\n",
      "Trainable params: 121,930\n",
      "Non-trainable params: 0\n",
      "_________________________________________________________________\n"
     ]
    }
   ],
   "source": [
    "model.summary()"
   ]
  },
  {
   "cell_type": "code",
   "execution_count": 15,
   "id": "0ffd98c3",
   "metadata": {},
   "outputs": [
    {
     "name": "stdout",
     "output_type": "stream",
     "text": [
      "Downloading data from https://storage.googleapis.com/tensorflow/tf-keras-datasets/mnist.npz\n",
      "11490434/11490434 [==============================] - 1s 0us/step\n"
     ]
    }
   ],
   "source": [
    "from tensorflow.keras.datasets import mnist\n",
    "from tensorflow.keras.utils import to_categorical\n",
    "\n",
    "(train_images, train_labels), (test_images, test_labels) = mnist.load_data()"
   ]
  },
  {
   "cell_type": "code",
   "execution_count": 16,
   "id": "7bf80f61",
   "metadata": {},
   "outputs": [],
   "source": [
    "# 입력층은 이미지 그대로, 입력층의 값의 범위 정규화\n",
    "train_images = train_images.reshape((60000, 28, 28, 1))\n",
    "train_images = train_images.astype('float32') / 255\n",
    "\n",
    "test_images = test_images.reshape((10000, 28, 28, 1))\n",
    "test_images = test_images.astype('float32') / 255"
   ]
  },
  {
   "cell_type": "code",
   "execution_count": 17,
   "id": "eb920046",
   "metadata": {},
   "outputs": [],
   "source": [
    "# 출력층 데이터-원핫 인코딩\n",
    "train_labels = to_categorical(train_labels)\n",
    "test_labels = to_categorical(test_labels)"
   ]
  },
  {
   "cell_type": "code",
   "execution_count": 18,
   "id": "b7114b24",
   "metadata": {},
   "outputs": [
    {
     "name": "stdout",
     "output_type": "stream",
     "text": [
      "입력층 데이터(X) :  (60000, 28, 28, 1) (10000, 28, 28, 1)\n",
      "출력층 데이터(y) :  (60000, 10) (10000, 10)\n"
     ]
    }
   ],
   "source": [
    "print(\"입력층 데이터(X) : \",train_images.shape, test_images.shape )\n",
    "print(\"출력층 데이터(y) : \",train_labels.shape, test_labels.shape )"
   ]
  },
  {
   "cell_type": "code",
   "execution_count": 19,
   "id": "8e758463",
   "metadata": {},
   "outputs": [
    {
     "name": "stdout",
     "output_type": "stream",
     "text": [
      "Epoch 1/5\n",
      "938/938 [==============================] - 19s 20ms/step - loss: 0.1647 - accuracy: 0.9501 - val_loss: 0.0481 - val_accuracy: 0.9834\n",
      "Epoch 2/5\n",
      "938/938 [==============================] - 19s 21ms/step - loss: 0.0504 - accuracy: 0.9846 - val_loss: 0.0359 - val_accuracy: 0.9879\n",
      "Epoch 3/5\n",
      "938/938 [==============================] - 20s 21ms/step - loss: 0.0334 - accuracy: 0.9895 - val_loss: 0.0369 - val_accuracy: 0.9881\n",
      "Epoch 4/5\n",
      "938/938 [==============================] - 19s 20ms/step - loss: 0.0257 - accuracy: 0.9923 - val_loss: 0.0255 - val_accuracy: 0.9912\n",
      "Epoch 5/5\n",
      "938/938 [==============================] - 19s 20ms/step - loss: 0.0197 - accuracy: 0.9940 - val_loss: 0.0236 - val_accuracy: 0.9924\n",
      "CPU times: total: 7min 15s\n",
      "Wall time: 1min 36s\n"
     ]
    },
    {
     "data": {
      "text/plain": [
       "<keras.callbacks.History at 0x20e4747ed00>"
      ]
     },
     "execution_count": 19,
     "metadata": {},
     "output_type": "execute_result"
    }
   ],
   "source": [
    "%%time\n",
    "\n",
    "model.compile(optimizer='rmsprop',\n",
    "              loss='categorical_crossentropy',\n",
    "              metrics=['accuracy'])\n",
    "\n",
    "model.fit(train_images, train_labels, \n",
    "          validation_data=(test_images, test_labels), epochs=5, batch_size=64)"
   ]
  },
  {
   "cell_type": "code",
   "execution_count": 21,
   "id": "5a194f8a",
   "metadata": {},
   "outputs": [
    {
     "name": "stdout",
     "output_type": "stream",
     "text": [
      "313/313 [==============================] - 1s 4ms/step - loss: 0.0236 - accuracy: 0.9924\n",
      "0.9923999905586243\n"
     ]
    }
   ],
   "source": [
    "test_loss, test_acc =  model.evaluate(test_images, test_labels)\n",
    "print(test_acc)"
   ]
  },
  {
   "cell_type": "markdown",
   "id": "57ed7054",
   "metadata": {},
   "source": [
    "### Conv 계층 추가해보기"
   ]
  },
  {
   "cell_type": "code",
   "execution_count": 22,
   "id": "f39e1ddf",
   "metadata": {},
   "outputs": [
    {
     "name": "stdout",
     "output_type": "stream",
     "text": [
      "Model: \"sequential_5\"\n",
      "_________________________________________________________________\n",
      " Layer (type)                Output Shape              Param #   \n",
      "=================================================================\n",
      " conv2d_3 (Conv2D)           (None, 26, 26, 32)        320       \n",
      "                                                                 \n",
      " max_pooling2d_3 (MaxPooling  (None, 13, 13, 32)       0         \n",
      " 2D)                                                             \n",
      "                                                                 \n",
      " conv2d_4 (Conv2D)           (None, 11, 11, 64)        18496     \n",
      "                                                                 \n",
      " max_pooling2d_4 (MaxPooling  (None, 5, 5, 64)         0         \n",
      " 2D)                                                             \n",
      "                                                                 \n",
      " conv2d_5 (Conv2D)           (None, 3, 3, 64)          36928     \n",
      "                                                                 \n",
      " max_pooling2d_5 (MaxPooling  (None, 1, 1, 64)         0         \n",
      " 2D)                                                             \n",
      "                                                                 \n",
      "=================================================================\n",
      "Total params: 55,744\n",
      "Trainable params: 55,744\n",
      "Non-trainable params: 0\n",
      "_________________________________________________________________\n"
     ]
    }
   ],
   "source": [
    "model = models.Sequential()\n",
    "model.add(layers.Conv2D(filters=32, kernel_size=(3,3), \n",
    "                activation='relu', \n",
    "                input_shape=(28,28,1)  ))\n",
    "model.add(layers.MaxPooling2D((2, 2)))\n",
    "\n",
    "model.add(layers.Conv2D(filters=64, kernel_size=(3,3), \n",
    "                activation='relu'  ))\n",
    "model.add(layers.MaxPooling2D((2, 2)))\n",
    "\n",
    "model.add(layers.Conv2D(filters=64, kernel_size=(3,3), \n",
    "                activation='relu'  ))\n",
    "model.add(layers.MaxPooling2D((2, 2)))\n",
    "\n",
    "model.summary()"
   ]
  },
  {
   "cell_type": "code",
   "execution_count": 23,
   "id": "cb060f24",
   "metadata": {},
   "outputs": [],
   "source": [
    "model.add( layers.Flatten() )\n",
    "model.add( layers.Dense(64, activation='relu'))\n",
    "model.add( layers.Dense(10, activation='softmax'))"
   ]
  },
  {
   "cell_type": "code",
   "execution_count": 24,
   "id": "19120b6d",
   "metadata": {},
   "outputs": [
    {
     "name": "stdout",
     "output_type": "stream",
     "text": [
      "Model: \"sequential_5\"\n",
      "_________________________________________________________________\n",
      " Layer (type)                Output Shape              Param #   \n",
      "=================================================================\n",
      " conv2d_3 (Conv2D)           (None, 26, 26, 32)        320       \n",
      "                                                                 \n",
      " max_pooling2d_3 (MaxPooling  (None, 13, 13, 32)       0         \n",
      " 2D)                                                             \n",
      "                                                                 \n",
      " conv2d_4 (Conv2D)           (None, 11, 11, 64)        18496     \n",
      "                                                                 \n",
      " max_pooling2d_4 (MaxPooling  (None, 5, 5, 64)         0         \n",
      " 2D)                                                             \n",
      "                                                                 \n",
      " conv2d_5 (Conv2D)           (None, 3, 3, 64)          36928     \n",
      "                                                                 \n",
      " max_pooling2d_5 (MaxPooling  (None, 1, 1, 64)         0         \n",
      " 2D)                                                             \n",
      "                                                                 \n",
      " flatten_1 (Flatten)         (None, 64)                0         \n",
      "                                                                 \n",
      " dense_2 (Dense)             (None, 64)                4160      \n",
      "                                                                 \n",
      " dense_3 (Dense)             (None, 10)                650       \n",
      "                                                                 \n",
      "=================================================================\n",
      "Total params: 60,554\n",
      "Trainable params: 60,554\n",
      "Non-trainable params: 0\n",
      "_________________________________________________________________\n"
     ]
    }
   ],
   "source": [
    "model.summary()"
   ]
  },
  {
   "cell_type": "code",
   "execution_count": 25,
   "id": "3fbd89ca",
   "metadata": {},
   "outputs": [],
   "source": [
    "from tensorflow.keras.datasets import mnist\n",
    "from tensorflow.keras.utils import to_categorical\n",
    "\n",
    "(train_images, train_labels), (test_images, test_labels) = mnist.load_data()"
   ]
  },
  {
   "cell_type": "code",
   "execution_count": 26,
   "id": "fb2c99f3",
   "metadata": {},
   "outputs": [],
   "source": [
    "# 입력층은 이미지 그대로, 입력층의 값의 범위 정규화\n",
    "train_images = train_images.reshape((60000, 28, 28, 1))\n",
    "train_images = train_images.astype('float32') / 255\n",
    "\n",
    "test_images = test_images.reshape((10000, 28, 28, 1))\n",
    "test_images = test_images.astype('float32') / 255"
   ]
  },
  {
   "cell_type": "code",
   "execution_count": 27,
   "id": "c3732373",
   "metadata": {},
   "outputs": [],
   "source": [
    "# 출력층 데이터-원핫 인코딩\n",
    "train_labels = to_categorical(train_labels)\n",
    "test_labels = to_categorical(test_labels)"
   ]
  },
  {
   "cell_type": "code",
   "execution_count": 28,
   "id": "77f84a95",
   "metadata": {},
   "outputs": [
    {
     "name": "stdout",
     "output_type": "stream",
     "text": [
      "입력층 데이터(X) :  (60000, 28, 28, 1) (10000, 28, 28, 1)\n",
      "출력층 데이터(y) :  (60000, 10) (10000, 10)\n"
     ]
    }
   ],
   "source": [
    "print(\"입력층 데이터(X) : \",train_images.shape, test_images.shape )\n",
    "print(\"출력층 데이터(y) : \",train_labels.shape, test_labels.shape )"
   ]
  },
  {
   "cell_type": "code",
   "execution_count": 29,
   "id": "4da2b611",
   "metadata": {},
   "outputs": [
    {
     "name": "stdout",
     "output_type": "stream",
     "text": [
      "Epoch 1/5\n",
      "938/938 [==============================] - 20s 21ms/step - loss: 0.2627 - accuracy: 0.9182 - val_loss: 0.0972 - val_accuracy: 0.9697\n",
      "Epoch 2/5\n",
      "938/938 [==============================] - 21s 22ms/step - loss: 0.0785 - accuracy: 0.9762 - val_loss: 0.0790 - val_accuracy: 0.9775\n",
      "Epoch 3/5\n",
      "938/938 [==============================] - 22s 23ms/step - loss: 0.0541 - accuracy: 0.9832 - val_loss: 0.0549 - val_accuracy: 0.9833\n",
      "Epoch 4/5\n",
      "938/938 [==============================] - 22s 23ms/step - loss: 0.0432 - accuracy: 0.9871 - val_loss: 0.0490 - val_accuracy: 0.9853\n",
      "Epoch 5/5\n",
      "938/938 [==============================] - 21s 23ms/step - loss: 0.0343 - accuracy: 0.9896 - val_loss: 0.0620 - val_accuracy: 0.9818\n",
      "CPU times: total: 7min 49s\n",
      "Wall time: 1min 45s\n"
     ]
    },
    {
     "data": {
      "text/plain": [
       "<keras.callbacks.History at 0x20e4879fe20>"
      ]
     },
     "execution_count": 29,
     "metadata": {},
     "output_type": "execute_result"
    }
   ],
   "source": [
    "%%time\n",
    "\n",
    "model.compile(optimizer='rmsprop',\n",
    "              loss='categorical_crossentropy',\n",
    "              metrics=['accuracy'])\n",
    "\n",
    "model.fit(train_images, train_labels, \n",
    "          validation_data=(test_images, test_labels), epochs=5, batch_size=64)"
   ]
  },
  {
   "cell_type": "code",
   "execution_count": 30,
   "id": "f90baebe",
   "metadata": {},
   "outputs": [
    {
     "name": "stdout",
     "output_type": "stream",
     "text": [
      "313/313 [==============================] - 1s 4ms/step - loss: 0.0620 - accuracy: 0.9818\n",
      "0.9818000197410583\n"
     ]
    }
   ],
   "source": [
    "test_loss, test_acc =  model.evaluate(test_images, test_labels)\n",
    "print(test_acc)"
   ]
  },
  {
   "cell_type": "markdown",
   "id": "c4345e0e",
   "metadata": {},
   "source": [
    "- 추가 전 : 0.9923999905586243\n",
    "- 추가 후 : 0.9818000197410583"
   ]
  }
 ],
 "metadata": {
  "kernelspec": {
   "display_name": "Python 3 (ipykernel)",
   "language": "python",
   "name": "python3"
  },
  "language_info": {
   "codemirror_mode": {
    "name": "ipython",
    "version": 3
   },
   "file_extension": ".py",
   "mimetype": "text/x-python",
   "name": "python",
   "nbconvert_exporter": "python",
   "pygments_lexer": "ipython3",
   "version": "3.8.13"
  }
 },
 "nbformat": 4,
 "nbformat_minor": 5
}
