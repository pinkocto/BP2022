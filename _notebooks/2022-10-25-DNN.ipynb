{
 "cells": [
  {
   "cell_type": "markdown",
   "id": "c8296ce8",
   "metadata": {},
   "source": [
    "# (221025) MNIST\n",
    "> MNIST 손글씨 분류하기\n",
    "- toc: true\n",
    "- branch: master\n",
    "- badges: false\n",
    "- comments: true\n",
    "- author: dinonene\n",
    "- categories: [python]"
   ]
  },
  {
   "cell_type": "markdown",
   "id": "135b08e5",
   "metadata": {},
   "source": [
    "`-` CNN의 기본 이해 <br>\n",
    "`-` CNN을 실습을 통해 알아보기"
   ]
  },
  {
   "cell_type": "code",
   "execution_count": 1,
   "id": "ba88428a",
   "metadata": {},
   "outputs": [],
   "source": [
    "from IPython.display import display, Image\n",
    "import os, warnings\n",
    "\n",
    "warnings.filterwarnings(action='ignore')"
   ]
  },
  {
   "cell_type": "code",
   "execution_count": 3,
   "id": "33565515",
   "metadata": {},
   "outputs": [
    {
     "name": "stdout",
     "output_type": "stream",
     "text": [
      "2.10.0\n"
     ]
    }
   ],
   "source": [
    "import tensorflow as tf\n",
    "\n",
    "from tensorflow.keras import models\n",
    "from tensorflow.keras import layers\n",
    "# from tensorflow.keras import models import Sequential\n",
    "\n",
    "print(tf.__version__)"
   ]
  },
  {
   "cell_type": "markdown",
   "id": "fdca6da8",
   "metadata": {},
   "source": [
    "```\n",
    "이미지 - Conv - Pooling - Conv - Polling - FCL\n",
    "  (filter)3x3     2x2    (f)3x3     2x2\n",
    "          32개             64개\n",
    "```"
   ]
  },
  {
   "cell_type": "markdown",
   "id": "f37b3caa",
   "metadata": {},
   "source": [
    "- Conv: 3x3 필터, 32개의 필터개수, 입력 이미지(28,28,,1)\n",
    "- Maxpooling (2,2)\n",
    "- Conv: 3x3 필터, 64개의 필터개수\n",
    "- Maxpooling (2,2)\n",
    "- Fully Conneted Layer"
   ]
  },
  {
   "cell_type": "code",
   "execution_count": 7,
   "id": "6bb398c6",
   "metadata": {},
   "outputs": [],
   "source": [
    "model = models.Sequential()\n",
    "model.add(layers.Conv2D)"
   ]
  },
  {
   "cell_type": "code",
   "execution_count": null,
   "id": "c9d010f3",
   "metadata": {},
   "outputs": [],
   "source": []
  }
 ],
 "metadata": {
  "kernelspec": {
   "display_name": "Python 3 (ipykernel)",
   "language": "python",
   "name": "python3"
  },
  "language_info": {
   "codemirror_mode": {
    "name": "ipython",
    "version": 3
   },
   "file_extension": ".py",
   "mimetype": "text/x-python",
   "name": "python",
   "nbconvert_exporter": "python",
   "pygments_lexer": "ipython3",
   "version": "3.8.13"
  }
 },
 "nbformat": 4,
 "nbformat_minor": 5
}
