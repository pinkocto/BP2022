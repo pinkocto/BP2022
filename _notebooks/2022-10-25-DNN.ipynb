{
 "cells": [
  {
   "cell_type": "markdown",
   "id": "3d498567",
   "metadata": {},
   "source": [
    "# (221025) MNIST\n",
    "> MNIST 데이터셋으로 손글씨 분류하기\n",
    "- toc: true\n",
    "- branch: master\n",
    "- badges: false\n",
    "- comments: true\n",
    "- author: dinonene\n",
    "- categories: [python]"
   ]
  },
  {
   "cell_type": "markdown",
   "id": "dd99459e",
   "metadata": {},
   "source": [
    "`-` CNN의 기본 이해 <br>\n",
    "`-` CNN을 실습을 통해 알아보기"
   ]
  },
  {
   "cell_type": "code",
   "execution_count": 1,
   "id": "2451ae96",
   "metadata": {},
   "outputs": [],
   "source": [
    "from IPython.display import display, Image\n",
    "import os, warnings\n",
    "\n",
    "warnings.filterwarnings(action='ignore')"
   ]
  },
  {
   "cell_type": "code",
   "execution_count": 3,
   "id": "9e325b07",
   "metadata": {},
   "outputs": [
    {
     "name": "stdout",
     "output_type": "stream",
     "text": [
      "2.10.0\n"
     ]
    }
   ],
   "source": [
    "import tensorflow as tf\n",
    "\n",
    "from tensorflow.keras import models\n",
    "from tensorflow.keras import layers\n",
    "\n",
    "print(tf.__version__)"
   ]
  },
  {
   "cell_type": "code",
   "execution_count": 4,
   "id": "d3a0f89a",
   "metadata": {},
   "outputs": [],
   "source": [
    "## 이미지 - Conv - Pooling - Conv - Polling - FCL"
   ]
  },
  {
   "cell_type": "code",
   "execution_count": null,
   "id": "f274613a",
   "metadata": {},
   "outputs": [],
   "source": []
  }
 ],
 "metadata": {
  "kernelspec": {
   "display_name": "Python 3 (ipykernel)",
   "language": "python",
   "name": "python3"
  },
  "language_info": {
   "codemirror_mode": {
    "name": "ipython",
    "version": 3
   },
   "file_extension": ".py",
   "mimetype": "text/x-python",
   "name": "python",
   "nbconvert_exporter": "python",
   "pygments_lexer": "ipython3",
   "version": "3.8.13"
  }
 },
 "nbformat": 4,
 "nbformat_minor": 5
}
