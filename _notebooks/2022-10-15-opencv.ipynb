{
 "cells": [
  {
   "cell_type": "markdown",
   "id": "2e115571",
   "metadata": {},
   "source": [
    "# (OpenCV - Chap6) 화소(pixel)처리\n",
    "> 영상 화소의 접근과 화소 밝기 변환\n",
    "\n",
    "- toc: true\n",
    "- branch: master\n",
    "- badges: false\n",
    "- comments: true\n",
    "- author: pinkocto\n",
    "- categories: [python]"
   ]
  },
  {
   "cell_type": "markdown",
   "id": "a1f4b3f8",
   "metadata": {},
   "source": [
    "## 화소의 개념"
   ]
  },
  {
   "cell_type": "markdown",
   "id": "d9fd3a82",
   "metadata": {},
   "source": [
    "화소란 화면(영상)을 구성하는 가장 기본이 되는 단위를 말한다. 일반적으로 영상처리 입문에서 가장 먼저 다루는 내용이 화소값 기반 처리이다. 이것은 영상 구조에 대해 알기 위해 가장 먼저 이해해야 하는 것이 화소에 대한 기본 개념이기 때문이다."
   ]
  },
  {
   "cell_type": "markdown",
   "id": "2d10efda",
   "metadata": {},
   "source": [
    "디지털 영상은 이 화소들의 집합을 의미하며, 이 화소들에 대해 다양한 연산을 하는 것이 영상처리이다."
   ]
  },
  {
   "cell_type": "markdown",
   "id": "81c0353f",
   "metadata": {},
   "source": [
    "## 6.1 영상화소의 접근"
   ]
  },
  {
   "cell_type": "markdown",
   "id": "b8a31de7",
   "metadata": {},
   "source": [
    "영상처리를 아주 간단하게 말해보면, 2차원 데이터에 대한 행렬 연산이라고 할 수 있다.\n",
    "따라서 영상을 다루려면 기본적으로 영상의 화소에 접근하고, 그 값을 수정하거나 새로 만들 수 있어야 한다."
   ]
  },
  {
   "cell_type": "raw",
   "id": "0d4223e5",
   "metadata": {},
   "source": [
    "과거 OpenCV와 같은 대중적인 영상처리 API가 없었을 때, 영상 데이터를 처리하고 저장하는 것이 쉽지만은 않은 일이었다. 하지만 파이썬에서는 행렬 데이터 처리에 유용한 넘파이(Numpy) 라이브러리를 지원하고 있으며, OpenCV API도 numpy.ndarray 객체를 기반으로 영상 데이터를 처리한다."
   ]
  },
  {
   "cell_type": "markdown",
   "id": "5b5cd945",
   "metadata": {},
   "source": [
    "### 6.1.1 화소(행렬 원소) 접근"
   ]
  },
  {
   "cell_type": "markdown",
   "id": "22e0378d",
   "metadata": {},
   "source": [
    "다음은 모든 원소를 순회하여 원소값을 2배로 변경하는 예제이다."
   ]
  },
  {
   "cell_type": "markdown",
   "id": "5976a830",
   "metadata": {},
   "source": [
    "`-` 방법1\n",
    "\n",
    "행렬의 원소를 순회하며 직접 원소값을 가져와서 계산"
   ]
  },
  {
   "cell_type": "code",
   "execution_count": 1,
   "id": "73a7393d",
   "metadata": {},
   "outputs": [],
   "source": [
    "import numpy as np\n",
    "\n",
    "def mat_access1(mat):\n",
    "    for i in range(mat.shape[0]):\n",
    "        for j in range(mat.shape[1]):\n",
    "            k = mat[i, j]\n",
    "            mat[i, j] = k * 2"
   ]
  },
  {
   "cell_type": "code",
   "execution_count": 3,
   "id": "b5dfacd5",
   "metadata": {},
   "outputs": [
    {
     "data": {
      "text/plain": [
       "array([[0, 1, 2, 3, 4],\n",
       "       [5, 6, 7, 8, 9]])"
      ]
     },
     "execution_count": 3,
     "metadata": {},
     "output_type": "execute_result"
    }
   ],
   "source": [
    "mat1 = np.arange(10).reshape(2,5)\n",
    "mat1"
   ]
  },
  {
   "cell_type": "code",
   "execution_count": 6,
   "id": "c9419cfb",
   "metadata": {},
   "outputs": [
    {
     "name": "stdout",
     "output_type": "stream",
     "text": [
      "원소 처리 전: \n",
      "[[ 0  2  4  6  8]\n",
      " [10 12 14 16 18]]\n",
      "\n",
      "원소 처리 후: \n",
      "[[ 0  4  8 12 16]\n",
      " [20 24 28 32 36]]\n",
      "\n"
     ]
    }
   ],
   "source": [
    "print('원소 처리 전: \\n%s\\n' % mat1)\n",
    "mat_access1(mat1)\n",
    "print('원소 처리 후: \\n%s\\n' % mat1)"
   ]
  },
  {
   "cell_type": "markdown",
   "id": "f4c566ab",
   "metadata": {},
   "source": [
    "`-` 방법2\n",
    "\n",
    "행렬 원소를 순회하며, ndarray 클래스의 내부 메서드인 **`item()`** 함수와 **`itemset()`** 함수로 가져와서 값을 변경"
   ]
  },
  {
   "cell_type": "code",
   "execution_count": 8,
   "id": "8483a133",
   "metadata": {},
   "outputs": [],
   "source": [
    "def mat_access2(mat):\n",
    "    for i in range(mat.shape[0]):\n",
    "        for j in range(mat.shape[1]):\n",
    "            k = mat.item(i, j)  #\n",
    "            mat.itemset((i, j), k*2)"
   ]
  },
  {
   "cell_type": "code",
   "execution_count": 10,
   "id": "eb1840cc",
   "metadata": {},
   "outputs": [
    {
     "data": {
      "text/plain": [
       "array([[0, 1, 2, 3, 4],\n",
       "       [5, 6, 7, 8, 9]])"
      ]
     },
     "execution_count": 10,
     "metadata": {},
     "output_type": "execute_result"
    }
   ],
   "source": [
    "mat2 = np.arange(10).reshape(2, 5)\n",
    "mat2"
   ]
  },
  {
   "cell_type": "code",
   "execution_count": 11,
   "id": "76e98cdb",
   "metadata": {},
   "outputs": [
    {
     "name": "stdout",
     "output_type": "stream",
     "text": [
      "원소 처리 전: \n",
      "[[0 1 2 3 4]\n",
      " [5 6 7 8 9]]\n",
      "\n",
      "원소 처리 후: \n",
      "[[ 0  2  4  6  8]\n",
      " [10 12 14 16 18]]\n",
      "\n"
     ]
    }
   ],
   "source": [
    "print('원소 처리 전: \\n%s\\n' % mat2)\n",
    "mat_access2(mat2)\n",
    "print('원소 처리 후: \\n%s\\n' % mat2)"
   ]
  },
  {
   "cell_type": "markdown",
   "id": "108f957d",
   "metadata": {},
   "source": [
    "### 6.1.2  영상 반전을 수행하는 다양한 방법들"
   ]
  },
  {
   "cell_type": "markdown",
   "id": "43bd787d",
   "metadata": {},
   "source": [
    "행렬을 처리하여 영상의 반전을 수행하는 다양한 방법들을 함수로 만들고, 각 방법의 수행속도를 계산해보자."
   ]
  },
  {
   "cell_type": "code",
   "execution_count": 14,
   "id": "36bd93e4",
   "metadata": {},
   "outputs": [],
   "source": [
    "# Mat::ptr()을 통한 행렬 원소 접근\n",
    "\n",
    "import numpy as np, cv2, time\n",
    "\n",
    "\n",
    "## 화소 직접접근\n",
    "def pixel_access1(image):\n",
    "    image1 = np.zeros(image.shape[:2], image.dtype)\n",
    "    for i in range(image.shape[0]):\n",
    "        for j in range(image.shape[1]):\n",
    "            pixel = image[i,j]                 # 화소접근\n",
    "            image1[i, j] = 255 - pixel         # 화소할당\n",
    "            \n",
    "    return image1\n",
    "        "
   ]
  },
  {
   "cell_type": "code",
   "execution_count": 15,
   "id": "7fc156bc",
   "metadata": {},
   "outputs": [],
   "source": [
    "## item() 함수\n",
    "def pixel_access2(image):                         # item() 함수 접근 방법\n",
    "    image2 = np.zeros(image.shape[:2], image.dtype)\n",
    "    for i in range(image.shape[0]):\n",
    "        for j in range(image.shape[1]):\n",
    "            pixel = image.item(i, j)              # 화소접근\n",
    "            image2.itemset((i, j), 255 - pixel)   # 화소할당\n",
    "    return image2"
   ]
  },
  {
   "cell_type": "code",
   "execution_count": 20,
   "id": "f0400df0",
   "metadata": {},
   "outputs": [],
   "source": [
    "## 룩업테이블\n",
    "def pixel_access3(image):\n",
    "    lut = [255 - i for i in range(256)]\n",
    "    lut = np.array(lut, np.uint8)\n",
    "    image3 = lut[image]\n",
    "    return image3\n",
    "    "
   ]
  },
  {
   "cell_type": "code",
   "execution_count": 61,
   "id": "7df5d09c",
   "metadata": {},
   "outputs": [],
   "source": [
    "## openCV\n",
    "def pixel_access4(image):\n",
    "    image4 = cv2.subtract(255, image)\n",
    "    return image4"
   ]
  },
  {
   "cell_type": "code",
   "execution_count": 18,
   "id": "ebf34b9f",
   "metadata": {},
   "outputs": [],
   "source": [
    "## ndarray 산술연산\n",
    "def pixel_access5(image):\n",
    "    image5 = 255 - image\n",
    "    return image5"
   ]
  },
  {
   "cell_type": "code",
   "execution_count": 57,
   "id": "d9dfb9eb",
   "metadata": {},
   "outputs": [],
   "source": [
    "image = cv2.imread('./ghtop_images/chap06_images/bright.jpg', cv2.IMREAD_GRAYSCALE)"
   ]
  },
  {
   "cell_type": "code",
   "execution_count": 58,
   "id": "029c2267",
   "metadata": {},
   "outputs": [
    {
     "data": {
      "text/plain": [
       "(450, 360)"
      ]
     },
     "execution_count": 58,
     "metadata": {},
     "output_type": "execute_result"
    }
   ],
   "source": [
    "image.shape"
   ]
  },
  {
   "cell_type": "code",
   "execution_count": 62,
   "id": "0034c2f3",
   "metadata": {},
   "outputs": [],
   "source": [
    "## 수행시간 체크 함수\n",
    "def time_check(func, msg):\n",
    "    start_time = time.perf_counter()\n",
    "    ret_img = func(image)\n",
    "    elapsed = (time.perf_counter() - start_time) * 1000\n",
    "    print(msg, \"수행시간 : %0.2f ms\" % elapsed )\n",
    "    return ret_img"
   ]
  },
  {
   "cell_type": "code",
   "execution_count": 63,
   "id": "f3340e10",
   "metadata": {},
   "outputs": [
    {
     "name": "stdout",
     "output_type": "stream",
     "text": [
      "[방법1] 직접 접근 방식 수행시간 : 550.22 ms\n",
      "[방법2] item() 접근 방식 수행시간 : 108.73 ms\n",
      "[방법3] 룩업테이블  방식 수행시간 : 0.92 ms\n",
      "[방법4] OpenCV 함수 방식 수행시간 : 0.08 ms\n",
      "[방법5] ndarray 방식 수행시간 : 0.19 ms\n"
     ]
    }
   ],
   "source": [
    "image1 = time_check(pixel_access1, \"[방법1] 직접 접근 방식\")\n",
    "image2 = time_check(pixel_access2, \"[방법2] item() 접근 방식\")\n",
    "image3 = time_check(pixel_access3, \"[방법3] 룩업테이블  방식\")\n",
    "image4 = time_check(pixel_access4, \"[방법4] OpenCV 함수 방식\")\n",
    "image5 = time_check(pixel_access5, \"[방법5] ndarray 방식\")"
   ]
  },
  {
   "cell_type": "markdown",
   "id": "8d34d0b3",
   "metadata": {},
   "source": [
    "실행결과를 보면, OpenCV 또는 ndarray 방식으로 화소에 접근하는 경우 속도가 빠른 것을 확인할 수 있었다."
   ]
  },
  {
   "cell_type": "markdown",
   "id": "2f617078",
   "metadata": {},
   "source": [
    "따라서 화소 직접 접근 방법보다는 OpenCV에서 제공하는 함수들을 조합하거나 ndarray 객체의 원소간 연산으로 구현 내용을 만드는 것이 좋다."
   ]
  },
  {
   "cell_type": "markdown",
   "id": "4b0af965",
   "metadata": {},
   "source": [
    "## 6.2 화소 밝기 변환"
   ]
  },
  {
   "cell_type": "markdown",
   "id": "87b17694",
   "metadata": {},
   "source": [
    "### 6.2.1 그레이 스케일 (명암도) 영상"
   ]
  },
  {
   "cell_type": "code",
   "execution_count": null,
   "id": "3a8979b4",
   "metadata": {},
   "outputs": [],
   "source": []
  }
 ],
 "metadata": {
  "kernelspec": {
   "display_name": "Python 3 (ipykernel)",
   "language": "python",
   "name": "python3"
  },
  "language_info": {
   "codemirror_mode": {
    "name": "ipython",
    "version": 3
   },
   "file_extension": ".py",
   "mimetype": "text/x-python",
   "name": "python",
   "nbconvert_exporter": "python",
   "pygments_lexer": "ipython3",
   "version": "3.9.13"
  }
 },
 "nbformat": 4,
 "nbformat_minor": 5
}
