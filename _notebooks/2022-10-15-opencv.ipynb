{
 "cells": [
  {
   "cell_type": "markdown",
   "id": "c181f940",
   "metadata": {},
   "source": [
    "# (OpenCV - Chap6) 화소처리1\n",
    "> 영상 화소의 접근과 화소 밝기 변환\n",
    "- toc: true\n",
    "- branch: master\n",
    "- badges: false\n",
    "- comments: true\n",
    "- author: dinonene\n",
    "- categories: [python]"
   ]
  },
  {
   "cell_type": "markdown",
   "id": "6eda68e5",
   "metadata": {},
   "source": [
    "## 화소의 개념\n",
    "\n",
    "화소란 화면(영상)을 구성하는 가장 기본이 되는 단위를 말한다. 일반적으로 영상처리 입문에서 가장 먼저 다루는 내용이 화소값 기반 처리이다. 이것은 영상 구조에 대해 알기 위해 가장 먼저 이해해야 하는 것이 화소에 대한 기본 개념이기 때문이다."
   ]
  },
  {
   "cell_type": "markdown",
   "id": "e5f515c2",
   "metadata": {},
   "source": [
    "디지털 영상은 이 화소들의 집합을 의미하며, 이 화소들에 대해 다양한 연산을 하는 것이 영상처리이다."
   ]
  },
  {
   "cell_type": "markdown",
   "id": "7d10b98e",
   "metadata": {},
   "source": [
    "## 6.1 영상화소의 접근"
   ]
  },
  {
   "cell_type": "markdown",
   "id": "b6e687f1",
   "metadata": {},
   "source": [
    "영상처리를 아주 간단하게 말해보면, 2차원 데이터에 대한 행렬 연산이라고 할 수 있다.\n",
    "따라서 영상을 다루려면 기본적으로 영상의 화소에 접근하고, 그 값을 수정하거나 새로 만들 수 있어야 한다."
   ]
  },
  {
   "cell_type": "markdown",
   "id": "be500551",
   "metadata": {},
   "source": [
    "과거 OpenCV와 같은 대중적인 영상처리 API가 없었을 때, 영상 데이터를 처리하고 저장하는 것이 쉽지만은 않은 일이었다. 하지만 파이썬에서는 행렬 데이터 처리에 유용한 넘파이(Numpy) 라이브러리를 지원하고 있으며, OpenCV API도 numpy.ndarray 객체를 기반으로 영상 데이터를 처리한다."
   ]
  },
  {
   "cell_type": "markdown",
   "id": "572a97f9",
   "metadata": {},
   "source": [
    "### 6.1.1 화소(행렬 원소) 접근\n",
    "\n",
    "다음은 모든 원소를 순회하여 원소값을 2배로 변경하는 예제이다."
   ]
  },
  {
   "cell_type": "markdown",
   "id": "41e9426c",
   "metadata": {},
   "source": [
    "`-` 방법1\n",
    "\n",
    "행렬의 원소를 순회하며 직접 원소값을 가져와서 계산"
   ]
  },
  {
   "cell_type": "code",
   "execution_count": 1,
   "id": "d1f57340",
   "metadata": {},
   "outputs": [],
   "source": [
    "import numpy as np\n",
    "\n",
    "def mat_access1(mat):\n",
    "    for i in range(mat.shape[0]):\n",
    "        for j in range(mat.shape[1]):\n",
    "            k = mat[i, j]\n",
    "            mat[i, j] = k * 2"
   ]
  },
  {
   "cell_type": "code",
   "execution_count": 2,
   "id": "93c5aeb3",
   "metadata": {},
   "outputs": [
    {
     "data": {
      "text/plain": [
       "array([[0, 1, 2, 3, 4],\n",
       "       [5, 6, 7, 8, 9]])"
      ]
     },
     "execution_count": 2,
     "metadata": {},
     "output_type": "execute_result"
    }
   ],
   "source": [
    "mat1 = np.arange(10).reshape(2,5)\n",
    "mat1"
   ]
  },
  {
   "cell_type": "code",
   "execution_count": 3,
   "id": "874d849f",
   "metadata": {},
   "outputs": [
    {
     "name": "stdout",
     "output_type": "stream",
     "text": [
      "원소 처리 전: \n",
      "[[0 1 2 3 4]\n",
      " [5 6 7 8 9]]\n",
      "\n",
      "원소 처리 후: \n",
      "[[ 0  2  4  6  8]\n",
      " [10 12 14 16 18]]\n",
      "\n"
     ]
    }
   ],
   "source": [
    "print('원소 처리 전: \\n%s\\n' % mat1)\n",
    "mat_access1(mat1)\n",
    "print('원소 처리 후: \\n%s\\n' % mat1)"
   ]
  },
  {
   "cell_type": "markdown",
   "id": "c78ddd14",
   "metadata": {},
   "source": [
    "`-` 방법2\n",
    "\n",
    "행렬 원소를 순회하며, ndarray 클래스의 내부 메서드인 **`item()`** 함수와 **`itemset()`** 함수로 가져와서 값을 변경"
   ]
  },
  {
   "cell_type": "code",
   "execution_count": 4,
   "id": "7b0dbb9c",
   "metadata": {},
   "outputs": [],
   "source": [
    "def mat_access2(mat):\n",
    "    for i in range(mat.shape[0]):\n",
    "        for j in range(mat.shape[1]):\n",
    "            k = mat.item(i, j)  #\n",
    "            mat.itemset((i, j), k*2)"
   ]
  },
  {
   "cell_type": "code",
   "execution_count": 5,
   "id": "91552cdd",
   "metadata": {},
   "outputs": [
    {
     "data": {
      "text/plain": [
       "array([[0, 1, 2, 3, 4],\n",
       "       [5, 6, 7, 8, 9]])"
      ]
     },
     "execution_count": 5,
     "metadata": {},
     "output_type": "execute_result"
    }
   ],
   "source": [
    "mat2 = np.arange(10).reshape(2, 5)\n",
    "mat2"
   ]
  },
  {
   "cell_type": "code",
   "execution_count": 6,
   "id": "fab20f34",
   "metadata": {},
   "outputs": [
    {
     "name": "stdout",
     "output_type": "stream",
     "text": [
      "원소 처리 전: \n",
      "[[0 1 2 3 4]\n",
      " [5 6 7 8 9]]\n",
      "\n",
      "원소 처리 후: \n",
      "[[ 0  2  4  6  8]\n",
      " [10 12 14 16 18]]\n",
      "\n"
     ]
    }
   ],
   "source": [
    "print('원소 처리 전: \\n%s\\n' % mat2)\n",
    "mat_access2(mat2)\n",
    "print('원소 처리 후: \\n%s\\n' % mat2)"
   ]
  },
  {
   "cell_type": "markdown",
   "id": "06cebd35",
   "metadata": {},
   "source": [
    "### 6.1.2  영상 반전을 수행하는 다양한 방법들\n",
    "\n",
    "행렬을 처리하여 영상의 반전을 수행하는 다양한 방법들을 함수로 만들고, 각 방법의 수행속도를 계산해보자."
   ]
  },
  {
   "cell_type": "code",
   "execution_count": 7,
   "id": "61e2078e",
   "metadata": {},
   "outputs": [],
   "source": [
    "# Mat::ptr()을 통한 행렬 원소 접근\n",
    "\n",
    "import numpy as np, cv2, time\n",
    "\n",
    "\n",
    "## 화소 직접접근\n",
    "def pixel_access1(image):\n",
    "    image1 = np.zeros(image.shape[:2], image.dtype)\n",
    "    for i in range(image.shape[0]):\n",
    "        for j in range(image.shape[1]):\n",
    "            pixel = image[i,j]                 # 화소접근\n",
    "            image1[i, j] = 255 - pixel         # 화소할당\n",
    "            \n",
    "    return image1\n",
    "        \n",
    "\n",
    "## item() 함수\n",
    "def pixel_access2(image):                         # item() 함수 접근 방법\n",
    "    image2 = np.zeros(image.shape[:2], image.dtype)\n",
    "    for i in range(image.shape[0]):\n",
    "        for j in range(image.shape[1]):\n",
    "            pixel = image.item(i, j)              # 화소접근\n",
    "            image2.itemset((i, j), 255 - pixel)   # 화소할당\n",
    "    return image2\n",
    "\n",
    "## 룩업테이블\n",
    "def pixel_access3(image):\n",
    "    lut = [255 - i for i in range(256)]\n",
    "    lut = np.array(lut, np.uint8)\n",
    "    image3 = lut[image]\n",
    "    return image3\n",
    "    \n",
    "\n",
    "## openCV\n",
    "def pixel_access4(image):\n",
    "    image4 = cv2.subtract(255, image)\n",
    "    return image4\n",
    "\n",
    "## ndarray 산술연산\n",
    "def pixel_access5(image):\n",
    "    image5 = 255 - image\n",
    "    return image5"
   ]
  },
  {
   "cell_type": "code",
   "execution_count": 12,
   "id": "6ff08655",
   "metadata": {},
   "outputs": [],
   "source": [
    "image = cv2.imread('./ghtop_images/chap06_images/bright.jpg', cv2.IMREAD_GRAYSCALE)"
   ]
  },
  {
   "cell_type": "code",
   "execution_count": 13,
   "id": "43c2d1ac",
   "metadata": {},
   "outputs": [
    {
     "data": {
      "text/plain": [
       "(450, 360)"
      ]
     },
     "execution_count": 13,
     "metadata": {},
     "output_type": "execute_result"
    }
   ],
   "source": [
    "image.shape"
   ]
  },
  {
   "cell_type": "code",
   "execution_count": 14,
   "id": "4b5520bf",
   "metadata": {},
   "outputs": [],
   "source": [
    "## 수행시간 체크 함수\n",
    "def time_check(func, msg):\n",
    "    start_time = time.perf_counter()\n",
    "    ret_img = func(image)\n",
    "    elapsed = (time.perf_counter() - start_time) * 1000\n",
    "    print(msg, \"수행시간 : %0.2f ms\" % elapsed )\n",
    "    return ret_img"
   ]
  },
  {
   "cell_type": "code",
   "execution_count": 15,
   "id": "337def74",
   "metadata": {},
   "outputs": [
    {
     "name": "stdout",
     "output_type": "stream",
     "text": [
      "[방법1] 직접 접근 방식 수행시간 : 228.04 ms\n",
      "[방법2] item() 접근 방식 수행시간 : 26.00 ms\n",
      "[방법3] 룩업테이블  방식 수행시간 : 1.54 ms\n",
      "[방법4] OpenCV 함수 방식 수행시간 : 2.38 ms\n",
      "[방법5] ndarray 방식 수행시간 : 0.11 ms\n"
     ]
    }
   ],
   "source": [
    "image1 = time_check(pixel_access1, \"[방법1] 직접 접근 방식\")\n",
    "image2 = time_check(pixel_access2, \"[방법2] item() 접근 방식\")\n",
    "image3 = time_check(pixel_access3, \"[방법3] 룩업테이블  방식\")\n",
    "image4 = time_check(pixel_access4, \"[방법4] OpenCV 함수 방식\")\n",
    "image5 = time_check(pixel_access5, \"[방법5] ndarray 방식\")"
   ]
  },
  {
   "cell_type": "markdown",
   "id": "ffcb226c",
   "metadata": {},
   "source": [
    "실행결과를 보면, OpenCV 또는 ndarray 방식으로 화소에 접근하는 경우 속도가 빠른 것을 확인할 수 있었다."
   ]
  },
  {
   "cell_type": "markdown",
   "id": "ec718a81",
   "metadata": {},
   "source": [
    "따라서 화소 직접 접근 방법보다는 OpenCV에서 제공하는 함수들을 조합하거나 ndarray 객체의 원소간 연산으로 구현 내용을 만드는 것이 좋다."
   ]
  }
 ],
 "metadata": {
  "kernelspec": {
   "display_name": "Python 3 (ipykernel)",
   "language": "python",
   "name": "python3"
  },
  "language_info": {
   "codemirror_mode": {
    "name": "ipython",
    "version": 3
   },
   "file_extension": ".py",
   "mimetype": "text/x-python",
   "name": "python",
   "nbconvert_exporter": "python",
   "pygments_lexer": "ipython3",
   "version": "3.9.13"
  }
 },
 "nbformat": 4,
 "nbformat_minor": 5
}
