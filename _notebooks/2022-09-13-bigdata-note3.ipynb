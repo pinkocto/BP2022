{
 "cells": [
  {
   "cell_type": "markdown",
   "id": "493c7591",
   "metadata": {},
   "source": [
    "# note3\n",
    "> 가설검정, 회귀\n",
    "- toc: true\n",
    "- branch: master\n",
    "- badges: false\n",
    "- comments: true\n",
    "- author: pinkocto\n",
    "- categories: [python]"
   ]
  },
  {
   "cell_type": "markdown",
   "id": "46f808e4",
   "metadata": {},
   "source": [
    "## 가설검정\n",
    "1. 귀무가설 / 대립가설 설정\n",
    "2. 데이터 타입에 맞는 가설검정 기법 사용\n",
    "3. P.value 계산 (귀무가설이 참일 확률)\n",
    "4. 유의수준 (5%)과 비교 후, 결론 도출<br>\n",
    "    (0.05 > p.value: 귀무가설 기각o) / <br>\n",
    "    (0.05 < p.value: 귀무가설 기각x)\n",
    "    \n",
    "\n",
    "### 단일 변수 검정\n",
    "#### `-` <font color='red'>연속형: 정규성 검정 / One Sample T-test (1표본 평균 검정)</font>\n",
    "#### `-` 범주형 : 비율검정\n",
    "\n",
    "\n",
    "### 다 변수 검정\n",
    "#### `-` <font color='red'>$X$: 범주형 / $Y$: 연속형: Two Sample T-test (2표본 평균검정) / Paired Test (대응 표본 검정)</font>\n",
    "#### `-` <font color='red'> $X$: 범주형 / $Y$: 범주형: Chi Square Test</font>\n",
    "\n",
    "\n",
    "#### `-` $X$: 연속형 / $Y$: 연속형 $\\to$ 상관분석 또는 회귀분석\n",
    "#### `-` $X$: 연속형 / $Y$: 범주형 $\\to$ (분류) Logistic Regression"
   ]
  },
  {
   "cell_type": "code",
   "execution_count": 1,
   "id": "ef913bfa",
   "metadata": {},
   "outputs": [],
   "source": [
    "import pandas as pd\n",
    "import numpy as np\n",
    "\n",
    "x_train = pd.read_csv('x_train.csv')\n",
    "x_test = pd.read_csv('x_test.csv')\n",
    "y_train = pd.read_csv('y_train.csv')\n",
    "\n",
    "print(x_train.shape)\n",
    "print(x_test.shape)\n",
    "print(y_train.shape)\n",
    "\n",
    "print(x_train.info())\n",
    "print(x_train.head())\n",
    "\n",
    "print(y_train.info())\n",
    "print(y_train.head())"
   ]
  },
  {
   "cell_type": "markdown",
   "id": "0066ba52",
   "metadata": {},
   "source": [
    "### `#1.` x_train 데이터에서 성별에 따른 결제 금액의 평균의 유의미한 차이가 있는지 가설검정을 실시."
   ]
  },
  {
   "cell_type": "markdown",
   "id": "04ab9d60",
   "metadata": {},
   "source": [
    "#### 정규성 검정 실시\n",
    "print(x_train.isnull().sum())"
   ]
  },
  {
   "cell_type": "code",
   "execution_count": null,
   "id": "a68c4f35",
   "metadata": {},
   "outputs": [],
   "source": []
  },
  {
   "cell_type": "markdown",
   "id": "f30479b1",
   "metadata": {},
   "source": [
    "### `#2.` x_train 데이터와 y_train데이터를 학습하여, Model을 생성하고, y_test 데이터를 이용해, 예측값을 계산한 뒤, 파일 형태로 저장하여라."
   ]
  },
  {
   "cell_type": "code",
   "execution_count": null,
   "id": "3d877b2d",
   "metadata": {},
   "outputs": [],
   "source": []
  },
  {
   "cell_type": "code",
   "execution_count": null,
   "id": "47a65b74",
   "metadata": {},
   "outputs": [],
   "source": []
  },
  {
   "cell_type": "code",
   "execution_count": null,
   "id": "b1c00c8d",
   "metadata": {},
   "outputs": [],
   "source": []
  },
  {
   "cell_type": "code",
   "execution_count": null,
   "id": "63114229",
   "metadata": {},
   "outputs": [],
   "source": []
  }
 ],
 "metadata": {
  "kernelspec": {
   "display_name": "Python 3 (ipykernel)",
   "language": "python",
   "name": "python3"
  },
  "language_info": {
   "codemirror_mode": {
    "name": "ipython",
    "version": 3
   },
   "file_extension": ".py",
   "mimetype": "text/x-python",
   "name": "python",
   "nbconvert_exporter": "python",
   "pygments_lexer": "ipython3",
   "version": "3.8.13"
  }
 },
 "nbformat": 4,
 "nbformat_minor": 5
}
