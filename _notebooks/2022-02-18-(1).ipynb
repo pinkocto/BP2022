{
 "cells": [
  {
   "cell_type": "markdown",
   "id": "d3d2d780-2e50-4a50-b525-b66e9aed7952",
   "metadata": {},
   "source": [
    "# (6주차) 2월18일 (1)\n",
    "> 16-다차원 리스트 \n",
    "- toc: true\n",
    "- branch: master\n",
    "- badges: false\n",
    "- comments: true\n",
    "- author: dinonene\n",
    "- categories: [python]"
   ]
  },
  {
   "cell_type": "markdown",
   "id": "a2c4774e-b9e0-418f-b1a9-f06ae8399233",
   "metadata": {},
   "source": [
    "`-` 소개\n",
    "\n",
    "`-` 2차원 리스트 처리\n",
    "\n",
    "`-` 2차원 리스트와 함수\n",
    "\n",
    "`-` 예제\n",
    "\n",
    "`-` 다차원 리스트"
   ]
  },
  {
   "cell_type": "markdown",
   "id": "00927dbd-f743-4038-9863-3b21a4c2b320",
   "metadata": {},
   "source": [
    "### 소개"
   ]
  },
  {
   "cell_type": "markdown",
   "id": "cb561e7c-e4c5-4e36-b4e0-82c1c667ce3d",
   "metadata": {},
   "source": [
    "테이블이나 행렬은 2차원 리스트로 표현할 수 있다.\n",
    "\n"
   ]
  },
  {
   "cell_type": "markdown",
   "id": "af195e92-9e9c-43ff-8eb5-7e6994809ddd",
   "metadata": {},
   "source": [
    "`-` 대한민국 도시들 간 거리\n",
    "\n",
    "\n",
    "\n",
    "|   |서울|부산|대구|광주|\n",
    "|---|----|---|----|----|\n",
    "|서울|0  |325|237|267|\n",
    "|부산|325|0|87|202|\n",
    "|대구|237|87|0|172|\n",
    "|광주|267|202|172|0|"
   ]
  },
  {
   "cell_type": "code",
   "execution_count": 1,
   "id": "23b0a68a-1dcc-4169-bd1c-36d4045d7fd2",
   "metadata": {},
   "outputs": [],
   "source": [
    "distance = [[0, 325, 237, 267],\n",
    "            [325, 0, 87, 202],\n",
    "            [237, 87, 0, 172],\n",
    "            [267, 202, 172, 0]]"
   ]
  },
  {
   "cell_type": "markdown",
   "id": "cda9fd9d-3aa7-4422-ad63-df73278f7b6a",
   "metadata": {},
   "source": [
    "### 2차원 리스트 처리하기"
   ]
  },
  {
   "cell_type": "markdown",
   "id": "d4e52078-5280-4ae4-b9a1-73ec22013e6f",
   "metadata": {},
   "source": [
    "####  2차원 리스트 표현"
   ]
  },
  {
   "cell_type": "code",
   "execution_count": 9,
   "id": "a2092aea-7793-466a-8695-a0619b53bf23",
   "metadata": {},
   "outputs": [],
   "source": [
    "matrix_ = [[1,2,3,4,5],\n",
    "           [6,7,8,9,10],\n",
    "           [11,12,13,14,15]]"
   ]
  },
  {
   "cell_type": "markdown",
   "id": "10db9472-bec5-4694-8b26-14b62580223c",
   "metadata": {},
   "source": [
    "`-` 각 요소는 두 개의 첨자를 이용하여 표현"
   ]
  },
  {
   "cell_type": "code",
   "execution_count": 10,
   "id": "5edf2c3c-3136-4c59-abff-278f938d193e",
   "metadata": {},
   "outputs": [
    {
     "data": {
      "text/plain": [
       "3"
      ]
     },
     "execution_count": 10,
     "metadata": {},
     "output_type": "execute_result"
    }
   ],
   "source": [
    "matrix_[0][2]"
   ]
  },
  {
   "cell_type": "code",
   "execution_count": 11,
   "id": "3651f81f-bd01-44b4-b72c-da2b35931246",
   "metadata": {},
   "outputs": [
    {
     "data": {
      "text/plain": [
       "14"
      ]
     },
     "execution_count": 11,
     "metadata": {},
     "output_type": "execute_result"
    }
   ],
   "source": [
    "matrix_[2][3]"
   ]
  },
  {
   "cell_type": "code",
   "execution_count": 12,
   "id": "0123ad82-286c-4873-b3b6-b356e2ed5f31",
   "metadata": {},
   "outputs": [
    {
     "data": {
      "text/plain": [
       "7"
      ]
     },
     "execution_count": 12,
     "metadata": {},
     "output_type": "execute_result"
    }
   ],
   "source": [
    "matrix_[1][1]"
   ]
  },
  {
   "cell_type": "markdown",
   "id": "6f22dae0-57a3-462c-89e6-4b525f6075ca",
   "metadata": {},
   "source": [
    "#### 2차원 리스트 초기화"
   ]
  },
  {
   "cell_type": "markdown",
   "id": "cf83ec5e-5036-4831-adfe-090c6b7a0758",
   "metadata": {},
   "source": [
    "`-` 사용자 입력 값으로 초기화"
   ]
  },
  {
   "cell_type": "markdown",
   "id": "92cbbe86-cda8-4fad-9c65-b9bfae454f08",
   "metadata": {},
   "source": [
    "`-` 무작위 값으로 초기화"
   ]
  },
  {
   "cell_type": "code",
   "execution_count": 33,
   "id": "63b35396-2ea0-4c76-8a55-4beb53560adf",
   "metadata": {},
   "outputs": [
    {
     "name": "stdin",
     "output_type": "stream",
     "text": [
      "value: 1\n",
      "value: 2\n",
      "value: 3\n",
      "value: 4\n",
      "value: 5\n",
      "value: 6\n"
     ]
    }
   ],
   "source": [
    "matrix = []\n",
    "for row in range(3): ## number of rows = 3\n",
    "    matrix.append([])\n",
    "    for col in range(2): ## number of columns = 2\n",
    "        value = eval(input(\"value:\"))\n",
    "        matrix[row].append(value)"
   ]
  },
  {
   "cell_type": "code",
   "execution_count": 36,
   "id": "e3568531-cb34-4705-9c3e-611695e831ab",
   "metadata": {},
   "outputs": [
    {
     "data": {
      "text/plain": [
       "[[1, 2], [3, 4], [5, 6]]"
      ]
     },
     "execution_count": 36,
     "metadata": {},
     "output_type": "execute_result"
    }
   ],
   "source": [
    "matrix ## 3행 2열의 2차원 리스트"
   ]
  },
  {
   "cell_type": "code",
   "execution_count": 46,
   "id": "2572a429-6b9d-420e-98bb-e13b1f592963",
   "metadata": {},
   "outputs": [
    {
     "name": "stdout",
     "output_type": "stream",
     "text": [
      "[[]]\n",
      "[[51]]\n",
      "[[51, 15]]\n",
      "[[51, 15], []]\n",
      "[[51, 15], [47]]\n",
      "[[51, 15], [47, 46]]\n",
      "[[51, 15], [47, 46], []]\n",
      "[[51, 15], [47, 46], [79]]\n",
      "[[51, 15], [47, 46], [79, 98]]\n"
     ]
    }
   ],
   "source": [
    "import random\n",
    "matrix = []\n",
    "numberOfRows=3\n",
    "numberOfColumns=2\n",
    "for row in range(numberOfRows):\n",
    "    matrix.append([])\n",
    "    #print(matrix)\n",
    "    for col in range(numberOfColumns):\n",
    "        matrix[row].append(random.randint(0,99))\n",
    "        #print(matrix)"
   ]
  },
  {
   "cell_type": "code",
   "execution_count": 47,
   "id": "7d117fef-af3e-4c98-9cd1-11d2bdaa7175",
   "metadata": {},
   "outputs": [
    {
     "data": {
      "text/plain": [
       "[[51, 15], [47, 46], [79, 98]]"
      ]
     },
     "execution_count": 47,
     "metadata": {},
     "output_type": "execute_result"
    }
   ],
   "source": [
    "matrix"
   ]
  },
  {
   "cell_type": "markdown",
   "id": "84bac3d2-8ed1-46c2-9991-3e61eabcbacd",
   "metadata": {},
   "source": [
    "#### 2차원 리스트 출력하기, 섞기, 정렬"
   ]
  },
  {
   "cell_type": "markdown",
   "id": "adb70b75-18b0-4c30-a048-6f4c2c0f49b5",
   "metadata": {},
   "source": [
    "`-` 2차원 리스트 출력"
   ]
  },
  {
   "cell_type": "code",
   "execution_count": 66,
   "id": "ce32c937-7221-4a18-818a-3055b4ed7213",
   "metadata": {},
   "outputs": [
    {
     "data": {
      "text/plain": [
       "(3, 2)"
      ]
     },
     "execution_count": 66,
     "metadata": {},
     "output_type": "execute_result"
    }
   ],
   "source": [
    "len(matrix), len(matrix[0])"
   ]
  },
  {
   "cell_type": "code",
   "execution_count": 68,
   "id": "2d1edab5-19f6-4b51-8410-73dec4685c90",
   "metadata": {},
   "outputs": [
    {
     "name": "stdout",
     "output_type": "stream",
     "text": [
      "51 15 \n",
      "47 46 \n",
      "79 98 \n"
     ]
    }
   ],
   "source": [
    "for row in range(len(matrix)):\n",
    "    for col in range(len(matrix[row])):\n",
    "        print(matrix[row][col], end=' ')\n",
    "    print()"
   ]
  },
  {
   "cell_type": "markdown",
   "id": "b98d616e-95f0-4590-836f-4978860fe0d9",
   "metadata": {},
   "source": [
    "`-` 2차원 리스트 섞기"
   ]
  },
  {
   "cell_type": "code",
   "execution_count": 70,
   "id": "6c4b0275-42bb-4bf4-8a3a-d172ebf572fe",
   "metadata": {},
   "outputs": [
    {
     "data": {
      "text/plain": [
       "[[51, 15], [47, 46], [79, 98]]"
      ]
     },
     "execution_count": 70,
     "metadata": {},
     "output_type": "execute_result"
    }
   ],
   "source": [
    "matrix"
   ]
  },
  {
   "cell_type": "code",
   "execution_count": 76,
   "id": "78f48636-5981-445e-8231-1ff24d751191",
   "metadata": {},
   "outputs": [],
   "source": [
    "for row in range(len(matrix)):\n",
    "    for col in range(len(matrix[row])):\n",
    "        i = random.randint(0, len(matrix)-1)\n",
    "        j = random.randint(0, len(matrix[row])-1)\n",
    "        matrix[row][col], matrix[i][j] = matrix[i][j], matrix[row][col]"
   ]
  },
  {
   "cell_type": "code",
   "execution_count": 77,
   "id": "0f2cb97e-7ddd-4af3-8361-411025298d14",
   "metadata": {},
   "outputs": [
    {
     "data": {
      "text/plain": [
       "[[79, 98], [46, 15], [47, 51]]"
      ]
     },
     "execution_count": 77,
     "metadata": {},
     "output_type": "execute_result"
    }
   ],
   "source": [
    "matrix"
   ]
  },
  {
   "cell_type": "markdown",
   "id": "4a7915ed-a7d3-4d9b-bfde-00bae65873e4",
   "metadata": {},
   "source": [
    "- 리스트 안의 원소들이 잘 섞여진 것을 확인할 수 있다."
   ]
  },
  {
   "cell_type": "markdown",
   "id": "fcfba9fd-0b70-4318-8588-bb86e7bdd25e",
   "metadata": {},
   "source": [
    "#### 2차원 리스트 처리"
   ]
  },
  {
   "cell_type": "markdown",
   "id": "1fc86ea4-70d2-4511-8624-bbecc6b11786",
   "metadata": {},
   "source": [
    "`-` 모든 원소들의 합 구하기"
   ]
  },
  {
   "cell_type": "code",
   "execution_count": 78,
   "id": "7dbbc3aa-594d-4b09-b6ed-511aff64e4eb",
   "metadata": {},
   "outputs": [
    {
     "data": {
      "text/plain": [
       "[[79, 98], [46, 15], [47, 51]]"
      ]
     },
     "execution_count": 78,
     "metadata": {},
     "output_type": "execute_result"
    }
   ],
   "source": [
    "matrix"
   ]
  },
  {
   "cell_type": "code",
   "execution_count": 79,
   "id": "4789ec32-636b-45d3-9457-48760517976b",
   "metadata": {},
   "outputs": [
    {
     "name": "stdout",
     "output_type": "stream",
     "text": [
      "79\n",
      "177\n",
      "223\n",
      "238\n",
      "285\n",
      "336\n"
     ]
    }
   ],
   "source": [
    "total = 0\n",
    "for row in matrix:\n",
    "    for value in row:\n",
    "        total += value\n",
    "        print(total)"
   ]
  },
  {
   "cell_type": "code",
   "execution_count": 80,
   "id": "c68711e6-1e9e-41f1-b8e5-ff9c9dc080ad",
   "metadata": {},
   "outputs": [
    {
     "data": {
      "text/plain": [
       "336"
      ]
     },
     "execution_count": 80,
     "metadata": {},
     "output_type": "execute_result"
    }
   ],
   "source": [
    "total"
   ]
  },
  {
   "cell_type": "markdown",
   "id": "42a14c55-6ba9-4c28-9065-b119f05af22f",
   "metadata": {},
   "source": [
    "`-` 각 열의 합 구하기"
   ]
  },
  {
   "cell_type": "code",
   "execution_count": 82,
   "id": "d004d4e0-adc7-4d7c-95d5-b9abf9da28cf",
   "metadata": {},
   "outputs": [
    {
     "data": {
      "text/plain": [
       "[[79, 98], [46, 15], [47, 51]]"
      ]
     },
     "execution_count": 82,
     "metadata": {},
     "output_type": "execute_result"
    }
   ],
   "source": [
    "matrix"
   ]
  },
  {
   "cell_type": "code",
   "execution_count": 81,
   "id": "522e078c-4429-4ecf-a324-881689203b84",
   "metadata": {},
   "outputs": [
    {
     "name": "stdout",
     "output_type": "stream",
     "text": [
      "Sum of column 0 is 172\n",
      "Sum of column 1 is 164\n"
     ]
    }
   ],
   "source": [
    "for col in range(len(matrix[0])):\n",
    "    total = 0\n",
    "    for row in range(len(matrix)):\n",
    "        total += matrix[row][col]\n",
    "    print(\"Sum of column\", col, \"is\", total)"
   ]
  },
  {
   "cell_type": "code",
   "execution_count": 83,
   "id": "a5028a5c-b8e2-4961-b512-d27ae95394db",
   "metadata": {},
   "outputs": [
    {
     "data": {
      "text/plain": [
       "172"
      ]
     },
     "execution_count": 83,
     "metadata": {},
     "output_type": "execute_result"
    }
   ],
   "source": [
    "79+46+47 # 1열 합"
   ]
  },
  {
   "cell_type": "code",
   "execution_count": 84,
   "id": "dce42965-d491-477a-9a06-063180181ac0",
   "metadata": {},
   "outputs": [
    {
     "data": {
      "text/plain": [
       "164"
      ]
     },
     "execution_count": 84,
     "metadata": {},
     "output_type": "execute_result"
    }
   ],
   "source": [
    "98+15+51 # 2열 합"
   ]
  },
  {
   "cell_type": "markdown",
   "id": "5fd0889f-2b63-47da-b831-81cbb5120757",
   "metadata": {},
   "source": [
    "- 각 열의 합이 잘 계산되었다."
   ]
  },
  {
   "cell_type": "markdown",
   "id": "f6082717-610c-486b-99f4-0116a9d397ea",
   "metadata": {},
   "source": [
    "`-` 합이 가장 큰 행 구하기"
   ]
  },
  {
   "cell_type": "code",
   "execution_count": 85,
   "id": "dd488e2c-632c-476c-be22-039727a5b82b",
   "metadata": {},
   "outputs": [
    {
     "data": {
      "text/plain": [
       "[[79, 98], [46, 15], [47, 51]]"
      ]
     },
     "execution_count": 85,
     "metadata": {},
     "output_type": "execute_result"
    }
   ],
   "source": [
    "matrix"
   ]
  },
  {
   "cell_type": "code",
   "execution_count": 92,
   "id": "addde1df-0317-43fd-9301-a3ce624d311b",
   "metadata": {},
   "outputs": [
    {
     "name": "stdout",
     "output_type": "stream",
     "text": [
      "Row 0 has max sum of  177\n"
     ]
    }
   ],
   "source": [
    "maxRow = sum(matrix[0])\n",
    "indexRow = 0\n",
    "for row in range(1, len(matrix)):\n",
    "    if sum(matrix[row]) > maxRow:\n",
    "        maxRow = sum(matrix[row])\n",
    "        indexRow = row\n",
    "print(\"Row\", indexRow, \"has max sum of \" , maxRow)"
   ]
  },
  {
   "cell_type": "markdown",
   "id": "dad39da7-6aef-4c0f-8fd5-35aa2f0c7a4f",
   "metadata": {},
   "source": [
    "`-` 리스트 정렬"
   ]
  },
  {
   "cell_type": "code",
   "execution_count": 94,
   "id": "27922ef2-2aa3-4bec-b241-feec1a4764a4",
   "metadata": {},
   "outputs": [
    {
     "data": {
      "text/plain": [
       "[[1, 2], [1, 1], [3, 1], [2, 5]]"
      ]
     },
     "execution_count": 94,
     "metadata": {},
     "output_type": "execute_result"
    }
   ],
   "source": [
    "lst = [[1,2],[1,1],[3,1],[2,5]]\n",
    "lst"
   ]
  },
  {
   "cell_type": "code",
   "execution_count": 95,
   "id": "4e36bf93-554b-4d79-93ba-cc34e8c0942a",
   "metadata": {},
   "outputs": [
    {
     "data": {
      "text/plain": [
       "[[1, 1], [1, 2], [2, 5], [3, 1]]"
      ]
     },
     "execution_count": 95,
     "metadata": {},
     "output_type": "execute_result"
    }
   ],
   "source": [
    "lst.sort()\n",
    "lst"
   ]
  },
  {
   "cell_type": "markdown",
   "id": "aeb755f9-5742-4671-9575-579050b87159",
   "metadata": {},
   "source": [
    "### 2차원 리스트와 함수\n",
    "2차원 리스트도 다른 객체와 마찬가지로 함수에 인수로 전달할 수도 있고, 함수가 반환값으로 반환할 수도 있다."
   ]
  },
  {
   "cell_type": "code",
   "execution_count": 100,
   "id": "7573bac6-35bf-40ea-bdcd-c3b549edd5c1",
   "metadata": {},
   "outputs": [],
   "source": [
    "def getMatrix():\n",
    "    matrix = []\n",
    "    numRows = eval(input(\"Number of Rows: \"))\n",
    "    numCols = eval(input(\"Number of Colunmns: \"))\n",
    "    for row in range(numRows):\n",
    "        matrix.append([])\n",
    "        for col in range(numCols):\n",
    "            value = eval(input(\"value:\"))\n",
    "            matrix[row].append(value)\n",
    "    return matrix"
   ]
  },
  {
   "cell_type": "code",
   "execution_count": 102,
   "id": "a27d7876-b245-43bc-b5ac-691c8a6bf9f9",
   "metadata": {},
   "outputs": [
    {
     "name": "stdin",
     "output_type": "stream",
     "text": [
      "Number of Rows:  3\n",
      "Number of Colunmns:  2\n",
      "value: 79\n",
      "value: 98\n",
      "value: 46\n",
      "value: 15\n",
      "value: 17\n",
      "value: 51\n"
     ]
    },
    {
     "data": {
      "text/plain": [
       "[[79, 98], [46, 15], [17, 51]]"
      ]
     },
     "execution_count": 102,
     "metadata": {},
     "output_type": "execute_result"
    }
   ],
   "source": [
    "getMatrix()"
   ]
  },
  {
   "cell_type": "code",
   "execution_count": 103,
   "id": "df5351d2-6fd5-41cb-b5b8-917aa3aa22af",
   "metadata": {},
   "outputs": [],
   "source": [
    "def accumulate(m):\n",
    "    total = 0\n",
    "    for row in m:\n",
    "        total += sum(row)\n",
    "    return total"
   ]
  },
  {
   "cell_type": "code",
   "execution_count": 105,
   "id": "8155c134-9d4d-48d3-9cfa-a50c5f2e0c3d",
   "metadata": {},
   "outputs": [
    {
     "data": {
      "text/plain": [
       "336"
      ]
     },
     "execution_count": 105,
     "metadata": {},
     "output_type": "execute_result"
    }
   ],
   "source": [
    "accumulate(matrix)"
   ]
  },
  {
   "cell_type": "markdown",
   "id": "1226acae-f61b-463d-a344-dded27bde7a3",
   "metadata": {},
   "source": [
    "- matrix의 모든 원소의 합은 336으로 위에서 구한 (2차원 리스트 처리: 모든 원소의 합)에서 구한 값과 같다."
   ]
  },
  {
   "cell_type": "markdown",
   "id": "3c486453-2503-43ef-ada4-1471b093b140",
   "metadata": {},
   "source": [
    "### 예제1 | 가장 가까운 두 점은?"
   ]
  },
  {
   "cell_type": "markdown",
   "id": "43ae8d42-7392-490d-b827-4bbc6b30dc8e",
   "metadata": {},
   "source": [
    "여러 점에 대한 좌표가 있다. 이들 점 중에서 가장 가까운 두 점을 찾아보자."
   ]
  },
  {
   "cell_type": "code",
   "execution_count": 1,
   "id": "c0515ffb-6671-46a7-be14-3fd1226a13f3",
   "metadata": {},
   "outputs": [],
   "source": [
    "def distance(x1,y1,x2,y2):\n",
    "    return((x1-x2)**2 + (y1-y2)**2)**0.5\n",
    "\n",
    "def nearestPoint(points):\n",
    "    p1, p2 = 0, 1\n",
    "    shortestDist = distance(points[p1][0], points[p1][1], points[p2][0], points[p2][1])\n",
    "    for i in range(len(points)):\n",
    "        for j in range(i+1, len(points)):\n",
    "            d = distance(points[i][0], points[i][1], points[j][0], points[j][1])\n",
    "            if d < shortestDist:\n",
    "                shortestDist = d\n",
    "                p1, p2 = i, j\n",
    "    return p1, p2  "
   ]
  },
  {
   "cell_type": "code",
   "execution_count": 3,
   "id": "cd14de01-0272-4f37-bbf9-93eee570fac3",
   "metadata": {},
   "outputs": [
    {
     "name": "stdin",
     "output_type": "stream",
     "text": [
      "점의 수: 4\n",
      "좌표: 0,0\n",
      "좌표: 0,1\n",
      "좌표: 0,2\n",
      "좌표: 0,6\n"
     ]
    },
    {
     "name": "stdout",
     "output_type": "stream",
     "text": [
      "( 0 0 ) ( 0 1 )\n"
     ]
    }
   ],
   "source": [
    "nPoints = eval(input(\"점의 수:\"))\n",
    "points = []\n",
    "for i in range(nPoints):\n",
    "    point = [0,0]\n",
    "    point[0],point[1] = eval(input(\"좌표:\"))\n",
    "    points.append(point)\n",
    "    \n",
    "p1, p2 = nearestPoint(points)\n",
    "print(\"(\", points[p1][0], points[p1][1],\")\",\"(\",points[p2][0], points[p2][1],\")\")"
   ]
  },
  {
   "cell_type": "code",
   "execution_count": 5,
   "id": "5b903e94-b4f4-48d9-b874-099dd81f4fb2",
   "metadata": {},
   "outputs": [
    {
     "name": "stdin",
     "output_type": "stream",
     "text": [
      "점의 수: 4\n",
      "좌표: 1,1\n",
      "좌표: 2,5\n",
      "좌표: 3,8\n",
      "좌표: 4,14\n"
     ]
    },
    {
     "name": "stdout",
     "output_type": "stream",
     "text": [
      "( 2 5 ) ( 3 8 )\n"
     ]
    }
   ],
   "source": [
    "nPoints = eval(input(\"점의 수:\"))\n",
    "points = []\n",
    "for i in range(nPoints):\n",
    "    point = [0,0]\n",
    "    point[0],point[1] = eval(input(\"좌표:\"))\n",
    "    points.append(point)\n",
    "    \n",
    "p1, p2 = nearestPoint(points)\n",
    "print(\"(\", points[p1][0], points[p1][1],\")\",\"(\",points[p2][0], points[p2][1],\")\")"
   ]
  },
  {
   "cell_type": "markdown",
   "id": "1f7f28ed-c643-446b-b485-5b8bae0ce1ac",
   "metadata": {},
   "source": [
    "### 예제2 | Sudoku"
   ]
  },
  {
   "cell_type": "markdown",
   "id": "e35fb564-964e-4e8a-a6a0-dbd568842200",
   "metadata": {},
   "source": [
    "![](https://upload.wikimedia.org/wikipedia/commons/3/31/Sudoku-by-L2G-20050714_solution.svg)"
   ]
  },
  {
   "cell_type": "markdown",
   "id": "093727b2-db60-48a5-9ddd-ca8abf1505eb",
   "metadata": {},
   "source": [
    "[게임 규칙]\n",
    "- 각 열, 각 행에 1~9까지 숫자가 들어가야 한다.\n",
    "- $3 \\times 3$ 블록에 1~9가지 숫자가 들어가야 한다."
   ]
  },
  {
   "cell_type": "markdown",
   "id": "df5f2314-5812-4d35-82dc-bfd00a245886",
   "metadata": {},
   "source": [
    "#### 어떤 Sudoku 해결방법이 맞는지 검사"
   ]
  },
  {
   "cell_type": "markdown",
   "id": "8fe39f42-2b7e-461c-8c4a-94c6976117a7",
   "metadata": {},
   "source": [
    "- 두가지 검사방법\n",
    "\n",
    "    - 1. 각 행, 열, 블록이 1~9까지 숫자를 포함하고 있는지 검사\n",
    "    - 2. <font color='red'> 각 셀에 대해 그 셀의 숫자가 행, 열, 블록에서 유일한지 검사</font> <--- 이 방법 사용할 것임!"
   ]
  },
  {
   "cell_type": "code",
   "execution_count": 13,
   "id": "d2e92e84-3589-4332-a43c-86c0885a73ac",
   "metadata": {},
   "outputs": [],
   "source": [
    "def isValid(grid):\n",
    "    for i in range(9):\n",
    "        for j in range(9):\n",
    "            if grid[i][j] < 1 or grid[i][j] > 9 or not isValidAt(i,j,grid):\n",
    "                return False\n",
    "    return True"
   ]
  },
  {
   "cell_type": "code",
   "execution_count": 14,
   "id": "c56a2f36-50be-48c7-86b1-fec0c541c04e",
   "metadata": {},
   "outputs": [],
   "source": [
    "def isValidAt(i,j,grid):\n",
    "    for column in range(9):\n",
    "        if column != j and grid[i][column] == grid[i][j]:\n",
    "            return False\n",
    "    for row in range(9):\n",
    "        if row != i and grid[row][j] == grid[i][j]:\n",
    "            return False\n",
    "    for row in range((i//3)*3, (j//3)*3 + 3):\n",
    "        if row != i and column != j and grid[row][column] == grid[i][j]:\n",
    "            return False\n",
    "    return True"
   ]
  },
  {
   "cell_type": "markdown",
   "id": "e4112815-3818-4580-be12-b3d22aeef708",
   "metadata": {},
   "source": [
    "### 다차원 리스트"
   ]
  },
  {
   "cell_type": "markdown",
   "id": "1e1535c5-9186-4b73-91bf-0f1430513e1a",
   "metadata": {},
   "source": [
    "- 일반적으로 $n$개의 첨자 사용\n",
    "\n",
    "```\n",
    "m[i][j][k]\n",
    "```"
   ]
  },
  {
   "cell_type": "markdown",
   "id": "b0774e53-3da0-4229-924d-f9fce8ef70ee",
   "metadata": {},
   "source": [
    "![](https://i.stack.imgur.com/soJYD.png)"
   ]
  }
 ],
 "metadata": {
  "kernelspec": {
   "display_name": "Python 3 (ipykernel)",
   "language": "python",
   "name": "python3"
  },
  "language_info": {
   "codemirror_mode": {
    "name": "ipython",
    "version": 3
   },
   "file_extension": ".py",
   "mimetype": "text/x-python",
   "name": "python",
   "nbconvert_exporter": "python",
   "pygments_lexer": "ipython3",
   "version": "3.8.11"
  }
 },
 "nbformat": 4,
 "nbformat_minor": 5
}
