{
 "cells": [
  {
   "cell_type": "markdown",
   "id": "9eac3216",
   "metadata": {},
   "source": [
    "# (OpenCV - Chap8) 기하학 처리\n",
    "> RST 변환\n",
    "- toc: true\n",
    "- branch: master\n",
    "- badges: false\n",
    "- comments: true\n",
    "- author: dinonene\n",
    "- categories: [python]"
   ]
  },
  {
   "cell_type": "markdown",
   "id": "af3e8881",
   "metadata": {},
   "source": [
    "`-` 기하학적 처리의 기본\n",
    "- 화소들의 배치 변경 $\\to$ 사상(mapping)의 의미 이해\n",
    "\n",
    "\n",
    "`-` 사상\n",
    "- 화소들의 배치를 변경할 때, 입력영상의 좌표에 해당하는 해당 목적영상의 좌표를 찾아서 화소값을 옮기는 과정\n",
    "\n",
    "`-` 순방향 사상(forward mapping)\n",
    "\n",
    "- 원본 영상의 좌표를 중심으로 목적영상의 좌표를 계산하여 화소의 위치를 반환하는 방식 $\\to$ 입력 영상과 출력 영상의 클기가 같을 때 유용\n",
    "\n",
    "- 두 영상의 크기가 달라지면, 홀(HOLE)이나 오버랩(OVERLAP)의 문제가 발생\n",
    "\n",
    "`-` 역방향 사상 (reverse mapping)\n",
    "- 목적 영상의 좌표를 중심으로 역변환을 계산하여 해당하는 입력 영상의 좌표를 찾아서 화소값을 옮기는 과정\n",
    "\n",
    "- 홀이나 오버랩은 발생하지 않음\n",
    "- 입력영상의 한 화소를 목적영상의 여러 화소에서 사용하게 되면 결과 영상의 품질 저하"
   ]
  },
  {
   "cell_type": "markdown",
   "id": "05b73079",
   "metadata": {},
   "source": [
    "## 8.2 크기 변경 (확대 / 축소)"
   ]
  },
  {
   "cell_type": "markdown",
   "id": "2663a599",
   "metadata": {},
   "source": [
    "### 크기 변경 (Scaling)\n",
    "- 입력영상의 가로와 세로로 크기를 변경해서 목적 영상을 만드는 방법\n",
    "- 입력영상보다 변경하고자 하는 영상의 크기가 커지면 확대, 작아지면 축소\n",
    "\n",
    "### 크기변경 수식\n",
    "변경 비율 및 변경 크기 이용\n",
    "\n",
    "\n",
    "- $x' = x\\cdot ratio X$ <br>\n",
    "- $y' = y\\cdot ratio Y$\n",
    "\n",
    "$$ ratio X = \\frac{dst_{width}}{org_{width}},\\qquad ratio Y = \\frac{dst_{height}}{org_{height}}$$"
   ]
  },
  {
   "cell_type": "markdown",
   "id": "d5dea966",
   "metadata": {},
   "source": [
    "## 8.3 보간\n",
    "알고있는 데이터를 기준으로 값을 추정하는 것.\n",
    "\n",
    "- 순방향 사상으로 영상 확대 - 홀이 많이 발생\n",
    "\n",
    "<img src = \"./prac_image/forward_mapping_hole.PNG\">\n",
    "\n",
    "- 역방향 사상을 통해서 홀의 화소들을 입력 영상에서 찾음\n",
    "    - 영상을 축소할 때에는 오버랩의 문제가 발생\n",
    "    \n",
    "    \n",
    "- **보간법 (interpolation) 필요** <br>\n",
    "목적 영상에서 홀의 화소들을 채우고, 오버랩이 되지 않게 화소들을 배치하여 목적 영상을 만드는 기법"
   ]
  },
  {
   "cell_type": "markdown",
   "id": "2945b6bf",
   "metadata": {},
   "source": [
    "### 8.3.1 최근접 이웃 보간법 (nearest neighbor interpolation)\n",
    "\n",
    "<img src = \"./prac_image/nn_interpolation.PNG\">"
   ]
  },
  {
   "cell_type": "markdown",
   "id": "af318ecc",
   "metadata": {},
   "source": [
    "### 8.3.2 양선형 보간법"
   ]
  },
  {
   "cell_type": "markdown",
   "id": "210226c0",
   "metadata": {},
   "source": [
    "#### `-` 최근접 이웃 보간법의 문제\n",
    "확대비율이 커지면, 모자이크 현상 혹은 경계부분에서 계단현상 발생\n",
    "    \n",
    "$\\to$ 양선형 보간 (bilinear interpolation)으로 해결\n",
    "직선의 선상에 위치한 중간 화소들의 값은 직선의 수식을 이용해서 쉽게 계산"
   ]
  },
  {
   "cell_type": "markdown",
   "id": "7db67b6e",
   "metadata": {},
   "source": [
    "#### `-` 양선형 보간법\n",
    "선형 보간을 두 번에 걸쳐서 수행하기에 붙여진 이름\n",
    "\n",
    "\n",
    "- 목적영상 화소($P$)를 역변환으로 계산하여 가장 가까운 위치에 있는 입력영상의 4개 화소(A, B, C, D) 값 가져옴\n",
    "\n",
    "- 4개 화소를 두 개씩(AB, CD) 묶어서 두 화소를 화소값($P_1, P_2, P_3, P_4)$으로 잇는 직선 구성"
   ]
  },
  {
   "cell_type": "markdown",
   "id": "81433161",
   "metadata": {},
   "source": [
    "<img src = \"./prac_image/bilinear_interpolation.PNG\">"
   ]
  },
  {
   "cell_type": "markdown",
   "id": "fd08a323",
   "metadata": {},
   "source": [
    "## 8.4 평행이동\n",
    "- 영상의 원점을 모든 화소를 동일하게 가로방향과 세로 방향으로 옮기는 것\n",
    "- 가로 방향으로 $dx$만큼, 세로 방향으로 $dy$만큼 전체 영상의 모든 화소 이동한 예"
   ]
  },
  {
   "cell_type": "markdown",
   "id": "7eb47ed9",
   "metadata": {},
   "source": [
    "<img src = \"./prac_image/translation.PNG\">"
   ]
  },
  {
   "cell_type": "markdown",
   "id": "a269890d",
   "metadata": {},
   "source": [
    "<img src = \"./prac_image/translation_result.PNG\">"
   ]
  },
  {
   "cell_type": "markdown",
   "id": "f2918eea",
   "metadata": {},
   "source": [
    "## 8.5 회전\n",
    "입력영상의 모든 화소를 영상의 원점을 기준으로 원하는 각도만큼 모든 화소에 대해서 회전 변환을 시키는 것"
   ]
  },
  {
   "attachments": {},
   "cell_type": "markdown",
   "id": "4400b806",
   "metadata": {},
   "source": [
    "<img src = \"./prac_image/rotation.PNG\">"
   ]
  },
  {
   "cell_type": "markdown",
   "id": "ef716188",
   "metadata": {},
   "source": [
    "## 8.6 행렬 연산을 통한 기하학 변환 - 어파인 변환"
   ]
  },
  {
   "cell_type": "markdown",
   "id": "2e6f9770",
   "metadata": {},
   "source": [
    "기하학 변환 수식이 행렬의 곱으로 표현 가능\n",
    "\n",
    "`-` 회전\n",
    "\n",
    "$\\begin{bmatrix}x' \\\\ y'\\end{bmatrix} = \\begin{bmatrix}cos\\theta & -sin\\theta\\\\sin\\theta & cos\\theta\\end{bmatrix} \\begin{bmatrix}x \\\\ y \\end{bmatrix}$\n",
    "\n",
    "\n",
    "`-` 평행이동\n",
    "\n",
    "$\\begin{bmatrix}x' \\\\ y'\\end{bmatrix} = \\begin{bmatrix}x \\\\ y\\end{bmatrix} \\begin{bmatrix}t_x \\\\ t_y \\end{bmatrix}$\n",
    "\n",
    "\n",
    "`-` 크기변경\n",
    "\n",
    "$\\begin{bmatrix}x' \\\\ y'\\end{bmatrix} = \\begin{bmatrix}\\alpha & 0\\\\ 0 & \\beta\\end{bmatrix} \\begin{bmatrix}x \\\\ y \\end{bmatrix}$\n"
   ]
  },
  {
   "cell_type": "markdown",
   "id": "50ea662b",
   "metadata": {},
   "source": [
    "## 8.7 원근 투시(투영) 변환"
   ]
  },
  {
   "cell_type": "markdown",
   "id": "6d196bfd",
   "metadata": {},
   "source": [
    "### 원근 투시 변환(perspective projection transformation)\n",
    "\n",
    "\n",
    "### 동차 좌표계 (homogeneous coordinates)\n",
    "- 원근 투영 변환을 사용할 때에는 동차좌표계를 사용하는 것이 편리\n",
    "- 모든 항의 차수가 동일하기 때문에 붙여진 이름으로서 $n$차원의 투영 공간을 $n+1$개의 좌표로 나타내는 좌표계 $\\to$ 차원의 좌표를 1차원 증가시켜 표현\n",
    "\n",
    "### 원근 변환을 수행하는 행렬\n",
    "입력 영상의 좌표를 목적 영상의 좌표로 변환하면 원근 변환 수행\n",
    "\n",
    "$w\\cdot\\begin{bmatrix}x' \\\\ y' \\\\ 1\\end{bmatrix} = \\begin{bmatrix} a_{11} & a_{12} & a_{13}\\\\ a_{21} & a_{22} & a_{23} \\\\ a_{31} & a_{32} & a_{33} \\end{bmatrix} \\begin{bmatrix}x \\\\ y \\\\1 \\end{bmatrix}$\n",
    "\n",
    "#### OpenCV 함수\n",
    "\n",
    "|function name|Description|\n",
    "|:-------|:---------|\n",
    "|cv::getPerspectiveTransform()| 4개의 좌표쌍으로부터 원근변환 행렬 계산|\n",
    "|cv::warpPerspective()|원근변환 행렬에 따라서 원근변환 수행|\n",
    "|cv::transform()|입력영상의 4개 좌표와 원근 행렬을 인수로 입력하면 원근 변환된 좌표를 반환|\n"
   ]
  },
  {
   "cell_type": "markdown",
   "id": "871790af",
   "metadata": {},
   "source": [
    "## Summary"
   ]
  },
  {
   "attachments": {},
   "cell_type": "markdown",
   "id": "8e4bb134",
   "metadata": {},
   "source": [
    "- 사상(mapping)은 화소들의 배치를 변경할 때, 입력영상의 좌표가 새롭게 배치될 해당 목적영상의 좌표를 찾아서 화소값을 옮기는 과정을 말한다. 순방향 사상(forward mapping)과 역방향 사상(reverse mapping)의 두 가지 방식이 있다.\n",
    "\n"
   ]
  },
  {
   "attachments": {},
   "cell_type": "markdown",
   "id": "fc2e8156",
   "metadata": {},
   "source": [
    "- 사상의 과정에서 홀(hole)과 오버랩(overlap)이 발생할 수 있다. 홀은 입력영상의 좌표들로 목적영상의 좌표를 만드는 과정에서 사상되지 않은 화소이다. 오버랩은 원본 영상의 여러 화소가 목적영상의 한 화소로 사상되는 것을 말한다."
   ]
  },
  {
   "attachments": {},
   "cell_type": "markdown",
   "id": "8fc1ed30",
   "metadata": {},
   "source": [
    "- 목적영상에서 홀의 화소들을 채우고, 오버랩이 되지 않게 화소들을 배치하여 목적영상을 만드는 기법을 보간법(interpolation)이라 하며, 그 종류에는 최근접 이웃 보간법, 양선형 보간법, 3차 회선 보간법 등 다양한 방법이 있다."
   ]
  },
  {
   "attachments": {},
   "cell_type": "markdown",
   "id": "16aee222",
   "metadata": {},
   "source": [
    "- 최근접 이웃 보간법은 목적영상을 만드는 과정에서 홀이 되어 할당 받지 못하는 화소들의 값을 찾을 때, 목적영상의 화소에 가장 가깝게 이웃한 입력영상의 화소값을 가져오는 방법이다. 양선형 보간법은 선형 보간을 두 번에 걸쳐서 수행하기에 붙여진 이름이다."
   ]
  },
  {
   "attachments": {},
   "cell_type": "markdown",
   "id": "bba5b380",
   "metadata": {},
   "source": [
    "- OpneCV에서는 cv2.resize(), cv2.remap(), cv2.warpAffine(), cv2.warpPerspective() 등과 같이 영상을 변환하는 함수에서 보간을 위한 flag 옵션을 제공한다. 대표적으로‘INTER_NEAREST’는 최근접 이웃 보간이며, ‘INTER_LINEAR’는 양선형 보간이며, ‘INTER_CUBIC’는 바이큐빅 보간이다."
   ]
  },
  {
   "attachments": {},
   "cell_type": "markdown",
   "id": "0678e690",
   "metadata": {},
   "source": [
    "- 2×3 크기의 어파인 변환 행렬을 이용해서 회전, 크기변경, 평행이동 등을 복합적으로 수행할 수 있다. OpenCV에서는 cv2.getAffineTransform()와 cv2.getRotationMatrix2D() 함수로 어파인 변환 행렬을 만들며, cv2.warpAffine() 함수로 어파인 변환을 수행한다. "
   ]
  },
  {
   "attachments": {},
   "cell_type": "markdown",
   "id": "7137b714",
   "metadata": {},
   "source": [
    "- 원근법은 눈에 보이는 3차원의 세계를 2차원의 평면으로 옮길 때에 관찰자가 보는 것 그대로 사물과의 거리를 반영하여 그리는 방법을 말한다. 그리고 이 원근법을 영상 좌표계에서 표현하는 것이 원근 투시 변환이다. 원근 변환에서는 주로 동차 좌표계를 사용하는 것이 편리하다."
   ]
  },
  {
   "attachments": {},
   "cell_type": "markdown",
   "id": "c6e6659f",
   "metadata": {},
   "source": [
    "- OpenCV에서는 cv2.getPerspectiveTransform() 함수로 원근 변환 행렬을 계산하며, cv2.warpPerspective() 함수는 원근변환 행렬에 따라서 원근변환을 수행한다. 또한 cv2.transform() 함수는 입력영상의 4개 좌표와 원근 행렬을 인수로 입력하면 원근변환된 좌표를 반환해 준다."
   ]
  }
 ],
 "metadata": {
  "kernelspec": {
   "display_name": "Python 3 (ipykernel)",
   "language": "python",
   "name": "python3"
  },
  "language_info": {
   "codemirror_mode": {
    "name": "ipython",
    "version": 3
   },
   "file_extension": ".py",
   "mimetype": "text/x-python",
   "name": "python",
   "nbconvert_exporter": "python",
   "pygments_lexer": "ipython3",
   "version": "3.9.13"
  }
 },
 "nbformat": 4,
 "nbformat_minor": 5
}
