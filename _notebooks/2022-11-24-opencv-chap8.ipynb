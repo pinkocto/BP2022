{
 "cells": [
  {
   "cell_type": "markdown",
   "id": "ca64541f",
   "metadata": {},
   "source": [
    "# (OpenCV - Chap8) 기하학 처리\n",
    "> RST 변환\n",
    "- toc: true\n",
    "- branch: master\n",
    "- badges: false\n",
    "- comments: true\n",
    "- author: dinonene\n",
    "- categories: [python]"
   ]
  },
  {
   "cell_type": "markdown",
   "id": "c9457ace",
   "metadata": {},
   "source": [
    "`-` 기하학적 처리의 기본\n",
    "- 화소들의 배치 변경 $\\to$ 사상(mapping)의 의미 이해\n",
    "\n",
    "\n",
    "`-` 사상\n",
    "- 화소들의 배치를 변경할 때, 입력영상의 좌표에 해당하는 해당 목적영상의 좌표를 찾아서 화소값을 옮기는 과정\n",
    "\n",
    "`-` 순방향 사상(forward mapping)\n",
    "\n",
    "- 원본 영상의 좌표를 중심으로 목적영상의 좌표를 계산하여 화소의 위치를 반환하는 방식 $\\to$ 입력 영상과 출력 영상의 클기가 같을 때 유용\n",
    "\n",
    "- 두 영상의 크기가 달라지면, 홀(HOLE)이나 오버랩(OVERLAP)의 문제가 발생\n",
    "\n",
    "`-` 역방향 사상 (reverse mapping)\n",
    "- 목적 영상의 좌표를 중심으로 역변환을 계산하여 해당하는 입력 영상의 좌표를 찾아서 화소값을 옮기는 과정\n",
    "\n",
    "- 홀이나 오버랩은 발생하지 않음\n",
    "- 입력영상의 한 화소를 목적영상의 여러 화소에서 사용하게 되면 결과 영상의 품질 저하"
   ]
  },
  {
   "cell_type": "markdown",
   "id": "87b13341",
   "metadata": {},
   "source": [
    "## 8.2 크기 변경 (확대 / 축소)"
   ]
  },
  {
   "cell_type": "markdown",
   "id": "b7b315d2",
   "metadata": {},
   "source": [
    "### 크기 변경 (Scaling)\n",
    "- 입력영상의 가로와 세로로 크기를 변경해서 목적 영상을 만드는 방법\n",
    "- 입력영상보다 변경하고자 하는 영상의 크기가 커지면 확대, 작아지면 축소\n",
    "\n",
    "### 크기변경 수식\n",
    "변경 비율 및 변경 크기 이용\n",
    "\n",
    "\n",
    "- $x' = x\\cdot ratio X$ <br>\n",
    "- $y' = y\\cdot ratio Y$\n",
    "\n",
    "$$ ratio X = \\frac{dst_{width}}{org_{width}},\\qquad ratio Y = \\frac{dst_{height}}{org_{height}}$$"
   ]
  },
  {
   "cell_type": "code",
   "execution_count": 1,
   "id": "5dda037a",
   "metadata": {},
   "outputs": [],
   "source": [
    "import numpy as np, cv2"
   ]
  },
  {
   "cell_type": "code",
   "execution_count": null,
   "id": "559aba5b",
   "metadata": {},
   "outputs": [],
   "source": [
    "def scaling(img, size)"
   ]
  },
  {
   "cell_type": "markdown",
   "id": "5d649453",
   "metadata": {},
   "source": [
    "## 8.3 보간\n",
    "알고있는 데이터를 기준으로 값을 추정하는 것.\n",
    "\n",
    "- 순방향 사상으로 영상 확대 - 홀이 많이 발생\n",
    "\n",
    "\n",
    "- 역방향 사상을 통해서 홀의 화소들을 입력 영상에서 찾음\n",
    "    - 영상을 축소할 때에는 오버랩의 문제가 발생"
   ]
  },
  {
   "cell_type": "markdown",
   "id": "a2c035ac",
   "metadata": {},
   "source": [
    "### 8.3.1 최근접 이웃 보간법 (nearest neighbor interpolation)\n"
   ]
  }
 ],
 "metadata": {
  "kernelspec": {
   "display_name": "Python 3 (ipykernel)",
   "language": "python",
   "name": "python3"
  },
  "language_info": {
   "codemirror_mode": {
    "name": "ipython",
    "version": 3
   },
   "file_extension": ".py",
   "mimetype": "text/x-python",
   "name": "python",
   "nbconvert_exporter": "python",
   "pygments_lexer": "ipython3",
   "version": "3.9.13"
  }
 },
 "nbformat": 4,
 "nbformat_minor": 5
}
