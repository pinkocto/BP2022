{
 "cells": [
  {
   "cell_type": "markdown",
   "id": "49743599",
   "metadata": {},
   "source": [
    "# (OpenCV - Chap8) 기하학 처리\n",
    "> RST 변환\n",
    "- toc: true\n",
    "- branch: master\n",
    "- badges: false\n",
    "- comments: true\n",
    "- author: dinonene\n",
    "- categories: [python]"
   ]
  },
  {
   "cell_type": "markdown",
   "id": "0e6e38d6",
   "metadata": {},
   "source": [
    "`-` 기하학적 처리의 기본\n",
    "- 화소들의 배치 변경 $\\to$ 사상(mapping)의 의미 이해\n",
    "\n",
    "\n",
    "`-` 사상\n",
    "- 화소들의 배치를 변경할 때, 입력영상의 좌표에 해당하는 해당 목적영상의 좌표를 찾아서 화소값을 옮기는 과정\n",
    "\n",
    "`-` 순방향 사상(forward mapping)\n",
    "\n",
    "- 원본 영상의 좌표를 중심으로 목적영상의 좌표를 계산하여 화소의 위치를 반환하는 방식 $\\to$ 입력 영상과 출력 영상의 클기가 같을 때 유용\n",
    "\n",
    "- 두 영상의 크기가 달라지면, 홀(HOLE)이나 오버랩(OVERLAP)의 문제가 발생\n",
    "\n",
    "`-` 역방향 사상 (reverse mapping)\n",
    "- 목적 영상의 좌표를 중심으로 역변환을 계산하여 해당하는 입력 영상의 좌표를 찾아서 화소값을 옮기는 과정\n",
    "\n",
    "- 홀이나 오버랩은 발생하지 않음\n",
    "- 입력영상의 한 화소를 목적영상의 여러 화소에서 사용하게 되면 결과 영상의 품질 저하"
   ]
  },
  {
   "cell_type": "markdown",
   "id": "a6eaa42c",
   "metadata": {},
   "source": [
    "## 8.2 크기 변경 (확대 / 축소)"
   ]
  },
  {
   "cell_type": "markdown",
   "id": "2bda4a30",
   "metadata": {},
   "source": [
    "### 크기 변경 (Scaling)\n",
    "- 입력영상의 가로와 세로로 크기를 변경해서 목적 영상을 만드는 방법\n",
    "- 입력영상보다 변경하고자 하는 영상의 크기가 커지면 확대, 작아지면 축소\n",
    "\n",
    "### 크기변경 수식\n",
    "변경 비율 및 변경 크기 이용\n",
    "\n",
    "\n",
    "- $x' = x\\cdot ratio X$ <br>\n",
    "- $y' = y\\cdot ratio Y$\n",
    "\n",
    "$$ ratio X = \\frac{dst_{width}}{org_{width}},\\qquad ratio Y = \\frac{dst_{height}}{org_{height}}$$"
   ]
  },
  {
   "cell_type": "markdown",
   "id": "d5a8ab26",
   "metadata": {},
   "source": [
    "## 8.3 보간\n",
    "알고있는 데이터를 기준으로 값을 추정하는 것.\n",
    "\n",
    "- 순방향 사상으로 영상 확대 - 홀이 많이 발생\n",
    "\n",
    "<img src = \"./prac_image/forward_mapping_hole.png\">\n",
    "\n",
    "- 역방향 사상을 통해서 홀의 화소들을 입력 영상에서 찾음\n",
    "    - 영상을 축소할 때에는 오버랩의 문제가 발생\n",
    "    \n",
    "    \n",
    "- **보간법 (interpolation) 필요** <br>\n",
    "목적 영상에서 홀의 화소들을 채우고, 오버랩이 되지 않게 화소들을 배치하여 목적 영상을 만드는 기법"
   ]
  },
  {
   "cell_type": "markdown",
   "id": "3dcf1da4",
   "metadata": {},
   "source": [
    "### 8.3.1 최근접 이웃 보간법 (nearest neighbor interpolation)\n",
    "\n",
    "<img src = \"./prac_image/nn_interpolation.png\">"
   ]
  },
  {
   "cell_type": "markdown",
   "id": "db740e4d",
   "metadata": {},
   "source": [
    "### 8.3.2 양선형 보간법"
   ]
  },
  {
   "cell_type": "markdown",
   "id": "69ea310f",
   "metadata": {},
   "source": [
    "#### `-` 최근접 이웃 보간법의 문제\n",
    "확대비율이 커지면, 모자이크 현상 혹은 경계부분에서 계단현상 발생\n",
    "    \n",
    "$\\to$ 양선형 보간 (bilinear interpolation)으로 해결\n",
    "직선의 선상에 위치한 중간 화소들의 값은 직선의 수식을 이용해서 쉽게 계산"
   ]
  },
  {
   "cell_type": "markdown",
   "id": "12a4ece2",
   "metadata": {},
   "source": [
    "#### `-` 양선형 보간법\n",
    "선형 보간을 두 번에 걸쳐서 수행하기에 붙여진 이름\n",
    "\n",
    "\n",
    "- 목적영상 화소($P$)를 역변환으로 계산하여 가장 가까운 위치에 있는 입력영상의 4개 화소(A, B, C, D) 값 가져옴\n",
    "\n",
    "- 4개 화소를 두 개씩(AB, CD) 묶어서 두 화소를 화소값($P_1, P_2, P_3, P_4)$으로 잇는 직선 구성"
   ]
  },
  {
   "cell_type": "markdown",
   "id": "b632fc63",
   "metadata": {},
   "source": [
    "<img src = \"./prac_image/bilinear_interpolation.png\">"
   ]
  },
  {
   "cell_type": "markdown",
   "id": "d9db7cea",
   "metadata": {},
   "source": [
    "## 8.4 평행이동\n",
    "- 영상의 원점을 모든 화소를 동일하게 가로방향과 세로 방향으로 옮기는 것\n",
    "- 가로 방향으로 $dx$만큼, 세로 방향으로 $dy$만큼 전체 영상의 모든 화소 이동한 예"
   ]
  },
  {
   "cell_type": "markdown",
   "id": "e84f5baa",
   "metadata": {},
   "source": [
    "<img src = \"./prac_image/translation.png\">"
   ]
  },
  {
   "cell_type": "markdown",
   "id": "2f0a9265",
   "metadata": {},
   "source": [
    "<img src = \"./prac_image/translation_result.png\">"
   ]
  },
  {
   "cell_type": "markdown",
   "id": "0c471092",
   "metadata": {},
   "source": [
    "## 8.5 회전\n",
    "입력영상의 모든 화소를 영상의 원점을 기준으로 원하는 각도만큼 모든 화소에 대해서 회전 변환을 시키는 것"
   ]
  },
  {
   "attachments": {},
   "cell_type": "markdown",
   "id": "8db18126",
   "metadata": {},
   "source": [
    "<img src = \"./prac_image/rotation.png\">"
   ]
  },
  {
   "cell_type": "markdown",
   "id": "548cf92b",
   "metadata": {},
   "source": [
    "## 8.6 행렬 연산을 통한 기하학 변환 - 어파인 변환"
   ]
  },
  {
   "cell_type": "markdown",
   "id": "bb3c8220",
   "metadata": {},
   "source": [
    "기하학 변환 수식이 행렬의 곱으로 표현 가능\n",
    "\n",
    "`-` 회전\n",
    "\n",
    "`-` 평행이동\n",
    "\n",
    "`-` 크기변경"
   ]
  },
  {
   "cell_type": "code",
   "execution_count": null,
   "id": "c70cf3f4",
   "metadata": {},
   "outputs": [],
   "source": []
  }
 ],
 "metadata": {
  "kernelspec": {
   "display_name": "Python 3 (ipykernel)",
   "language": "python",
   "name": "python3"
  },
  "language_info": {
   "codemirror_mode": {
    "name": "ipython",
    "version": 3
   },
   "file_extension": ".py",
   "mimetype": "text/x-python",
   "name": "python",
   "nbconvert_exporter": "python",
   "pygments_lexer": "ipython3",
   "version": "3.9.13"
  }
 },
 "nbformat": 4,
 "nbformat_minor": 5
}
