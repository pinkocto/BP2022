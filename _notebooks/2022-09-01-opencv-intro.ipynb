{
 "cells": [
  {
   "cell_type": "markdown",
   "id": "197950b6",
   "metadata": {},
   "source": [
    "# OpenCV intro\n",
    "> OpenCV의 기본 사용법에 대해 알아보자.\n",
    "- toc: true\n",
    "- branch: master\n",
    "- badges: false\n",
    "- comments: true\n",
    "- author: dinonene\n",
    "- categories: [python]"
   ]
  },
  {
   "cell_type": "markdown",
   "id": "7f8398d1",
   "metadata": {},
   "source": [
    "ref: https://www.youtube.com/watch?v=F2FRpmh9sQo"
   ]
  },
  {
   "cell_type": "markdown",
   "id": "993ae6ec",
   "metadata": {},
   "source": [
    "### 이미지 읽어서 살펴보기"
   ]
  },
  {
   "cell_type": "markdown",
   "id": "92afc953",
   "metadata": {},
   "source": [
    "#### 01. cv2.imread(file_name, flag)"
   ]
  },
  {
   "cell_type": "markdown",
   "id": "e8b433cf",
   "metadata": {},
   "source": [
    "<div class=\"alert-danger\">\n",
    "cv2.imread(file_name, flag) : 이미지를 읽어 Numpy 객체로 만드는 함수\n",
    "</div>"
   ]
  },
  {
   "cell_type": "markdown",
   "id": "045d5e90",
   "metadata": {},
   "source": [
    "- file_name : 읽고자 하는 이미지 파일 <br><br>\n",
    "- flag : 이미지를 읽는 방법 설정 <br>\n",
    "    - `IMREAD_COLOR` : 이미지를 Color로 읽고, 투명한 부분은 무시\n",
    "    - `IMREAD_GRAYSCALE` : 이미지를 Grayscale로 읽기\n",
    "    - `IMREAD_UNCHANGED` : 이미지를 Color로 읽고, 투명한 부분도 읽기 (Alpha)<br><br>\n",
    "    \n",
    "- 반환 값 : Numpy 객체 (행, 열, 색상: 기본 **BGR**)"
   ]
  },
  {
   "cell_type": "markdown",
   "id": "beec2f8a",
   "metadata": {},
   "source": [
    "#### 02. cv2. imshow(title, image)"
   ]
  },
  {
   "cell_type": "markdown",
   "id": "0b9b9a03",
   "metadata": {},
   "source": [
    "<div class=\"alert-danger\">\n",
    "cv2.imshow(title, image) : 특정한 이미지를 화면에 출력\n",
    "</div>"
   ]
  },
  {
   "cell_type": "markdown",
   "id": "6394279a",
   "metadata": {},
   "source": [
    "- title: 윈도우 창의 제목 \n",
    "- image : 출력할 이미지 객체"
   ]
  },
  {
   "cell_type": "markdown",
   "id": "54697166",
   "metadata": {},
   "source": [
    "#### 03. cv2.imwrite(file_name, image)"
   ]
  },
  {
   "cell_type": "markdown",
   "id": "9dcfd151",
   "metadata": {},
   "source": [
    "<div class=\"alert-danger\">\n",
    "cv2.imwrite(file_name, image) : 특정한 이미지를 파일로 저장하는 함수\n",
    "</div>"
   ]
  },
  {
   "cell_type": "markdown",
   "id": "591c5c92",
   "metadata": {},
   "source": [
    "- file_name : 저장할 이미지 파일 이름\n",
    "- image : 저장할 이미지 객체"
   ]
  },
  {
   "cell_type": "markdown",
   "id": "940bafe7",
   "metadata": {},
   "source": [
    "#### 04. cv2.waitKey(time)"
   ]
  },
  {
   "cell_type": "markdown",
   "id": "72a138f7",
   "metadata": {},
   "source": [
    "<div class=\"alert-danger\">\n",
    "cv2.waitKey(time) : 키보드 입력을 처리하는 함수\n",
    "</div>"
   ]
  },
  {
   "cell_type": "markdown",
   "id": "7def09a8",
   "metadata": {},
   "source": [
    "- time : 입력 대기 시간 (무한대기: 0)\n",
    "\n",
    "- 반환 값: 사용자가 입력한 Ascii Code (ESC: 27)"
   ]
  },
  {
   "cell_type": "markdown",
   "id": "7b8e07dc",
   "metadata": {},
   "source": [
    "#### 05. cv2.destroyAllWindows()"
   ]
  },
  {
   "cell_type": "markdown",
   "id": "15cac9a0",
   "metadata": {},
   "source": [
    "<div class=\"alert-danger\">\n",
    "cv2.destroyAllWindows() : 화면의 모든 윈도우를 닫는 함수\n",
    "</div>"
   ]
  },
  {
   "cell_type": "code",
   "execution_count": 7,
   "id": "d4ecf391",
   "metadata": {},
   "outputs": [],
   "source": [
    "import cv2\n",
    "\n",
    "img_basic = cv2.imread('./ghtop_images/chap05_images/color.jpg', cv2.IMREAD_COLOR)\n",
    "cv2.imshow('Image Basic', img_basic)\n",
    "cv2.waitKey(0)\n",
    "cv2.imwrite('./prac_image/img_basic.png', img_basic) # 이미지 저장\n",
    "\n",
    "cv2.destroyAllWindows()"
   ]
  },
  {
   "cell_type": "markdown",
   "id": "315ddb60",
   "metadata": {},
   "source": [
    "<img src= \"./prac_image/img_basic.png\" width=\"450\" >"
   ]
  },
  {
   "cell_type": "code",
   "execution_count": 6,
   "id": "662d153e",
   "metadata": {},
   "outputs": [],
   "source": [
    "img_gray = cv2.cvtColor(img_basic, cv2.COLOR_BGR2GRAY)\n",
    "cv2.imshow(\"Image Gray\", img_gray)\n",
    "cv2.waitKey(0)\n",
    "cv2.imwrite('./prac_image/img_gray.png', img_gray) # 이미지 저장\n",
    "\n",
    "cv2.destroyAllWindows()"
   ]
  },
  {
   "cell_type": "markdown",
   "id": "98e37a95",
   "metadata": {},
   "source": [
    "<img src= \"./prac_image/img_gray.png\" width=\"450\" >"
   ]
  }
 ],
 "metadata": {
  "kernelspec": {
   "display_name": "Python 3 (ipykernel)",
   "language": "python",
   "name": "python3"
  },
  "language_info": {
   "codemirror_mode": {
    "name": "ipython",
    "version": 3
   },
   "file_extension": ".py",
   "mimetype": "text/x-python",
   "name": "python",
   "nbconvert_exporter": "python",
   "pygments_lexer": "ipython3",
   "version": "3.9.13"
  }
 },
 "nbformat": 4,
 "nbformat_minor": 5
}
