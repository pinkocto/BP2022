{
 "cells": [
  {
   "cell_type": "markdown",
   "id": "433af7c5",
   "metadata": {},
   "source": [
    "# OpenCV intro\n",
    "> OpenCV의 기본 사용법에 대해 알아보자.\n",
    "- toc: true\n",
    "- branch: master\n",
    "- badges: false\n",
    "- comments: true\n",
    "- author: dinonene\n",
    "- categories: [python]"
   ]
  },
  {
   "cell_type": "markdown",
   "id": "0b8943f7",
   "metadata": {},
   "source": [
    "<div class=\"alert-danger\">\n",
    "cv2.imread(file_name, flag) : 이미지를 읽어 Numpy 객체로 만드는 함수\n",
    "</div>"
   ]
  },
  {
   "cell_type": "markdown",
   "id": "539d1187",
   "metadata": {},
   "source": [
    "- file_name : 읽고자 하는 이미지 파일 <br><br>\n",
    "- flag : 이미지를 읽는 방법 설정 <br>\n",
    "    - `IMREAD_COLOR` : 이미지를 Color로 읽고, 투명한 부분은 무시\n",
    "    - `IMREAD_GRAYSCALE` : 이미지를 Grayscale로 읽기\n",
    "    - `IMREAD_UNCHANGED` : 이미지를 Color로 읽고, 투명한 부분도 읽기 (Alpha)<br><br>\n",
    "    \n",
    "- 반환 값 : Numpy 객체 (행, 열, 색상: 기본 **BGR**)"
   ]
  },
  {
   "cell_type": "code",
   "execution_count": null,
   "id": "6723ebe8",
   "metadata": {},
   "outputs": [],
   "source": []
  }
 ],
 "metadata": {
  "kernelspec": {
   "display_name": "Python 3 (ipykernel)",
   "language": "python",
   "name": "python3"
  },
  "language_info": {
   "codemirror_mode": {
    "name": "ipython",
    "version": 3
   },
   "file_extension": ".py",
   "mimetype": "text/x-python",
   "name": "python",
   "nbconvert_exporter": "python",
   "pygments_lexer": "ipython3",
   "version": "3.9.13"
  }
 },
 "nbformat": 4,
 "nbformat_minor": 5
}
