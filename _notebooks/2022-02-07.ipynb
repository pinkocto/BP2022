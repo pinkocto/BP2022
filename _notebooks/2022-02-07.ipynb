{
 "cells": [
  {
   "cell_type": "markdown",
   "id": "ac659df7-97b3-4264-ae46-d7014efa27fc",
   "metadata": {
    "tags": []
   },
   "source": [
    "# (1주차) 2월7일\n",
    "> Working\n",
    "\n",
    "- toc: true\n",
    "- badges: false\n",
    "- comments: true\n",
    "- categories: [python]"
   ]
  },
  {
   "cell_type": "code",
   "execution_count": null,
   "id": "5b6372b7-fb45-4837-a30d-4c198d29aebf",
   "metadata": {},
   "outputs": [],
   "source": []
  }
 ],
 "metadata": {
  "kernelspec": {
   "display_name": "Python 3 (ipykernel)",
   "language": "python",
   "name": "python3"
  },
  "language_info": {
   "codemirror_mode": {
    "name": "ipython",
    "version": 3
   },
   "file_extension": ".py",
   "mimetype": "text/x-python",
   "name": "python",
   "nbconvert_exporter": "python",
   "pygments_lexer": "ipython3",
   "version": "3.8.11"
  }
 },
 "nbformat": 4,
 "nbformat_minor": 5
}
