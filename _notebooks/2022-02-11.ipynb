{
 "cells": [
  {
   "cell_type": "markdown",
   "id": "8b83d504-ebd2-491c-9946-6f1c5b06ec8b",
   "metadata": {
    "tags": []
   },
   "source": [
    "# (1주차) 2월11일\n",
    "> 5.제어구조와 조건문\n",
    "- toc: true\n",
    "- branch: master\n",
    "- badges: false\n",
    "- comments: true\n",
    "- author: dinonene\n",
    "- categories: [python]"
   ]
  },
  {
   "cell_type": "markdown",
   "id": "ea902f46-c361-426f-9dd1-873f0bd0bd07",
   "metadata": {},
   "source": [
    " 제어구조란? 프로그램 문장들의 실행 순서를 지정하는 구조\n",
    " \n",
    " - 순차 구조 (sequence)\n",
    " - 선택 구조 (selection)\n",
    " - 반복 구조 (loop)"
   ]
  },
  {
   "cell_type": "markdown",
   "id": "afe0c7a7-410c-41be-9fbe-fbcf3f66fc7c",
   "metadata": {},
   "source": [
    "### if-else 연습: 초등학생에게 더하기 가르치기"
   ]
  },
  {
   "cell_type": "markdown",
   "id": "37593704-26a5-4836-8d32-f4aeaf3fdd17",
   "metadata": {},
   "source": [
    "다음 일을 하는 프로그램을 작성해보자.\n",
    "\n",
    "1. 더하기를 할 두개의 숫자 $x,y$를 임의로 생성한다. 단 숫자는 1부터 9사이 숫자로 한다.\n",
    "2. \"$x+y=$\"를 출력한다.\n",
    "3. 사용자가 입력한 숫자가 $x+y$와 같으면 \"참 잘했어요.\" 라고 출력한다. 틀리면 \"$x+y=z$ 입니다.\"를 출력한다."
   ]
  },
  {
   "cell_type": "markdown",
   "id": "9e0f5fe1-dfe8-4336-8899-78b94a5d2e6c",
   "metadata": {},
   "source": [
    "> Note: 난수생성 \\\n",
    "    - random 모듈 \\\n",
    "    - randint(a,b): [a,b] 사이의 임의 정수를 생성 \\\n",
    "    - random(): [0,1) 사이의 임의 실수 생성"
   ]
  },
  {
   "cell_type": "code",
   "execution_count": null,
   "id": "bc9aff64-9c3c-47ff-b9b1-c014481e1015",
   "metadata": {},
   "outputs": [],
   "source": []
  },
  {
   "cell_type": "markdown",
   "id": "2ba973ee-eccf-4134-8451-a7c4a9f726b5",
   "metadata": {},
   "source": [
    "### 사칙 연산을 가르치는 프로그램 설계"
   ]
  },
  {
   "cell_type": "markdown",
   "id": "99dd0f5f-84a2-4f4a-aed4-446577dd4035",
   "metadata": {},
   "source": [
    "다음과 같이 동작한다.\n",
    "1. 연산을 할 두개의 숫자 $x,y$를 임의로 생성한다."
   ]
  },
  {
   "cell_type": "code",
   "execution_count": null,
   "id": "af71aa8d-ef78-46b6-bbd9-67720868ed57",
   "metadata": {},
   "outputs": [],
   "source": []
  }
 ],
 "metadata": {
  "kernelspec": {
   "display_name": "Python 3 (ipykernel)",
   "language": "python",
   "name": "python3"
  },
  "language_info": {
   "codemirror_mode": {
    "name": "ipython",
    "version": 3
   },
   "file_extension": ".py",
   "mimetype": "text/x-python",
   "name": "python",
   "nbconvert_exporter": "python",
   "pygments_lexer": "ipython3",
   "version": "3.8.11"
  }
 },
 "nbformat": 4,
 "nbformat_minor": 5
}
