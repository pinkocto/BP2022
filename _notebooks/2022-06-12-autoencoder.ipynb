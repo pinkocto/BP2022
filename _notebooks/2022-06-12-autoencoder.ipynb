{
 "cells": [
  {
   "cell_type": "markdown",
   "id": "373c2f9b",
   "metadata": {},
   "source": [
    "# Autoencoder\n",
    "> Anomaly Detection (Autoencoder)\n",
    "- toc: true\n",
    "- branch: master\n",
    "- badges: false\n",
    "- comments: true\n",
    "- author: pinkocto\n",
    "- categories: [python]"
   ]
  },
  {
   "cell_type": "markdown",
   "id": "f0414c76",
   "metadata": {},
   "source": [
    "<img src='./my_icons/autoencoder.PNG'>"
   ]
  }
 ],
 "metadata": {
  "kernelspec": {
   "display_name": "Python 3 (ipykernel)",
   "language": "python",
   "name": "python3"
  },
  "language_info": {
   "codemirror_mode": {
    "name": "ipython",
    "version": 3
   },
   "file_extension": ".py",
   "mimetype": "text/x-python",
   "name": "python",
   "nbconvert_exporter": "python",
   "pygments_lexer": "ipython3",
   "version": "3.8.13"
  }
 },
 "nbformat": 4,
 "nbformat_minor": 5
}
