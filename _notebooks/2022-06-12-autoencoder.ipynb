{
 "cells": [
  {
   "cell_type": "markdown",
   "id": "72defcdb",
   "metadata": {},
   "source": [
    "# Autoencoder\n",
    "> Anomaly Detection (Autoencoder)\n",
    "- toc: true\n",
    "- branch: master\n",
    "- badges: false\n",
    "- comments: true\n",
    "- author: pinkocto\n",
    "- categories: [python]"
   ]
  },
  {
   "cell_type": "markdown",
   "id": "e687974e",
   "metadata": {},
   "source": [
    "<img src='./my_icons/autoencoder.PNG'>"
   ]
  },
  {
   "cell_type": "code",
   "execution_count": null,
   "id": "6b9a617b",
   "metadata": {},
   "outputs": [],
   "source": []
  }
 ],
 "metadata": {
  "kernelspec": {
   "display_name": "Python 3 (ipykernel)",
   "language": "python",
   "name": "python3"
  },
  "language_info": {
   "codemirror_mode": {
    "name": "ipython",
    "version": 3
   },
   "file_extension": ".py",
   "mimetype": "text/x-python",
   "name": "python",
   "nbconvert_exporter": "python",
   "pygments_lexer": "ipython3",
   "version": "3.8.13"
  }
 },
 "nbformat": 4,
 "nbformat_minor": 5
}
