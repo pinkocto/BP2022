{
 "cells": [
  {
   "cell_type": "markdown",
   "id": "fc9a50e0",
   "metadata": {},
   "source": [
    "# Principal Component Analysis (PCA)\n"
   ]
  },
  {
   "cell_type": "markdown",
   "id": "be854d5e",
   "metadata": {},
   "source": [
    "## 고차원 데이터\n",
    "\n",
    "<img src = \"./my_icons/high_dim_data.PNG\">"
   ]
  },
  {
   "cell_type": "markdown",
   "id": "942610b0",
   "metadata": {},
   "source": [
    "- 변수의 수가 많은 $\\to$ 불필요한 변수 존재\n",
    "- 시각적으로 표현하기 어려움\n",
    "- 계산 복잡도 증가 $\\to$ 모델링 비효율적\n",
    "- 중요한 변수만을 선택 $\\to$ 차원축소"
   ]
  },
  {
   "cell_type": "markdown",
   "id": "6e1f0234",
   "metadata": {},
   "source": [
    "## 변수 선택 / 추출을 통한 차원축소\n",
    "\n",
    "### 변수선택 (selection) : \n",
    "> 분석 목적에 부합하는 소수의 예측변수만을 선택\n",
    "- 장점: 선택한 변수 해석 용이\n",
    "- 단점: 변수간 상관관계 고려 어려움\n",
    "\n",
    "### 변수추출 (extraction) : \n",
    "> 예측변수의 변환을 통해 새로운 변수 추출\n",
    "- 장점: 변수 간 상관관계 고려, 일반적으로 변수의 개수를 많이 줄일 수 있음\n",
    "- 단점: 추출된 변수의 해석이 어려움"
   ]
  },
  {
   "cell_type": "markdown",
   "id": "70f0699a",
   "metadata": {},
   "source": [
    "<img src = \"./my_icons/feature_select.PNG\">"
   ]
  },
  {
   "cell_type": "markdown",
   "id": "0063a092",
   "metadata": {},
   "source": [
    "#### <font color='blue'>Supervised</font> <font color='red'>feature selection</font>: \n",
    "Information gain, Stepwise regression, LASSO, Genetic Algorithm, $\\dots$\n",
    "#### <font color='blue'>Supervised</font> <font color='green'>feature extraction</font>:\n",
    "Partial least squares (PLS)\n",
    "#### <font color='purple'>Unsupervised</font> <font color='red'>feature selection</font>: \n",
    "PCA loading\n",
    "#### <font color='purple'>Unsupervised</font> <font color='green'>feature extraction:</font> \n",
    "$Y$를 이용하지 않고 $X$들의 결합으로 변수를 추출하는 방법<br>\n",
    "Pincipal Component Analysis (PCA), Wavelets transformms, Autoencoder\n"
   ]
  },
  {
   "cell_type": "code",
   "execution_count": null,
   "id": "5fd16f0d",
   "metadata": {},
   "outputs": [],
   "source": []
  }
 ],
 "metadata": {
  "kernelspec": {
   "display_name": "Python 3 (ipykernel)",
   "language": "python",
   "name": "python3"
  },
  "language_info": {
   "codemirror_mode": {
    "name": "ipython",
    "version": 3
   },
   "file_extension": ".py",
   "mimetype": "text/x-python",
   "name": "python",
   "nbconvert_exporter": "python",
   "pygments_lexer": "ipython3",
   "version": "3.8.13"
  }
 },
 "nbformat": 4,
 "nbformat_minor": 5
}
