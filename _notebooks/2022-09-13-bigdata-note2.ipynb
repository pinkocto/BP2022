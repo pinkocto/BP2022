{
 "cells": [
  {
   "cell_type": "markdown",
   "id": "0f00158a",
   "metadata": {},
   "source": [
    "# note2\n",
    "> 머신러닝 정리, 특성공학\n",
    "- toc: true\n",
    "- branch: master\n",
    "- badges: false\n",
    "- comments: true\n",
    "- author: pinkocto\n",
    "- categories: [python]"
   ]
  },
  {
   "cell_type": "markdown",
   "id": "6b3c4f75",
   "metadata": {},
   "source": [
    "## Machine Learning의 절차\n",
    "1. 데이터의 결측치/이상치 제거, 처리 (시각화, 가설검정, ...)\n",
    "2. $X$(설명변수), $Y$(목표변수)를 선언\n",
    "3. 학습데이터와 검증데이터를 분할\n",
    "4. 학습데이터를 가져와, 알고리즘을 이용해 학습 실시\n",
    "5. 검증데이터를 이용하여, 평가작업 실시"
   ]
  },
  {
   "cell_type": "markdown",
   "id": "ba141062",
   "metadata": {},
   "source": [
    "## Load Dataset"
   ]
  },
  {
   "cell_type": "code",
   "execution_count": 2,
   "id": "7b387c9f",
   "metadata": {},
   "outputs": [],
   "source": [
    "import pandas as pd"
   ]
  },
  {
   "cell_type": "code",
   "execution_count": 3,
   "id": "5075281d",
   "metadata": {},
   "outputs": [],
   "source": [
    "#hide\n",
    "df1 = pd.read_csv('./data/Data01.csv', encoding='cp949')"
   ]
  },
  {
   "cell_type": "code",
   "execution_count": 4,
   "id": "51345804",
   "metadata": {},
   "outputs": [
    {
     "data": {
      "text/plain": [
       "(51304, 18)"
      ]
     },
     "execution_count": 4,
     "metadata": {},
     "output_type": "execute_result"
    }
   ],
   "source": [
    "df1.shape"
   ]
  },
  {
   "cell_type": "code",
   "execution_count": 5,
   "id": "b16cd4a3",
   "metadata": {},
   "outputs": [
    {
     "name": "stdout",
     "output_type": "stream",
     "text": [
      "<class 'pandas.core.frame.DataFrame'>\n",
      "RangeIndex: 51304 entries, 0 to 51303\n",
      "Data columns (total 18 columns):\n",
      " #   Column             Non-Null Count  Dtype  \n",
      "---  ------             --------------  -----  \n",
      " 0   Unnamed: 0         51304 non-null  int64  \n",
      " 1   id                 51304 non-null  int64  \n",
      " 2   type_of_contract   51300 non-null  object \n",
      " 3   type_of_contract2  51303 non-null  object \n",
      " 4   channel            51304 non-null  object \n",
      " 5   datetime           51304 non-null  object \n",
      " 6   Term               51304 non-null  int64  \n",
      " 7   payment_type       51304 non-null  object \n",
      " 8   product            51303 non-null  object \n",
      " 9   amount             51304 non-null  int64  \n",
      " 10  state              51304 non-null  object \n",
      " 11  overdue_count      51304 non-null  int64  \n",
      " 12  overdue            51302 non-null  object \n",
      " 13  credit rating      42521 non-null  float64\n",
      " 14  bank               48544 non-null  object \n",
      " 15  cancellation       51279 non-null  object \n",
      " 16  age                40509 non-null  float64\n",
      " 17  Mileage            40509 non-null  float64\n",
      "dtypes: float64(3), int64(5), object(10)\n",
      "memory usage: 7.0+ MB\n"
     ]
    }
   ],
   "source": [
    "df1.info()"
   ]
  },
  {
   "cell_type": "code",
   "execution_count": 6,
   "id": "68f51caf",
   "metadata": {},
   "outputs": [],
   "source": [
    "df1.drop(['Unnamed: 0'], axis=1, inplace=True)"
   ]
  },
  {
   "cell_type": "code",
   "execution_count": 7,
   "id": "90e6c7f2",
   "metadata": {},
   "outputs": [
    {
     "data": {
      "text/plain": [
       "id                       0\n",
       "type_of_contract         4\n",
       "type_of_contract2        1\n",
       "channel                  0\n",
       "datetime                 0\n",
       "Term                     0\n",
       "payment_type             0\n",
       "product                  1\n",
       "amount                   0\n",
       "state                    0\n",
       "overdue_count            0\n",
       "overdue                  2\n",
       "credit rating         8783\n",
       "bank                  2760\n",
       "cancellation            25\n",
       "age                  10795\n",
       "Mileage              10795\n",
       "dtype: int64"
      ]
     },
     "execution_count": 7,
     "metadata": {},
     "output_type": "execute_result"
    }
   ],
   "source": [
    "df1.isnull().sum() # 각 항목 별 결측치 개수"
   ]
  },
  {
   "cell_type": "markdown",
   "id": "d03cdd12",
   "metadata": {},
   "source": [
    "## 결측치 처리"
   ]
  },
  {
   "cell_type": "markdown",
   "id": "ec204b13",
   "metadata": {},
   "source": [
    "### 결측값 제거"
   ]
  },
  {
   "cell_type": "code",
   "execution_count": 8,
   "id": "54ab1f3a",
   "metadata": {},
   "outputs": [
    {
     "name": "stdout",
     "output_type": "stream",
     "text": [
      "(40480, 17)\n"
     ]
    }
   ],
   "source": [
    "# 결측치 처리 : 1. 다른 값으로 대치 / 2. 삭제\n",
    "\n",
    "# 결측치 제거\n",
    "df2 = df1.dropna()\n",
    "print(df2.shape)"
   ]
  },
  {
   "cell_type": "markdown",
   "id": "871f40fa",
   "metadata": {},
   "source": [
    "### 결측값 대치"
   ]
  },
  {
   "cell_type": "code",
   "execution_count": 9,
   "id": "73231467",
   "metadata": {},
   "outputs": [],
   "source": [
    "# 결측치 대치\n",
    "import numpy as np"
   ]
  },
  {
   "cell_type": "code",
   "execution_count": 10,
   "id": "813c9d49",
   "metadata": {},
   "outputs": [
    {
     "data": {
      "text/plain": [
       "0        43.0\n",
       "1        62.0\n",
       "2        60.0\n",
       "3        60.0\n",
       "4        51.0\n",
       "         ... \n",
       "51299     NaN\n",
       "51300    39.0\n",
       "51301    51.0\n",
       "51302    64.0\n",
       "51303    53.0\n",
       "Name: age, Length: 51304, dtype: float64"
      ]
     },
     "execution_count": 10,
     "metadata": {},
     "output_type": "execute_result"
    }
   ],
   "source": [
    "df1['age']"
   ]
  },
  {
   "cell_type": "markdown",
   "id": "aa816fad",
   "metadata": {},
   "source": [
    "#### 1. Numpy 방법 [ replace() ]"
   ]
  },
  {
   "cell_type": "code",
   "execution_count": 11,
   "id": "6f3c4df6",
   "metadata": {},
   "outputs": [],
   "source": [
    "# 1. Numpy 방법을 활용하는 경우\n",
    "df1['age(clean)'] = df1['age'].replace(np.nan, 0)"
   ]
  },
  {
   "cell_type": "markdown",
   "id": "9045d7a5",
   "metadata": {},
   "source": [
    "#### 2. pandas [ fillna() ]"
   ]
  },
  {
   "cell_type": "code",
   "execution_count": 12,
   "id": "5997b869",
   "metadata": {},
   "outputs": [
    {
     "name": "stdout",
     "output_type": "stream",
     "text": [
      "id                       0\n",
      "type_of_contract         4\n",
      "type_of_contract2        1\n",
      "channel                  0\n",
      "datetime                 0\n",
      "Term                     0\n",
      "payment_type             0\n",
      "product                  1\n",
      "amount                   0\n",
      "state                    0\n",
      "overdue_count            0\n",
      "overdue                  2\n",
      "credit rating         8783\n",
      "bank                  2760\n",
      "cancellation            25\n",
      "age                  10795\n",
      "Mileage              10795\n",
      "age(clean)               0\n",
      "dtype: int64\n"
     ]
    }
   ],
   "source": [
    "# 2. Pandas fillna 함수를 활용하는 경우\n",
    "df1['age(clean)'] = df1['age'].fillna(0)\n",
    "print(df1.isnull().sum())"
   ]
  },
  {
   "cell_type": "markdown",
   "id": "e6147d29",
   "metadata": {},
   "source": [
    "##### 평균값으로 변환"
   ]
  },
  {
   "cell_type": "code",
   "execution_count": 13,
   "id": "2939dbc3",
   "metadata": {},
   "outputs": [
    {
     "name": "stdout",
     "output_type": "stream",
     "text": [
      "46.60828457873559\n"
     ]
    }
   ],
   "source": [
    "# 결측값을 평균값으로 변환\n",
    "df1['age(clean_mean)'] = df1['age'].fillna(df1['age'].mean())\n",
    "print(df1['age'].mean())"
   ]
  },
  {
   "cell_type": "markdown",
   "id": "dad90cf3",
   "metadata": {},
   "source": [
    "##### 중앙값으로 변환"
   ]
  },
  {
   "cell_type": "code",
   "execution_count": 14,
   "id": "8727bda5",
   "metadata": {},
   "outputs": [
    {
     "name": "stdout",
     "output_type": "stream",
     "text": [
      "46.0\n"
     ]
    }
   ],
   "source": [
    "# 결측치를 중앙값으로 변환\n",
    "df1['age(clean_median)'] = df1['age'].fillna(df1['age'].median())\n",
    "print(df1['age'].median())"
   ]
  },
  {
   "cell_type": "markdown",
   "id": "f930cec0",
   "metadata": {},
   "source": [
    "##### 위의 행의 값으로 대치"
   ]
  },
  {
   "cell_type": "code",
   "execution_count": 15,
   "id": "d8eda842",
   "metadata": {},
   "outputs": [
    {
     "name": "stdout",
     "output_type": "stream",
     "text": [
      "51297    70.0\n",
      "51298     NaN\n",
      "51299     NaN\n",
      "51300    39.0\n",
      "51301    51.0\n",
      "51302    64.0\n",
      "51303    53.0\n",
      "Name: age, dtype: float64\n"
     ]
    }
   ],
   "source": [
    "print(df1['age'].tail(7))"
   ]
  },
  {
   "cell_type": "code",
   "execution_count": 16,
   "id": "223c3701",
   "metadata": {},
   "outputs": [],
   "source": [
    "# 결측치를 위의 행의 값으로 대치\n",
    "df1['age(pad)'] = df1['age'].fillna(method='ffill')\n",
    "# df1['age'].fillna(method='pad')"
   ]
  },
  {
   "cell_type": "code",
   "execution_count": 17,
   "id": "eab1f7dc",
   "metadata": {},
   "outputs": [
    {
     "name": "stdout",
     "output_type": "stream",
     "text": [
      "51297    70.0\n",
      "51298    70.0\n",
      "51299    70.0\n",
      "51300    39.0\n",
      "51301    51.0\n",
      "51302    64.0\n",
      "51303    53.0\n",
      "Name: age(pad), dtype: float64\n"
     ]
    }
   ],
   "source": [
    "print(df1['age(pad)'].tail(7))"
   ]
  },
  {
   "cell_type": "markdown",
   "id": "bb140e41",
   "metadata": {},
   "source": [
    "##### 아래의 행으로 대치"
   ]
  },
  {
   "cell_type": "code",
   "execution_count": 18,
   "id": "743ca783",
   "metadata": {},
   "outputs": [
    {
     "name": "stdout",
     "output_type": "stream",
     "text": [
      "51297    70.0\n",
      "51298    39.0\n",
      "51299    39.0\n",
      "51300    39.0\n",
      "51301    51.0\n",
      "51302    64.0\n",
      "51303    53.0\n",
      "Name: age(back), dtype: float64\n"
     ]
    }
   ],
   "source": [
    "# 결측치를 아래의 행으로 대치\n",
    "df1['age(back)'] = df1['age'].fillna(method='bfill')\n",
    "print(df1['age(back)'].tail(7))"
   ]
  },
  {
   "cell_type": "code",
   "execution_count": 19,
   "id": "f527ed63",
   "metadata": {},
   "outputs": [
    {
     "name": "stdout",
     "output_type": "stream",
     "text": [
      "51297    70.0\n",
      "51298     NaN\n",
      "51299    39.0\n",
      "51300    39.0\n",
      "51301    51.0\n",
      "51302    64.0\n",
      "51303    53.0\n",
      "Name: aeg(back), dtype: float64\n"
     ]
    }
   ],
   "source": [
    "# 아래에서부터 한칸만 채워준다.(범위를 제한해줄 수 있다.)\n",
    "df1['aeg(back)'] = df1['age'].fillna(method='bfill', limit=1)\n",
    "print(df1['aeg(back)'].tail(7))"
   ]
  },
  {
   "cell_type": "markdown",
   "id": "a0f050fe",
   "metadata": {},
   "source": [
    "## Modeling"
   ]
  },
  {
   "cell_type": "markdown",
   "id": "d6768b0f",
   "metadata": {},
   "source": [
    "이제 본격적으로 분류 모델을 만들어보자."
   ]
  },
  {
   "cell_type": "code",
   "execution_count": 26,
   "id": "ae56cb84",
   "metadata": {},
   "outputs": [
    {
     "name": "stdout",
     "output_type": "stream",
     "text": [
      "Index(['id', 'type_of_contract', 'type_of_contract2', 'channel', 'datetime',\n",
      "       'Term', 'payment_type', 'product', 'amount', 'state', 'overdue_count',\n",
      "       'overdue', 'credit rating', 'bank', 'cancellation', 'age', 'Mileage',\n",
      "       'age(clean)', 'age(clean_mean)', 'age(clean_median)', 'age(pad)',\n",
      "       'age(back)', 'aeg(back)'],\n",
      "      dtype='object')\n"
     ]
    }
   ],
   "source": [
    "print(df2.columns)"
   ]
  },
  {
   "cell_type": "code",
   "execution_count": 23,
   "id": "69f7f208",
   "metadata": {},
   "outputs": [
    {
     "name": "stdout",
     "output_type": "stream",
     "text": [
      "(40480, 23)\n"
     ]
    }
   ],
   "source": [
    "# 결측치 제거\n",
    "df2 = df1.dropna()\n",
    "print(df2.shape)"
   ]
  },
  {
   "cell_type": "code",
   "execution_count": 31,
   "id": "21e783f0",
   "metadata": {},
   "outputs": [],
   "source": [
    "X = df2[['type_of_contract','Term','product','amount','age','overdue']]\n",
    "Y = df2['cancellation'].replace('정상',0).replace('해약',1)"
   ]
  },
  {
   "cell_type": "code",
   "execution_count": 32,
   "id": "aa3537f6",
   "metadata": {},
   "outputs": [
    {
     "data": {
      "text/html": [
       "<div>\n",
       "<style scoped>\n",
       "    .dataframe tbody tr th:only-of-type {\n",
       "        vertical-align: middle;\n",
       "    }\n",
       "\n",
       "    .dataframe tbody tr th {\n",
       "        vertical-align: top;\n",
       "    }\n",
       "\n",
       "    .dataframe thead th {\n",
       "        text-align: right;\n",
       "    }\n",
       "</style>\n",
       "<table border=\"1\" class=\"dataframe\">\n",
       "  <thead>\n",
       "    <tr style=\"text-align: right;\">\n",
       "      <th></th>\n",
       "      <th>type_of_contract</th>\n",
       "      <th>Term</th>\n",
       "      <th>product</th>\n",
       "      <th>amount</th>\n",
       "      <th>age</th>\n",
       "      <th>overdue</th>\n",
       "    </tr>\n",
       "  </thead>\n",
       "  <tbody>\n",
       "    <tr>\n",
       "      <th>0</th>\n",
       "      <td>렌탈</td>\n",
       "      <td>60</td>\n",
       "      <td>K1</td>\n",
       "      <td>96900</td>\n",
       "      <td>43.0</td>\n",
       "      <td>없음</td>\n",
       "    </tr>\n",
       "    <tr>\n",
       "      <th>1</th>\n",
       "      <td>렌탈</td>\n",
       "      <td>60</td>\n",
       "      <td>K1</td>\n",
       "      <td>102900</td>\n",
       "      <td>62.0</td>\n",
       "      <td>없음</td>\n",
       "    </tr>\n",
       "  </tbody>\n",
       "</table>\n",
       "</div>"
      ],
      "text/plain": [
       "  type_of_contract  Term product  amount   age overdue\n",
       "0               렌탈    60      K1   96900  43.0      없음\n",
       "1               렌탈    60      K1  102900  62.0      없음"
      ]
     },
     "execution_count": 32,
     "metadata": {},
     "output_type": "execute_result"
    }
   ],
   "source": [
    "X.head(2)"
   ]
  },
  {
   "cell_type": "code",
   "execution_count": 37,
   "id": "1a925641",
   "metadata": {},
   "outputs": [
    {
     "data": {
      "text/html": [
       "<div>\n",
       "<style scoped>\n",
       "    .dataframe tbody tr th:only-of-type {\n",
       "        vertical-align: middle;\n",
       "    }\n",
       "\n",
       "    .dataframe tbody tr th {\n",
       "        vertical-align: top;\n",
       "    }\n",
       "\n",
       "    .dataframe thead th {\n",
       "        text-align: right;\n",
       "    }\n",
       "</style>\n",
       "<table border=\"1\" class=\"dataframe\">\n",
       "  <thead>\n",
       "    <tr style=\"text-align: right;\">\n",
       "      <th></th>\n",
       "      <th>Term</th>\n",
       "      <th>amount</th>\n",
       "      <th>age</th>\n",
       "      <th>type_of_contract_렌탈</th>\n",
       "      <th>type_of_contract_멤버십</th>\n",
       "      <th>product_K1</th>\n",
       "      <th>product_K2</th>\n",
       "      <th>product_K3</th>\n",
       "      <th>product_K4</th>\n",
       "      <th>product_K5</th>\n",
       "      <th>product_K6</th>\n",
       "      <th>overdue_없음</th>\n",
       "      <th>overdue_있음</th>\n",
       "    </tr>\n",
       "  </thead>\n",
       "  <tbody>\n",
       "    <tr>\n",
       "      <th>0</th>\n",
       "      <td>60</td>\n",
       "      <td>96900</td>\n",
       "      <td>43.0</td>\n",
       "      <td>1</td>\n",
       "      <td>0</td>\n",
       "      <td>1</td>\n",
       "      <td>0</td>\n",
       "      <td>0</td>\n",
       "      <td>0</td>\n",
       "      <td>0</td>\n",
       "      <td>0</td>\n",
       "      <td>1</td>\n",
       "      <td>0</td>\n",
       "    </tr>\n",
       "    <tr>\n",
       "      <th>1</th>\n",
       "      <td>60</td>\n",
       "      <td>102900</td>\n",
       "      <td>62.0</td>\n",
       "      <td>1</td>\n",
       "      <td>0</td>\n",
       "      <td>1</td>\n",
       "      <td>0</td>\n",
       "      <td>0</td>\n",
       "      <td>0</td>\n",
       "      <td>0</td>\n",
       "      <td>0</td>\n",
       "      <td>1</td>\n",
       "      <td>0</td>\n",
       "    </tr>\n",
       "  </tbody>\n",
       "</table>\n",
       "</div>"
      ],
      "text/plain": [
       "   Term  amount   age  type_of_contract_렌탈  type_of_contract_멤버십  product_K1  \\\n",
       "0    60   96900  43.0                    1                     0           1   \n",
       "1    60  102900  62.0                    1                     0           1   \n",
       "\n",
       "   product_K2  product_K3  product_K4  product_K5  product_K6  overdue_없음  \\\n",
       "0           0           0           0           0           0           1   \n",
       "1           0           0           0           0           0           1   \n",
       "\n",
       "   overdue_있음  \n",
       "0           0  \n",
       "1           0  "
      ]
     },
     "execution_count": 37,
     "metadata": {},
     "output_type": "execute_result"
    }
   ],
   "source": [
    "# One Hot Encoding\n",
    "X1 = pd.get_dummies(X)\n",
    "X1.head(2)"
   ]
  },
  {
   "cell_type": "code",
   "execution_count": 33,
   "id": "7d4528eb",
   "metadata": {},
   "outputs": [
    {
     "data": {
      "text/plain": [
       "0        0\n",
       "1        0\n",
       "2        0\n",
       "3        0\n",
       "4        1\n",
       "        ..\n",
       "51295    1\n",
       "51296    0\n",
       "51297    1\n",
       "51300    1\n",
       "51303    1\n",
       "Name: cancellation, Length: 40480, dtype: int64"
      ]
     },
     "execution_count": 33,
     "metadata": {},
     "output_type": "execute_result"
    }
   ],
   "source": [
    "Y"
   ]
  },
  {
   "cell_type": "code",
   "execution_count": 38,
   "id": "cab306fd",
   "metadata": {},
   "outputs": [],
   "source": [
    "from sklearn.model_selection import train_test_split\n",
    "from sklearn.pipeline import Pipeline\n",
    "from sklearn.model_selection import GridSearchCV \n",
    "from sklearn.ensemble import RandomForestClassifier\n",
    "from sklearn.preprocessing import MinMaxScaler\n",
    "\n",
    "from sklearn.metrics import classification_report\n",
    "from sklearn.metrics import recall_score, precision_score"
   ]
  },
  {
   "cell_type": "code",
   "execution_count": null,
   "id": "5046a2af",
   "metadata": {},
   "outputs": [],
   "source": [
    "X_train, X_test, Y_train, Y_test = train_test_split(X1, Y, test_size=0.3,\n",
    "                                                    random_state=1234)\n",
    "\n",
    "print(X_train.shape)\n",
    "print(X_test.shape)\n",
    "print(Y_trai)"
   ]
  }
 ],
 "metadata": {
  "kernelspec": {
   "display_name": "Python 3 (ipykernel)",
   "language": "python",
   "name": "python3"
  },
  "language_info": {
   "codemirror_mode": {
    "name": "ipython",
    "version": 3
   },
   "file_extension": ".py",
   "mimetype": "text/x-python",
   "name": "python",
   "nbconvert_exporter": "python",
   "pygments_lexer": "ipython3",
   "version": "3.8.13"
  }
 },
 "nbformat": 4,
 "nbformat_minor": 5
}
