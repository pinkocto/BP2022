{
 "cells": [
  {
   "cell_type": "markdown",
   "id": "0f00158a",
   "metadata": {},
   "source": [
    "# note2\n",
    "> 머신러닝 정리, 특성공학\n",
    "- toc: true\n",
    "- branch: master\n",
    "- badges: false\n",
    "- comments: true\n",
    "- author: pinkocto\n",
    "- categories: [python]"
   ]
  },
  {
   "cell_type": "markdown",
   "id": "6b3c4f75",
   "metadata": {},
   "source": [
    "## Machine Learning의 절차\n",
    "1. 데이터의 결측치/이상치 제거, 처리 (시각화, 가설검정, ...)\n",
    "2. $X$(설명변수), $Y$(목표변수)를 선언\n",
    "3. 학습데이터와 검증데이터를 분할\n",
    "4. 학습데이터를 가져와, 알고리즘을 이용해 학습 실시\n",
    "5. 검증데이터를 이용하여, 평가작업 실시"
   ]
  },
  {
   "cell_type": "markdown",
   "id": "ba141062",
   "metadata": {},
   "source": [
    "## Load Dataset"
   ]
  },
  {
   "cell_type": "code",
   "execution_count": 27,
   "id": "7b387c9f",
   "metadata": {},
   "outputs": [],
   "source": [
    "import pandas as pd"
   ]
  },
  {
   "cell_type": "code",
   "execution_count": 28,
   "id": "5075281d",
   "metadata": {},
   "outputs": [],
   "source": [
    "#hide\n",
    "df1 = pd.read_csv('./data/Data01.csv', encoding='cp949')"
   ]
  },
  {
   "cell_type": "code",
   "execution_count": 29,
   "id": "51345804",
   "metadata": {},
   "outputs": [
    {
     "data": {
      "text/plain": [
       "(51304, 18)"
      ]
     },
     "execution_count": 29,
     "metadata": {},
     "output_type": "execute_result"
    }
   ],
   "source": [
    "df1.shape"
   ]
  },
  {
   "cell_type": "code",
   "execution_count": 30,
   "id": "b16cd4a3",
   "metadata": {},
   "outputs": [
    {
     "name": "stdout",
     "output_type": "stream",
     "text": [
      "<class 'pandas.core.frame.DataFrame'>\n",
      "RangeIndex: 51304 entries, 0 to 51303\n",
      "Data columns (total 18 columns):\n",
      " #   Column             Non-Null Count  Dtype  \n",
      "---  ------             --------------  -----  \n",
      " 0   Unnamed: 0         51304 non-null  int64  \n",
      " 1   id                 51304 non-null  int64  \n",
      " 2   type_of_contract   51300 non-null  object \n",
      " 3   type_of_contract2  51303 non-null  object \n",
      " 4   channel            51304 non-null  object \n",
      " 5   datetime           51304 non-null  object \n",
      " 6   Term               51304 non-null  int64  \n",
      " 7   payment_type       51304 non-null  object \n",
      " 8   product            51303 non-null  object \n",
      " 9   amount             51304 non-null  int64  \n",
      " 10  state              51304 non-null  object \n",
      " 11  overdue_count      51304 non-null  int64  \n",
      " 12  overdue            51302 non-null  object \n",
      " 13  credit rating      42521 non-null  float64\n",
      " 14  bank               48544 non-null  object \n",
      " 15  cancellation       51279 non-null  object \n",
      " 16  age                40509 non-null  float64\n",
      " 17  Mileage            40509 non-null  float64\n",
      "dtypes: float64(3), int64(5), object(10)\n",
      "memory usage: 7.0+ MB\n"
     ]
    }
   ],
   "source": [
    "df1.info()"
   ]
  },
  {
   "cell_type": "code",
   "execution_count": 34,
   "id": "68f51caf",
   "metadata": {},
   "outputs": [],
   "source": [
    "df1.drop(['Unnamed: 0'], axis=1, inplace=True)"
   ]
  },
  {
   "cell_type": "code",
   "execution_count": 35,
   "id": "90e6c7f2",
   "metadata": {},
   "outputs": [
    {
     "data": {
      "text/plain": [
       "id                       0\n",
       "type_of_contract         4\n",
       "type_of_contract2        1\n",
       "channel                  0\n",
       "datetime                 0\n",
       "Term                     0\n",
       "payment_type             0\n",
       "product                  1\n",
       "amount                   0\n",
       "state                    0\n",
       "overdue_count            0\n",
       "overdue                  2\n",
       "credit rating         8783\n",
       "bank                  2760\n",
       "cancellation            25\n",
       "age                  10795\n",
       "Mileage              10795\n",
       "dtype: int64"
      ]
     },
     "execution_count": 35,
     "metadata": {},
     "output_type": "execute_result"
    }
   ],
   "source": [
    "df1.isnull().sum() # 각 항목 별 결측치 개수"
   ]
  },
  {
   "cell_type": "markdown",
   "id": "d03cdd12",
   "metadata": {},
   "source": [
    "## 결측치 처리"
   ]
  },
  {
   "cell_type": "code",
   "execution_count": 36,
   "id": "54ab1f3a",
   "metadata": {},
   "outputs": [
    {
     "name": "stdout",
     "output_type": "stream",
     "text": [
      "(40480, 17)\n"
     ]
    }
   ],
   "source": [
    "# 결측치 처리 : 1. 다른 값으로 대치 / 2. 삭제\n",
    "\n",
    "# 결측치 제거\n",
    "df2 = df1.dropna()\n",
    "print(df2.shape)"
   ]
  },
  {
   "cell_type": "code",
   "execution_count": 38,
   "id": "73231467",
   "metadata": {},
   "outputs": [],
   "source": [
    "# 결측치 대치\n",
    "import numpy as np"
   ]
  },
  {
   "cell_type": "code",
   "execution_count": 41,
   "id": "813c9d49",
   "metadata": {},
   "outputs": [
    {
     "data": {
      "text/plain": [
       "0        43.0\n",
       "1        62.0\n",
       "2        60.0\n",
       "3        60.0\n",
       "4        51.0\n",
       "         ... \n",
       "51299     NaN\n",
       "51300    39.0\n",
       "51301    51.0\n",
       "51302    64.0\n",
       "51303    53.0\n",
       "Name: age, Length: 51304, dtype: float64"
      ]
     },
     "execution_count": 41,
     "metadata": {},
     "output_type": "execute_result"
    }
   ],
   "source": [
    "df1['age']"
   ]
  },
  {
   "cell_type": "code",
   "execution_count": 42,
   "id": "6f3c4df6",
   "metadata": {},
   "outputs": [],
   "source": [
    "# 1. Numpy 방법을 활용하는 경우\n",
    "df1['age(clean)'] = df1['age'].replace(np.nan, 0)"
   ]
  },
  {
   "cell_type": "code",
   "execution_count": 47,
   "id": "5997b869",
   "metadata": {},
   "outputs": [
    {
     "name": "stdout",
     "output_type": "stream",
     "text": [
      "id                       0\n",
      "type_of_contract         4\n",
      "type_of_contract2        1\n",
      "channel                  0\n",
      "datetime                 0\n",
      "Term                     0\n",
      "payment_type             0\n",
      "product                  1\n",
      "amount                   0\n",
      "state                    0\n",
      "overdue_count            0\n",
      "overdue                  2\n",
      "credit rating         8783\n",
      "bank                  2760\n",
      "cancellation            25\n",
      "age                  10795\n",
      "Mileage              10795\n",
      "age(clean)               0\n",
      "dtype: int64\n"
     ]
    }
   ],
   "source": [
    "# 2. Pandas fillna 함수를 활용하는 경우\n",
    "df1['age(clean)'] = df1['age'].fillna(0)\n",
    "print(df1.isnull().sum())"
   ]
  },
  {
   "cell_type": "code",
   "execution_count": 50,
   "id": "2939dbc3",
   "metadata": {},
   "outputs": [
    {
     "name": "stdout",
     "output_type": "stream",
     "text": [
      "46.60828457873559\n"
     ]
    }
   ],
   "source": [
    "# 결측값을 평균값으로 변환\n",
    "df1['age(clean_mean)'] = df1['age'].fillna(df1['age'].mean())\n",
    "print(df1['age'].mean())"
   ]
  },
  {
   "cell_type": "code",
   "execution_count": 51,
   "id": "8727bda5",
   "metadata": {},
   "outputs": [
    {
     "name": "stdout",
     "output_type": "stream",
     "text": [
      "46.0\n"
     ]
    }
   ],
   "source": [
    "# 결측치를 중앙값으로 변환\n",
    "df1['age(clean_median)'] = df1['age'].fillna(df1['age'].median())\n",
    "print(df1['age'].median())"
   ]
  },
  {
   "cell_type": "code",
   "execution_count": 52,
   "id": "d8eda842",
   "metadata": {},
   "outputs": [
    {
     "name": "stdout",
     "output_type": "stream",
     "text": [
      "51297    70.0\n",
      "51298     NaN\n",
      "51299     NaN\n",
      "51300    39.0\n",
      "51301    51.0\n",
      "51302    64.0\n",
      "51303    53.0\n",
      "Name: age, dtype: float64\n"
     ]
    }
   ],
   "source": [
    "print(df1['age'].tail(7))"
   ]
  },
  {
   "cell_type": "code",
   "execution_count": 53,
   "id": "223c3701",
   "metadata": {},
   "outputs": [],
   "source": [
    "# 결측치를 위의 행의 값으로 대치\n",
    "df1['age(pad)'] = df1['age'].fillna(method='ffill')\n",
    "# df1['age'].fillna(method='pad')"
   ]
  },
  {
   "cell_type": "code",
   "execution_count": 56,
   "id": "eab1f7dc",
   "metadata": {},
   "outputs": [
    {
     "name": "stdout",
     "output_type": "stream",
     "text": [
      "51297    70.0\n",
      "51298    70.0\n",
      "51299    70.0\n",
      "51300    39.0\n",
      "51301    51.0\n",
      "51302    64.0\n",
      "51303    53.0\n",
      "Name: age(pad), dtype: float64\n"
     ]
    }
   ],
   "source": [
    "print(df1['age(pad)'].tail(7))"
   ]
  },
  {
   "cell_type": "code",
   "execution_count": 58,
   "id": "743ca783",
   "metadata": {},
   "outputs": [
    {
     "name": "stdout",
     "output_type": "stream",
     "text": [
      "51297    70.0\n",
      "51298    39.0\n",
      "51299    39.0\n",
      "51300    39.0\n",
      "51301    51.0\n",
      "51302    64.0\n",
      "51303    53.0\n",
      "Name: aeg(back), dtype: float64\n"
     ]
    }
   ],
   "source": [
    "# 결측치를 아래의 행으로 대치\n",
    "df1['aeg(back)'] = df1['age'].fillna(method='bfill')\n",
    "print(df1['aeg(back)'].tail(7))"
   ]
  },
  {
   "cell_type": "code",
   "execution_count": 59,
   "id": "f527ed63",
   "metadata": {},
   "outputs": [
    {
     "name": "stdout",
     "output_type": "stream",
     "text": [
      "51297    70.0\n",
      "51298     NaN\n",
      "51299    39.0\n",
      "51300    39.0\n",
      "51301    51.0\n",
      "51302    64.0\n",
      "51303    53.0\n",
      "Name: aeg(back), dtype: float64\n"
     ]
    }
   ],
   "source": [
    "# 아래에서부터 한칸만 채워준다.(범위를 제한해줄 수 있다.)\n",
    "df1['aeg(back)'] = df1['age'].fillna(method='bfill', limit=1)\n",
    "print(df1['aeg(back)'].tail(7))"
   ]
  },
  {
   "cell_type": "code",
   "execution_count": null,
   "id": "c9e5e6d0",
   "metadata": {},
   "outputs": [],
   "source": []
  },
  {
   "cell_type": "code",
   "execution_count": null,
   "id": "8cc72f4f",
   "metadata": {},
   "outputs": [],
   "source": []
  },
  {
   "cell_type": "code",
   "execution_count": 14,
   "id": "c219db7d",
   "metadata": {},
   "outputs": [
    {
     "data": {
      "text/plain": [
       "계약확정     39776\n",
       "해약확정       667\n",
       "기간만료        25\n",
       "해약진행중       12\n",
       "Name: state, dtype: int64"
      ]
     },
     "execution_count": 14,
     "metadata": {},
     "output_type": "execute_result"
    }
   ],
   "source": [
    "df2['state'].value_counts()"
   ]
  },
  {
   "cell_type": "code",
   "execution_count": 17,
   "id": "38c8134e",
   "metadata": {},
   "outputs": [],
   "source": [
    "Y = df2['state'].replace('계약확정',0).replace('기간만료',0).replace('해약확정',1).replace('해약진행중',1)\n",
    "X = df2[['Term', 'amount','age','overdue_count','credit rating']]"
   ]
  },
  {
   "cell_type": "code",
   "execution_count": 19,
   "id": "7c2b870f",
   "metadata": {},
   "outputs": [
    {
     "data": {
      "text/html": [
       "<div>\n",
       "<style scoped>\n",
       "    .dataframe tbody tr th:only-of-type {\n",
       "        vertical-align: middle;\n",
       "    }\n",
       "\n",
       "    .dataframe tbody tr th {\n",
       "        vertical-align: top;\n",
       "    }\n",
       "\n",
       "    .dataframe thead th {\n",
       "        text-align: right;\n",
       "    }\n",
       "</style>\n",
       "<table border=\"1\" class=\"dataframe\">\n",
       "  <thead>\n",
       "    <tr style=\"text-align: right;\">\n",
       "      <th></th>\n",
       "      <th>Term</th>\n",
       "      <th>amount</th>\n",
       "      <th>age</th>\n",
       "      <th>overdue_count</th>\n",
       "      <th>credit rating</th>\n",
       "    </tr>\n",
       "  </thead>\n",
       "  <tbody>\n",
       "    <tr>\n",
       "      <th>0</th>\n",
       "      <td>60</td>\n",
       "      <td>96900</td>\n",
       "      <td>43.0</td>\n",
       "      <td>0</td>\n",
       "      <td>9.0</td>\n",
       "    </tr>\n",
       "    <tr>\n",
       "      <th>1</th>\n",
       "      <td>60</td>\n",
       "      <td>102900</td>\n",
       "      <td>62.0</td>\n",
       "      <td>0</td>\n",
       "      <td>2.0</td>\n",
       "    </tr>\n",
       "    <tr>\n",
       "      <th>2</th>\n",
       "      <td>60</td>\n",
       "      <td>96900</td>\n",
       "      <td>60.0</td>\n",
       "      <td>0</td>\n",
       "      <td>8.0</td>\n",
       "    </tr>\n",
       "    <tr>\n",
       "      <th>3</th>\n",
       "      <td>12</td>\n",
       "      <td>66900</td>\n",
       "      <td>60.0</td>\n",
       "      <td>0</td>\n",
       "      <td>5.0</td>\n",
       "    </tr>\n",
       "    <tr>\n",
       "      <th>4</th>\n",
       "      <td>12</td>\n",
       "      <td>66900</td>\n",
       "      <td>51.0</td>\n",
       "      <td>12</td>\n",
       "      <td>8.0</td>\n",
       "    </tr>\n",
       "  </tbody>\n",
       "</table>\n",
       "</div>"
      ],
      "text/plain": [
       "   Term  amount   age  overdue_count  credit rating\n",
       "0    60   96900  43.0              0            9.0\n",
       "1    60  102900  62.0              0            2.0\n",
       "2    60   96900  60.0              0            8.0\n",
       "3    12   66900  60.0              0            5.0\n",
       "4    12   66900  51.0             12            8.0"
      ]
     },
     "execution_count": 19,
     "metadata": {},
     "output_type": "execute_result"
    }
   ],
   "source": [
    "X.head()"
   ]
  },
  {
   "cell_type": "markdown",
   "id": "b29769dd",
   "metadata": {},
   "source": [
    "- 계약기간, 계약금액, 고객의 연령, 연체건수, 고객의 신용등급을 넣었을 때 이 고객이 해약할 고객인지 아닌지를 예측하는 알고리즘을 만들어보자."
   ]
  },
  {
   "cell_type": "code",
   "execution_count": 21,
   "id": "70392de3",
   "metadata": {},
   "outputs": [],
   "source": [
    "# Scikit Learn\n",
    "# Scipy + Learning Tool kit\n",
    "# 특성공학 + 알고리즘"
   ]
  },
  {
   "cell_type": "code",
   "execution_count": 20,
   "id": "45b32f81",
   "metadata": {},
   "outputs": [],
   "source": [
    "from sklearn.model_selection import train_test_split # 학습/검증 데이터 분할\n",
    "from sklearn.tree import DecisionTreeClassifier # 알고리즘\n",
    "from sklearn.metrics import accuracy_score # 정확도 평가지표"
   ]
  },
  {
   "cell_type": "code",
   "execution_count": 22,
   "id": "cd93ff2c",
   "metadata": {},
   "outputs": [],
   "source": [
    "X_train, X_test, Y_train, Y_test = train_test_split(X, Y,\n",
    "                                                    test_size=0.3)"
   ]
  },
  {
   "cell_type": "code",
   "execution_count": 23,
   "id": "ebf04d60",
   "metadata": {},
   "outputs": [
    {
     "data": {
      "text/html": [
       "<style>#sk-container-id-1 {color: black;background-color: white;}#sk-container-id-1 pre{padding: 0;}#sk-container-id-1 div.sk-toggleable {background-color: white;}#sk-container-id-1 label.sk-toggleable__label {cursor: pointer;display: block;width: 100%;margin-bottom: 0;padding: 0.3em;box-sizing: border-box;text-align: center;}#sk-container-id-1 label.sk-toggleable__label-arrow:before {content: \"▸\";float: left;margin-right: 0.25em;color: #696969;}#sk-container-id-1 label.sk-toggleable__label-arrow:hover:before {color: black;}#sk-container-id-1 div.sk-estimator:hover label.sk-toggleable__label-arrow:before {color: black;}#sk-container-id-1 div.sk-toggleable__content {max-height: 0;max-width: 0;overflow: hidden;text-align: left;background-color: #f0f8ff;}#sk-container-id-1 div.sk-toggleable__content pre {margin: 0.2em;color: black;border-radius: 0.25em;background-color: #f0f8ff;}#sk-container-id-1 input.sk-toggleable__control:checked~div.sk-toggleable__content {max-height: 200px;max-width: 100%;overflow: auto;}#sk-container-id-1 input.sk-toggleable__control:checked~label.sk-toggleable__label-arrow:before {content: \"▾\";}#sk-container-id-1 div.sk-estimator input.sk-toggleable__control:checked~label.sk-toggleable__label {background-color: #d4ebff;}#sk-container-id-1 div.sk-label input.sk-toggleable__control:checked~label.sk-toggleable__label {background-color: #d4ebff;}#sk-container-id-1 input.sk-hidden--visually {border: 0;clip: rect(1px 1px 1px 1px);clip: rect(1px, 1px, 1px, 1px);height: 1px;margin: -1px;overflow: hidden;padding: 0;position: absolute;width: 1px;}#sk-container-id-1 div.sk-estimator {font-family: monospace;background-color: #f0f8ff;border: 1px dotted black;border-radius: 0.25em;box-sizing: border-box;margin-bottom: 0.5em;}#sk-container-id-1 div.sk-estimator:hover {background-color: #d4ebff;}#sk-container-id-1 div.sk-parallel-item::after {content: \"\";width: 100%;border-bottom: 1px solid gray;flex-grow: 1;}#sk-container-id-1 div.sk-label:hover label.sk-toggleable__label {background-color: #d4ebff;}#sk-container-id-1 div.sk-serial::before {content: \"\";position: absolute;border-left: 1px solid gray;box-sizing: border-box;top: 0;bottom: 0;left: 50%;z-index: 0;}#sk-container-id-1 div.sk-serial {display: flex;flex-direction: column;align-items: center;background-color: white;padding-right: 0.2em;padding-left: 0.2em;position: relative;}#sk-container-id-1 div.sk-item {position: relative;z-index: 1;}#sk-container-id-1 div.sk-parallel {display: flex;align-items: stretch;justify-content: center;background-color: white;position: relative;}#sk-container-id-1 div.sk-item::before, #sk-container-id-1 div.sk-parallel-item::before {content: \"\";position: absolute;border-left: 1px solid gray;box-sizing: border-box;top: 0;bottom: 0;left: 50%;z-index: -1;}#sk-container-id-1 div.sk-parallel-item {display: flex;flex-direction: column;z-index: 1;position: relative;background-color: white;}#sk-container-id-1 div.sk-parallel-item:first-child::after {align-self: flex-end;width: 50%;}#sk-container-id-1 div.sk-parallel-item:last-child::after {align-self: flex-start;width: 50%;}#sk-container-id-1 div.sk-parallel-item:only-child::after {width: 0;}#sk-container-id-1 div.sk-dashed-wrapped {border: 1px dashed gray;margin: 0 0.4em 0.5em 0.4em;box-sizing: border-box;padding-bottom: 0.4em;background-color: white;}#sk-container-id-1 div.sk-label label {font-family: monospace;font-weight: bold;display: inline-block;line-height: 1.2em;}#sk-container-id-1 div.sk-label-container {text-align: center;}#sk-container-id-1 div.sk-container {/* jupyter's `normalize.less` sets `[hidden] { display: none; }` but bootstrap.min.css set `[hidden] { display: none !important; }` so we also need the `!important` here to be able to override the default hidden behavior on the sphinx rendered scikit-learn.org. See: https://github.com/scikit-learn/scikit-learn/issues/21755 */display: inline-block !important;position: relative;}#sk-container-id-1 div.sk-text-repr-fallback {display: none;}</style><div id=\"sk-container-id-1\" class=\"sk-top-container\"><div class=\"sk-text-repr-fallback\"><pre>DecisionTreeClassifier()</pre><b>In a Jupyter environment, please rerun this cell to show the HTML representation or trust the notebook. <br />On GitHub, the HTML representation is unable to render, please try loading this page with nbviewer.org.</b></div><div class=\"sk-container\" hidden><div class=\"sk-item\"><div class=\"sk-estimator sk-toggleable\"><input class=\"sk-toggleable__control sk-hidden--visually\" id=\"sk-estimator-id-1\" type=\"checkbox\" checked><label for=\"sk-estimator-id-1\" class=\"sk-toggleable__label sk-toggleable__label-arrow\">DecisionTreeClassifier</label><div class=\"sk-toggleable__content\"><pre>DecisionTreeClassifier()</pre></div></div></div></div></div>"
      ],
      "text/plain": [
       "DecisionTreeClassifier()"
      ]
     },
     "execution_count": 23,
     "metadata": {},
     "output_type": "execute_result"
    }
   ],
   "source": [
    "model = DecisionTreeClassifier()\n",
    "model.fit(X_train, Y_train)"
   ]
  },
  {
   "cell_type": "code",
   "execution_count": 24,
   "id": "856a0ebb",
   "metadata": {},
   "outputs": [],
   "source": [
    "# 학습이 잘 되었는지 확인\n",
    "# 검증이 잘 이루어지는지 확인 (일반화)\n",
    "Y_train_pred = model.predict(X_train)\n",
    "Y_test_pred = model.predict(X_test)"
   ]
  },
  {
   "cell_type": "code",
   "execution_count": 25,
   "id": "674f85e3",
   "metadata": {},
   "outputs": [
    {
     "data": {
      "text/plain": [
       "0.9865542066629023"
      ]
     },
     "execution_count": 25,
     "metadata": {},
     "output_type": "execute_result"
    }
   ],
   "source": [
    "accuracy_score(Y_train, Y_train_pred)"
   ]
  },
  {
   "cell_type": "code",
   "execution_count": 26,
   "id": "649c9a75",
   "metadata": {},
   "outputs": [
    {
     "data": {
      "text/plain": [
       "0.980566534914361"
      ]
     },
     "execution_count": 26,
     "metadata": {},
     "output_type": "execute_result"
    }
   ],
   "source": [
    "accuracy_score(Y_test, Y_test_pred)"
   ]
  }
 ],
 "metadata": {
  "kernelspec": {
   "display_name": "Python 3 (ipykernel)",
   "language": "python",
   "name": "python3"
  },
  "language_info": {
   "codemirror_mode": {
    "name": "ipython",
    "version": 3
   },
   "file_extension": ".py",
   "mimetype": "text/x-python",
   "name": "python",
   "nbconvert_exporter": "python",
   "pygments_lexer": "ipython3",
   "version": "3.8.13"
  }
 },
 "nbformat": 4,
 "nbformat_minor": 5
}
