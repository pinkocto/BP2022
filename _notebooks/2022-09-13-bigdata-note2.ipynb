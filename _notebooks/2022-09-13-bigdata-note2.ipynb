{
 "cells": [
  {
   "cell_type": "markdown",
   "id": "0f00158a",
   "metadata": {},
   "source": [
    "# note2\n",
    "> 머신러닝 정리, 특성공학\n",
    "- toc: true\n",
    "- branch: master\n",
    "- badges: false\n",
    "- comments: true\n",
    "- author: pinkocto\n",
    "- categories: [python]"
   ]
  },
  {
   "cell_type": "markdown",
   "id": "6b3c4f75",
   "metadata": {},
   "source": [
    "## Machine Learning의 절차\n",
    "1. 데이터의 결측치/이상치 제거, 처리 (시각화, 가설검정, ...)\n",
    "2. $X$(설명변수), $Y$(목표변수)를 선언\n",
    "3. 학습데이터와 검증데이터를 분할\n",
    "4. 학습데이터를 가져와, 알고리즘을 이용해 학습 실시\n",
    "5. 검증데이터를 이용하여, 평가작업 실시"
   ]
  },
  {
   "cell_type": "markdown",
   "id": "ba141062",
   "metadata": {},
   "source": [
    "## Load Dataset"
   ]
  },
  {
   "cell_type": "code",
   "execution_count": 2,
   "id": "7b387c9f",
   "metadata": {},
   "outputs": [],
   "source": [
    "import pandas as pd"
   ]
  },
  {
   "cell_type": "code",
   "execution_count": 3,
   "id": "5075281d",
   "metadata": {},
   "outputs": [],
   "source": [
    "#hide\n",
    "df1 = pd.read_csv('./data/Data01.csv', encoding='cp949')"
   ]
  },
  {
   "cell_type": "code",
   "execution_count": 4,
   "id": "51345804",
   "metadata": {},
   "outputs": [
    {
     "data": {
      "text/plain": [
       "(51304, 18)"
      ]
     },
     "execution_count": 4,
     "metadata": {},
     "output_type": "execute_result"
    }
   ],
   "source": [
    "df1.shape"
   ]
  },
  {
   "cell_type": "code",
   "execution_count": 5,
   "id": "b16cd4a3",
   "metadata": {},
   "outputs": [
    {
     "name": "stdout",
     "output_type": "stream",
     "text": [
      "<class 'pandas.core.frame.DataFrame'>\n",
      "RangeIndex: 51304 entries, 0 to 51303\n",
      "Data columns (total 18 columns):\n",
      " #   Column             Non-Null Count  Dtype  \n",
      "---  ------             --------------  -----  \n",
      " 0   Unnamed: 0         51304 non-null  int64  \n",
      " 1   id                 51304 non-null  int64  \n",
      " 2   type_of_contract   51300 non-null  object \n",
      " 3   type_of_contract2  51303 non-null  object \n",
      " 4   channel            51304 non-null  object \n",
      " 5   datetime           51304 non-null  object \n",
      " 6   Term               51304 non-null  int64  \n",
      " 7   payment_type       51304 non-null  object \n",
      " 8   product            51303 non-null  object \n",
      " 9   amount             51304 non-null  int64  \n",
      " 10  state              51304 non-null  object \n",
      " 11  overdue_count      51304 non-null  int64  \n",
      " 12  overdue            51302 non-null  object \n",
      " 13  credit rating      42521 non-null  float64\n",
      " 14  bank               48544 non-null  object \n",
      " 15  cancellation       51279 non-null  object \n",
      " 16  age                40509 non-null  float64\n",
      " 17  Mileage            40509 non-null  float64\n",
      "dtypes: float64(3), int64(5), object(10)\n",
      "memory usage: 7.0+ MB\n"
     ]
    }
   ],
   "source": [
    "df1.info()"
   ]
  },
  {
   "cell_type": "code",
   "execution_count": 6,
   "id": "68f51caf",
   "metadata": {},
   "outputs": [],
   "source": [
    "df1.drop(['Unnamed: 0'], axis=1, inplace=True)"
   ]
  },
  {
   "cell_type": "code",
   "execution_count": 7,
   "id": "90e6c7f2",
   "metadata": {},
   "outputs": [
    {
     "data": {
      "text/plain": [
       "id                       0\n",
       "type_of_contract         4\n",
       "type_of_contract2        1\n",
       "channel                  0\n",
       "datetime                 0\n",
       "Term                     0\n",
       "payment_type             0\n",
       "product                  1\n",
       "amount                   0\n",
       "state                    0\n",
       "overdue_count            0\n",
       "overdue                  2\n",
       "credit rating         8783\n",
       "bank                  2760\n",
       "cancellation            25\n",
       "age                  10795\n",
       "Mileage              10795\n",
       "dtype: int64"
      ]
     },
     "execution_count": 7,
     "metadata": {},
     "output_type": "execute_result"
    }
   ],
   "source": [
    "df1.isnull().sum() # 각 항목 별 결측치 개수"
   ]
  },
  {
   "cell_type": "markdown",
   "id": "d03cdd12",
   "metadata": {},
   "source": [
    "## 결측치 처리"
   ]
  },
  {
   "cell_type": "markdown",
   "id": "844f432e",
   "metadata": {},
   "source": [
    "### 결측값 제거"
   ]
  },
  {
   "cell_type": "code",
   "execution_count": 8,
   "id": "54ab1f3a",
   "metadata": {},
   "outputs": [
    {
     "name": "stdout",
     "output_type": "stream",
     "text": [
      "(40480, 17)\n"
     ]
    }
   ],
   "source": [
    "# 결측치 처리 : 1. 다른 값으로 대치 / 2. 삭제\n",
    "\n",
    "# 결측치 제거\n",
    "df2 = df1.dropna()\n",
    "print(df2.shape)"
   ]
  },
  {
   "cell_type": "markdown",
   "id": "b78b82d7",
   "metadata": {},
   "source": [
    "### 결측값 대치"
   ]
  },
  {
   "cell_type": "code",
   "execution_count": 9,
   "id": "73231467",
   "metadata": {},
   "outputs": [],
   "source": [
    "# 결측치 대치\n",
    "import numpy as np"
   ]
  },
  {
   "cell_type": "code",
   "execution_count": 10,
   "id": "813c9d49",
   "metadata": {},
   "outputs": [
    {
     "data": {
      "text/plain": [
       "0        43.0\n",
       "1        62.0\n",
       "2        60.0\n",
       "3        60.0\n",
       "4        51.0\n",
       "         ... \n",
       "51299     NaN\n",
       "51300    39.0\n",
       "51301    51.0\n",
       "51302    64.0\n",
       "51303    53.0\n",
       "Name: age, Length: 51304, dtype: float64"
      ]
     },
     "execution_count": 10,
     "metadata": {},
     "output_type": "execute_result"
    }
   ],
   "source": [
    "df1['age']"
   ]
  },
  {
   "cell_type": "markdown",
   "id": "d4a27e7f",
   "metadata": {},
   "source": [
    "#### 1. Numpy 방법 [ replace() ]"
   ]
  },
  {
   "cell_type": "code",
   "execution_count": 11,
   "id": "6f3c4df6",
   "metadata": {},
   "outputs": [],
   "source": [
    "# 1. Numpy 방법을 활용하는 경우\n",
    "df1['age(clean)'] = df1['age'].replace(np.nan, 0)"
   ]
  },
  {
   "cell_type": "markdown",
   "id": "6e0e4d86",
   "metadata": {},
   "source": [
    "#### 2. pandas [ fillna() ]"
   ]
  },
  {
   "cell_type": "code",
   "execution_count": 12,
   "id": "5997b869",
   "metadata": {},
   "outputs": [
    {
     "name": "stdout",
     "output_type": "stream",
     "text": [
      "id                       0\n",
      "type_of_contract         4\n",
      "type_of_contract2        1\n",
      "channel                  0\n",
      "datetime                 0\n",
      "Term                     0\n",
      "payment_type             0\n",
      "product                  1\n",
      "amount                   0\n",
      "state                    0\n",
      "overdue_count            0\n",
      "overdue                  2\n",
      "credit rating         8783\n",
      "bank                  2760\n",
      "cancellation            25\n",
      "age                  10795\n",
      "Mileage              10795\n",
      "age(clean)               0\n",
      "dtype: int64\n"
     ]
    }
   ],
   "source": [
    "# 2. Pandas fillna 함수를 활용하는 경우\n",
    "df1['age(clean)'] = df1['age'].fillna(0)\n",
    "print(df1.isnull().sum())"
   ]
  },
  {
   "cell_type": "markdown",
   "id": "5ed0dc8a",
   "metadata": {},
   "source": [
    "##### 평균값으로 변환"
   ]
  },
  {
   "cell_type": "code",
   "execution_count": 13,
   "id": "2939dbc3",
   "metadata": {},
   "outputs": [
    {
     "name": "stdout",
     "output_type": "stream",
     "text": [
      "46.60828457873559\n"
     ]
    }
   ],
   "source": [
    "# 결측값을 평균값으로 변환\n",
    "df1['age(clean_mean)'] = df1['age'].fillna(df1['age'].mean())\n",
    "print(df1['age'].mean())"
   ]
  },
  {
   "cell_type": "markdown",
   "id": "95e31d36",
   "metadata": {},
   "source": [
    "##### 중앙값으로 변환"
   ]
  },
  {
   "cell_type": "code",
   "execution_count": 14,
   "id": "8727bda5",
   "metadata": {},
   "outputs": [
    {
     "name": "stdout",
     "output_type": "stream",
     "text": [
      "46.0\n"
     ]
    }
   ],
   "source": [
    "# 결측치를 중앙값으로 변환\n",
    "df1['age(clean_median)'] = df1['age'].fillna(df1['age'].median())\n",
    "print(df1['age'].median())"
   ]
  },
  {
   "cell_type": "markdown",
   "id": "30920d6e",
   "metadata": {},
   "source": [
    "##### 위의 행의 값으로 대치"
   ]
  },
  {
   "cell_type": "code",
   "execution_count": 15,
   "id": "d8eda842",
   "metadata": {},
   "outputs": [
    {
     "name": "stdout",
     "output_type": "stream",
     "text": [
      "51297    70.0\n",
      "51298     NaN\n",
      "51299     NaN\n",
      "51300    39.0\n",
      "51301    51.0\n",
      "51302    64.0\n",
      "51303    53.0\n",
      "Name: age, dtype: float64\n"
     ]
    }
   ],
   "source": [
    "print(df1['age'].tail(7))"
   ]
  },
  {
   "cell_type": "code",
   "execution_count": 16,
   "id": "223c3701",
   "metadata": {},
   "outputs": [],
   "source": [
    "# 결측치를 위의 행의 값으로 대치\n",
    "df1['age(pad)'] = df1['age'].fillna(method='ffill')\n",
    "# df1['age'].fillna(method='pad')"
   ]
  },
  {
   "cell_type": "code",
   "execution_count": 17,
   "id": "eab1f7dc",
   "metadata": {},
   "outputs": [
    {
     "name": "stdout",
     "output_type": "stream",
     "text": [
      "51297    70.0\n",
      "51298    70.0\n",
      "51299    70.0\n",
      "51300    39.0\n",
      "51301    51.0\n",
      "51302    64.0\n",
      "51303    53.0\n",
      "Name: age(pad), dtype: float64\n"
     ]
    }
   ],
   "source": [
    "print(df1['age(pad)'].tail(7))"
   ]
  },
  {
   "cell_type": "markdown",
   "id": "3f3f0bb8",
   "metadata": {},
   "source": [
    "##### 아래의 행으로 대치"
   ]
  },
  {
   "cell_type": "code",
   "execution_count": 18,
   "id": "743ca783",
   "metadata": {},
   "outputs": [
    {
     "name": "stdout",
     "output_type": "stream",
     "text": [
      "51297    70.0\n",
      "51298    39.0\n",
      "51299    39.0\n",
      "51300    39.0\n",
      "51301    51.0\n",
      "51302    64.0\n",
      "51303    53.0\n",
      "Name: age(back), dtype: float64\n"
     ]
    }
   ],
   "source": [
    "# 결측치를 아래의 행으로 대치\n",
    "df1['age(back)'] = df1['age'].fillna(method='bfill')\n",
    "print(df1['age(back)'].tail(7))"
   ]
  },
  {
   "cell_type": "code",
   "execution_count": 19,
   "id": "f527ed63",
   "metadata": {},
   "outputs": [
    {
     "name": "stdout",
     "output_type": "stream",
     "text": [
      "51297    70.0\n",
      "51298     NaN\n",
      "51299    39.0\n",
      "51300    39.0\n",
      "51301    51.0\n",
      "51302    64.0\n",
      "51303    53.0\n",
      "Name: aeg(back), dtype: float64\n"
     ]
    }
   ],
   "source": [
    "# 아래에서부터 한칸만 채워준다.(범위를 제한해줄 수 있다.)\n",
    "df1['aeg(back)'] = df1['age'].fillna(method='bfill', limit=1)\n",
    "print(df1['aeg(back)'].tail(7))"
   ]
  },
  {
   "cell_type": "markdown",
   "id": "9984b5ed",
   "metadata": {},
   "source": [
    "## Modeling"
   ]
  },
  {
   "cell_type": "markdown",
   "id": "23e97daa",
   "metadata": {},
   "source": [
    "이제 본격적으로 분류 모델을 만들어보자."
   ]
  },
  {
   "cell_type": "code",
   "execution_count": 26,
   "id": "0fe67951",
   "metadata": {},
   "outputs": [
    {
     "name": "stdout",
     "output_type": "stream",
     "text": [
      "Index(['id', 'type_of_contract', 'type_of_contract2', 'channel', 'datetime',\n",
      "       'Term', 'payment_type', 'product', 'amount', 'state', 'overdue_count',\n",
      "       'overdue', 'credit rating', 'bank', 'cancellation', 'age', 'Mileage',\n",
      "       'age(clean)', 'age(clean_mean)', 'age(clean_median)', 'age(pad)',\n",
      "       'age(back)', 'aeg(back)'],\n",
      "      dtype='object')\n"
     ]
    }
   ],
   "source": [
    "print(df2.columns)"
   ]
  },
  {
   "cell_type": "code",
   "execution_count": 23,
   "id": "93e00a12",
   "metadata": {},
   "outputs": [
    {
     "name": "stdout",
     "output_type": "stream",
     "text": [
      "(40480, 23)\n"
     ]
    }
   ],
   "source": [
    "# 결측치 제거\n",
    "df2 = df1.dropna()\n",
    "print(df2.shape)"
   ]
  },
  {
   "cell_type": "code",
   "execution_count": 31,
   "id": "60ff8a29",
   "metadata": {},
   "outputs": [],
   "source": [
    "X = df2[['type_of_contract','Term','product','amount','age','overdue']]\n",
    "Y = df2['cancellation'].replace('정상',0).replace('해약',1)"
   ]
  },
  {
   "cell_type": "code",
   "execution_count": 32,
   "id": "4261b729",
   "metadata": {},
   "outputs": [
    {
     "data": {
      "text/html": [
       "<div>\n",
       "<style scoped>\n",
       "    .dataframe tbody tr th:only-of-type {\n",
       "        vertical-align: middle;\n",
       "    }\n",
       "\n",
       "    .dataframe tbody tr th {\n",
       "        vertical-align: top;\n",
       "    }\n",
       "\n",
       "    .dataframe thead th {\n",
       "        text-align: right;\n",
       "    }\n",
       "</style>\n",
       "<table border=\"1\" class=\"dataframe\">\n",
       "  <thead>\n",
       "    <tr style=\"text-align: right;\">\n",
       "      <th></th>\n",
       "      <th>type_of_contract</th>\n",
       "      <th>Term</th>\n",
       "      <th>product</th>\n",
       "      <th>amount</th>\n",
       "      <th>age</th>\n",
       "      <th>overdue</th>\n",
       "    </tr>\n",
       "  </thead>\n",
       "  <tbody>\n",
       "    <tr>\n",
       "      <th>0</th>\n",
       "      <td>렌탈</td>\n",
       "      <td>60</td>\n",
       "      <td>K1</td>\n",
       "      <td>96900</td>\n",
       "      <td>43.0</td>\n",
       "      <td>없음</td>\n",
       "    </tr>\n",
       "    <tr>\n",
       "      <th>1</th>\n",
       "      <td>렌탈</td>\n",
       "      <td>60</td>\n",
       "      <td>K1</td>\n",
       "      <td>102900</td>\n",
       "      <td>62.0</td>\n",
       "      <td>없음</td>\n",
       "    </tr>\n",
       "  </tbody>\n",
       "</table>\n",
       "</div>"
      ],
      "text/plain": [
       "  type_of_contract  Term product  amount   age overdue\n",
       "0               렌탈    60      K1   96900  43.0      없음\n",
       "1               렌탈    60      K1  102900  62.0      없음"
      ]
     },
     "execution_count": 32,
     "metadata": {},
     "output_type": "execute_result"
    }
   ],
   "source": [
    "X.head(2)"
   ]
  },
  {
   "cell_type": "code",
   "execution_count": 37,
   "id": "6aae6e07",
   "metadata": {},
   "outputs": [
    {
     "data": {
      "text/html": [
       "<div>\n",
       "<style scoped>\n",
       "    .dataframe tbody tr th:only-of-type {\n",
       "        vertical-align: middle;\n",
       "    }\n",
       "\n",
       "    .dataframe tbody tr th {\n",
       "        vertical-align: top;\n",
       "    }\n",
       "\n",
       "    .dataframe thead th {\n",
       "        text-align: right;\n",
       "    }\n",
       "</style>\n",
       "<table border=\"1\" class=\"dataframe\">\n",
       "  <thead>\n",
       "    <tr style=\"text-align: right;\">\n",
       "      <th></th>\n",
       "      <th>Term</th>\n",
       "      <th>amount</th>\n",
       "      <th>age</th>\n",
       "      <th>type_of_contract_렌탈</th>\n",
       "      <th>type_of_contract_멤버십</th>\n",
       "      <th>product_K1</th>\n",
       "      <th>product_K2</th>\n",
       "      <th>product_K3</th>\n",
       "      <th>product_K4</th>\n",
       "      <th>product_K5</th>\n",
       "      <th>product_K6</th>\n",
       "      <th>overdue_없음</th>\n",
       "      <th>overdue_있음</th>\n",
       "    </tr>\n",
       "  </thead>\n",
       "  <tbody>\n",
       "    <tr>\n",
       "      <th>0</th>\n",
       "      <td>60</td>\n",
       "      <td>96900</td>\n",
       "      <td>43.0</td>\n",
       "      <td>1</td>\n",
       "      <td>0</td>\n",
       "      <td>1</td>\n",
       "      <td>0</td>\n",
       "      <td>0</td>\n",
       "      <td>0</td>\n",
       "      <td>0</td>\n",
       "      <td>0</td>\n",
       "      <td>1</td>\n",
       "      <td>0</td>\n",
       "    </tr>\n",
       "    <tr>\n",
       "      <th>1</th>\n",
       "      <td>60</td>\n",
       "      <td>102900</td>\n",
       "      <td>62.0</td>\n",
       "      <td>1</td>\n",
       "      <td>0</td>\n",
       "      <td>1</td>\n",
       "      <td>0</td>\n",
       "      <td>0</td>\n",
       "      <td>0</td>\n",
       "      <td>0</td>\n",
       "      <td>0</td>\n",
       "      <td>1</td>\n",
       "      <td>0</td>\n",
       "    </tr>\n",
       "  </tbody>\n",
       "</table>\n",
       "</div>"
      ],
      "text/plain": [
       "   Term  amount   age  type_of_contract_렌탈  type_of_contract_멤버십  product_K1  \\\n",
       "0    60   96900  43.0                    1                     0           1   \n",
       "1    60  102900  62.0                    1                     0           1   \n",
       "\n",
       "   product_K2  product_K3  product_K4  product_K5  product_K6  overdue_없음  \\\n",
       "0           0           0           0           0           0           1   \n",
       "1           0           0           0           0           0           1   \n",
       "\n",
       "   overdue_있음  \n",
       "0           0  \n",
       "1           0  "
      ]
     },
     "execution_count": 37,
     "metadata": {},
     "output_type": "execute_result"
    }
   ],
   "source": [
    "# One Hot Encoding\n",
    "X1 = pd.get_dummies(X)\n",
    "X1.head(2)"
   ]
  },
  {
   "cell_type": "code",
   "execution_count": 33,
   "id": "cf5ea639",
   "metadata": {},
   "outputs": [
    {
     "data": {
      "text/plain": [
       "0        0\n",
       "1        0\n",
       "2        0\n",
       "3        0\n",
       "4        1\n",
       "        ..\n",
       "51295    1\n",
       "51296    0\n",
       "51297    1\n",
       "51300    1\n",
       "51303    1\n",
       "Name: cancellation, Length: 40480, dtype: int64"
      ]
     },
     "execution_count": 33,
     "metadata": {},
     "output_type": "execute_result"
    }
   ],
   "source": [
    "Y"
   ]
  },
  {
   "cell_type": "code",
   "execution_count": 38,
   "id": "9a7d1ca7",
   "metadata": {},
   "outputs": [],
   "source": [
    "# 학습 및 검증 데이터 분할\n",
    "from sklearn.model_selection import train_test_split\n",
    "\n",
    "# 파이프라인 활용 스케일링 및 모델링\n",
    "from sklearn.pipeline import Pipeline\n",
    "from sklearn.preprocessing import MinMaxScaler\n",
    "from sklearn.ensemble import RandomForestClassifier\n",
    "\n",
    "# 교차검증 및 매개변수 튜닝\n",
    "from sklearn.model_selection import GridSearchCV \n",
    "\n",
    "# 평가\n",
    "from sklearn.metrics import classification_report\n",
    "from sklearn.metrics import recall_score, precision_score"
   ]
  },
  {
   "cell_type": "code",
   "execution_count": 39,
   "id": "1f803c22",
   "metadata": {},
   "outputs": [
    {
     "name": "stdout",
     "output_type": "stream",
     "text": [
      "(28336, 13)\n",
      "(12144, 13)\n",
      "(28336,)\n",
      "(12144,)\n"
     ]
    }
   ],
   "source": [
    "X_train, X_test, Y_train, Y_test = train_test_split(X1, Y, test_size=0.3,\n",
    "                                                    random_state=1234)\n",
    "\n",
    "print(X_train.shape)\n",
    "print(X_test.shape)\n",
    "print(Y_train.shape)\n",
    "print(Y_test.shape)"
   ]
  },
  {
   "cell_type": "code",
   "execution_count": 43,
   "id": "60c201b9",
   "metadata": {},
   "outputs": [
    {
     "data": {
      "text/html": [
       "<style>#sk-container-id-3 {color: black;background-color: white;}#sk-container-id-3 pre{padding: 0;}#sk-container-id-3 div.sk-toggleable {background-color: white;}#sk-container-id-3 label.sk-toggleable__label {cursor: pointer;display: block;width: 100%;margin-bottom: 0;padding: 0.3em;box-sizing: border-box;text-align: center;}#sk-container-id-3 label.sk-toggleable__label-arrow:before {content: \"▸\";float: left;margin-right: 0.25em;color: #696969;}#sk-container-id-3 label.sk-toggleable__label-arrow:hover:before {color: black;}#sk-container-id-3 div.sk-estimator:hover label.sk-toggleable__label-arrow:before {color: black;}#sk-container-id-3 div.sk-toggleable__content {max-height: 0;max-width: 0;overflow: hidden;text-align: left;background-color: #f0f8ff;}#sk-container-id-3 div.sk-toggleable__content pre {margin: 0.2em;color: black;border-radius: 0.25em;background-color: #f0f8ff;}#sk-container-id-3 input.sk-toggleable__control:checked~div.sk-toggleable__content {max-height: 200px;max-width: 100%;overflow: auto;}#sk-container-id-3 input.sk-toggleable__control:checked~label.sk-toggleable__label-arrow:before {content: \"▾\";}#sk-container-id-3 div.sk-estimator input.sk-toggleable__control:checked~label.sk-toggleable__label {background-color: #d4ebff;}#sk-container-id-3 div.sk-label input.sk-toggleable__control:checked~label.sk-toggleable__label {background-color: #d4ebff;}#sk-container-id-3 input.sk-hidden--visually {border: 0;clip: rect(1px 1px 1px 1px);clip: rect(1px, 1px, 1px, 1px);height: 1px;margin: -1px;overflow: hidden;padding: 0;position: absolute;width: 1px;}#sk-container-id-3 div.sk-estimator {font-family: monospace;background-color: #f0f8ff;border: 1px dotted black;border-radius: 0.25em;box-sizing: border-box;margin-bottom: 0.5em;}#sk-container-id-3 div.sk-estimator:hover {background-color: #d4ebff;}#sk-container-id-3 div.sk-parallel-item::after {content: \"\";width: 100%;border-bottom: 1px solid gray;flex-grow: 1;}#sk-container-id-3 div.sk-label:hover label.sk-toggleable__label {background-color: #d4ebff;}#sk-container-id-3 div.sk-serial::before {content: \"\";position: absolute;border-left: 1px solid gray;box-sizing: border-box;top: 0;bottom: 0;left: 50%;z-index: 0;}#sk-container-id-3 div.sk-serial {display: flex;flex-direction: column;align-items: center;background-color: white;padding-right: 0.2em;padding-left: 0.2em;position: relative;}#sk-container-id-3 div.sk-item {position: relative;z-index: 1;}#sk-container-id-3 div.sk-parallel {display: flex;align-items: stretch;justify-content: center;background-color: white;position: relative;}#sk-container-id-3 div.sk-item::before, #sk-container-id-3 div.sk-parallel-item::before {content: \"\";position: absolute;border-left: 1px solid gray;box-sizing: border-box;top: 0;bottom: 0;left: 50%;z-index: -1;}#sk-container-id-3 div.sk-parallel-item {display: flex;flex-direction: column;z-index: 1;position: relative;background-color: white;}#sk-container-id-3 div.sk-parallel-item:first-child::after {align-self: flex-end;width: 50%;}#sk-container-id-3 div.sk-parallel-item:last-child::after {align-self: flex-start;width: 50%;}#sk-container-id-3 div.sk-parallel-item:only-child::after {width: 0;}#sk-container-id-3 div.sk-dashed-wrapped {border: 1px dashed gray;margin: 0 0.4em 0.5em 0.4em;box-sizing: border-box;padding-bottom: 0.4em;background-color: white;}#sk-container-id-3 div.sk-label label {font-family: monospace;font-weight: bold;display: inline-block;line-height: 1.2em;}#sk-container-id-3 div.sk-label-container {text-align: center;}#sk-container-id-3 div.sk-container {/* jupyter's `normalize.less` sets `[hidden] { display: none; }` but bootstrap.min.css set `[hidden] { display: none !important; }` so we also need the `!important` here to be able to override the default hidden behavior on the sphinx rendered scikit-learn.org. See: https://github.com/scikit-learn/scikit-learn/issues/21755 */display: inline-block !important;position: relative;}#sk-container-id-3 div.sk-text-repr-fallback {display: none;}</style><div id=\"sk-container-id-3\" class=\"sk-top-container\"><div class=\"sk-text-repr-fallback\"><pre>Pipeline(steps=[(&#x27;scaler&#x27;, MinMaxScaler()),\n",
       "                (&#x27;model&#x27;, RandomForestClassifier())])</pre><b>In a Jupyter environment, please rerun this cell to show the HTML representation or trust the notebook. <br />On GitHub, the HTML representation is unable to render, please try loading this page with nbviewer.org.</b></div><div class=\"sk-container\" hidden><div class=\"sk-item sk-dashed-wrapped\"><div class=\"sk-label-container\"><div class=\"sk-label sk-toggleable\"><input class=\"sk-toggleable__control sk-hidden--visually\" id=\"sk-estimator-id-7\" type=\"checkbox\" ><label for=\"sk-estimator-id-7\" class=\"sk-toggleable__label sk-toggleable__label-arrow\">Pipeline</label><div class=\"sk-toggleable__content\"><pre>Pipeline(steps=[(&#x27;scaler&#x27;, MinMaxScaler()),\n",
       "                (&#x27;model&#x27;, RandomForestClassifier())])</pre></div></div></div><div class=\"sk-serial\"><div class=\"sk-item\"><div class=\"sk-estimator sk-toggleable\"><input class=\"sk-toggleable__control sk-hidden--visually\" id=\"sk-estimator-id-8\" type=\"checkbox\" ><label for=\"sk-estimator-id-8\" class=\"sk-toggleable__label sk-toggleable__label-arrow\">MinMaxScaler</label><div class=\"sk-toggleable__content\"><pre>MinMaxScaler()</pre></div></div></div><div class=\"sk-item\"><div class=\"sk-estimator sk-toggleable\"><input class=\"sk-toggleable__control sk-hidden--visually\" id=\"sk-estimator-id-9\" type=\"checkbox\" ><label for=\"sk-estimator-id-9\" class=\"sk-toggleable__label sk-toggleable__label-arrow\">RandomForestClassifier</label><div class=\"sk-toggleable__content\"><pre>RandomForestClassifier()</pre></div></div></div></div></div></div></div>"
      ],
      "text/plain": [
       "Pipeline(steps=[('scaler', MinMaxScaler()),\n",
       "                ('model', RandomForestClassifier())])"
      ]
     },
     "execution_count": 43,
     "metadata": {},
     "output_type": "execute_result"
    }
   ],
   "source": [
    "pipe_model = Pipeline( [('scaler', MinMaxScaler()), \n",
    "                        ('model', RandomForestClassifier())] )\n",
    "pipe_model"
   ]
  },
  {
   "cell_type": "code",
   "execution_count": 44,
   "id": "b4dc7caa",
   "metadata": {},
   "outputs": [],
   "source": [
    "# 파이프라인 안에있는 모델 Scaler, RF Classifier 중 후자를 파라미터 튜닝 해줄 것.\n",
    "parameter_list = {'model__n_estimators':[50, 100, 150],\n",
    "                  'model__criterion': ['gini', 'entropy'],\n",
    "                  'model__max_depth': [3,4,5,6],\n",
    "                  'model__class_weight': [None, 'balanced']}"
   ]
  },
  {
   "cell_type": "code",
   "execution_count": null,
   "id": "e515f0cf",
   "metadata": {},
   "outputs": [],
   "source": []
  }
 ],
 "metadata": {
  "kernelspec": {
   "display_name": "Python 3 (ipykernel)",
   "language": "python",
   "name": "python3"
  },
  "language_info": {
   "codemirror_mode": {
    "name": "ipython",
    "version": 3
   },
   "file_extension": ".py",
   "mimetype": "text/x-python",
   "name": "python",
   "nbconvert_exporter": "python",
   "pygments_lexer": "ipython3",
   "version": "3.8.13"
  }
 },
 "nbformat": 4,
 "nbformat_minor": 5
}
