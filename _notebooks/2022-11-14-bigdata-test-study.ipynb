{
 "cells": [
  {
   "cell_type": "markdown",
   "id": "c68e8d62",
   "metadata": {},
   "source": [
    "# 🤣 Preparing for data analysis test\n",
    "> 단기속성 빅분기 실기 대비, using mtcars data set\n",
    "- toc: true\n",
    "- branch: master\n",
    "- badges: false\n",
    "- comments: true\n",
    "- author: dinonene\n",
    "- categories: [python]"
   ]
  },
  {
   "cell_type": "markdown",
   "id": "df8b8a5e",
   "metadata": {},
   "source": [
    "# 데이터를 관찰하고 가공하기: 전처리(preprocessing)"
   ]
  },
  {
   "cell_type": "markdown",
   "id": "a3b0d1c0",
   "metadata": {},
   "source": [
    "현업에서 사용하는 전처리 작업에는 수십 가지가 있지만 주로 사용하는 몇가지 전처리 작업을 소개하겠습니다.\n",
    "\n",
    "1. 필요하지 않은 열 삭제\n",
    "2. 누락된 값들을 다른 값들로 바꾸거나 삭제\n",
    "3. 잘못된 값을 바르게수정\n",
    "4. 일반적인 범위에서 벗어나는 이상값 조정\n",
    "5. 각 열들의 숫자 값을 동일한 범위의 숫자로 변경\n",
    "6. 의도한 데이터 타입이 아니라면 적절한 데이터 타입으로 변경\n",
    "7. 문자로 구성된 범주형 데이터를 숫자형으로 변경\n",
    "8. 분석에 필요한 새로운 열 생성"
   ]
  },
  {
   "cell_type": "markdown",
   "id": "773f7863",
   "metadata": {},
   "source": [
    "## Data Load"
   ]
  },
  {
   "cell_type": "code",
   "execution_count": 2,
   "id": "d3c1b155",
   "metadata": {},
   "outputs": [],
   "source": [
    "import pandas as pd\n",
    "data = pd.read_csv('https://raw.githubusercontent.com/7ieon/bigData/main/mtcars.csv')"
   ]
  },
  {
   "cell_type": "code",
   "execution_count": 3,
   "id": "49f9a1da",
   "metadata": {},
   "outputs": [
    {
     "data": {
      "text/html": [
       "<div>\n",
       "<style scoped>\n",
       "    .dataframe tbody tr th:only-of-type {\n",
       "        vertical-align: middle;\n",
       "    }\n",
       "\n",
       "    .dataframe tbody tr th {\n",
       "        vertical-align: top;\n",
       "    }\n",
       "\n",
       "    .dataframe thead th {\n",
       "        text-align: right;\n",
       "    }\n",
       "</style>\n",
       "<table border=\"1\" class=\"dataframe\">\n",
       "  <thead>\n",
       "    <tr style=\"text-align: right;\">\n",
       "      <th></th>\n",
       "      <th>Unnamed: 0</th>\n",
       "      <th>mpg</th>\n",
       "      <th>cyl</th>\n",
       "      <th>disp</th>\n",
       "      <th>hp</th>\n",
       "      <th>drat</th>\n",
       "      <th>wt</th>\n",
       "      <th>qsec</th>\n",
       "      <th>vs</th>\n",
       "      <th>am</th>\n",
       "      <th>gear</th>\n",
       "      <th>carb</th>\n",
       "    </tr>\n",
       "  </thead>\n",
       "  <tbody>\n",
       "    <tr>\n",
       "      <th>0</th>\n",
       "      <td>Mazda RX4</td>\n",
       "      <td>21.0</td>\n",
       "      <td>6.0</td>\n",
       "      <td>160.0</td>\n",
       "      <td>110</td>\n",
       "      <td>3.90</td>\n",
       "      <td>2.620</td>\n",
       "      <td>16.46</td>\n",
       "      <td>0</td>\n",
       "      <td>manual</td>\n",
       "      <td>4</td>\n",
       "      <td>4</td>\n",
       "    </tr>\n",
       "    <tr>\n",
       "      <th>1</th>\n",
       "      <td>Mazda RX4 Wag</td>\n",
       "      <td>21.0</td>\n",
       "      <td>6.0</td>\n",
       "      <td>160.0</td>\n",
       "      <td>110</td>\n",
       "      <td>3.90</td>\n",
       "      <td>2.875</td>\n",
       "      <td>17.02</td>\n",
       "      <td>0</td>\n",
       "      <td>manual</td>\n",
       "      <td>4</td>\n",
       "      <td>4</td>\n",
       "    </tr>\n",
       "    <tr>\n",
       "      <th>2</th>\n",
       "      <td>Datsun 710</td>\n",
       "      <td>22.8</td>\n",
       "      <td>4.0</td>\n",
       "      <td>108.0</td>\n",
       "      <td>93</td>\n",
       "      <td>3.85</td>\n",
       "      <td>2.320</td>\n",
       "      <td>18.61</td>\n",
       "      <td>1</td>\n",
       "      <td>manual</td>\n",
       "      <td>4</td>\n",
       "      <td>1</td>\n",
       "    </tr>\n",
       "    <tr>\n",
       "      <th>3</th>\n",
       "      <td>Hornet 4 Drive</td>\n",
       "      <td>21.4</td>\n",
       "      <td>6.0</td>\n",
       "      <td>258.0</td>\n",
       "      <td>110</td>\n",
       "      <td>3.08</td>\n",
       "      <td>3.215</td>\n",
       "      <td>0.10</td>\n",
       "      <td>1</td>\n",
       "      <td>auto</td>\n",
       "      <td>3</td>\n",
       "      <td>1</td>\n",
       "    </tr>\n",
       "    <tr>\n",
       "      <th>4</th>\n",
       "      <td>Hornet Sportabout</td>\n",
       "      <td>18.7</td>\n",
       "      <td>8.0</td>\n",
       "      <td>360.0</td>\n",
       "      <td>175</td>\n",
       "      <td>3.15</td>\n",
       "      <td>3.440</td>\n",
       "      <td>17.02</td>\n",
       "      <td>0</td>\n",
       "      <td>auto</td>\n",
       "      <td>3</td>\n",
       "      <td>2</td>\n",
       "    </tr>\n",
       "  </tbody>\n",
       "</table>\n",
       "</div>"
      ],
      "text/plain": [
       "          Unnamed: 0   mpg  cyl   disp   hp  drat     wt   qsec  vs      am  \\\n",
       "0          Mazda RX4  21.0  6.0  160.0  110  3.90  2.620  16.46   0  manual   \n",
       "1      Mazda RX4 Wag  21.0  6.0  160.0  110  3.90  2.875  17.02   0  manual   \n",
       "2         Datsun 710  22.8  4.0  108.0   93  3.85  2.320  18.61   1  manual   \n",
       "3     Hornet 4 Drive  21.4  6.0  258.0  110  3.08  3.215   0.10   1    auto   \n",
       "4  Hornet Sportabout  18.7  8.0  360.0  175  3.15  3.440  17.02   0    auto   \n",
       "\n",
       "  gear  carb  \n",
       "0    4     4  \n",
       "1    4     4  \n",
       "2    4     1  \n",
       "3    3     1  \n",
       "4    3     2  "
      ]
     },
     "execution_count": 3,
     "metadata": {},
     "output_type": "execute_result"
    }
   ],
   "source": [
    "data.head()"
   ]
  },
  {
   "cell_type": "code",
   "execution_count": 4,
   "id": "c2d75b66",
   "metadata": {},
   "outputs": [
    {
     "data": {
      "text/plain": [
       "(32, 12)"
      ]
     },
     "execution_count": 4,
     "metadata": {},
     "output_type": "execute_result"
    }
   ],
   "source": [
    "data.shape"
   ]
  },
  {
   "cell_type": "code",
   "execution_count": 5,
   "id": "2621ec53",
   "metadata": {},
   "outputs": [
    {
     "data": {
      "text/plain": [
       "pandas.core.frame.DataFrame"
      ]
     },
     "execution_count": 5,
     "metadata": {},
     "output_type": "execute_result"
    }
   ],
   "source": [
    "type(data)"
   ]
  },
  {
   "cell_type": "code",
   "execution_count": 6,
   "id": "7c21d2c7",
   "metadata": {},
   "outputs": [
    {
     "data": {
      "text/plain": [
       "Index(['Unnamed: 0', 'mpg', 'cyl', 'disp', 'hp', 'drat', 'wt', 'qsec', 'vs',\n",
       "       'am', 'gear', 'carb'],\n",
       "      dtype='object')"
      ]
     },
     "execution_count": 6,
     "metadata": {},
     "output_type": "execute_result"
    }
   ],
   "source": [
    "data.columns"
   ]
  },
  {
   "cell_type": "code",
   "execution_count": 7,
   "id": "84e79858",
   "metadata": {},
   "outputs": [
    {
     "data": {
      "text/html": [
       "<div>\n",
       "<style scoped>\n",
       "    .dataframe tbody tr th:only-of-type {\n",
       "        vertical-align: middle;\n",
       "    }\n",
       "\n",
       "    .dataframe tbody tr th {\n",
       "        vertical-align: top;\n",
       "    }\n",
       "\n",
       "    .dataframe thead th {\n",
       "        text-align: right;\n",
       "    }\n",
       "</style>\n",
       "<table border=\"1\" class=\"dataframe\">\n",
       "  <thead>\n",
       "    <tr style=\"text-align: right;\">\n",
       "      <th></th>\n",
       "      <th>mpg</th>\n",
       "      <th>cyl</th>\n",
       "      <th>disp</th>\n",
       "      <th>hp</th>\n",
       "      <th>drat</th>\n",
       "      <th>wt</th>\n",
       "      <th>qsec</th>\n",
       "      <th>vs</th>\n",
       "      <th>carb</th>\n",
       "    </tr>\n",
       "  </thead>\n",
       "  <tbody>\n",
       "    <tr>\n",
       "      <th>count</th>\n",
       "      <td>32.000000</td>\n",
       "      <td>30.000000</td>\n",
       "      <td>32.000000</td>\n",
       "      <td>32.000000</td>\n",
       "      <td>32.000000</td>\n",
       "      <td>32.000000</td>\n",
       "      <td>31.000000</td>\n",
       "      <td>32.000000</td>\n",
       "      <td>32.0000</td>\n",
       "    </tr>\n",
       "    <tr>\n",
       "      <th>mean</th>\n",
       "      <td>20.090625</td>\n",
       "      <td>7.600000</td>\n",
       "      <td>230.721875</td>\n",
       "      <td>146.687500</td>\n",
       "      <td>3.596563</td>\n",
       "      <td>3.217250</td>\n",
       "      <td>19.866774</td>\n",
       "      <td>0.437500</td>\n",
       "      <td>2.8125</td>\n",
       "    </tr>\n",
       "    <tr>\n",
       "      <th>std</th>\n",
       "      <td>6.026948</td>\n",
       "      <td>8.194195</td>\n",
       "      <td>123.938694</td>\n",
       "      <td>68.562868</td>\n",
       "      <td>0.534679</td>\n",
       "      <td>0.978457</td>\n",
       "      <td>15.310469</td>\n",
       "      <td>0.504016</td>\n",
       "      <td>1.6152</td>\n",
       "    </tr>\n",
       "    <tr>\n",
       "      <th>min</th>\n",
       "      <td>10.400000</td>\n",
       "      <td>4.000000</td>\n",
       "      <td>71.100000</td>\n",
       "      <td>52.000000</td>\n",
       "      <td>2.760000</td>\n",
       "      <td>1.513000</td>\n",
       "      <td>0.100000</td>\n",
       "      <td>0.000000</td>\n",
       "      <td>1.0000</td>\n",
       "    </tr>\n",
       "    <tr>\n",
       "      <th>25%</th>\n",
       "      <td>15.425000</td>\n",
       "      <td>4.000000</td>\n",
       "      <td>120.825000</td>\n",
       "      <td>96.500000</td>\n",
       "      <td>3.080000</td>\n",
       "      <td>2.581250</td>\n",
       "      <td>16.785000</td>\n",
       "      <td>0.000000</td>\n",
       "      <td>2.0000</td>\n",
       "    </tr>\n",
       "    <tr>\n",
       "      <th>50%</th>\n",
       "      <td>19.200000</td>\n",
       "      <td>6.000000</td>\n",
       "      <td>196.300000</td>\n",
       "      <td>123.000000</td>\n",
       "      <td>3.695000</td>\n",
       "      <td>3.325000</td>\n",
       "      <td>17.600000</td>\n",
       "      <td>0.000000</td>\n",
       "      <td>2.0000</td>\n",
       "    </tr>\n",
       "    <tr>\n",
       "      <th>75%</th>\n",
       "      <td>22.800000</td>\n",
       "      <td>8.000000</td>\n",
       "      <td>326.000000</td>\n",
       "      <td>180.000000</td>\n",
       "      <td>3.920000</td>\n",
       "      <td>3.610000</td>\n",
       "      <td>18.755000</td>\n",
       "      <td>1.000000</td>\n",
       "      <td>4.0000</td>\n",
       "    </tr>\n",
       "    <tr>\n",
       "      <th>max</th>\n",
       "      <td>33.900000</td>\n",
       "      <td>50.000000</td>\n",
       "      <td>472.000000</td>\n",
       "      <td>335.000000</td>\n",
       "      <td>4.930000</td>\n",
       "      <td>5.424000</td>\n",
       "      <td>100.000000</td>\n",
       "      <td>1.000000</td>\n",
       "      <td>8.0000</td>\n",
       "    </tr>\n",
       "  </tbody>\n",
       "</table>\n",
       "</div>"
      ],
      "text/plain": [
       "             mpg        cyl        disp          hp       drat         wt  \\\n",
       "count  32.000000  30.000000   32.000000   32.000000  32.000000  32.000000   \n",
       "mean   20.090625   7.600000  230.721875  146.687500   3.596563   3.217250   \n",
       "std     6.026948   8.194195  123.938694   68.562868   0.534679   0.978457   \n",
       "min    10.400000   4.000000   71.100000   52.000000   2.760000   1.513000   \n",
       "25%    15.425000   4.000000  120.825000   96.500000   3.080000   2.581250   \n",
       "50%    19.200000   6.000000  196.300000  123.000000   3.695000   3.325000   \n",
       "75%    22.800000   8.000000  326.000000  180.000000   3.920000   3.610000   \n",
       "max    33.900000  50.000000  472.000000  335.000000   4.930000   5.424000   \n",
       "\n",
       "             qsec         vs     carb  \n",
       "count   31.000000  32.000000  32.0000  \n",
       "mean    19.866774   0.437500   2.8125  \n",
       "std     15.310469   0.504016   1.6152  \n",
       "min      0.100000   0.000000   1.0000  \n",
       "25%     16.785000   0.000000   2.0000  \n",
       "50%     17.600000   0.000000   2.0000  \n",
       "75%     18.755000   1.000000   4.0000  \n",
       "max    100.000000   1.000000   8.0000  "
      ]
     },
     "execution_count": 7,
     "metadata": {},
     "output_type": "execute_result"
    }
   ],
   "source": [
    "data.describe()"
   ]
  },
  {
   "cell_type": "code",
   "execution_count": 8,
   "id": "1b42ee97",
   "metadata": {},
   "outputs": [
    {
     "data": {
      "text/plain": [
       "count     32.000000\n",
       "mean     146.687500\n",
       "std       68.562868\n",
       "min       52.000000\n",
       "25%       96.500000\n",
       "50%      123.000000\n",
       "75%      180.000000\n",
       "max      335.000000\n",
       "Name: hp, dtype: float64"
      ]
     },
     "execution_count": 8,
     "metadata": {},
     "output_type": "execute_result"
    }
   ],
   "source": [
    "# 단일변수도 가능\n",
    "data['hp'].describe()"
   ]
  },
  {
   "cell_type": "code",
   "execution_count": 9,
   "id": "5ad823e3",
   "metadata": {},
   "outputs": [
    {
     "name": "stdout",
     "output_type": "stream",
     "text": [
      "['manual' 'auto']\n",
      "['4' '3' '*3' '5' '*5']\n",
      "[0 1]\n"
     ]
    }
   ],
   "source": [
    "print(data['am'].unique()) # am칼럼에서 중복 제거\n",
    "print(data['gear'].unique())\n",
    "print(data['vs'].unique())"
   ]
  },
  {
   "cell_type": "code",
   "execution_count": 10,
   "id": "693e09ea",
   "metadata": {},
   "outputs": [
    {
     "name": "stdout",
     "output_type": "stream",
     "text": [
      "<class 'pandas.core.frame.DataFrame'>\n",
      "RangeIndex: 32 entries, 0 to 31\n",
      "Data columns (total 12 columns):\n",
      " #   Column      Non-Null Count  Dtype  \n",
      "---  ------      --------------  -----  \n",
      " 0   Unnamed: 0  32 non-null     object \n",
      " 1   mpg         32 non-null     float64\n",
      " 2   cyl         30 non-null     float64\n",
      " 3   disp        32 non-null     float64\n",
      " 4   hp          32 non-null     int64  \n",
      " 5   drat        32 non-null     float64\n",
      " 6   wt          32 non-null     float64\n",
      " 7   qsec        31 non-null     float64\n",
      " 8   vs          32 non-null     int64  \n",
      " 9   am          32 non-null     object \n",
      " 10  gear        32 non-null     object \n",
      " 11  carb        32 non-null     int64  \n",
      "dtypes: float64(6), int64(3), object(3)\n",
      "memory usage: 3.1+ KB\n",
      "None\n"
     ]
    }
   ],
   "source": [
    "print(data.info())"
   ]
  },
  {
   "cell_type": "code",
   "execution_count": 11,
   "id": "41d06d0a",
   "metadata": {},
   "outputs": [
    {
     "name": "stdout",
     "output_type": "stream",
     "text": [
      "           mpg       cyl      disp        hp      drat        wt      qsec  \\\n",
      "mpg   1.000000 -0.460227 -0.847551 -0.776168  0.681172 -0.867659  0.013668   \n",
      "cyl  -0.460227  1.000000  0.544876  0.323293 -0.372671  0.533690 -0.012755   \n",
      "disp -0.847551  0.544876  1.000000  0.790949 -0.710214  0.887980  0.181810   \n",
      "hp   -0.776168  0.323293  0.790949  1.000000 -0.448759  0.658748  0.010807   \n",
      "drat  0.681172 -0.372671 -0.710214 -0.448759  1.000000 -0.712441 -0.120283   \n",
      "wt   -0.867659  0.533690  0.887980  0.658748 -0.712441  1.000000  0.093900   \n",
      "qsec  0.013668 -0.012755  0.181810  0.010807 -0.120283  0.093900  1.000000   \n",
      "vs    0.664039 -0.323960 -0.710416 -0.723097  0.440278 -0.554916 -0.112146   \n",
      "carb -0.550925  0.239980  0.394977  0.749812 -0.090790  0.427606 -0.120312   \n",
      "\n",
      "            vs      carb  \n",
      "mpg   0.664039 -0.550925  \n",
      "cyl  -0.323960  0.239980  \n",
      "disp -0.710416  0.394977  \n",
      "hp   -0.723097  0.749812  \n",
      "drat  0.440278 -0.090790  \n",
      "wt   -0.554916  0.427606  \n",
      "qsec -0.112146 -0.120312  \n",
      "vs    1.000000 -0.569607  \n",
      "carb -0.569607  1.000000  \n"
     ]
    }
   ],
   "source": [
    "print(data.corr())"
   ]
  },
  {
   "cell_type": "markdown",
   "id": "6f7e33e9",
   "metadata": {},
   "source": [
    "우리 목표는 mpg(연비) 값을 **예측**하는 것"
   ]
  },
  {
   "cell_type": "code",
   "execution_count": 12,
   "id": "59aa65c3",
   "metadata": {},
   "outputs": [],
   "source": [
    "# 종속변수와 도립변수 분리\n",
    "X = data.drop(columns = 'mpg')  # dependent variables\n",
    "Y = data['mpg']  # dependent variable"
   ]
  },
  {
   "cell_type": "code",
   "execution_count": 13,
   "id": "b98545c6",
   "metadata": {},
   "outputs": [
    {
     "data": {
      "text/html": [
       "<div>\n",
       "<style scoped>\n",
       "    .dataframe tbody tr th:only-of-type {\n",
       "        vertical-align: middle;\n",
       "    }\n",
       "\n",
       "    .dataframe tbody tr th {\n",
       "        vertical-align: top;\n",
       "    }\n",
       "\n",
       "    .dataframe thead th {\n",
       "        text-align: right;\n",
       "    }\n",
       "</style>\n",
       "<table border=\"1\" class=\"dataframe\">\n",
       "  <thead>\n",
       "    <tr style=\"text-align: right;\">\n",
       "      <th></th>\n",
       "      <th>Unnamed: 0</th>\n",
       "      <th>cyl</th>\n",
       "      <th>disp</th>\n",
       "      <th>hp</th>\n",
       "      <th>drat</th>\n",
       "      <th>wt</th>\n",
       "      <th>qsec</th>\n",
       "      <th>vs</th>\n",
       "      <th>am</th>\n",
       "      <th>gear</th>\n",
       "      <th>carb</th>\n",
       "    </tr>\n",
       "  </thead>\n",
       "  <tbody>\n",
       "    <tr>\n",
       "      <th>0</th>\n",
       "      <td>Mazda RX4</td>\n",
       "      <td>6.0</td>\n",
       "      <td>160.0</td>\n",
       "      <td>110</td>\n",
       "      <td>3.90</td>\n",
       "      <td>2.620</td>\n",
       "      <td>16.46</td>\n",
       "      <td>0</td>\n",
       "      <td>manual</td>\n",
       "      <td>4</td>\n",
       "      <td>4</td>\n",
       "    </tr>\n",
       "    <tr>\n",
       "      <th>1</th>\n",
       "      <td>Mazda RX4 Wag</td>\n",
       "      <td>6.0</td>\n",
       "      <td>160.0</td>\n",
       "      <td>110</td>\n",
       "      <td>3.90</td>\n",
       "      <td>2.875</td>\n",
       "      <td>17.02</td>\n",
       "      <td>0</td>\n",
       "      <td>manual</td>\n",
       "      <td>4</td>\n",
       "      <td>4</td>\n",
       "    </tr>\n",
       "    <tr>\n",
       "      <th>2</th>\n",
       "      <td>Datsun 710</td>\n",
       "      <td>4.0</td>\n",
       "      <td>108.0</td>\n",
       "      <td>93</td>\n",
       "      <td>3.85</td>\n",
       "      <td>2.320</td>\n",
       "      <td>18.61</td>\n",
       "      <td>1</td>\n",
       "      <td>manual</td>\n",
       "      <td>4</td>\n",
       "      <td>1</td>\n",
       "    </tr>\n",
       "    <tr>\n",
       "      <th>3</th>\n",
       "      <td>Hornet 4 Drive</td>\n",
       "      <td>6.0</td>\n",
       "      <td>258.0</td>\n",
       "      <td>110</td>\n",
       "      <td>3.08</td>\n",
       "      <td>3.215</td>\n",
       "      <td>0.10</td>\n",
       "      <td>1</td>\n",
       "      <td>auto</td>\n",
       "      <td>3</td>\n",
       "      <td>1</td>\n",
       "    </tr>\n",
       "    <tr>\n",
       "      <th>4</th>\n",
       "      <td>Hornet Sportabout</td>\n",
       "      <td>8.0</td>\n",
       "      <td>360.0</td>\n",
       "      <td>175</td>\n",
       "      <td>3.15</td>\n",
       "      <td>3.440</td>\n",
       "      <td>17.02</td>\n",
       "      <td>0</td>\n",
       "      <td>auto</td>\n",
       "      <td>3</td>\n",
       "      <td>2</td>\n",
       "    </tr>\n",
       "  </tbody>\n",
       "</table>\n",
       "</div>"
      ],
      "text/plain": [
       "          Unnamed: 0  cyl   disp   hp  drat     wt   qsec  vs      am gear  \\\n",
       "0          Mazda RX4  6.0  160.0  110  3.90  2.620  16.46   0  manual    4   \n",
       "1      Mazda RX4 Wag  6.0  160.0  110  3.90  2.875  17.02   0  manual    4   \n",
       "2         Datsun 710  4.0  108.0   93  3.85  2.320  18.61   1  manual    4   \n",
       "3     Hornet 4 Drive  6.0  258.0  110  3.08  3.215   0.10   1    auto    3   \n",
       "4  Hornet Sportabout  8.0  360.0  175  3.15  3.440  17.02   0    auto    3   \n",
       "\n",
       "   carb  \n",
       "0     4  \n",
       "1     4  \n",
       "2     1  \n",
       "3     1  \n",
       "4     2  "
      ]
     },
     "execution_count": 13,
     "metadata": {},
     "output_type": "execute_result"
    }
   ],
   "source": [
    "X.head()"
   ]
  },
  {
   "cell_type": "code",
   "execution_count": 14,
   "id": "c26aca2f",
   "metadata": {},
   "outputs": [
    {
     "data": {
      "text/plain": [
       "0    21.0\n",
       "1    21.0\n",
       "2    22.8\n",
       "3    21.4\n",
       "4    18.7\n",
       "Name: mpg, dtype: float64"
      ]
     },
     "execution_count": 14,
     "metadata": {},
     "output_type": "execute_result"
    }
   ],
   "source": [
    "Y.head()"
   ]
  },
  {
   "cell_type": "markdown",
   "id": "a4490c47",
   "metadata": {},
   "source": [
    "- 잘 나눠진 것 같다."
   ]
  },
  {
   "cell_type": "markdown",
   "id": "7cec1367",
   "metadata": {},
   "source": [
    "## 데이터 전처리"
   ]
  },
  {
   "cell_type": "markdown",
   "id": "28dac71a",
   "metadata": {},
   "source": [
    "### `1` 불필요한 열 삭제"
   ]
  },
  {
   "cell_type": "code",
   "execution_count": 15,
   "id": "89edbc65",
   "metadata": {},
   "outputs": [
    {
     "data": {
      "text/html": [
       "<div>\n",
       "<style scoped>\n",
       "    .dataframe tbody tr th:only-of-type {\n",
       "        vertical-align: middle;\n",
       "    }\n",
       "\n",
       "    .dataframe tbody tr th {\n",
       "        vertical-align: top;\n",
       "    }\n",
       "\n",
       "    .dataframe thead th {\n",
       "        text-align: right;\n",
       "    }\n",
       "</style>\n",
       "<table border=\"1\" class=\"dataframe\">\n",
       "  <thead>\n",
       "    <tr style=\"text-align: right;\">\n",
       "      <th></th>\n",
       "      <th>cyl</th>\n",
       "      <th>disp</th>\n",
       "      <th>hp</th>\n",
       "      <th>drat</th>\n",
       "      <th>wt</th>\n",
       "      <th>qsec</th>\n",
       "      <th>vs</th>\n",
       "      <th>am</th>\n",
       "      <th>gear</th>\n",
       "      <th>carb</th>\n",
       "    </tr>\n",
       "  </thead>\n",
       "  <tbody>\n",
       "    <tr>\n",
       "      <th>0</th>\n",
       "      <td>6.0</td>\n",
       "      <td>160.0</td>\n",
       "      <td>110</td>\n",
       "      <td>3.90</td>\n",
       "      <td>2.620</td>\n",
       "      <td>16.46</td>\n",
       "      <td>0</td>\n",
       "      <td>manual</td>\n",
       "      <td>4</td>\n",
       "      <td>4</td>\n",
       "    </tr>\n",
       "    <tr>\n",
       "      <th>1</th>\n",
       "      <td>6.0</td>\n",
       "      <td>160.0</td>\n",
       "      <td>110</td>\n",
       "      <td>3.90</td>\n",
       "      <td>2.875</td>\n",
       "      <td>17.02</td>\n",
       "      <td>0</td>\n",
       "      <td>manual</td>\n",
       "      <td>4</td>\n",
       "      <td>4</td>\n",
       "    </tr>\n",
       "    <tr>\n",
       "      <th>2</th>\n",
       "      <td>4.0</td>\n",
       "      <td>108.0</td>\n",
       "      <td>93</td>\n",
       "      <td>3.85</td>\n",
       "      <td>2.320</td>\n",
       "      <td>18.61</td>\n",
       "      <td>1</td>\n",
       "      <td>manual</td>\n",
       "      <td>4</td>\n",
       "      <td>1</td>\n",
       "    </tr>\n",
       "    <tr>\n",
       "      <th>3</th>\n",
       "      <td>6.0</td>\n",
       "      <td>258.0</td>\n",
       "      <td>110</td>\n",
       "      <td>3.08</td>\n",
       "      <td>3.215</td>\n",
       "      <td>0.10</td>\n",
       "      <td>1</td>\n",
       "      <td>auto</td>\n",
       "      <td>3</td>\n",
       "      <td>1</td>\n",
       "    </tr>\n",
       "    <tr>\n",
       "      <th>4</th>\n",
       "      <td>8.0</td>\n",
       "      <td>360.0</td>\n",
       "      <td>175</td>\n",
       "      <td>3.15</td>\n",
       "      <td>3.440</td>\n",
       "      <td>17.02</td>\n",
       "      <td>0</td>\n",
       "      <td>auto</td>\n",
       "      <td>3</td>\n",
       "      <td>2</td>\n",
       "    </tr>\n",
       "  </tbody>\n",
       "</table>\n",
       "</div>"
      ],
      "text/plain": [
       "   cyl   disp   hp  drat     wt   qsec  vs      am gear  carb\n",
       "0  6.0  160.0  110  3.90  2.620  16.46   0  manual    4     4\n",
       "1  6.0  160.0  110  3.90  2.875  17.02   0  manual    4     4\n",
       "2  4.0  108.0   93  3.85  2.320  18.61   1  manual    4     1\n",
       "3  6.0  258.0  110  3.08  3.215   0.10   1    auto    3     1\n",
       "4  8.0  360.0  175  3.15  3.440  17.02   0    auto    3     2"
      ]
     },
     "execution_count": 15,
     "metadata": {},
     "output_type": "execute_result"
    }
   ],
   "source": [
    "# X변수의 전체 행과 1번열 ~ 맨끝 열까지 추출한 후, X변수에 다시 저장하기\n",
    "X = X.iloc[:,1:]\n",
    "X.head()"
   ]
  },
  {
   "cell_type": "markdown",
   "id": "6a053fec",
   "metadata": {},
   "source": [
    "### `2` 결측값 처리\n",
    "결측치를 처리하는 데는 해당 데이터를 삭제하거나 다른 값으로 바꾸는 방법이 있습니다. 여기서 다른 값으로 바꾸는 데는 전체 데이터의 평균값, 중위값으로 바꾸거나, 해당 데이터와 유사한 값이나 패턴을 참고하여 바꾸는 등, 여러가지 방법이 존재합니다. \n",
    "\n",
    "**<font color='red'>하지만 결측치를 삭제하는 방법은 빅분기 실기 시험에서는 선택해서는 안 됩니다.</font>**\n",
    "\n",
    "그 이유는 주어진 분석 데이터의 개수 그대로 예측 결과를 출력하거나 파일로 제출해야하기 때문입니다."
   ]
  },
  {
   "cell_type": "code",
   "execution_count": 16,
   "id": "f6ec5fdc",
   "metadata": {},
   "outputs": [
    {
     "data": {
      "text/html": [
       "<div>\n",
       "<style scoped>\n",
       "    .dataframe tbody tr th:only-of-type {\n",
       "        vertical-align: middle;\n",
       "    }\n",
       "\n",
       "    .dataframe tbody tr th {\n",
       "        vertical-align: top;\n",
       "    }\n",
       "\n",
       "    .dataframe thead th {\n",
       "        text-align: right;\n",
       "    }\n",
       "</style>\n",
       "<table border=\"1\" class=\"dataframe\">\n",
       "  <thead>\n",
       "    <tr style=\"text-align: right;\">\n",
       "      <th></th>\n",
       "      <th>cyl</th>\n",
       "      <th>disp</th>\n",
       "      <th>hp</th>\n",
       "      <th>drat</th>\n",
       "      <th>wt</th>\n",
       "      <th>qsec</th>\n",
       "      <th>vs</th>\n",
       "      <th>am</th>\n",
       "      <th>gear</th>\n",
       "      <th>carb</th>\n",
       "    </tr>\n",
       "  </thead>\n",
       "  <tbody>\n",
       "    <tr>\n",
       "      <th>0</th>\n",
       "      <td>False</td>\n",
       "      <td>False</td>\n",
       "      <td>False</td>\n",
       "      <td>False</td>\n",
       "      <td>False</td>\n",
       "      <td>False</td>\n",
       "      <td>False</td>\n",
       "      <td>False</td>\n",
       "      <td>False</td>\n",
       "      <td>False</td>\n",
       "    </tr>\n",
       "    <tr>\n",
       "      <th>1</th>\n",
       "      <td>False</td>\n",
       "      <td>False</td>\n",
       "      <td>False</td>\n",
       "      <td>False</td>\n",
       "      <td>False</td>\n",
       "      <td>False</td>\n",
       "      <td>False</td>\n",
       "      <td>False</td>\n",
       "      <td>False</td>\n",
       "      <td>False</td>\n",
       "    </tr>\n",
       "    <tr>\n",
       "      <th>2</th>\n",
       "      <td>False</td>\n",
       "      <td>False</td>\n",
       "      <td>False</td>\n",
       "      <td>False</td>\n",
       "      <td>False</td>\n",
       "      <td>False</td>\n",
       "      <td>False</td>\n",
       "      <td>False</td>\n",
       "      <td>False</td>\n",
       "      <td>False</td>\n",
       "    </tr>\n",
       "  </tbody>\n",
       "</table>\n",
       "</div>"
      ],
      "text/plain": [
       "     cyl   disp     hp   drat     wt   qsec     vs     am   gear   carb\n",
       "0  False  False  False  False  False  False  False  False  False  False\n",
       "1  False  False  False  False  False  False  False  False  False  False\n",
       "2  False  False  False  False  False  False  False  False  False  False"
      ]
     },
     "execution_count": 16,
     "metadata": {},
     "output_type": "execute_result"
    }
   ],
   "source": [
    "# 결측치 여부 확인\n",
    "X.isnull().head(3)"
   ]
  },
  {
   "cell_type": "code",
   "execution_count": 17,
   "id": "b0a55305",
   "metadata": {},
   "outputs": [
    {
     "name": "stdout",
     "output_type": "stream",
     "text": [
      "cyl     2\n",
      "disp    0\n",
      "hp      0\n",
      "drat    0\n",
      "wt      0\n",
      "qsec    1\n",
      "vs      0\n",
      "am      0\n",
      "gear    0\n",
      "carb    0\n",
      "dtype: int64\n"
     ]
    }
   ],
   "source": [
    "print(X.isnull().sum())"
   ]
  },
  {
   "cell_type": "markdown",
   "id": "da955c9e",
   "metadata": {},
   "source": [
    "`cyl`과 `qsec`열에 결측치가 각각 2개, 1개 있음을 확인"
   ]
  },
  {
   "cell_type": "markdown",
   "id": "d6299f89",
   "metadata": {},
   "source": [
    "#### `-` 평균값으로 대치하기 (cyl)"
   ]
  },
  {
   "cell_type": "code",
   "execution_count": 18,
   "id": "ed98f259",
   "metadata": {},
   "outputs": [
    {
     "name": "stdout",
     "output_type": "stream",
     "text": [
      "7.6\n"
     ]
    }
   ],
   "source": [
    "# cyl열의 평균값을 x_cyl_mean 변수에 저장\n",
    "X_cyl_mean = X['cyl'].mean()\n",
    "\n",
    "# X_cyl_mean 변수 확인\n",
    "print(X_cyl_mean)"
   ]
  },
  {
   "cell_type": "code",
   "execution_count": 19,
   "id": "be4b584f",
   "metadata": {},
   "outputs": [],
   "source": [
    "# 평균값으로 cyl 결측치 대치\n",
    "X['cyl'] = X['cyl'].fillna(X_cyl_mean)"
   ]
  },
  {
   "cell_type": "code",
   "execution_count": 20,
   "id": "bcd0dea8",
   "metadata": {},
   "outputs": [
    {
     "data": {
      "text/plain": [
       "cyl     0\n",
       "disp    0\n",
       "hp      0\n",
       "drat    0\n",
       "wt      0\n",
       "qsec    1\n",
       "vs      0\n",
       "am      0\n",
       "gear    0\n",
       "carb    0\n",
       "dtype: int64"
      ]
     },
     "execution_count": 20,
     "metadata": {},
     "output_type": "execute_result"
    }
   ],
   "source": [
    "X.isnull().sum()"
   ]
  },
  {
   "cell_type": "markdown",
   "id": "465b7485",
   "metadata": {},
   "source": [
    "- `cyl`의 결측값이 잘 처리된 것을 확인할 수 있다."
   ]
  },
  {
   "cell_type": "markdown",
   "id": "04871d1c",
   "metadata": {},
   "source": [
    "#### `-` 중위값으로 대치하기 (qsec)"
   ]
  },
  {
   "cell_type": "code",
   "execution_count": 21,
   "id": "bdbc3733",
   "metadata": {},
   "outputs": [
    {
     "data": {
      "text/plain": [
       "17.6"
      ]
     },
     "execution_count": 21,
     "metadata": {},
     "output_type": "execute_result"
    }
   ],
   "source": [
    "# qsec열의 중위값을 X_qsec_median 변수에 저장하기\n",
    "X_qsec_median = X['qsec'].median()\n",
    "\n",
    "# X1_qsec_median\n",
    "X_qsec_median"
   ]
  },
  {
   "cell_type": "code",
   "execution_count": 22,
   "id": "6c64da80",
   "metadata": {},
   "outputs": [],
   "source": [
    "# 중앙값으로 qsec 결측치 대치\n",
    "X['qsec'] = X['qsec'].fillna(X_qsec_median)"
   ]
  },
  {
   "cell_type": "code",
   "execution_count": 23,
   "id": "38c72e77",
   "metadata": {
    "scrolled": true
   },
   "outputs": [
    {
     "data": {
      "text/plain": [
       "cyl     0\n",
       "disp    0\n",
       "hp      0\n",
       "drat    0\n",
       "wt      0\n",
       "qsec    0\n",
       "vs      0\n",
       "am      0\n",
       "gear    0\n",
       "carb    0\n",
       "dtype: int64"
      ]
     },
     "execution_count": 23,
     "metadata": {},
     "output_type": "execute_result"
    }
   ],
   "source": [
    "X.isnull().sum()"
   ]
  },
  {
   "cell_type": "markdown",
   "id": "d80664dd",
   "metadata": {},
   "source": [
    "- 결측치가 모두 처리되었다. cyl은 평균으로 결측값을 대치하였고, qsec는 중앙값으로 결측치를 대치하였다."
   ]
  },
  {
   "cell_type": "markdown",
   "id": "0af21f4c",
   "metadata": {},
   "source": [
    "### `3` 잘못된 값을 올바르게 변경"
   ]
  },
  {
   "cell_type": "markdown",
   "id": "7526b1ae",
   "metadata": {},
   "source": [
    "gear열에 의도치 않은 특수문자가 포함되어 있고, 데이터 타입 또한 object로 인식됨을 알 수 있다."
   ]
  },
  {
   "cell_type": "code",
   "execution_count": 24,
   "id": "85970ee8",
   "metadata": {},
   "outputs": [
    {
     "data": {
      "text/plain": [
       "array(['4', '3', '*3', '5', '*5'], dtype=object)"
      ]
     },
     "execution_count": 24,
     "metadata": {},
     "output_type": "execute_result"
    }
   ],
   "source": [
    "X['gear'].unique()"
   ]
  },
  {
   "cell_type": "code",
   "execution_count": 25,
   "id": "e90fca7f",
   "metadata": {},
   "outputs": [
    {
     "data": {
      "text/plain": [
       "3     14\n",
       "4     12\n",
       "5      4\n",
       "*3     1\n",
       "*5     1\n",
       "Name: gear, dtype: int64"
      ]
     },
     "execution_count": 25,
     "metadata": {},
     "output_type": "execute_result"
    }
   ],
   "source": [
    "X['gear'].value_counts()"
   ]
  },
  {
   "cell_type": "markdown",
   "id": "f3c31b64",
   "metadata": {},
   "source": [
    "- `*3`, `*5`  잘못들어간 애들..!\n",
    "- $*3 \\to 3, *5 \\to 5$ 로 수정하자. (2개만 처리하면 될 듯하다..)"
   ]
  },
  {
   "cell_type": "code",
   "execution_count": 26,
   "id": "e86188a0",
   "metadata": {},
   "outputs": [
    {
     "data": {
      "text/plain": [
       "3    15\n",
       "4    12\n",
       "5     5\n",
       "Name: gear, dtype: int64"
      ]
     },
     "execution_count": 26,
     "metadata": {},
     "output_type": "execute_result"
    }
   ],
   "source": [
    "X['gear'] = X['gear'].replace('*3','3').replace('*5','5')\n",
    "X['gear'].value_counts()"
   ]
  },
  {
   "cell_type": "markdown",
   "id": "245ce30e",
   "metadata": {},
   "source": [
    "- 잘 변환되었다..ㅎㅎ"
   ]
  },
  {
   "cell_type": "markdown",
   "id": "8d782dca",
   "metadata": {},
   "source": [
    "### `4` 이상값 처리"
   ]
  },
  {
   "cell_type": "markdown",
   "id": "d5b87d5e",
   "metadata": {},
   "source": [
    "이상값은 정상적인 데이터의 범위를 넘어서는 비정상인 값으로, data scaling보다 선행되어야 한다. data scaling 이후에 이상값을 처리한다면, 데이터의 분포가 왜곡되거나 데이터 스케일링의 수행이 다시 필요할수도 있다.\n",
    "\n",
    "**빅분기 시험에서는 이상값의 처리방식을 데이터 삭제가 아닌 다른 값으로 교체할 것을 추천한다.**\n",
    "\n",
    "만약, 이상값을 제거하라고 명시되어있다면, 문제의 요구대로 처리하면 된다."
   ]
  },
  {
   "cell_type": "markdown",
   "id": "822f3890",
   "metadata": {},
   "source": [
    "#### `-` 사분위수 활용\n",
    "\n",
    "\n",
    "왼쪽에 위치한 이상값 (작은) : $Q1 - 1.5 * IQR$ <br>\n",
    "오른쪽에 위치한 이상값 (큰) : $Q3 + 1.5 * IQR$"
   ]
  },
  {
   "cell_type": "code",
   "execution_count": 27,
   "id": "fe3677eb",
   "metadata": {},
   "outputs": [
    {
     "name": "stdout",
     "output_type": "stream",
     "text": [
      "             cyl        disp          hp       drat         wt        qsec  \\\n",
      "count  32.000000   32.000000   32.000000  32.000000  32.000000   32.000000   \n",
      "mean    7.600000  230.721875  146.687500   3.596563   3.217250   19.795938   \n",
      "std     7.925459  123.938694   68.562868   0.534679   0.978457   15.066831   \n",
      "min     4.000000   71.100000   52.000000   2.760000   1.513000    0.100000   \n",
      "25%     4.000000  120.825000   96.500000   3.080000   2.581250   16.827500   \n",
      "50%     6.000000  196.300000  123.000000   3.695000   3.325000   17.600000   \n",
      "75%     8.000000  326.000000  180.000000   3.920000   3.610000   18.682500   \n",
      "max    50.000000  472.000000  335.000000   4.930000   5.424000  100.000000   \n",
      "\n",
      "              vs     carb  \n",
      "count  32.000000  32.0000  \n",
      "mean    0.437500   2.8125  \n",
      "std     0.504016   1.6152  \n",
      "min     0.000000   1.0000  \n",
      "25%     0.000000   2.0000  \n",
      "50%     0.000000   2.0000  \n",
      "75%     1.000000   4.0000  \n",
      "max     1.000000   8.0000  \n"
     ]
    }
   ],
   "source": [
    "X_describe = X.describe()\n",
    "print(X_describe)"
   ]
  },
  {
   "cell_type": "code",
   "execution_count": 28,
   "id": "12ae1fff",
   "metadata": {},
   "outputs": [
    {
     "name": "stdout",
     "output_type": "stream",
     "text": [
      "cyl       8.0000\n",
      "disp    326.0000\n",
      "hp      180.0000\n",
      "drat      3.9200\n",
      "wt        3.6100\n",
      "qsec     18.6825\n",
      "vs        1.0000\n",
      "carb      4.0000\n",
      "Name: 75%, dtype: float64 cyl       4.00000\n",
      "disp    120.82500\n",
      "hp       96.50000\n",
      "drat      3.08000\n",
      "wt        2.58125\n",
      "qsec     16.82750\n",
      "vs        0.00000\n",
      "carb      2.00000\n",
      "Name: 25%, dtype: float64\n"
     ]
    }
   ],
   "source": [
    "# X_describe 변수에서 75% 행과 25%행 확인\n",
    "print(X_describe.loc['75%'],X_describe.loc['25%'])"
   ]
  },
  {
   "cell_type": "code",
   "execution_count": 29,
   "id": "8847a0d3",
   "metadata": {},
   "outputs": [
    {
     "name": "stdout",
     "output_type": "stream",
     "text": [
      "cyl       4.00000\n",
      "disp    205.17500\n",
      "hp       83.50000\n",
      "drat      0.84000\n",
      "wt        1.02875\n",
      "qsec      1.85500\n",
      "vs        1.00000\n",
      "carb      2.00000\n",
      "dtype: float64\n"
     ]
    }
   ],
   "source": [
    "x_iqr = X_describe.loc['75%'] - X_describe.loc['25%']\n",
    "\n",
    "print(x_iqr)"
   ]
  },
  {
   "cell_type": "code",
   "execution_count": 30,
   "id": "0abcf977",
   "metadata": {},
   "outputs": [
    {
     "name": "stdout",
     "output_type": "stream",
     "text": [
      "[ q3 + 1.5 * iqr ]\n",
      "cyl      14.000000\n",
      "disp    633.762500\n",
      "hp      305.250000\n",
      "drat      5.180000\n",
      "wt        5.153125\n",
      "qsec     21.465000\n",
      "vs        2.500000\n",
      "carb      7.000000\n",
      "dtype: float64\n",
      "\n",
      "[ q1 - 1.5 * iqr ]\n",
      "cyl      -2.000000\n",
      "disp   -186.937500\n",
      "hp      -28.750000\n",
      "drat      1.820000\n",
      "wt        1.038125\n",
      "qsec     14.045000\n",
      "vs       -1.500000\n",
      "carb     -1.000000\n",
      "dtype: float64\n"
     ]
    }
   ],
   "source": [
    "print('[ q3 + 1.5 * iqr ]')\n",
    "print(X_describe.loc['75%'] + (1.5 * x_iqr))\n",
    "print()\n",
    "print('[ q1 - 1.5 * iqr ]')\n",
    "print(X_describe.loc['25%'] - (1.5 * x_iqr))"
   ]
  },
  {
   "cell_type": "code",
   "execution_count": 31,
   "id": "21127020",
   "metadata": {},
   "outputs": [
    {
     "name": "stdout",
     "output_type": "stream",
     "text": [
      "cyl      50.000\n",
      "disp    472.000\n",
      "hp      335.000\n",
      "drat      4.930\n",
      "wt        5.424\n",
      "qsec    100.000\n",
      "vs        1.000\n",
      "carb      8.000\n",
      "Name: max, dtype: float64\n",
      "\n",
      "cyl      4.000\n",
      "disp    71.100\n",
      "hp      52.000\n",
      "drat     2.760\n",
      "wt       1.513\n",
      "qsec     0.100\n",
      "vs       0.000\n",
      "carb     1.000\n",
      "Name: min, dtype: float64\n"
     ]
    }
   ],
   "source": [
    "print(X_describe.loc['max'])\n",
    "print()\n",
    "print(X_describe.loc['min'])"
   ]
  },
  {
   "cell_type": "code",
   "execution_count": 32,
   "id": "b8b3fe9b",
   "metadata": {},
   "outputs": [
    {
     "data": {
      "text/plain": [
       "cyl      True\n",
       "disp    False\n",
       "hp       True\n",
       "drat    False\n",
       "wt       True\n",
       "qsec     True\n",
       "vs      False\n",
       "carb     True\n",
       "dtype: bool"
      ]
     },
     "execution_count": 32,
     "metadata": {},
     "output_type": "execute_result"
    }
   ],
   "source": [
    "X_describe.loc['max'] > X_describe.loc['75%'] + (1.5 * x_iqr)"
   ]
  },
  {
   "cell_type": "code",
   "execution_count": 33,
   "id": "b7988496",
   "metadata": {},
   "outputs": [
    {
     "data": {
      "text/plain": [
       "cyl     False\n",
       "disp    False\n",
       "hp      False\n",
       "drat    False\n",
       "wt      False\n",
       "qsec     True\n",
       "vs      False\n",
       "carb    False\n",
       "dtype: bool"
      ]
     },
     "execution_count": 33,
     "metadata": {},
     "output_type": "execute_result"
    }
   ],
   "source": [
    "X_describe.loc['min'] < X_describe.loc['25%'] - (1.5 * x_iqr)"
   ]
  },
  {
   "cell_type": "markdown",
   "id": "addeae77",
   "metadata": {},
   "source": [
    "- `cyl`, `hp`, `wt`, `qsec`, `carb` 변수에 대해서 이상치를 처리해주면 되겠다.."
   ]
  },
  {
   "cell_type": "code",
   "execution_count": 34,
   "id": "cad1c73b",
   "metadata": {},
   "outputs": [
    {
     "data": {
      "text/html": [
       "<div>\n",
       "<style scoped>\n",
       "    .dataframe tbody tr th:only-of-type {\n",
       "        vertical-align: middle;\n",
       "    }\n",
       "\n",
       "    .dataframe tbody tr th {\n",
       "        vertical-align: top;\n",
       "    }\n",
       "\n",
       "    .dataframe thead th {\n",
       "        text-align: right;\n",
       "    }\n",
       "</style>\n",
       "<table border=\"1\" class=\"dataframe\">\n",
       "  <thead>\n",
       "    <tr style=\"text-align: right;\">\n",
       "      <th></th>\n",
       "      <th>cyl</th>\n",
       "      <th>disp</th>\n",
       "      <th>hp</th>\n",
       "      <th>drat</th>\n",
       "      <th>wt</th>\n",
       "      <th>qsec</th>\n",
       "      <th>vs</th>\n",
       "      <th>am</th>\n",
       "      <th>gear</th>\n",
       "      <th>carb</th>\n",
       "    </tr>\n",
       "  </thead>\n",
       "  <tbody>\n",
       "    <tr>\n",
       "      <th>14</th>\n",
       "      <td>50.0</td>\n",
       "      <td>472.0</td>\n",
       "      <td>205</td>\n",
       "      <td>2.93</td>\n",
       "      <td>5.25</td>\n",
       "      <td>17.98</td>\n",
       "      <td>0</td>\n",
       "      <td>auto</td>\n",
       "      <td>3</td>\n",
       "      <td>4</td>\n",
       "    </tr>\n",
       "  </tbody>\n",
       "</table>\n",
       "</div>"
      ],
      "text/plain": [
       "     cyl   disp   hp  drat    wt   qsec  vs    am gear  carb\n",
       "14  50.0  472.0  205  2.93  5.25  17.98   0  auto    3     4"
      ]
     },
     "execution_count": 34,
     "metadata": {},
     "output_type": "execute_result"
    }
   ],
   "source": [
    "# cyl\n",
    "X.loc[X['cyl'] > 14]"
   ]
  },
  {
   "cell_type": "code",
   "execution_count": 35,
   "id": "c11ef5ed",
   "metadata": {},
   "outputs": [
    {
     "data": {
      "text/html": [
       "<div>\n",
       "<style scoped>\n",
       "    .dataframe tbody tr th:only-of-type {\n",
       "        vertical-align: middle;\n",
       "    }\n",
       "\n",
       "    .dataframe tbody tr th {\n",
       "        vertical-align: top;\n",
       "    }\n",
       "\n",
       "    .dataframe thead th {\n",
       "        text-align: right;\n",
       "    }\n",
       "</style>\n",
       "<table border=\"1\" class=\"dataframe\">\n",
       "  <thead>\n",
       "    <tr style=\"text-align: right;\">\n",
       "      <th></th>\n",
       "      <th>cyl</th>\n",
       "      <th>disp</th>\n",
       "      <th>hp</th>\n",
       "      <th>drat</th>\n",
       "      <th>wt</th>\n",
       "      <th>qsec</th>\n",
       "      <th>vs</th>\n",
       "      <th>am</th>\n",
       "      <th>gear</th>\n",
       "      <th>carb</th>\n",
       "    </tr>\n",
       "  </thead>\n",
       "  <tbody>\n",
       "    <tr>\n",
       "      <th>30</th>\n",
       "      <td>8.0</td>\n",
       "      <td>301.0</td>\n",
       "      <td>335</td>\n",
       "      <td>3.54</td>\n",
       "      <td>3.57</td>\n",
       "      <td>14.6</td>\n",
       "      <td>0</td>\n",
       "      <td>manual</td>\n",
       "      <td>5</td>\n",
       "      <td>8</td>\n",
       "    </tr>\n",
       "  </tbody>\n",
       "</table>\n",
       "</div>"
      ],
      "text/plain": [
       "    cyl   disp   hp  drat    wt  qsec  vs      am gear  carb\n",
       "30  8.0  301.0  335  3.54  3.57  14.6   0  manual    5     8"
      ]
     },
     "execution_count": 35,
     "metadata": {},
     "output_type": "execute_result"
    }
   ],
   "source": [
    "# hp\n",
    "X.loc[X['hp'] > 305.25]"
   ]
  },
  {
   "cell_type": "code",
   "execution_count": 36,
   "id": "eda954d7",
   "metadata": {},
   "outputs": [],
   "source": [
    "X.loc[14, 'cyl'] = 14\n",
    "X.loc[30, 'hp'] = 305.25"
   ]
  },
  {
   "cell_type": "code",
   "execution_count": 37,
   "id": "bd601578",
   "metadata": {},
   "outputs": [
    {
     "name": "stdout",
     "output_type": "stream",
     "text": [
      "14.0 305.25\n"
     ]
    }
   ],
   "source": [
    "print(X.loc[14, 'cyl'],X.loc[30, 'hp'])"
   ]
  },
  {
   "cell_type": "markdown",
   "id": "f66beb75",
   "metadata": {},
   "source": [
    "#### `-` 평균과 표준편차 활용\n",
    "\n",
    "$\\text{최대 경계값} =  \\text{평균} + 1.5 * \\text{표준편차}$<br>\n",
    "$\\text{최소 경계값} =  \\text{평균} - 1.5 * \\text{표준편차}$"
   ]
  },
  {
   "cell_type": "code",
   "execution_count": 38,
   "id": "8b9020c1",
   "metadata": {},
   "outputs": [],
   "source": [
    "def outlier(data, column):\n",
    "    mean = data[column].mean()\n",
    "    std = data[column].std()\n",
    "    lowest = mean - (std * 1.5)\n",
    "    highest = mean + (std * 1.5)\n",
    "    print('최소 경계값: ', lowest, '최대경계값:', highest)\n",
    "    outlier_index = data[column][(data[column]<lowest) | (data[column] > highest) ].index\n",
    "    return outlier_index"
   ]
  },
  {
   "cell_type": "code",
   "execution_count": 39,
   "id": "0d72ddde",
   "metadata": {},
   "outputs": [
    {
     "name": "stdout",
     "output_type": "stream",
     "text": [
      "최소 경계값:  -2.8043094560577657 최대경계값: 42.39618445605777\n",
      "Int64Index([24], dtype='int64')\n",
      "\n",
      "100.0\n"
     ]
    }
   ],
   "source": [
    "print(outlier(X,'qsec'))\n",
    "print()\n",
    "print(X.loc[24,'qsec'])"
   ]
  },
  {
   "cell_type": "code",
   "execution_count": 40,
   "id": "50e4588e",
   "metadata": {},
   "outputs": [
    {
     "data": {
      "text/plain": [
       "42.245"
      ]
     },
     "execution_count": 40,
     "metadata": {},
     "output_type": "execute_result"
    }
   ],
   "source": [
    "X.loc[24, 'qsec'] = 42.245\n",
    "X.loc[24, 'qsec']"
   ]
  },
  {
   "cell_type": "code",
   "execution_count": 41,
   "id": "361d0681",
   "metadata": {},
   "outputs": [
    {
     "name": "stdout",
     "output_type": "stream",
     "text": [
      "최소 경계값:  0.3897000335522218 최대경계값: 5.235299966447778\n",
      "Int64Index([29, 30], dtype='int64')\n",
      "\n",
      "29    6\n",
      "30    8\n",
      "Name: carb, dtype: int64\n"
     ]
    }
   ],
   "source": [
    "# carb\n",
    "print(outlier(X,'carb'))\n",
    "print()\n",
    "print(X.loc[[29,30],'carb'])"
   ]
  },
  {
   "cell_type": "code",
   "execution_count": 42,
   "id": "4fb0f73b",
   "metadata": {},
   "outputs": [
    {
     "data": {
      "text/plain": [
       "29    5.235\n",
       "30    5.235\n",
       "Name: carb, dtype: float64"
      ]
     },
     "execution_count": 42,
     "metadata": {},
     "output_type": "execute_result"
    }
   ],
   "source": [
    "# 인덱스 29, 30이고, 열은 carb인 값을 5.245로 변경\n",
    "X.loc[29, 'carb'] = 5.235\n",
    "X.loc[30, 'carb'] = 5.235\n",
    "\n",
    "X.loc[[29,30], 'carb']"
   ]
  },
  {
   "cell_type": "markdown",
   "id": "4135cc86",
   "metadata": {},
   "source": [
    "### `5`데이터를 동일한 범위로 맞추기 : 데이터 스케일링\n",
    "- Standard Scaling\n",
    "- Min-Max Scaling\n",
    "- Robust Scaling"
   ]
  },
  {
   "cell_type": "code",
   "execution_count": 43,
   "id": "2cb6c443",
   "metadata": {},
   "outputs": [
    {
     "data": {
      "text/plain": [
       "array([[-0.27330047],\n",
       "       [-0.17334038],\n",
       "       [ 0.11047486],\n",
       "       [-3.19356296]])"
      ]
     },
     "execution_count": 43,
     "metadata": {},
     "output_type": "execute_result"
    }
   ],
   "source": [
    "from sklearn.preprocessing import StandardScaler\n",
    "\n",
    "temp = X[['qsec']]\n",
    "scaler = StandardScaler()\n",
    "scaler.fit_transform(temp)[:4]"
   ]
  },
  {
   "cell_type": "code",
   "execution_count": 44,
   "id": "64b877fe",
   "metadata": {},
   "outputs": [
    {
     "name": "stdout",
     "output_type": "stream",
     "text": [
      "                  0\n",
      "count  3.200000e+01\n",
      "mean  -2.207436e-16\n",
      "std    1.016001e+00\n",
      "min   -3.193563e+00\n",
      "25%   -2.077017e-01\n",
      "50%   -6.981029e-02\n",
      "75%    1.234161e-01\n",
      "max    4.329326e+00\n"
     ]
    }
   ],
   "source": [
    "qsec_s_scaler = pd.DataFrame(scaler.fit_transform(temp))\n",
    "\n",
    "print(qsec_s_scaler.describe())"
   ]
  },
  {
   "cell_type": "code",
   "execution_count": 45,
   "id": "98598294",
   "metadata": {},
   "outputs": [
    {
     "name": "stdout",
     "output_type": "stream",
     "text": [
      "               0\n",
      "count  32.000000\n",
      "mean    0.424513\n",
      "std     0.135055\n",
      "min     0.000000\n",
      "25%     0.396904\n",
      "50%     0.415233\n",
      "75%     0.440918\n",
      "max     1.000000\n"
     ]
    }
   ],
   "source": [
    "# mIn-max\n",
    "from sklearn.preprocessing import MinMaxScaler\n",
    "\n",
    "temp = X[['qsec']]\n",
    "scaler = MinMaxScaler()\n",
    "qsec_m_scaler = pd.DataFrame(scaler.fit_transform(temp))\n",
    "\n",
    "print(qsec_m_scaler.describe())"
   ]
  },
  {
   "cell_type": "code",
   "execution_count": 46,
   "id": "2a2b9c56",
   "metadata": {},
   "outputs": [
    {
     "name": "stdout",
     "output_type": "stream",
     "text": [
      "               0\n",
      "count  32.000000\n",
      "mean    0.210832\n",
      "std     3.068398\n",
      "min    -9.433962\n",
      "25%    -0.416442\n",
      "50%     0.000000\n",
      "75%     0.583558\n",
      "max    13.285714\n"
     ]
    }
   ],
   "source": [
    "# robust : 중앙값이 0, 사분위범위(IQR)가 1인 분포로 변환\n",
    "from sklearn.preprocessing import RobustScaler\n",
    "\n",
    "temp = X[['qsec']]\n",
    "scaler = RobustScaler()\n",
    "\n",
    "qsec_r_scaler = pd.DataFrame(scaler.fit_transform(temp))\n",
    "print(qsec_r_scaler.describe())"
   ]
  },
  {
   "cell_type": "markdown",
   "id": "ca9a39e1",
   "metadata": {},
   "source": [
    "### `6` 데이터 타입 변경\n",
    "X 데이터의 요약정보를 통해서 각 열별로 범주형 변수의 데이터 타입(object, string)과 연속형 변수의 데이터 타입(int64, float64)으로 적합하게 설정되어 있는지 확인합니다. 만약 범주형 변수가 연속형 타입으로 되어있거나, 그 반대의 경우가 있다면 `astype()` 함수를 통해서 데이터 타입을 재설정 합니다."
   ]
  },
  {
   "cell_type": "code",
   "execution_count": 47,
   "id": "5daca77c",
   "metadata": {},
   "outputs": [
    {
     "name": "stdout",
     "output_type": "stream",
     "text": [
      "<class 'pandas.core.frame.DataFrame'>\n",
      "RangeIndex: 32 entries, 0 to 31\n",
      "Data columns (total 10 columns):\n",
      " #   Column  Non-Null Count  Dtype  \n",
      "---  ------  --------------  -----  \n",
      " 0   cyl     32 non-null     float64\n",
      " 1   disp    32 non-null     float64\n",
      " 2   hp      32 non-null     float64\n",
      " 3   drat    32 non-null     float64\n",
      " 4   wt      32 non-null     float64\n",
      " 5   qsec    32 non-null     float64\n",
      " 6   vs      32 non-null     int64  \n",
      " 7   am      32 non-null     object \n",
      " 8   gear    32 non-null     object \n",
      " 9   carb    32 non-null     float64\n",
      "dtypes: float64(7), int64(1), object(2)\n",
      "memory usage: 2.6+ KB\n",
      "None\n"
     ]
    }
   ],
   "source": [
    "print(X.info())"
   ]
  },
  {
   "cell_type": "code",
   "execution_count": 48,
   "id": "19e467c2",
   "metadata": {},
   "outputs": [
    {
     "data": {
      "text/plain": [
       "3    15\n",
       "4    12\n",
       "5     5\n",
       "Name: gear, dtype: int64"
      ]
     },
     "execution_count": 48,
     "metadata": {},
     "output_type": "execute_result"
    }
   ],
   "source": [
    "X['gear'].value_counts()"
   ]
  },
  {
   "cell_type": "markdown",
   "id": "fdcdde42",
   "metadata": {},
   "source": [
    "- 확인 결과 전진기어 개수를 의미하는 `gear` 열이 object 타입으로 설정되어 있음을 확인할 수 있다. 따라서 수치형 (int64)으로 변경"
   ]
  },
  {
   "cell_type": "markdown",
   "id": "ef16777e",
   "metadata": {},
   "source": [
    "### `7` 문자로 구성된 범주형 데이터를 숫자형으로 변경"
   ]
  },
  {
   "cell_type": "code",
   "execution_count": 49,
   "id": "c1840399",
   "metadata": {},
   "outputs": [
    {
     "data": {
      "text/plain": [
       "dtype('int64')"
      ]
     },
     "execution_count": 49,
     "metadata": {},
     "output_type": "execute_result"
    }
   ],
   "source": [
    "X['gear'] = X['gear'].astype('int64')\n",
    "X['gear'].dtype"
   ]
  },
  {
   "cell_type": "markdown",
   "id": "5a226fae",
   "metadata": {},
   "source": [
    "#### 범주형을 수치형으로 변경 : 인코딩(Encoding)\n",
    "데이터 분석은 컴퓨터에 의해 수행되기 때문에, 주어진 데이터는 컴퓨터가 이해할 수 있는 값이어야 합니다. 따라서 한글이나 영문 등의 문자열 데이터는 컴퓨터가 이해하기 어려우므로 숫자형으로 변경해야 합니다. 이러한 과정을 **인코딩** 이라고 합니다.\n",
    "- One-Hot Encoding\n",
    "- Label Encoding\n",
    "- 수동 인코딩 (Replace)"
   ]
  },
  {
   "cell_type": "markdown",
   "id": "811be584",
   "metadata": {},
   "source": [
    "#### `-` 원-핫 인코딩"
   ]
  },
  {
   "cell_type": "code",
   "execution_count": 50,
   "id": "08d4edd9",
   "metadata": {},
   "outputs": [
    {
     "name": "stdout",
     "output_type": "stream",
     "text": [
      "   cyl   disp     hp  drat     wt   qsec  vs      am  gear  carb\n",
      "0  6.0  160.0  110.0  3.90  2.620  16.46   0  manual     4   4.0\n",
      "1  6.0  160.0  110.0  3.90  2.875  17.02   0  manual     4   4.0\n",
      "2  4.0  108.0   93.0  3.85  2.320  18.61   1  manual     4   1.0\n",
      "3  6.0  258.0  110.0  3.08  3.215   0.10   1    auto     3   1.0\n",
      "4  8.0  360.0  175.0  3.15  3.440  17.02   0    auto     3   2.0\n",
      "\n",
      "['manual' 'auto']\n"
     ]
    }
   ],
   "source": [
    "# one-hot\n",
    "print(X.head())\n",
    "print()\n",
    "# am열에서 중복 제거한 값 확인\n",
    "print(X['am'].unique())"
   ]
  },
  {
   "cell_type": "code",
   "execution_count": 51,
   "id": "1490fc6f",
   "metadata": {},
   "outputs": [
    {
     "data": {
      "text/html": [
       "<div>\n",
       "<style scoped>\n",
       "    .dataframe tbody tr th:only-of-type {\n",
       "        vertical-align: middle;\n",
       "    }\n",
       "\n",
       "    .dataframe tbody tr th {\n",
       "        vertical-align: top;\n",
       "    }\n",
       "\n",
       "    .dataframe thead th {\n",
       "        text-align: right;\n",
       "    }\n",
       "</style>\n",
       "<table border=\"1\" class=\"dataframe\">\n",
       "  <thead>\n",
       "    <tr style=\"text-align: right;\">\n",
       "      <th></th>\n",
       "      <th>auto</th>\n",
       "      <th>manual</th>\n",
       "    </tr>\n",
       "  </thead>\n",
       "  <tbody>\n",
       "    <tr>\n",
       "      <th>0</th>\n",
       "      <td>0</td>\n",
       "      <td>1</td>\n",
       "    </tr>\n",
       "    <tr>\n",
       "      <th>1</th>\n",
       "      <td>0</td>\n",
       "      <td>1</td>\n",
       "    </tr>\n",
       "    <tr>\n",
       "      <th>2</th>\n",
       "      <td>0</td>\n",
       "      <td>1</td>\n",
       "    </tr>\n",
       "    <tr>\n",
       "      <th>3</th>\n",
       "      <td>1</td>\n",
       "      <td>0</td>\n",
       "    </tr>\n",
       "    <tr>\n",
       "      <th>4</th>\n",
       "      <td>1</td>\n",
       "      <td>0</td>\n",
       "    </tr>\n",
       "  </tbody>\n",
       "</table>\n",
       "</div>"
      ],
      "text/plain": [
       "   auto  manual\n",
       "0     0       1\n",
       "1     0       1\n",
       "2     0       1\n",
       "3     1       0\n",
       "4     1       0"
      ]
     },
     "execution_count": 51,
     "metadata": {},
     "output_type": "execute_result"
    }
   ],
   "source": [
    "pd.get_dummies(X['am']).head()"
   ]
  },
  {
   "cell_type": "markdown",
   "id": "d82137bc",
   "metadata": {},
   "source": [
    "`-` 하나의 열만으로 auto, manual 값 표현하려면? $\\to$ `drop_first=True` 옵션추가"
   ]
  },
  {
   "cell_type": "code",
   "execution_count": 52,
   "id": "83864c7d",
   "metadata": {},
   "outputs": [
    {
     "data": {
      "text/html": [
       "<div>\n",
       "<style scoped>\n",
       "    .dataframe tbody tr th:only-of-type {\n",
       "        vertical-align: middle;\n",
       "    }\n",
       "\n",
       "    .dataframe tbody tr th {\n",
       "        vertical-align: top;\n",
       "    }\n",
       "\n",
       "    .dataframe thead th {\n",
       "        text-align: right;\n",
       "    }\n",
       "</style>\n",
       "<table border=\"1\" class=\"dataframe\">\n",
       "  <thead>\n",
       "    <tr style=\"text-align: right;\">\n",
       "      <th></th>\n",
       "      <th>manual</th>\n",
       "    </tr>\n",
       "  </thead>\n",
       "  <tbody>\n",
       "    <tr>\n",
       "      <th>0</th>\n",
       "      <td>1</td>\n",
       "    </tr>\n",
       "    <tr>\n",
       "      <th>1</th>\n",
       "      <td>1</td>\n",
       "    </tr>\n",
       "    <tr>\n",
       "      <th>2</th>\n",
       "      <td>1</td>\n",
       "    </tr>\n",
       "    <tr>\n",
       "      <th>3</th>\n",
       "      <td>0</td>\n",
       "    </tr>\n",
       "    <tr>\n",
       "      <th>4</th>\n",
       "      <td>0</td>\n",
       "    </tr>\n",
       "  </tbody>\n",
       "</table>\n",
       "</div>"
      ],
      "text/plain": [
       "   manual\n",
       "0       1\n",
       "1       1\n",
       "2       1\n",
       "3       0\n",
       "4       0"
      ]
     },
     "execution_count": 52,
     "metadata": {},
     "output_type": "execute_result"
    }
   ],
   "source": [
    "pd.get_dummies(X['am'], drop_first=True).head()"
   ]
  },
  {
   "cell_type": "code",
   "execution_count": 53,
   "id": "a47fff98",
   "metadata": {},
   "outputs": [
    {
     "data": {
      "text/html": [
       "<div>\n",
       "<style scoped>\n",
       "    .dataframe tbody tr th:only-of-type {\n",
       "        vertical-align: middle;\n",
       "    }\n",
       "\n",
       "    .dataframe tbody tr th {\n",
       "        vertical-align: top;\n",
       "    }\n",
       "\n",
       "    .dataframe thead th {\n",
       "        text-align: right;\n",
       "    }\n",
       "</style>\n",
       "<table border=\"1\" class=\"dataframe\">\n",
       "  <thead>\n",
       "    <tr style=\"text-align: right;\">\n",
       "      <th></th>\n",
       "      <th>cyl</th>\n",
       "      <th>disp</th>\n",
       "      <th>hp</th>\n",
       "      <th>drat</th>\n",
       "      <th>wt</th>\n",
       "      <th>qsec</th>\n",
       "      <th>vs</th>\n",
       "      <th>gear</th>\n",
       "      <th>carb</th>\n",
       "      <th>am_manual</th>\n",
       "    </tr>\n",
       "  </thead>\n",
       "  <tbody>\n",
       "    <tr>\n",
       "      <th>0</th>\n",
       "      <td>6.0</td>\n",
       "      <td>160.0</td>\n",
       "      <td>110.0</td>\n",
       "      <td>3.90</td>\n",
       "      <td>2.620</td>\n",
       "      <td>16.46</td>\n",
       "      <td>0</td>\n",
       "      <td>4</td>\n",
       "      <td>4.0</td>\n",
       "      <td>1</td>\n",
       "    </tr>\n",
       "    <tr>\n",
       "      <th>1</th>\n",
       "      <td>6.0</td>\n",
       "      <td>160.0</td>\n",
       "      <td>110.0</td>\n",
       "      <td>3.90</td>\n",
       "      <td>2.875</td>\n",
       "      <td>17.02</td>\n",
       "      <td>0</td>\n",
       "      <td>4</td>\n",
       "      <td>4.0</td>\n",
       "      <td>1</td>\n",
       "    </tr>\n",
       "    <tr>\n",
       "      <th>2</th>\n",
       "      <td>4.0</td>\n",
       "      <td>108.0</td>\n",
       "      <td>93.0</td>\n",
       "      <td>3.85</td>\n",
       "      <td>2.320</td>\n",
       "      <td>18.61</td>\n",
       "      <td>1</td>\n",
       "      <td>4</td>\n",
       "      <td>1.0</td>\n",
       "      <td>1</td>\n",
       "    </tr>\n",
       "    <tr>\n",
       "      <th>3</th>\n",
       "      <td>6.0</td>\n",
       "      <td>258.0</td>\n",
       "      <td>110.0</td>\n",
       "      <td>3.08</td>\n",
       "      <td>3.215</td>\n",
       "      <td>0.10</td>\n",
       "      <td>1</td>\n",
       "      <td>3</td>\n",
       "      <td>1.0</td>\n",
       "      <td>0</td>\n",
       "    </tr>\n",
       "    <tr>\n",
       "      <th>4</th>\n",
       "      <td>8.0</td>\n",
       "      <td>360.0</td>\n",
       "      <td>175.0</td>\n",
       "      <td>3.15</td>\n",
       "      <td>3.440</td>\n",
       "      <td>17.02</td>\n",
       "      <td>0</td>\n",
       "      <td>3</td>\n",
       "      <td>2.0</td>\n",
       "      <td>0</td>\n",
       "    </tr>\n",
       "  </tbody>\n",
       "</table>\n",
       "</div>"
      ],
      "text/plain": [
       "   cyl   disp     hp  drat     wt   qsec  vs  gear  carb  am_manual\n",
       "0  6.0  160.0  110.0  3.90  2.620  16.46   0     4   4.0          1\n",
       "1  6.0  160.0  110.0  3.90  2.875  17.02   0     4   4.0          1\n",
       "2  4.0  108.0   93.0  3.85  2.320  18.61   1     4   1.0          1\n",
       "3  6.0  258.0  110.0  3.08  3.215   0.10   1     3   1.0          0\n",
       "4  8.0  360.0  175.0  3.15  3.440  17.02   0     3   2.0          0"
      ]
     },
     "execution_count": 53,
     "metadata": {},
     "output_type": "execute_result"
    }
   ],
   "source": [
    "pd.get_dummies(X, drop_first=True).head()"
   ]
  },
  {
   "cell_type": "markdown",
   "id": "64e17696",
   "metadata": {},
   "source": [
    "#### `-` 라벨인코딩"
   ]
  },
  {
   "cell_type": "code",
   "execution_count": 54,
   "id": "ddb6a574",
   "metadata": {},
   "outputs": [
    {
     "name": "stdout",
     "output_type": "stream",
     "text": [
      "0    manual\n",
      "1    manual\n",
      "2    manual\n",
      "3      auto\n",
      "4      auto\n",
      "Name: am, dtype: object\n"
     ]
    }
   ],
   "source": [
    "# 라벨 인코딩\n",
    "print(X['am'].head())"
   ]
  },
  {
   "cell_type": "code",
   "execution_count": 55,
   "id": "917ee6e4",
   "metadata": {},
   "outputs": [
    {
     "name": "stdout",
     "output_type": "stream",
     "text": [
      "[1 1 1 0 0 0 0 0 0 0 0 0 0 0 0 0 0 1 1 1 0 0 0 0 0 1 1 1 1 1 1 1]\n"
     ]
    }
   ],
   "source": [
    "from sklearn.preprocessing import LabelEncoder\n",
    "\n",
    "encoder = LabelEncoder()\n",
    "print(encoder.fit_transform(X['am']))"
   ]
  },
  {
   "cell_type": "code",
   "execution_count": 56,
   "id": "b4ee5f74",
   "metadata": {},
   "outputs": [
    {
     "name": "stdout",
     "output_type": "stream",
     "text": [
      "['apple', 'bananas', 'grape']\n",
      "[0 1 2]\n"
     ]
    }
   ],
   "source": [
    "# 과일 예제\n",
    "fruit = ['apple','bananas','grape']\n",
    "\n",
    "encoder = LabelEncoder()\n",
    "fruit_new = encoder.fit_transform(fruit)\n",
    "\n",
    "print(fruit)\n",
    "print(fruit_new)"
   ]
  },
  {
   "cell_type": "markdown",
   "id": "a318b8a6",
   "metadata": {},
   "source": [
    "#### `-` 수동 인코딩 (Replace)\n",
    "데이터 값의 종류가 많지 않은 경우는 replace() 함수를 사용해서 인코딩을 수행할 수 있습니다. 예를 들어 합격/불합격 값, 신청/미신청 값, 방문/미방문 등의 이진 데이터라면 수동으로 인코딩 하기 쉽습니다."
   ]
  },
  {
   "cell_type": "code",
   "execution_count": 57,
   "id": "770937e7",
   "metadata": {},
   "outputs": [
    {
     "name": "stdout",
     "output_type": "stream",
     "text": [
      "   cyl   disp     hp  drat     wt   qsec  vs      am  gear  carb  am_new\n",
      "0  6.0  160.0  110.0  3.90  2.620  16.46   0  manual     4   4.0       0\n",
      "1  6.0  160.0  110.0  3.90  2.875  17.02   0  manual     4   4.0       0\n",
      "2  4.0  108.0   93.0  3.85  2.320  18.61   1  manual     4   1.0       0\n",
      "3  6.0  258.0  110.0  3.08  3.215   0.10   1    auto     3   1.0       1\n",
      "4  8.0  360.0  175.0  3.15  3.440  17.02   0    auto     3   2.0       1\n"
     ]
    }
   ],
   "source": [
    "# am을 구성하는 manual값은 0, auto값을 1로 변환\n",
    "X['am_new']=X['am'].replace('manual',0).replace('auto',1)\n",
    "\n",
    "print(X.head())"
   ]
  },
  {
   "cell_type": "code",
   "execution_count": 58,
   "id": "8308bd18",
   "metadata": {},
   "outputs": [
    {
     "name": "stdout",
     "output_type": "stream",
     "text": [
      "   cyl   disp     hp  drat     wt   qsec  vs  gear  carb  am_new\n",
      "0  6.0  160.0  110.0  3.90  2.620  16.46   0     4   4.0       0\n",
      "1  6.0  160.0  110.0  3.90  2.875  17.02   0     4   4.0       0\n",
      "2  4.0  108.0   93.0  3.85  2.320  18.61   1     4   1.0       0\n",
      "3  6.0  258.0  110.0  3.08  3.215   0.10   1     3   1.0       1\n",
      "4  8.0  360.0  175.0  3.15  3.440  17.02   0     3   2.0       1\n"
     ]
    }
   ],
   "source": [
    "# 기존의 am열은 불필요하므로 삭제\n",
    "X = X.drop(columns=['am'])\n",
    "print(X.head())"
   ]
  },
  {
   "cell_type": "markdown",
   "id": "9225cf9e",
   "metadata": {},
   "source": [
    "### `8` 파생변수 만들기\n",
    "특정한 조건이나 함수에 의해서 새롭게 의미를 부여해서 만드는 변수입니다. "
   ]
  },
  {
   "cell_type": "markdown",
   "id": "c8334f66",
   "metadata": {},
   "source": [
    "첫 번째로 만들 파생변수는 무게를 의미하는 wt 열에 따라서 등급을 구분하는 wt_class(무게에 따른 구분)입니다. wt열의 평균값을 기준으로 무게의 등급을 나눌 것입니다. "
   ]
  },
  {
   "cell_type": "code",
   "execution_count": 62,
   "id": "fd7580d9",
   "metadata": {},
   "outputs": [
    {
     "data": {
      "text/plain": [
       "3.22"
      ]
     },
     "execution_count": 62,
     "metadata": {},
     "output_type": "execute_result"
    }
   ],
   "source": [
    "import numpy as np\n",
    "np.round(X['wt'].mean(),2)"
   ]
  },
  {
   "cell_type": "code",
   "execution_count": 63,
   "id": "104d2fcf",
   "metadata": {},
   "outputs": [],
   "source": [
    "# wt열이 평균보다 작은지 여부\n",
    "condition = X['wt'] < np.round(X['wt'].mean(),2)\n",
    "\n",
    "# 조건을 만족하면 0\n",
    "X.loc[condition, 'wt_class'] = 0\n",
    "\n",
    "# 조건을 만족하지 않으면 1\n",
    "X.loc[~condition, 'wt_class'] = 1"
   ]
  },
  {
   "cell_type": "code",
   "execution_count": 68,
   "id": "1ad79591",
   "metadata": {},
   "outputs": [
    {
     "data": {
      "text/html": [
       "<div>\n",
       "<style scoped>\n",
       "    .dataframe tbody tr th:only-of-type {\n",
       "        vertical-align: middle;\n",
       "    }\n",
       "\n",
       "    .dataframe tbody tr th {\n",
       "        vertical-align: top;\n",
       "    }\n",
       "\n",
       "    .dataframe thead th {\n",
       "        text-align: right;\n",
       "    }\n",
       "</style>\n",
       "<table border=\"1\" class=\"dataframe\">\n",
       "  <thead>\n",
       "    <tr style=\"text-align: right;\">\n",
       "      <th></th>\n",
       "      <th>wt</th>\n",
       "      <th>wt_class</th>\n",
       "    </tr>\n",
       "  </thead>\n",
       "  <tbody>\n",
       "    <tr>\n",
       "      <th>0</th>\n",
       "      <td>2.620</td>\n",
       "      <td>0.0</td>\n",
       "    </tr>\n",
       "    <tr>\n",
       "      <th>1</th>\n",
       "      <td>2.875</td>\n",
       "      <td>0.0</td>\n",
       "    </tr>\n",
       "    <tr>\n",
       "      <th>2</th>\n",
       "      <td>2.320</td>\n",
       "      <td>0.0</td>\n",
       "    </tr>\n",
       "    <tr>\n",
       "      <th>3</th>\n",
       "      <td>3.215</td>\n",
       "      <td>0.0</td>\n",
       "    </tr>\n",
       "    <tr>\n",
       "      <th>4</th>\n",
       "      <td>3.440</td>\n",
       "      <td>1.0</td>\n",
       "    </tr>\n",
       "  </tbody>\n",
       "</table>\n",
       "</div>"
      ],
      "text/plain": [
       "      wt  wt_class\n",
       "0  2.620       0.0\n",
       "1  2.875       0.0\n",
       "2  2.320       0.0\n",
       "3  3.215       0.0\n",
       "4  3.440       1.0"
      ]
     },
     "execution_count": 68,
     "metadata": {},
     "output_type": "execute_result"
    }
   ],
   "source": [
    "X[['wt', 'wt_class']].head()"
   ]
  },
  {
   "cell_type": "code",
   "execution_count": 69,
   "id": "28d9fdbf",
   "metadata": {},
   "outputs": [
    {
     "data": {
      "text/html": [
       "<div>\n",
       "<style scoped>\n",
       "    .dataframe tbody tr th:only-of-type {\n",
       "        vertical-align: middle;\n",
       "    }\n",
       "\n",
       "    .dataframe tbody tr th {\n",
       "        vertical-align: top;\n",
       "    }\n",
       "\n",
       "    .dataframe thead th {\n",
       "        text-align: right;\n",
       "    }\n",
       "</style>\n",
       "<table border=\"1\" class=\"dataframe\">\n",
       "  <thead>\n",
       "    <tr style=\"text-align: right;\">\n",
       "      <th></th>\n",
       "      <th>cyl</th>\n",
       "      <th>disp</th>\n",
       "      <th>hp</th>\n",
       "      <th>drat</th>\n",
       "      <th>qsec</th>\n",
       "      <th>vs</th>\n",
       "      <th>gear</th>\n",
       "      <th>carb</th>\n",
       "      <th>am_new</th>\n",
       "      <th>wt_class</th>\n",
       "    </tr>\n",
       "  </thead>\n",
       "  <tbody>\n",
       "    <tr>\n",
       "      <th>0</th>\n",
       "      <td>6.0</td>\n",
       "      <td>160.0</td>\n",
       "      <td>110.0</td>\n",
       "      <td>3.90</td>\n",
       "      <td>16.46</td>\n",
       "      <td>0</td>\n",
       "      <td>4</td>\n",
       "      <td>4.0</td>\n",
       "      <td>0</td>\n",
       "      <td>0.0</td>\n",
       "    </tr>\n",
       "    <tr>\n",
       "      <th>1</th>\n",
       "      <td>6.0</td>\n",
       "      <td>160.0</td>\n",
       "      <td>110.0</td>\n",
       "      <td>3.90</td>\n",
       "      <td>17.02</td>\n",
       "      <td>0</td>\n",
       "      <td>4</td>\n",
       "      <td>4.0</td>\n",
       "      <td>0</td>\n",
       "      <td>0.0</td>\n",
       "    </tr>\n",
       "    <tr>\n",
       "      <th>2</th>\n",
       "      <td>4.0</td>\n",
       "      <td>108.0</td>\n",
       "      <td>93.0</td>\n",
       "      <td>3.85</td>\n",
       "      <td>18.61</td>\n",
       "      <td>1</td>\n",
       "      <td>4</td>\n",
       "      <td>1.0</td>\n",
       "      <td>0</td>\n",
       "      <td>0.0</td>\n",
       "    </tr>\n",
       "    <tr>\n",
       "      <th>3</th>\n",
       "      <td>6.0</td>\n",
       "      <td>258.0</td>\n",
       "      <td>110.0</td>\n",
       "      <td>3.08</td>\n",
       "      <td>0.10</td>\n",
       "      <td>1</td>\n",
       "      <td>3</td>\n",
       "      <td>1.0</td>\n",
       "      <td>1</td>\n",
       "      <td>0.0</td>\n",
       "    </tr>\n",
       "    <tr>\n",
       "      <th>4</th>\n",
       "      <td>8.0</td>\n",
       "      <td>360.0</td>\n",
       "      <td>175.0</td>\n",
       "      <td>3.15</td>\n",
       "      <td>17.02</td>\n",
       "      <td>0</td>\n",
       "      <td>3</td>\n",
       "      <td>2.0</td>\n",
       "      <td>1</td>\n",
       "      <td>1.0</td>\n",
       "    </tr>\n",
       "  </tbody>\n",
       "</table>\n",
       "</div>"
      ],
      "text/plain": [
       "   cyl   disp     hp  drat   qsec  vs  gear  carb  am_new  wt_class\n",
       "0  6.0  160.0  110.0  3.90  16.46   0     4   4.0       0       0.0\n",
       "1  6.0  160.0  110.0  3.90  17.02   0     4   4.0       0       0.0\n",
       "2  4.0  108.0   93.0  3.85  18.61   1     4   1.0       0       0.0\n",
       "3  6.0  258.0  110.0  3.08   0.10   1     3   1.0       1       0.0\n",
       "4  8.0  360.0  175.0  3.15  17.02   0     3   2.0       1       1.0"
      ]
     },
     "execution_count": 69,
     "metadata": {},
     "output_type": "execute_result"
    }
   ],
   "source": [
    "# wt열 삭제\n",
    "X = X.drop(columns = ['wt'])\n",
    "\n",
    "X.head()"
   ]
  },
  {
   "cell_type": "code",
   "execution_count": null,
   "id": "5b4aae54",
   "metadata": {},
   "outputs": [],
   "source": []
  }
 ],
 "metadata": {
  "kernelspec": {
   "display_name": "Python 3 (ipykernel)",
   "language": "python",
   "name": "python3"
  },
  "language_info": {
   "codemirror_mode": {
    "name": "ipython",
    "version": 3
   },
   "file_extension": ".py",
   "mimetype": "text/x-python",
   "name": "python",
   "nbconvert_exporter": "python",
   "pygments_lexer": "ipython3",
   "version": "3.8.13"
  }
 },
 "nbformat": 4,
 "nbformat_minor": 5
}
