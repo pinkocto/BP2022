{
 "cells": [
  {
   "cell_type": "markdown",
   "id": "1fcdd41a",
   "metadata": {},
   "source": [
    "# (OpenCV - Chap5) 10월 13일\n",
    "> 기본 배열 연산 (Operations on Arrays) 함수\n",
    "\n",
    "- toc: true\n",
    "- branch: master\n",
    "- badges: false\n",
    "- comments: true\n",
    "- author: pinkocto\n",
    "- categories: [python]"
   ]
  },
  {
   "cell_type": "markdown",
   "id": "c6a344a0",
   "metadata": {},
   "source": [
    "## 05. 기본 배열 연산 함수\n",
    "OpenCV는 수학과 과학 연산을 위한 파이썬 패키지인 넘파이(numpy)와 연동해 배열을 생성할 수 있으며, 이런 배열을 처리할 수 있는 다양한 연산함수를 지원한다.\n",
    "\n",
    "파이썬에서는 배열을 처리하기 위한 자료형으로 리스트, 튜플, 사전 등의 열거형(sequence) 객체가 있다. 리스트는 다차원의 배열을 만들고 원소를 수정할 수 있으며, 튜플은 다차원의 배열을 만들 수 있지만, 수정이 불가능한 자료형이다. OpenCV 모듈의 함수들은 넘파이 모듈의 배열(ndarray) 객체를 기반으로 입력 배열과 출력 배열을 사용한다.\n",
    "\n",
    "이 장에서는 OpenCV에서 지원하는 여러 배열 처리 함수들을 살펴본다."
   ]
  },
  {
   "cell_type": "markdown",
   "id": "185aff41",
   "metadata": {},
   "source": [
    "### 5.1 기본 배열 (Array) 함수"
   ]
  },
  {
   "cell_type": "markdown",
   "id": "4bd4eb81",
   "metadata": {},
   "source": [
    "OpenCV에서는 배열을 옵션에 따라 여러 방향으로 뒤집거나 여러 번 반복하는 등 배열 자체를 처리하는 함수를 제공하고 있다. \n",
    "\n",
    "다음 예제는 영상파일을 읽은 후, **`cv2.flip()`, `cv2.repeat`, `cv2.transpose()`** 함수를 활용해서 상하좌우로 뒤집는 예시이다."
   ]
  },
  {
   "cell_type": "code",
   "execution_count": 8,
   "id": "082db40c",
   "metadata": {},
   "outputs": [],
   "source": [
    "#collapse-hide\n",
    "import cv2\n",
    "image = cv2.imread('./ghtop_images/chap05_images/flip_test.jpg', cv2.IMREAD_COLOR)\n",
    "\n",
    "if image is None: \n",
    "    raise Exception(\"영상파일 읽기 오류 발생\") # 예외 처리"
   ]
  },
  {
   "cell_type": "markdown",
   "id": "0f6c1492",
   "metadata": {},
   "source": [
    "#### `-` 원본 이미지"
   ]
  },
  {
   "cell_type": "code",
   "execution_count": 6,
   "id": "ff962e63",
   "metadata": {},
   "outputs": [],
   "source": [
    "#collapse-hide\n",
    "image = cv2.imshow('image', image)\n",
    "\n",
    "cv2.waitKey(0)\n",
    "cv2.destroyAllWindows()"
   ]
  },
  {
   "attachments": {},
   "cell_type": "markdown",
   "id": "4fb41d0b",
   "metadata": {},
   "source": [
    "**<center>원본 이미지</center>**\n",
    "\n",
    "<img src=\"./prac_image/image.png\">"
   ]
  },
  {
   "cell_type": "markdown",
   "id": "ce08a265",
   "metadata": {},
   "source": [
    "#### `-` x축 기준으로 뒤집은 이미지"
   ]
  },
  {
   "cell_type": "code",
   "execution_count": 5,
   "id": "0b5caf67",
   "metadata": {},
   "outputs": [],
   "source": [
    "#collapse-hide\n",
    "x_axis = cv2.flip(image, 0)           # x축 기준 상하 뒤집기\n",
    "cv2.imshow('x_axis', x_axis)\n",
    "\n",
    "cv2.waitKey(0)\n",
    "cv2.destroyAllWindows()"
   ]
  },
  {
   "attachments": {},
   "cell_type": "markdown",
   "id": "1177ad52",
   "metadata": {},
   "source": [
    "**<center>x-axis flip</center>**\n",
    "\n",
    "<img src=\"./prac_image/xaxis.png\">"
   ]
  },
  {
   "cell_type": "markdown",
   "id": "bded1063",
   "metadata": {},
   "source": [
    "#### `-` y축 기준으로 뒤집은 이미지"
   ]
  },
  {
   "cell_type": "code",
   "execution_count": 4,
   "id": "6b8ec462",
   "metadata": {},
   "outputs": [],
   "source": [
    "#collapse-hide\n",
    "y_axis  = cv2.flip(image, 1)          # y축 기준 좌우 뒤집기\n",
    "cv2.imshow('y_axis', y_axis)\n",
    "\n",
    "cv2.waitKey(0)\n",
    "cv2.destroyAllWindows()"
   ]
  },
  {
   "attachments": {},
   "cell_type": "markdown",
   "id": "fde1b02a",
   "metadata": {},
   "source": [
    "**<center>y_axis flip</center>**\n",
    "\n",
    "<img src=\"./prac_image/yaxis.png\">"
   ]
  },
  {
   "cell_type": "markdown",
   "id": "b39e5a88",
   "metadata": {},
   "source": [
    "#### `-` x, y축 기준 상하좌우 뒤집기"
   ]
  },
  {
   "cell_type": "code",
   "execution_count": 3,
   "id": "06faffb8",
   "metadata": {},
   "outputs": [],
   "source": [
    "#collapse-hide\n",
    "xy_axis = cv2.flip(image, -1)        # 양축(x,y축) 기준 상하좌우 뒤집기\n",
    "cv2.imshow('xy_axis', xy_axis)\n",
    "\n",
    "cv2.waitKey(0)\n",
    "cv2.destroyAllWindows()"
   ]
  },
  {
   "attachments": {},
   "cell_type": "markdown",
   "id": "42d5e19f",
   "metadata": {},
   "source": [
    "**<center>xy_axis flip</center>**\n",
    "\n",
    "<img src=\"./prac_image/xyaxis.png\">"
   ]
  },
  {
   "cell_type": "markdown",
   "id": "c716f2dc",
   "metadata": {},
   "source": [
    "#### `-` 복사본 만들기\n",
    "\n",
    "- **`cv.repeat(src, ny, nx[,dst[) -> dst`**\n",
    "\n",
    "    - src, dst : 입력, 출력 배열\n",
    "\n",
    "    - ny, nx : 수직, 수평방향 반복 횟수\n",
    "    \n",
    "\n",
    "- 입력 배열의 반복된 복사본으로 출력 배열을 채운다."
   ]
  },
  {
   "cell_type": "code",
   "execution_count": 2,
   "id": "b750a956",
   "metadata": {},
   "outputs": [],
   "source": [
    "#collapse-hide\n",
    "rep_image = cv2.repeat(image, 1, 2)   # 반복 복사\n",
    "cv2.imshow('rep_image', rep_image)\n",
    "\n",
    "cv2.waitKey(0)\n",
    "cv2.destroyAllWindows()"
   ]
  },
  {
   "attachments": {},
   "cell_type": "markdown",
   "id": "da45bc92",
   "metadata": {},
   "source": [
    "**<center>repeat_image</center>**\n",
    "\n",
    "<img src=\"./prac_image/repeat.png\">"
   ]
  },
  {
   "cell_type": "markdown",
   "id": "863a0c6a",
   "metadata": {},
   "source": [
    "#### `-` 전치 이미지\n",
    "- 입력 행렬의 전치 행렬을 출력으로 반환한다."
   ]
  },
  {
   "cell_type": "code",
   "execution_count": 9,
   "id": "ff469f5f",
   "metadata": {},
   "outputs": [],
   "source": [
    "#collapse-hide\n",
    "trans_image = cv2.transpose(image)    # 행렬 전치\n",
    "cv2.imshow('trans_image', trans_image)\n",
    "\n",
    "cv2.waitKey(0)\n",
    "cv2.destroyAllWindows()"
   ]
  },
  {
   "attachments": {},
   "cell_type": "markdown",
   "id": "59a799b5",
   "metadata": {},
   "source": [
    "**<center>trans_image</center>**\n",
    "\n",
    "<img src=\"./prac_image/trans.png\">"
   ]
  },
  {
   "cell_type": "code",
   "execution_count": 11,
   "id": "c5c85a01",
   "metadata": {},
   "outputs": [
    {
     "data": {
      "text/plain": [
       "(267, 360, 3)"
      ]
     },
     "execution_count": 11,
     "metadata": {},
     "output_type": "execute_result"
    }
   ],
   "source": [
    "#collapse-hide\n",
    "image.shape"
   ]
  },
  {
   "cell_type": "code",
   "execution_count": 12,
   "id": "f35fbba0",
   "metadata": {},
   "outputs": [
    {
     "data": {
      "text/plain": [
       "(360, 267, 3)"
      ]
     },
     "execution_count": 12,
     "metadata": {},
     "output_type": "execute_result"
    }
   ],
   "source": [
    "#collapse-hide\n",
    "trans_image.shape "
   ]
  },
  {
   "cell_type": "markdown",
   "id": "11ee42d2",
   "metadata": {},
   "source": [
    "$267\\times 360 \\times 3 \\to 360\\times 267\\times 3$으로 전치된 것 확인!"
   ]
  },
  {
   "cell_type": "markdown",
   "id": "d6531f6b",
   "metadata": {},
   "source": [
    "### 5.2 채널 처리 함수"
   ]
  },
  {
   "cell_type": "markdown",
   "id": "392f6bd2",
   "metadata": {},
   "source": [
    "컬러 영상은 파란색(B), 녹색(G), 빨간색(R)의 각기 독립적인 2차원 정보를 합쳐 놓은 배열이라고 정의할 수 있다. 요즈음 영상처리 API에서는 컬러 영상을 표현하기 위해 채널(Channel)이라는 개념을 도입한다. 즉, 빨간색, 녹색, 파란색의 독립적인 2차원 정보는 각각 Blue채널, Green채널, Red 채널이라는 이름으로 표현된다."
   ]
  },
  {
   "cell_type": "markdown",
   "id": "541ab502",
   "metadata": {},
   "source": [
    "다음은 단일채널 행렬을 여러 개 합치거나, 다채널을 분리하는 등 채널을 처리하는 함수에 대한 설명이다.\n",
    "\n",
    "간단한 예제로 채널에 대한 개념을 알아보자."
   ]
  },
  {
   "cell_type": "markdown",
   "id": "55f89f3d",
   "metadata": {},
   "source": [
    "- `1.` 단일채널 행렬 3개를 생성 \n",
    "- `2.` 3개의 채널을 합쳐 하나의 다채널 행렬로 생성 \n",
    "- `3.` 그 후 합쳐진 다채널 행렬을 다시 단일채널로 분리"
   ]
  },
  {
   "cell_type": "code",
   "execution_count": 15,
   "id": "f94e8cc2",
   "metadata": {},
   "outputs": [],
   "source": [
    "#collapse-hide\n",
    "import numpy as np\n",
    "import cv2"
   ]
  },
  {
   "cell_type": "code",
   "execution_count": 16,
   "id": "a28c0d46",
   "metadata": {},
   "outputs": [],
   "source": [
    "#collapse-hide\n",
    "## numpy.ndarray를 이용해 행렬 생성 및 초기화 방법\n",
    "ch0 = np.zeros((2,4), np.uint8) + 10         # 0원소 행렬 선언 후 10 더하기\n",
    "ch1 = np.ones((2,4), np.uint8) * 20          # 1원소 행렬 선언 후 20 곱하기\n",
    "ch2 = np.full((2,4), 30, np.uint8)           # 행렬을 생성하며 30으로 초기화\n",
    "\n",
    "list_bgr = [ch0, ch1, ch2]                   # 단일채널 행렬들을 모아 리스트 구성\n",
    "merge_bgr = cv2.merge(list_bgr)              # 채널 합성\n",
    "split_bgr = cv2.split(merge_bgr)             # 채널 분리 : 컬러영상 > 3채널 분리"
   ]
  },
  {
   "cell_type": "code",
   "execution_count": 17,
   "id": "25e9f0c3",
   "metadata": {},
   "outputs": [
    {
     "data": {
      "text/plain": [
       "array([[10, 10, 10, 10],\n",
       "       [10, 10, 10, 10]], dtype=uint8)"
      ]
     },
     "execution_count": 17,
     "metadata": {},
     "output_type": "execute_result"
    }
   ],
   "source": [
    "#collapse-hide\n",
    "ch0"
   ]
  },
  {
   "cell_type": "code",
   "execution_count": 20,
   "id": "f49d2149",
   "metadata": {},
   "outputs": [
    {
     "data": {
      "text/plain": [
       "array([[20, 20, 20, 20],\n",
       "       [20, 20, 20, 20]], dtype=uint8)"
      ]
     },
     "execution_count": 20,
     "metadata": {},
     "output_type": "execute_result"
    }
   ],
   "source": [
    "#collapse-hide\n",
    "ch1"
   ]
  },
  {
   "cell_type": "code",
   "execution_count": 21,
   "id": "e00ed48f",
   "metadata": {},
   "outputs": [
    {
     "data": {
      "text/plain": [
       "array([[30, 30, 30, 30],\n",
       "       [30, 30, 30, 30]], dtype=uint8)"
      ]
     },
     "execution_count": 21,
     "metadata": {},
     "output_type": "execute_result"
    }
   ],
   "source": [
    "#collapse-hide\n",
    "ch2"
   ]
  },
  {
   "cell_type": "code",
   "execution_count": 22,
   "id": "22a9cb6b",
   "metadata": {},
   "outputs": [
    {
     "data": {
      "text/plain": [
       "[array([[10, 10, 10, 10],\n",
       "        [10, 10, 10, 10]], dtype=uint8),\n",
       " array([[20, 20, 20, 20],\n",
       "        [20, 20, 20, 20]], dtype=uint8),\n",
       " array([[30, 30, 30, 30],\n",
       "        [30, 30, 30, 30]], dtype=uint8)]"
      ]
     },
     "execution_count": 22,
     "metadata": {},
     "output_type": "execute_result"
    }
   ],
   "source": [
    "#collapse-hide\n",
    "# 단일 채널 행렬 3개 (ch0, ch1, ch2)\n",
    "list_bgr "
   ]
  },
  {
   "cell_type": "code",
   "execution_count": 36,
   "id": "9b83cadb",
   "metadata": {},
   "outputs": [
    {
     "name": "stdout",
     "output_type": "stream",
     "text": [
      "merge_bgr 행렬 형태:  (2, 4, 3)\n",
      " \n",
      "[[[10 20 30]\n",
      "  [10 20 30]\n",
      "  [10 20 30]\n",
      "  [10 20 30]]\n",
      "\n",
      " [[10 20 30]\n",
      "  [10 20 30]\n",
      "  [10 20 30]\n",
      "  [10 20 30]]]\n"
     ]
    }
   ],
   "source": [
    "#collapse-hide\n",
    "print('merge_bgr 행렬 형태: ', merge_bgr.shape)\n",
    "print(' ')\n",
    "print(merge_bgr)"
   ]
  },
  {
   "cell_type": "code",
   "execution_count": 41,
   "id": "3bb36803",
   "metadata": {},
   "outputs": [
    {
     "name": "stdout",
     "output_type": "stream",
     "text": [
      "split_bar 행렬 형태:  (3, 2, 4)\n",
      " \n",
      "[[10 10 10 10]\n",
      " [10 10 10 10]]\n",
      " \n",
      "[[20 20 20 20]\n",
      " [20 20 20 20]]\n",
      " \n",
      "[[30 30 30 30]\n",
      " [30 30 30 30]]\n"
     ]
    }
   ],
   "source": [
    "#collapse-hide\n",
    "print('split_bar 행렬 형태: ', np.array(split_bgr).shape) # numpy의 shape() 함수를 적용하기 위해 ndarray객체로 변경하여 행렬 형태로 출력\n",
    "print(' ')\n",
    "print(split_bgr[0])\n",
    "print(' ')\n",
    "print(split_bgr[1])\n",
    "print(' ')\n",
    "print(split_bgr[2])"
   ]
  },
  {
   "cell_type": "markdown",
   "id": "1d90a207",
   "metadata": {},
   "source": [
    "- 2열 3행 깊이가 4"
   ]
  },
  {
   "cell_type": "code",
   "execution_count": 53,
   "id": "9d47d1ef",
   "metadata": {},
   "outputs": [
    {
     "data": {
      "text/plain": [
       "(array([[10, 10, 10, 10],\n",
       "        [10, 10, 10, 10]], dtype=uint8),\n",
       " array([[20, 20, 20, 20],\n",
       "        [20, 20, 20, 20]], dtype=uint8),\n",
       " array([[30, 30, 30, 30],\n",
       "        [30, 30, 30, 30]], dtype=uint8))"
      ]
     },
     "execution_count": 53,
     "metadata": {},
     "output_type": "execute_result"
    }
   ],
   "source": [
    "#collapse-hide\n",
    "split_bgr"
   ]
  },
  {
   "cell_type": "code",
   "execution_count": 52,
   "id": "d06fda16",
   "metadata": {},
   "outputs": [
    {
     "data": {
      "text/plain": [
       "array([[[10, 10, 10, 10],\n",
       "        [10, 10, 10, 10]],\n",
       "\n",
       "       [[20, 20, 20, 20],\n",
       "        [20, 20, 20, 20]],\n",
       "\n",
       "       [[30, 30, 30, 30],\n",
       "        [30, 30, 30, 30]]], dtype=uint8)"
      ]
     },
     "execution_count": 52,
     "metadata": {},
     "output_type": "execute_result"
    }
   ],
   "source": [
    "#collapse-hide\n",
    "np.array(split_bgr)"
   ]
  },
  {
   "cell_type": "markdown",
   "id": "11475c06",
   "metadata": {},
   "source": [
    "#### 예제 실습"
   ]
  },
  {
   "cell_type": "code",
   "execution_count": 55,
   "id": "e97d83f9",
   "metadata": {},
   "outputs": [],
   "source": [
    "#collapse-hide\n",
    "import cv2"
   ]
  },
  {
   "cell_type": "code",
   "execution_count": 56,
   "id": "bee26186",
   "metadata": {},
   "outputs": [],
   "source": [
    "image = cv2.imread('./ghtop_images/chap05_images/color.jpg', cv2.IMREAD_COLOR)  # 영상 읽기\n",
    "if image is None:\n",
    "    raise Exception('영상파일 읽기 오류')                  # 예외처리\n",
    "    if image.ndim != 3: raise Exception(\"컬러 영상 아님\") # 예외 처리 - 컬러 영상 확인"
   ]
  },
  {
   "cell_type": "code",
   "execution_count": 57,
   "id": "9573ba69",
   "metadata": {},
   "outputs": [
    {
     "name": "stdout",
     "output_type": "stream",
     "text": [
      "bgr 자료형: <class 'tuple'> <class 'numpy.ndarray'> <class 'numpy.uint8'>\n"
     ]
    }
   ],
   "source": [
    "bgr = cv2.split(image)\n",
    "# blue, green, red = cv2.split(image)  ## 3개 변수로 반환받기 가능!\n",
    "print('bgr 자료형:',type(bgr), type(bgr[0]), type(bgr[0][0][0]))"
   ]
  },
  {
   "cell_type": "code",
   "execution_count": 66,
   "id": "50e07411",
   "metadata": {},
   "outputs": [],
   "source": [
    "#collapse-hide\n",
    "## 각 채널을 윈도우에 띄우기\n",
    "cv2.imshow('image', image)\n",
    "cv2.imshow('Blue chnnel', bgr[0])\n",
    "cv2.imshow('Green chnnel', bgr[1])\n",
    "cv2.imshow('Red chnnel', bgr[2])\n",
    "\n",
    "cv2.waitKey(0)\n",
    "cv2.destroyAllWindows()"
   ]
  },
  {
   "attachments": {},
   "cell_type": "markdown",
   "id": "7eaec641",
   "metadata": {},
   "source": [
    "<center>original image vs. Blue channel</center>\n",
    "\n",
    "<img src=\"./prac_image/blue.png\" width=\"700\">"
   ]
  },
  {
   "cell_type": "markdown",
   "id": "8e88ca65",
   "metadata": {},
   "source": [
    "- Blue Channel 아래쪽 파란색 마크 부분이 Blue channel에서는 밝게 나타난다."
   ]
  },
  {
   "attachments": {},
   "cell_type": "markdown",
   "id": "54bb8560",
   "metadata": {},
   "source": [
    "<center>original image vs. Green channel</center>\n",
    "\n",
    "<img src=\"./prac_image/green.png\" width=\"700\">"
   ]
  },
  {
   "cell_type": "markdown",
   "id": "0fb74733",
   "metadata": {},
   "source": [
    "- 원본이미지 아래쪽에 녹색을 띄는 진열대 부분이 Green Channel에서 밝게 나타난다."
   ]
  },
  {
   "attachments": {},
   "cell_type": "markdown",
   "id": "2bf405ac",
   "metadata": {},
   "source": [
    "<center>original image vs. red channel</center>\n",
    "\n",
    "<img src=\"./prac_image/red.png\" width=\"700\">"
   ]
  },
  {
   "cell_type": "markdown",
   "id": "3188a93e",
   "metadata": {},
   "source": [
    "- 원본이미지의 왼쪽 냉장 전시물의 붉은쪽 문 부분이 Red Chnnel에서 밝게 나타난다."
   ]
  },
  {
   "cell_type": "markdown",
   "id": "ebd678e5",
   "metadata": {},
   "source": [
    "### 5.3.0 산술 연산 함수"
   ]
  },
  {
   "cell_type": "markdown",
   "id": "df45fd02",
   "metadata": {},
   "source": [
    "행렬연산은 주로 첫 번째 배열의 i번째 원소와 두 번째 배열의 i번째 원소 간에 연산을 수행해서 결과 배열의 i번째 원소에 저장하는 방식을 취한다. 이러한 방식을 원소간 **(per-element, element-wise)** 연산이라 한다."
   ]
  },
  {
   "cell_type": "markdown",
   "id": "db52a5d4",
   "metadata": {},
   "source": [
    "### 5.3.1 사칙연산"
   ]
  },
  {
   "cell_type": "markdown",
   "id": "1c4309af",
   "metadata": {},
   "source": [
    "OpenCV에서 배열에 대한 사칙 연산은 두 배열의 원소간(per-element) 연산을 수행한다.\n"
   ]
  },
  {
   "cell_type": "markdown",
   "id": "4f1ca103",
   "metadata": {},
   "source": [
    "### 5.3.2 지수, 로그, 제곱근 관련 함수"
   ]
  },
  {
   "cell_type": "markdown",
   "id": "d8938231",
   "metadata": {},
   "source": [
    "OpenCV는 배열 원소의 지수와 로그 및 제곱근 관련 함수를 지원한다. "
   ]
  }
 ],
 "metadata": {
  "kernelspec": {
   "display_name": "Python 3 (ipykernel)",
   "language": "python",
   "name": "python3"
  },
  "language_info": {
   "codemirror_mode": {
    "name": "ipython",
    "version": 3
   },
   "file_extension": ".py",
   "mimetype": "text/x-python",
   "name": "python",
   "nbconvert_exporter": "python",
   "pygments_lexer": "ipython3",
   "version": "3.9.13"
  }
 },
 "nbformat": 4,
 "nbformat_minor": 5
}
