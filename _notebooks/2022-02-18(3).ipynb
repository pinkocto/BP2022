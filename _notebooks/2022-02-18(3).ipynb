{
 "cells": [
  {
   "cell_type": "markdown",
   "id": "c7db8d79-1aad-4e23-ad2e-5f156fa37198",
   "metadata": {
    "tags": []
   },
   "source": [
    "# (6주차) 2월18일 (3)\n",
    "> 18-파일처리 / 파일 입출력\n",
    "- toc: true\n",
    "- branch: master\n",
    "- badges: false\n",
    "- comments: true\n",
    "- author: dinonene\n",
    "- categories: [python]"
   ]
  },
  {
   "cell_type": "markdown",
   "id": "a34479fb-83f2-4416-85c0-1e26b01bf82e",
   "metadata": {},
   "source": [
    "`-` 파일과 경로\n",
    "\n",
    "`-` 텍스트 파일 열기, 쓰기, 읽기\n",
    "\n",
    "`-` Tkinter 파일 다이얼로그를 이용한 예제"
   ]
  },
  {
   "cell_type": "markdown",
   "id": "fb7c18a2-162e-4615-abe5-a0083e34324a",
   "metadata": {},
   "source": [
    "### 파일"
   ]
  },
  {
   "cell_type": "markdown",
   "id": "7ba0cb9f-cc64-43f6-bb55-206a844e46b8",
   "metadata": {},
   "source": [
    "- 목적\n",
    "    - 자료를 영구히 보관하기 위해 사용됨\n",
    "\n",
    "\n",
    "\n",
    "- 종류: 저장된 데이터에 따라\n",
    "    - 텍스트 파일\n",
    "        - 일반적인 문자 코드\n",
    "    - 이진 파일\n",
    "        - 사진, 음악, 비디오\n",
    "        \n",
    "\n",
    "\n",
    "- 파일의 위치\n",
    "    - 폴더에 존재\n",
    "    - 폴더는 다른 폴더에 포함되어 있음\n",
    "    - 경로 : 어떤 폴더로부터 그 파일에 이르는 방법"
   ]
  },
  {
   "cell_type": "markdown",
   "id": "cf30de47-89f6-4b3f-a02b-3fe8c89bcfdb",
   "metadata": {},
   "source": [
    "#### `-` 파일 경로"
   ]
  },
  {
   "cell_type": "markdown",
   "id": "df22203b-e08f-4e07-8318-78359694c90a",
   "metadata": {},
   "source": [
    "`*` 경로의 종류\n",
    "- 절대 경로: 루트 폴더로투터 시작\n",
    "    - ex) c:\\users\\user\\documents\\hello.py\n",
    "\n",
    "\n",
    "\n",
    "- 상대 경로: 현재 폴더로부터 시작"
   ]
  },
  {
   "cell_type": "markdown",
   "id": "a2706cf6-ff73-4c80-a244-e956362fa29d",
   "metadata": {},
   "source": [
    "`*` 폴더를 표시하는 특수한 기호\n",
    "- `.` : **현재 폴더**를 의미함\n",
    "- `..` : 현재 폴더의 부모 (즉, **상위폴더**를 의미함)"
   ]
  },
  {
   "cell_type": "markdown",
   "id": "6b6b4aab-eb90-444e-af6e-d79412da5840",
   "metadata": {},
   "source": [
    "```\n",
    ">>> import os\n",
    ">>> os.getcwd() ## 현재 폴더 경로\n",
    "'C:\\\\USERS\\\\USER\\\\....\\\\python3.7'\n",
    ">>> os.chdir(\"C:\\\\Users\\\\Users\\\\Documents\")  ## 현재폴더 경로 변경\n",
    ">>> os.getcwd() ## 현재 폴더 경로\n",
    "\"C:\\\\Users\\\\Users\\\\Documents\" ## 바뀐 경로로 출력된 것 확인\n",
    "```"
   ]
  },
  {
   "cell_type": "markdown",
   "id": "097c4dd4-0c30-485e-a2a9-2be90a51b21b",
   "metadata": {},
   "source": [
    "##### `-` 경로 분리 문자"
   ]
  },
  {
   "cell_type": "markdown",
   "id": "bba13456-f41c-48d8-af78-03ddba30d021",
   "metadata": {},
   "source": [
    "- Windows에서 경로 분리 문자는 `\\`\n",
    "    - 문제는 Escape-Sequence를 나타낼 때 사용됨\n",
    "    - 그냥 `\\` 문자를 표시하기 위해서는 `\\\\` 를 사용\n",
    "\n",
    "\n",
    "- Unix, Linux 계열에서 경로 분리 문자는 `/`\n",
    "    - Windows 위에서 실행되는 파이썬에서 사용 가능\n",
    "    - 앞의 예는 \"C:/Users/Users/Documents\"로 써도 가능!\n",
    "\n",
    "\n",
    "- Raw 문자열 사용방법\n",
    "    - `r\"문자열\"`은 문자열 내 모든 특수문자를 무시하고 일반 문자로 취급함\n",
    "    - r\"C:\\Users\\Users\\Documents\"로 써도 가능!"
   ]
  },
  {
   "cell_type": "markdown",
   "id": "152fc2cb-7f5f-434c-ae51-94484915cb93",
   "metadata": {},
   "source": [
    "#### `-` 파일 열기"
   ]
  },
  {
   "cell_type": "markdown",
   "id": "93eb448c-0654-430c-a338-1752f59e8aca",
   "metadata": {},
   "source": [
    "- `open()` 이라는 내장 함수를 사용\n",
    "\n",
    "```\n",
    "fileVar = open(filename, mode)\n",
    "```"
   ]
  },
  {
   "cell_type": "markdown",
   "id": "5e037cd8-58e6-483e-89c7-a94a0184c0d3",
   "metadata": {},
   "source": [
    "- open() 함수는 파일 열기를 성공하면 파일을 나타내는 객체를 반환함\n",
    "    - _io.TextIoWrapper 클래스 객체임"
   ]
  },
  {
   "cell_type": "markdown",
   "id": "0d5f8704-ccd1-4d82-b1de-966047e2fc04",
   "metadata": {},
   "source": [
    "![](my_icons/chapter18_1.png)"
   ]
  },
  {
   "cell_type": "markdown",
   "id": "d4fd1c82-309b-406f-be35-07e33c2ef913",
   "metadata": {},
   "source": [
    "##### `-` 파일 열기 모드"
   ]
  },
  {
   "cell_type": "markdown",
   "id": "48060b53-d3d5-4170-ab69-250faf337148",
   "metadata": {},
   "source": [
    "|파일열기모드|설명|\n",
    "|:-----------:|----|\n",
    "|r (읽기모드)|파일을 읽기만 할 때 사용한다|\n",
    "|w (쓰기모드)|파일에 내용을 쓸 때 사용하며 기존 파일이 존재하면 내용이 모두 초기화되고 </br> 주어진 파일이 존재하지 않으면 새로운 파일을 만든다|\n",
    "|a (추가모드)|기존 파일의 마지막에 새로운 내용을 추가 시킬 때 사용한다|\n",
    "|rb, wb| 각각 이진 파일을 읽기 위해 혹은 쓰기 위해 열때 사용한다"
   ]
  },
  {
   "cell_type": "markdown",
   "id": "d0eb2b49-7aa9-4d7d-a127-6f39015be1e4",
   "metadata": {},
   "source": [
    "#### `-` 파일에 데이터 쓰기"
   ]
  },
  {
   "cell_type": "markdown",
   "id": "5c919e19-a5f3-4c78-a986-f206dd9b2845",
   "metadata": {},
   "source": [
    "- `write()` 메서드 사용"
   ]
  },
  {
   "cell_type": "code",
   "execution_count": 6,
   "id": "804e21b6-9d13-4c55-9ec8-ec3d79a3e19a",
   "metadata": {},
   "outputs": [],
   "source": [
    "ofile = open(\"snowwhite.txt\", \"w\")                    # 1\n",
    "ofile.write(\"Once upon a time, long, long ago\\n\")     # 2\n",
    "ofile.write(\"a king and queen ruled over\\n\")\n",
    "ofile.write(\"a distant land\")\n",
    "ofile.close()"
   ]
  },
  {
   "cell_type": "markdown",
   "id": "c29973a6-7961-46c2-82a2-84118970f932",
   "metadata": {},
   "source": [
    "#### `-` 파일이 존재하는지 검사하기"
   ]
  },
  {
   "cell_type": "markdown",
   "id": "5ab9e291-f6d0-4c5d-9852-9ee659b98df9",
   "metadata": {},
   "source": [
    "- `os.path.exist(경로)`\n",
    "    - 파일이 존재하면 True, 아니면 False를 반환\n",
    "    \n",
    "- `os.path.isdir(경로)`\n",
    "    - 지정된 파일이 폴더이면 True, 아니면 False를 반환\n",
    "    \n",
    "- `os.path.isfile(경로)`\n",
    "    - 지정된 파일이 일반 파일이면 True, 아니면 False를 반환"
   ]
  },
  {
   "cell_type": "markdown",
   "id": "768f4873-b5f5-406d-87e8-6fbe8406a981",
   "metadata": {},
   "source": [
    "#### `-` 파일 자료 읽기\n",
    "\n",
    "파이썬에는 외부파일을 읽어 들여 프로그램에서 사용할 수 있는 여러가지 방법이 있다."
   ]
  },
  {
   "cell_type": "markdown",
   "id": "e2ddf109-3c18-4c49-b7a7-0e062ccdbc22",
   "metadata": {},
   "source": [
    "- 전체 데이터를 읽는 메서드 : `read()`, `reaadlines()`\n",
    "\n",
    "- 한 줄을 읽는 메서드 : `readline()`\n",
    "\n",
    "- 주어진 길이를 읽는 메서드: `read(n)`"
   ]
  },
  {
   "cell_type": "markdown",
   "id": "7ba2d6dc-9332-42b3-8b14-1bf63ec5b55c",
   "metadata": {},
   "source": [
    "##### `-` 전체 읽기"
   ]
  },
  {
   "cell_type": "markdown",
   "id": "e09aa4ee-83ca-4b99-a852-380422862e8f",
   "metadata": {},
   "source": [
    " `-` 방법1: `read()` 함수 사용하기"
   ]
  },
  {
   "cell_type": "code",
   "execution_count": 13,
   "id": "2c9759de-d4d3-4798-9f41-4d164f340d5f",
   "metadata": {},
   "outputs": [
    {
     "name": "stdout",
     "output_type": "stream",
     "text": [
      "Read Result:\n",
      "'Once upon a time, long, long ago\\na king and queen ruled over\\na distant land'\n"
     ]
    }
   ],
   "source": [
    "ifile = open(\"snowwhite.txt\", \"r\")  ## 읽기\n",
    "readResult = ifile.read() \n",
    "print(\"Read Result:\")\n",
    "print(repr(readResult))  ## repr(): 줄바꿈 문자도 그대로 출력\n",
    "ifile.close()"
   ]
  },
  {
   "cell_type": "code",
   "execution_count": 14,
   "id": "2806c016-8883-432e-bd6c-4a681bb0e468",
   "metadata": {},
   "outputs": [
    {
     "name": "stdout",
     "output_type": "stream",
     "text": [
      "Read Result:\n",
      "Once upon a time, long, long ago\n",
      "a king and queen ruled over\n",
      "a distant land\n"
     ]
    }
   ],
   "source": [
    "ifile = open(\"snowwhite.txt\", \"r\")  ## 읽기\n",
    "readResult = ifile.read() \n",
    "print(\"Read Result:\")\n",
    "print(readResult) \n",
    "ifile.close()"
   ]
  },
  {
   "cell_type": "markdown",
   "id": "e2a92f20-ba9a-40ac-9c0d-ac69249e0a19",
   "metadata": {},
   "source": [
    "- `read()` 는 파일의 내용 전체를 문자열로 돌려준다."
   ]
  },
  {
   "cell_type": "markdown",
   "id": "dafd9a9b-b099-44ae-855e-87cb26908b1d",
   "metadata": {},
   "source": [
    "`-` 방법2: `readlines()` 함수 사용하기"
   ]
  },
  {
   "cell_type": "code",
   "execution_count": 103,
   "id": "61d7c913-8b77-4235-8062-9ef0e40fa663",
   "metadata": {},
   "outputs": [
    {
     "name": "stdout",
     "output_type": "stream",
     "text": [
      "Read Lines Result:\n",
      "['Once upon a time, long, long ago\\n', 'a king and queen ruled over\\n', 'a distant land']\n"
     ]
    }
   ],
   "source": [
    "ifile = open(\"snowwhite.txt\", \"r\")\n",
    "readLinesResult = ifile.readlines()\n",
    "print(\"Read Lines Result:\")\n",
    "print(readLinesResult)\n",
    "ifile.close()"
   ]
  },
  {
   "cell_type": "markdown",
   "id": "e5ed0613-d61d-481b-9a3e-c09a88058ac2",
   "metadata": {},
   "source": [
    "- `readline()` 함수는 파일의 모든 줄을 읽어서 각각의 줄을 요소로 갖는 리스트로 돌려준다."
   ]
  },
  {
   "cell_type": "markdown",
   "id": "d6846a25-424f-4734-8327-3f7bca3b1460",
   "metadata": {},
   "source": [
    "`-` 방법2 + 줄바꿈(`\\n`) 문자 제거하기"
   ]
  },
  {
   "cell_type": "code",
   "execution_count": 102,
   "id": "0e9f9dbb-2f97-40b6-bc7d-5cb8ab1f7993",
   "metadata": {},
   "outputs": [
    {
     "name": "stdout",
     "output_type": "stream",
     "text": [
      "Once upon a time, long, long ago\n",
      "a king and queen ruled over\n",
      "a distant land\n"
     ]
    }
   ],
   "source": [
    "ifile = open(\"snowwhite.txt\", \"r\")\n",
    "lines = ifile.readlines()\n",
    "for line in lines:\n",
    "    line = line.strip() # 줄 끝의 줄 바꿈 문자를 제거\n",
    "    print(line)\n",
    "ifile.close()"
   ]
  },
  {
   "cell_type": "markdown",
   "id": "fcb02ef2-d430-433f-b084-e49b71387362",
   "metadata": {},
   "source": [
    "##### `-` 지정된 길이만큼 읽기"
   ]
  },
  {
   "cell_type": "markdown",
   "id": "04d578ac-a17e-4dab-a046-a9da99788e41",
   "metadata": {},
   "source": [
    "- `file.read(n)` : 현재 file pointer로부터 n개의 글자를 읽어서 문자열로 반환"
   ]
  },
  {
   "cell_type": "code",
   "execution_count": 18,
   "id": "c8246daa-2a67-4daa-9403-85adbf9a07f9",
   "metadata": {},
   "outputs": [
    {
     "name": "stdout",
     "output_type": "stream",
     "text": [
      "Read(4) Result:\n",
      "'Once'\n",
      "Read(10) Result:\n",
      "' upon a ti'\n"
     ]
    }
   ],
   "source": [
    "ifile = open(\"snowwhite.txt\", \"r\")\n",
    "str1 = ifile.read(4)\n",
    "print(\"Read(4) Result:\")\n",
    "print(repr(str1))\n",
    "\n",
    "str2 = ifile.read(10)\n",
    "print(\"Read(10) Result:\")\n",
    "print(repr(str2))\n",
    "ifile.close()"
   ]
  },
  {
   "cell_type": "markdown",
   "id": "bd5982a8-bc0c-444c-a6d4-7d2e5f8246fd",
   "metadata": {},
   "source": [
    "##### `-` 한 줄씩 읽기 결과"
   ]
  },
  {
   "cell_type": "code",
   "execution_count": 34,
   "id": "de416e06-2ed5-4bac-af1a-7640d94c69ce",
   "metadata": {},
   "outputs": [
    {
     "data": {
      "text/plain": [
       "'Once upon a time, long, long ago\\n'"
      ]
     },
     "execution_count": 34,
     "metadata": {},
     "output_type": "execute_result"
    }
   ],
   "source": [
    "ifile = open(\"snowwhite.txt\", \"r\")\n",
    "ifile.readline() ## 1"
   ]
  },
  {
   "cell_type": "code",
   "execution_count": 35,
   "id": "de51548b-5827-45e2-98cf-4b811381d734",
   "metadata": {},
   "outputs": [
    {
     "data": {
      "text/plain": [
       "'a king and queen ruled over\\n'"
      ]
     },
     "execution_count": 35,
     "metadata": {},
     "output_type": "execute_result"
    }
   ],
   "source": [
    "ifile.readline() ## 2"
   ]
  },
  {
   "cell_type": "code",
   "execution_count": 36,
   "id": "2716a310-8579-44b1-9cae-a032517c80b7",
   "metadata": {},
   "outputs": [
    {
     "data": {
      "text/plain": [
       "'a distant land'"
      ]
     },
     "execution_count": 36,
     "metadata": {},
     "output_type": "execute_result"
    }
   ],
   "source": [
    "ifile.readline() ## 3"
   ]
  },
  {
   "cell_type": "code",
   "execution_count": 37,
   "id": "45b6b68f-91d0-4f89-b14d-56eb0cea6fab",
   "metadata": {},
   "outputs": [
    {
     "data": {
      "text/plain": [
       "''"
      ]
     },
     "execution_count": 37,
     "metadata": {},
     "output_type": "execute_result"
    }
   ],
   "source": [
    "ifile.readline() ## 4"
   ]
  },
  {
   "cell_type": "markdown",
   "id": "c51f6276-c8dc-4246-997e-5adbc4604243",
   "metadata": {},
   "source": [
    "- line이 끝에 다다르면 빈문자('')가 출력된다."
   ]
  },
  {
   "cell_type": "markdown",
   "id": "87b2d116-b059-47db-92d0-10627eeda889",
   "metadata": {},
   "source": [
    "##### `-` 파일에 루프 사용하기"
   ]
  },
  {
   "cell_type": "markdown",
   "id": "c19db80b-938c-44de-9d1b-46237718f212",
   "metadata": {},
   "source": [
    "루프를 사용하여 파일을 한 줄씩 처리하기"
   ]
  },
  {
   "cell_type": "code",
   "execution_count": 105,
   "id": "53902ff9-0e60-4a28-b1a2-74b4aa41a36c",
   "metadata": {},
   "outputs": [
    {
     "name": "stdout",
     "output_type": "stream",
     "text": [
      "Once upon a time, long, long ago\n",
      "\n",
      "a king and queen ruled over\n",
      "\n",
      "a distant land\n"
     ]
    }
   ],
   "source": [
    "## While문\n",
    "\n",
    "ifile = open(\"snowwhite.txt\", \"r\")\n",
    "line = ifile.readline()\n",
    "\n",
    "while line != '':\n",
    "    # line 처리\n",
    "    print(line)\n",
    "    line = ifile.readline()\n",
    "ifile.close()"
   ]
  },
  {
   "cell_type": "code",
   "execution_count": 106,
   "id": "7e4a6ef4-c38b-4d08-a2ca-c7eba8f6cf78",
   "metadata": {},
   "outputs": [
    {
     "name": "stdout",
     "output_type": "stream",
     "text": [
      "Once upon a time, long, long ago\n",
      "\n",
      "a king and queen ruled over\n",
      "\n",
      "a distant land\n"
     ]
    }
   ],
   "source": [
    "ifile = open(\"snowwhite.txt\", \"r\")\n",
    "\n",
    "while True:\n",
    "    line = ifile.readline()\n",
    "    if not line: break\n",
    "    print(line)\n",
    "ifile.close()    "
   ]
  },
  {
   "cell_type": "code",
   "execution_count": 109,
   "id": "82db50f7-b1a0-459c-855e-8c661e9075a0",
   "metadata": {},
   "outputs": [
    {
     "name": "stdout",
     "output_type": "stream",
     "text": [
      "Once upon a time, long, long ago\n",
      "\n",
      "a king and queen ruled over\n",
      "\n",
      "a distant land\n"
     ]
    }
   ],
   "source": [
    "## for문\n",
    "\n",
    "ifile = open(\"snowwhite.txt\", \"r\")\n",
    "lines = ifile.readlines()\n",
    "\n",
    "for line in lines:\n",
    "    # line 처리\n",
    "    print(line)\n",
    "ifile.close()"
   ]
  },
  {
   "cell_type": "markdown",
   "id": "22d0629d-e29e-4416-9903-5ef8e7e55132",
   "metadata": {},
   "source": [
    "#### `-` 숫자가 들어가 있는 파일 처리"
   ]
  },
  {
   "cell_type": "code",
   "execution_count": 110,
   "id": "b73a30de-79d5-48bf-a2c2-1932237887fd",
   "metadata": {},
   "outputs": [],
   "source": [
    "ofile = open(\"num.txt\", \"w\")                   \n",
    "ofile.write(\"10 20 12 5\\n\")     \n",
    "ofile.write(\"8 9 7 23\\n\")\n",
    "ofile.write(\"1 8 22 9\")\n",
    "ofile.close()"
   ]
  },
  {
   "cell_type": "markdown",
   "id": "da80cfe7-74cf-4d43-915d-74b80ec7f5fe",
   "metadata": {},
   "source": [
    "- `num.txt` 아래와 같은 파일이 있을 떄 파일에 있는 숫자의 합을 구해보자."
   ]
  },
  {
   "cell_type": "code",
   "execution_count": 113,
   "id": "e827c9e3-9d34-4c4a-afed-27b3baf16839",
   "metadata": {},
   "outputs": [
    {
     "name": "stdout",
     "output_type": "stream",
     "text": [
      "10 20 12 5\n",
      "8 9 7 23\n",
      "1 8 22 9\n"
     ]
    }
   ],
   "source": [
    "ofile = open(\"num.txt\", \"r\")\n",
    "print(ofile.read())\n",
    "ofile.close()"
   ]
  },
  {
   "cell_type": "code",
   "execution_count": 115,
   "id": "fd630547-b6e1-457d-b5d2-ae4c1afa81d2",
   "metadata": {},
   "outputs": [
    {
     "name": "stdout",
     "output_type": "stream",
     "text": [
      "134\n"
     ]
    }
   ],
   "source": [
    "ofile = open(\"num.txt\", \"r\")\n",
    "total = 0\n",
    "for line in ofile:\n",
    "    lineLst = line.split()\n",
    "    numList = [eval(x) for x in lineLst]\n",
    "    total += sum(numList)\n",
    "print(total)"
   ]
  },
  {
   "cell_type": "code",
   "execution_count": 118,
   "id": "6530667b-4626-4fcf-80d1-2223fdac5039",
   "metadata": {},
   "outputs": [
    {
     "data": {
      "text/plain": [
       "134"
      ]
     },
     "execution_count": 118,
     "metadata": {},
     "output_type": "execute_result"
    }
   ],
   "source": [
    "10+20+12+5+8+9+7+23+1+8+22+9"
   ]
  },
  {
   "cell_type": "markdown",
   "id": "42f85fac-704e-4f5c-bacf-ec4de197d4df",
   "metadata": {},
   "source": [
    "- 잘 계산된 것을 확인할 수 있다."
   ]
  }
 ],
 "metadata": {
  "kernelspec": {
   "display_name": "Python 3 (ipykernel)",
   "language": "python",
   "name": "python3"
  },
  "language_info": {
   "codemirror_mode": {
    "name": "ipython",
    "version": 3
   },
   "file_extension": ".py",
   "mimetype": "text/x-python",
   "name": "python",
   "nbconvert_exporter": "python",
   "pygments_lexer": "ipython3",
   "version": "3.8.11"
  }
 },
 "nbformat": 4,
 "nbformat_minor": 5
}
