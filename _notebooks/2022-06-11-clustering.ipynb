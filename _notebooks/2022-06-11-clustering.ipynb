{
 "cells": [
  {
   "cell_type": "markdown",
   "id": "4fb3bba3",
   "metadata": {},
   "source": [
    "# 군집분석\n",
    "> Clustering에 대해 알아보자.\n",
    "- toc: true\n",
    "- branch: master\n",
    "- badges: false\n",
    "- comments: true\n",
    "- author: pinkocto\n",
    "- categories: [python]"
   ]
  },
  {
   "cell_type": "markdown",
   "id": "30561fd1",
   "metadata": {},
   "source": [
    "## 군집화 수행 시 주요 고려사항\n",
    "- 어떤 거리 척도를 사용하여 유사도를 측정할 것인가?\n",
    "- 어떤 군집화 알고리즘을 사용할 것인가?\n",
    "- 어떻게 최적의 군집 수를 결정할 것인가?\n",
    "- 어떻게 군집화 결과를 측정/평가할 것인가?"
   ]
  },
  {
   "cell_type": "markdown",
   "id": "37afd352",
   "metadata": {},
   "source": [
    "### `#1.`어떤 거리 척도를 사용하여 유사도를 측정할 것인가?\n",
    "- 유클리디안 거리 (Euclidean Distance)\n",
    "- 맨하탄 거리 (Manhattan Distance)\n",
    "- 마할라노비스 거리 (Mahalanobis Distance)\n",
    "- 상관계수 거리 (Correlation Distance)"
   ]
  },
  {
   "cell_type": "markdown",
   "id": "bb92f588",
   "metadata": {},
   "source": [
    "### `#2.` 군집화: 알고리즘"
   ]
  },
  {
   "cell_type": "markdown",
   "id": "f99b5dfd",
   "metadata": {},
   "source": [
    "**1. 계층적 군집화**\n",
    "- 개체들을 가까운 집단부터 차근차근 묶어나가는 방식\n",
    "- 군집화 결과 뿐만 아니라 유사한 개체들이 결합되는 dendrogram 생성\n",
    "\n",
    "**2. 분리형 군집화**\n",
    "- 전체 데이터의 영역을 특정 기준에 의해 동시에 구분\n",
    "- 각 개체들은 사전에 정의된 개수의 군집 중 하나에 속하게 됨\n",
    "\n",
    "**3. 자기조직화 지도**\n",
    "- 2차원의 격자에 각 개체들이 대응하도록 인공신경망과 유사한 학습을 통해 군집 도출\n",
    "\n",
    "**4. 분포 기반 군집화**\n",
    "- 데이터의 분포를 기반으로 높은 밀도를 갖는 세부 영역들로 전체 영역을 구분"
   ]
  },
  {
   "cell_type": "markdown",
   "id": "629aea88",
   "metadata": {},
   "source": [
    "### 계층적 군집화 (Hierarchical Clustering)\n",
    "- 계층적 트리모형을 이용하여 개별 개체들을 순차적/계층적으로 유사한 개체/군집과 통합\n",
    "- 덴드로그램(Dendrogram)을 통해 시각화 가능\n",
    "    - 덴드로그램 : 개체들이 결합되는 순서를 나타내는 트리 형태의 구조\n",
    "\n",
    "- 사전에 군집의 수를 정하지 않아도 수행 가능\n",
    "    - 덴드로그램 생성 후 적절한 수준에서 자르면 그에 해당하는 군집화 결과 생성"
   ]
  },
  {
   "cell_type": "markdown",
   "id": "743f3c6e",
   "metadata": {},
   "source": [
    "#### 계층적 군집화 수행 예시\n",
    "- 모든 개체들 사이의 거리에 대한 유사도 행렬 계산\n",
    "- 거리가 인접한 관측치끼리 군집 형성\n",
    "- 유사도 행렬 업데이트\n",
    "- 위의 과정 반복"
   ]
  },
  {
   "cell_type": "markdown",
   "id": "1601188e",
   "metadata": {},
   "source": [
    "#### 핵심 수행 절차 : 두 군집 사이의 유사성/거리 측정"
   ]
  },
  {
   "cell_type": "markdown",
   "id": "b8f4c4cc",
   "metadata": {},
   "source": [
    "- Min(단일연결), max(완전연결), group average(평균연결), between centroid, Ward's, ..."
   ]
  },
  {
   "cell_type": "markdown",
   "id": "67996514",
   "metadata": {},
   "source": [
    "<img src = './my_icons/dist.PNG'>"
   ]
  },
  {
   "cell_type": "markdown",
   "id": "29a9dec7",
   "metadata": {},
   "source": [
    "`-` **Ward's method** : Distance between two clusters, A and B, how much the sum of squares will increase when they are merged."
   ]
  },
  {
   "cell_type": "markdown",
   "id": "44e21ac3",
   "metadata": {},
   "source": [
    "### K-평균 군집화 (K-Means Clustering)\n",
    ">대표적인 분리형 군집화 알고리즘"
   ]
  },
  {
   "cell_type": "markdown",
   "id": "a8d7f60a",
   "metadata": {},
   "source": [
    "\n",
    "- 각 군집은 하나의 **중심(centroid)**을 가짐\n",
    "- 각 개체는 가장 가까운 중심에 할당되며, 같은 중심에 할당된 개체들이 모여 하나의 군집을 형성\n",
    "- 사전에 군집의 수 K가 정해져야 알고리즘을 실행할 수 있음\n"
   ]
  },
  {
   "cell_type": "markdown",
   "id": "23a7dfa8",
   "metadata": {},
   "source": [
    "\n",
    "$$X = C_1 \\cup C_2 \\dots \\cup C_k, \\quad  C_i \\cap C_j=\\emptyset, \\quad i \\neq j$$\n",
    "\n",
    "$$\\underset{C}{\\operatorname{\\arg min}} \\sum_{i=1}^K \\sum_{x_j \\in C_i} ||x_j-c_j||^2$$"
   ]
  },
  {
   "cell_type": "markdown",
   "id": "4cad4616",
   "metadata": {},
   "source": [
    "#### 무작위 초기 중심 설정의 위험을 피하고자 다양한 연구 존재\n",
    "- 반복적으로 수행하여 가장 여러 번 나타나는 군집을 사용\n",
    "- 전체 데이터 중 일부만 샘플링하여 계층적 군집화를 수행한 뒤 초기 군집 중심 설정\n",
    "- 데이터 분포의 정보를 사용해서 초기 중심 설정\n",
    "- 하지만 많은 경우 초기 중심 설정이 최종 결과에 큰 영향을 미치지는 않음."
   ]
  },
  {
   "cell_type": "markdown",
   "id": "09e12982",
   "metadata": {},
   "source": [
    "#### K-평균 군집화의 문제점\n",
    "- 문제1 : **서로 다른 크기**의 군집을 잘 찾아내지 못함\n",
    "<img src=\"./my_icons/problem_1.PNG\">"
   ]
  },
  {
   "cell_type": "markdown",
   "id": "5a8f6196",
   "metadata": {},
   "source": [
    "- 문제2 : **서로 다른 밀도**의 군집을 잘 찾아내지 못함\n",
    "<img src=\"./my_icons/problem_2.PNG\">"
   ]
  },
  {
   "cell_type": "markdown",
   "id": "533b4d68",
   "metadata": {},
   "source": [
    "- 문제3 : **지역적 패턴이 존재**하는 군집을 판별하기 어려움\n",
    "    - (보는 위치마다 조금씩 다른 패턴이 보이는 것을 지역적 패턴이 존재한다고 한다.)\n",
    "    - 지역적 패턴이 존재할 때 Geodesic distance를 이용한다.\n",
    "    \n",
    "<img src = './my_icons/problem_3.PNG'>"
   ]
  },
  {
   "cell_type": "markdown",
   "id": "8d1977ad",
   "metadata": {},
   "source": [
    "### `#3.` 군집화: 최적의 군집 수 결정\n",
    "> 어떻게 최적의 군집 수를 결정할 것인가?\n",
    "\n",
    "- 예시) 20개의 관측치가 존재할 때, 최적의 군집 수는?"
   ]
  },
  {
   "cell_type": "markdown",
   "id": "98a38460",
   "metadata": {},
   "source": [
    "- 다양한 군집 수에 대해 성능 평가 지표를 도시하여 최적의 군집 수 선택\n",
    "- Elbow point에서 최적 군집 수가 결정되는 경우가 일반적"
   ]
  },
  {
   "cell_type": "markdown",
   "id": "a466bba2",
   "metadata": {},
   "source": [
    "<img src ='./my_icons/best_cluster.PNG'>"
   ]
  },
  {
   "cell_type": "markdown",
   "id": "c97b6b05",
   "metadata": {},
   "source": [
    "### `#4.` 군집화: 결과 측정 및 평가\n",
    "> 어떻게 군집화 결과를 측정/평가할 것인가?\n",
    "> 분류 알고리즘처럼 모든 상황에 적용가능한 평가 지표 부재\n",
    "\n",
    "`-` 내부 평가지표\n",
    "- Dunn Index, **Silhouette**, **Sum of Squared Error**,...\n",
    "\n",
    "`-` 외부 평가지표\n",
    "- Rand Index, Jaccard Coefficient, Folks and Mallows Index,...\n"
   ]
  },
  {
   "cell_type": "markdown",
   "id": "86687b75",
   "metadata": {},
   "source": [
    "#### 군집화 평가지표 1: Sum of Squared Error (SSE)\n",
    "$$\\text{SSE} = \\sum_{i=1}^k\\sum_{x\\in C_i}dist(x, c_i)^2$$"
   ]
  },
  {
   "cell_type": "markdown",
   "id": "8dd0e645",
   "metadata": {},
   "source": [
    "\n",
    "<img src='./my_icons/sse_1.PNG'>\n",
    "\n",
    "- 군집의 중심을 정의하고 군집을 중심으로부터 거리를 쭉 본것.. 차이의 제곱\n",
    "\n",
    "\n",
    "- 군집의 개수가 2개가 있다면 첫번째 군집으로 부터 SSE, 두번째 군집에서의 SSE(중심과 관측치 사이의 차이제곱)의 합을 대표적으로 하겠다는 것이다.\n",
    "$$SSE = SSE_1 + SSE_2$$\n",
    "\n",
    "\n",
    "- 각 군집의 c(중심)으로부터 거리의 제곱의 합을 계산하는데 군집이 $K$개가 있는것. $K$에 따라서 값이 달라지게된다. 당연한 소리지만,,ㅎ\n"
   ]
  },
  {
   "cell_type": "markdown",
   "id": "f65223a8",
   "metadata": {},
   "source": [
    "<img src='my_icons/sse_2.PNG'>"
   ]
  },
  {
   "cell_type": "markdown",
   "id": "0a6c6e1d",
   "metadata": {},
   "source": [
    "- 위의 경우 '2또는 3에서 최적의 군집이다'라고 할 수 있겠다."
   ]
  },
  {
   "cell_type": "markdown",
   "id": "493de965",
   "metadata": {},
   "source": [
    "#### 군집화 평가지표 2: Silhouette 통계량 (SSE의 단점보완)\n",
    "\n",
    "- $a(i)$ 관측치 $i$로부터 같은 군집 내에 있는 모든 다른 개체들 사이의 평균 거리\n",
    "- $b(i)$ 관측치 $i$로부터 다른 군집 내에 있는 개체들 사이의 평균 거리 중 최솟값\n",
    "- 일반적으로 $\\bar{S}$의 값 $0.5$보다 크면 군집 결과가 타당하다고 볼 수 있음\n",
    "- $-1$에 가까우면 군집이 전혀 되지 않음\n",
    "\n",
    "\n",
    "$$S(i) = \\frac{b(i)-a(i)}{\\text{max}\\{a(i),b(i)\\}}, \\space -1 \\leq(i) \\leq1$$\n",
    "\n",
    "$$\\bar{S} = \\frac{1}{n}\\sum_{i=1}^{n}S(i)$$\n",
    "\n",
    "<img src='./my_icons/sil.PNG'>"
   ]
  },
  {
   "cell_type": "markdown",
   "id": "f381d3c3",
   "metadata": {},
   "source": [
    "$$S(i) = \\frac{b(i)-a(i)}{\\text{max}\\{a(i),b(i)\\}}, \\space -1 \\leq(i) \\leq1$$\n",
    "\n",
    "\n",
    "\n",
    "\n",
    "`-` 위의 식에서 분모의 역할\n",
    "\n",
    "- $b(i)-a(i)$의 값은 무한대까지 갈 수 있기 때문에 스케일된 값을 만들어주기 위해서 $\\text{max}\\{a(i),b(i)\\}$로 나눠준다.\n",
    "\n",
    "- 따라서 실루엣 값은 $-1$과 $1$ 사이에 있다.($-1\\leq S(i) \\leq 1$)\n",
    "\n",
    "- 실루엣 계수는 $1$에가까울 수록 좋고 $-1$에 가까울수록 안좋다.\n"
   ]
  },
  {
   "cell_type": "markdown",
   "id": "31cf3a79",
   "metadata": {},
   "source": [
    "<img src='./my_icons/sil_pic.PNG'>"
   ]
  },
  {
   "cell_type": "markdown",
   "id": "9d755ea4",
   "metadata": {},
   "source": [
    "\n",
    "> Tip: 실루엣으로 평가를 할때는 K=2일 때가 많은 경우 가장 크게 나오니 K가 2인 것을 선택하는 것보다는 2번째로 큰 실루엣값(second best)이 해당하는 K의 군집을 사용하는 것이 좋다."
   ]
  },
  {
   "cell_type": "markdown",
   "id": "6a7686e1",
   "metadata": {},
   "source": [
    "### 실습예제\n",
    "https://www.kaggle.com/code/kashnitsky/topic-7-unsupervised-learning-pca-and-clustering"
   ]
  }
 ],
 "metadata": {
  "kernelspec": {
   "display_name": "Python 3 (ipykernel)",
   "language": "python",
   "name": "python3"
  },
  "language_info": {
   "codemirror_mode": {
    "name": "ipython",
    "version": 3
   },
   "file_extension": ".py",
   "mimetype": "text/x-python",
   "name": "python",
   "nbconvert_exporter": "python",
   "pygments_lexer": "ipython3",
   "version": "3.8.13"
  }
 },
 "nbformat": 4,
 "nbformat_minor": 5
}
