{
 "cells": [
  {
   "cell_type": "markdown",
   "id": "5d4136bd-5e0e-4291-b8df-bc893fa67162",
   "metadata": {},
   "source": [
    "# (3주차 ML) 3월 17일\n",
    "> training set / test set (생선분류문제)\n",
    "- toc: true\n",
    "- branch: master\n",
    "- badges: false\n",
    "- comments: true\n",
    "- author: dinonene\n",
    "- categories: [python]"
   ]
  },
  {
   "cell_type": "markdown",
   "id": "0419a476-1562-4afb-b748-cf618076ddbb",
   "metadata": {},
   "source": [
    "### training set / test set"
   ]
  },
  {
   "cell_type": "code",
   "execution_count": 1,
   "id": "ed910e84-651c-4c4a-ade1-7a05586930c5",
   "metadata": {},
   "outputs": [],
   "source": [
    "fish_length = [25.4, 26.3, 26.5, 29.0, 29.0, 29.7, 29.7, 30.0, 30.0, 30.7, 31.0, 31.0, \n",
    "                31.5, 32.0, 32.0, 32.0, 33.0, 33.0, 33.5, 33.5, 34.0, 34.0, 34.5, 35.0, \n",
    "                35.0, 35.0, 35.0, 36.0, 36.0, 37.0, 38.5, 38.5, 39.5, 41.0, 41.0, 9.8, \n",
    "                10.5, 10.6, 11.0, 11.2, 11.3, 11.8, 11.8, 12.0, 12.2, 12.4, 13.0, 14.3, 15.0]\n",
    "fish_weight = [242.0, 290.0, 340.0, 363.0, 430.0, 450.0, 500.0, 390.0, 450.0, 500.0, 475.0, 500.0, \n",
    "                500.0, 340.0, 600.0, 600.0, 700.0, 700.0, 610.0, 650.0, 575.0, 685.0, 620.0, 680.0, \n",
    "                700.0, 725.0, 720.0, 714.0, 850.0, 1000.0, 920.0, 955.0, 925.0, 975.0, 950.0, 6.7, \n",
    "                7.5, 7.0, 9.7, 9.8, 8.7, 10.0, 9.9, 9.8, 12.2, 13.4, 12.2, 19.7, 19.9]"
   ]
  },
  {
   "cell_type": "code",
   "execution_count": 21,
   "id": "66d20c53-eebb-42df-b708-6c90a0a3803b",
   "metadata": {},
   "outputs": [
    {
     "data": {
      "text/plain": [
       "(49, 49)"
      ]
     },
     "execution_count": 21,
     "metadata": {},
     "output_type": "execute_result"
    }
   ],
   "source": [
    "len(fish_length), len(fish_weight)"
   ]
  },
  {
   "cell_type": "code",
   "execution_count": 2,
   "id": "95219d19-9ae4-4143-83d2-8627dca2c030",
   "metadata": {},
   "outputs": [],
   "source": [
    "fish_data = [[l, w] for l, w in zip(fish_length, fish_weight)]\n",
    "fish_target = [1]*35 + [0]*14"
   ]
  },
  {
   "cell_type": "code",
   "execution_count": 23,
   "id": "a74dbfe1-eb30-430e-9f00-d7b5b3ce755f",
   "metadata": {},
   "outputs": [
    {
     "data": {
      "text/plain": [
       "[25.4, 242.0]"
      ]
     },
     "execution_count": 23,
     "metadata": {},
     "output_type": "execute_result"
    }
   ],
   "source": [
    "fish_data[0]"
   ]
  },
  {
   "cell_type": "code",
   "execution_count": 4,
   "id": "f296dd00-b415-4e3e-9e59-88a384e5cf22",
   "metadata": {},
   "outputs": [],
   "source": [
    "from sklearn.neighbors import KNeighborsClassifier\n",
    "\n",
    "kn = KNeighborsClassifier()"
   ]
  },
  {
   "cell_type": "code",
   "execution_count": 5,
   "id": "12d505db-032a-466c-b386-43d9b60d3787",
   "metadata": {},
   "outputs": [
    {
     "name": "stdout",
     "output_type": "stream",
     "text": [
      "[29.0, 430.0]\n"
     ]
    }
   ],
   "source": [
    "print(fish_data[4])"
   ]
  },
  {
   "cell_type": "code",
   "execution_count": 6,
   "id": "f40fec95-7650-4de0-b233-06cdbc427da2",
   "metadata": {},
   "outputs": [
    {
     "name": "stdout",
     "output_type": "stream",
     "text": [
      "[[25.4, 242.0], [26.3, 290.0], [26.5, 340.0], [29.0, 363.0], [29.0, 430.0]]\n"
     ]
    }
   ],
   "source": [
    "print(fish_data[0:5])"
   ]
  },
  {
   "cell_type": "code",
   "execution_count": 7,
   "id": "257e357d-c838-4e36-8ee6-bd2aea84697a",
   "metadata": {},
   "outputs": [
    {
     "name": "stdout",
     "output_type": "stream",
     "text": [
      "[[25.4, 242.0], [26.3, 290.0], [26.5, 340.0], [29.0, 363.0], [29.0, 430.0]]\n"
     ]
    }
   ],
   "source": [
    "print(fish_data[:5])"
   ]
  },
  {
   "cell_type": "code",
   "execution_count": 8,
   "id": "92556978-4cc6-46a7-9b57-7ba88de2ecff",
   "metadata": {},
   "outputs": [
    {
     "name": "stdout",
     "output_type": "stream",
     "text": [
      "[[12.2, 12.2], [12.4, 13.4], [13.0, 12.2], [14.3, 19.7], [15.0, 19.9]]\n"
     ]
    }
   ],
   "source": [
    "print(fish_data[44:])"
   ]
  },
  {
   "cell_type": "code",
   "execution_count": 9,
   "id": "3c1d2119-ae8b-4976-9115-c403f252d160",
   "metadata": {},
   "outputs": [],
   "source": [
    "train_input = fish_data[:35]   ## index 0~34\n",
    "train_target = fish_target[:35] \n",
    "\n",
    "test_input = fish_data[35:]  ## index 35~48\n",
    "test_target = fish_target[35:]"
   ]
  },
  {
   "cell_type": "code",
   "execution_count": 15,
   "id": "c038b3d8-d6e3-4ed5-b54d-e53bf1c4408b",
   "metadata": {},
   "outputs": [
    {
     "data": {
      "text/plain": [
       "(35, 35)"
      ]
     },
     "execution_count": 15,
     "metadata": {},
     "output_type": "execute_result"
    }
   ],
   "source": [
    "len(train_input), len(train_target)"
   ]
  },
  {
   "cell_type": "code",
   "execution_count": 16,
   "id": "0615a723-1a4a-437e-862b-b792ec57032a",
   "metadata": {},
   "outputs": [
    {
     "data": {
      "text/plain": [
       "(14, 14)"
      ]
     },
     "execution_count": 16,
     "metadata": {},
     "output_type": "execute_result"
    }
   ],
   "source": [
    "len(test_input), len(test_target)"
   ]
  },
  {
   "cell_type": "code",
   "execution_count": 10,
   "id": "d66a1d1a-ef48-4021-9256-25b38853e229",
   "metadata": {},
   "outputs": [
    {
     "data": {
      "text/plain": [
       "0.0"
      ]
     },
     "execution_count": 10,
     "metadata": {},
     "output_type": "execute_result"
    }
   ],
   "source": [
    "## test set에서 평가하기\n",
    "kn = kn.fit(train_input, train_target)\n",
    "kn.score(test_input, test_target)"
   ]
  },
  {
   "cell_type": "markdown",
   "id": "46e94dc6-1c0a-4a90-a7d6-62743bb16ee6",
   "metadata": {},
   "source": [
    "- 정확도가 0% 이다?\n",
    "- test input에 있는 샘플 14개를 모두 못 맞췄다는 것이다.\n",
    "- WHY ? $\\Rightarrow$ **<font color=\"red\">샘플링 편향</font>**"
   ]
  },
  {
   "cell_type": "markdown",
   "id": "8589ca49-3b8d-4c52-b783-921b8f672c94",
   "metadata": {},
   "source": [
    "### 샘플링 편향"
   ]
  },
  {
   "cell_type": "markdown",
   "id": "6159c965-1356-4544-922f-853171c4dbf8",
   "metadata": {},
   "source": [
    " - 왜그런가 봤더니 처음에 fish_length와 fish_weight를 도미 35개, 빙어 14개를 쭉 늘어놓고 두 리스트를 합쳤다.\n",
    " - 두 리스트를 합친 fish_data에서 앞에 35개를 훈련 뒤에 14개를 test set으로 잘랐다.\n",
    " - 즉, 훈련세트에는 빙어가 하나도 없고, 테스트셋에는 도미가 하나도 없게 된다.\n",
    "    - $\\Rightarrow$ 미적분 공부하고 확통시험 본 격..\n",
    " - train set과 test set을 나눌 때에는 빙어와 도미 두 class가 잘 섞여있도록 만들어야 한다."
   ]
  },
  {
   "cell_type": "markdown",
   "id": "3ebfc213-90f1-4d9f-bdb2-d76c8a03b46a",
   "metadata": {},
   "source": [
    "### Numpy"
   ]
  },
  {
   "cell_type": "markdown",
   "id": "a06a7e39-65f9-4889-8d7a-3ddcf20c7225",
   "metadata": {},
   "source": [
    "- 이제 Numpy를 이용해서 잘 섞어서 train set과 test set으로 나눠보자.\n",
    "- Numpy는 파이썬의 대표적인 배열  library\n",
    "- scikit-learn이나 matplotlib librayr도 넘파이에 크게 의존하고 있고, 입력 데이터가 Numpy로 전달될 거라고 가정하고 있다.\n",
    "    - predict method 결과값이 array([1])이런 형태로 출력되는 것도 이러한 이유.(사이킷런의 predict 메서드의 반환값을 넘파이 배열로 리턴)\n",
    "- 딥러닝 TensorFlow도 Numpy와도 타이트한 관계가 있다."
   ]
  },
  {
   "cell_type": "markdown",
   "id": "03028993-37a8-42da-a365-d1240f4f8071",
   "metadata": {},
   "source": [
    "![](data:image/png;base64,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)"
   ]
  },
  {
   "cell_type": "markdown",
   "id": "4f169ffb-b985-4d5d-8cb9-4588b670d49d",
   "metadata": {},
   "source": [
    "- 1차원 배열(벡터), 2차원 배열(행렬), 3차원 배열"
   ]
  },
  {
   "cell_type": "markdown",
   "id": "f81e269d-e140-4bce-8b00-6fcebc9de339",
   "metadata": {},
   "source": [
    "#### `-` training set / test set (using Numpy)"
   ]
  },
  {
   "cell_type": "markdown",
   "id": "988384d6-0d36-4ec7-96d0-8d8781ee3670",
   "metadata": {},
   "source": [
    "- input과 target이 함께 섞여서 이동을 해야한다. (섞여야 한다)\n",
    "- 지도학습에서 입력과 타겟이 쌍을 이루고 있게 되는데 따로따로 섞여버리면 정답을 제대로 못주게 되서 엉터리 훈련이 되버린다.\n",
    "- 입력데이터 특성값과 타깂값이 쌍으로 잘 따라서 섞이도록 만들어야 하는것이 중요!!!\n",
    "    - index를 섞어 분리하는 방법"
   ]
  },
  {
   "cell_type": "code",
   "execution_count": 25,
   "id": "079b191d-196e-498b-a863-6d3bcc55f64e",
   "metadata": {},
   "outputs": [],
   "source": [
    "import numpy as np"
   ]
  },
  {
   "cell_type": "code",
   "execution_count": 26,
   "id": "836d9ebf-be55-4764-88a7-14e5dc4058d6",
   "metadata": {},
   "outputs": [],
   "source": [
    "input_arr = np.array(fish_data)\n",
    "target_arr = np.array(fish_target)"
   ]
  },
  {
   "cell_type": "code",
   "execution_count": 27,
   "id": "a45c7827-905d-4393-a189-249e5e33fc2e",
   "metadata": {},
   "outputs": [
    {
     "name": "stdout",
     "output_type": "stream",
     "text": [
      "[[  25.4  242. ]\n",
      " [  26.3  290. ]\n",
      " [  26.5  340. ]\n",
      " [  29.   363. ]\n",
      " [  29.   430. ]\n",
      " [  29.7  450. ]\n",
      " [  29.7  500. ]\n",
      " [  30.   390. ]\n",
      " [  30.   450. ]\n",
      " [  30.7  500. ]\n",
      " [  31.   475. ]\n",
      " [  31.   500. ]\n",
      " [  31.5  500. ]\n",
      " [  32.   340. ]\n",
      " [  32.   600. ]\n",
      " [  32.   600. ]\n",
      " [  33.   700. ]\n",
      " [  33.   700. ]\n",
      " [  33.5  610. ]\n",
      " [  33.5  650. ]\n",
      " [  34.   575. ]\n",
      " [  34.   685. ]\n",
      " [  34.5  620. ]\n",
      " [  35.   680. ]\n",
      " [  35.   700. ]\n",
      " [  35.   725. ]\n",
      " [  35.   720. ]\n",
      " [  36.   714. ]\n",
      " [  36.   850. ]\n",
      " [  37.  1000. ]\n",
      " [  38.5  920. ]\n",
      " [  38.5  955. ]\n",
      " [  39.5  925. ]\n",
      " [  41.   975. ]\n",
      " [  41.   950. ]\n",
      " [   9.8    6.7]\n",
      " [  10.5    7.5]\n",
      " [  10.6    7. ]\n",
      " [  11.     9.7]\n",
      " [  11.2    9.8]\n",
      " [  11.3    8.7]\n",
      " [  11.8   10. ]\n",
      " [  11.8    9.9]\n",
      " [  12.     9.8]\n",
      " [  12.2   12.2]\n",
      " [  12.4   13.4]\n",
      " [  13.    12.2]\n",
      " [  14.3   19.7]\n",
      " [  15.    19.9]]\n"
     ]
    }
   ],
   "source": [
    "print(input_arr)"
   ]
  },
  {
   "cell_type": "code",
   "execution_count": 28,
   "id": "3f8f1a10-c134-4355-a08c-d70fab057d01",
   "metadata": {},
   "outputs": [
    {
     "name": "stdout",
     "output_type": "stream",
     "text": [
      "(49, 2)\n"
     ]
    }
   ],
   "source": [
    "print(input_arr.shape)"
   ]
  },
  {
   "cell_type": "markdown",
   "id": "5a29a098-9c80-426d-9db5-c650de893e7c",
   "metadata": {},
   "source": [
    "`-` 0~48까지 정수로된 index 만들기"
   ]
  },
  {
   "cell_type": "code",
   "execution_count": 29,
   "id": "9de56ada-759c-4015-86f9-e0cf827e6c61",
   "metadata": {},
   "outputs": [
    {
     "data": {
      "text/plain": [
       "array([ 0,  1,  2,  3,  4,  5,  6,  7,  8,  9, 10, 11, 12, 13, 14, 15, 16,\n",
       "       17, 18, 19, 20, 21, 22, 23, 24, 25, 26, 27, 28, 29, 30, 31, 32, 33,\n",
       "       34, 35, 36, 37, 38, 39, 40, 41, 42, 43, 44, 45, 46, 47, 48])"
      ]
     },
     "execution_count": 29,
     "metadata": {},
     "output_type": "execute_result"
    }
   ],
   "source": [
    "index = np.arange(49)\n",
    "index"
   ]
  },
  {
   "cell_type": "markdown",
   "id": "bb57a08c-a111-40b9-8ef0-af8a9ef23936",
   "metadata": {},
   "source": [
    "`-` index를 섞어준다."
   ]
  },
  {
   "cell_type": "code",
   "execution_count": 30,
   "id": "2ac21da9-cd4a-4010-935e-dc6731f254f0",
   "metadata": {},
   "outputs": [],
   "source": [
    "np.random.seed(42)\n",
    "np.random.shuffle(index)"
   ]
  },
  {
   "cell_type": "code",
   "execution_count": 31,
   "id": "0099fbd0-c3b2-4c44-8657-b8867e277d03",
   "metadata": {},
   "outputs": [
    {
     "name": "stdout",
     "output_type": "stream",
     "text": [
      "[13 45 47 44 17 27 26 25 31 19 12  4 34  8  3  6 40 41 46 15  9 16 24 33\n",
      " 30  0 43 32  5 29 11 36  1 21  2 37 35 23 39 10 22 18 48 20  7 42 14 28\n",
      " 38]\n"
     ]
    }
   ],
   "source": [
    "print(index)"
   ]
  },
  {
   "cell_type": "markdown",
   "id": "b540abf0-41d7-4d69-b8f6-2a1373d8839e",
   "metadata": {},
   "source": [
    "- 잘 섞였다..."
   ]
  },
  {
   "cell_type": "code",
   "execution_count": 34,
   "id": "4cf9bbea-858f-4273-9f3f-4557c83e085e",
   "metadata": {},
   "outputs": [
    {
     "data": {
      "text/plain": [
       "array([[ 25.4, 242. ],\n",
       "       [ 26.3, 290. ],\n",
       "       [ 26.5, 340. ],\n",
       "       [ 29. , 363. ],\n",
       "       [ 29. , 430. ]])"
      ]
     },
     "execution_count": 34,
     "metadata": {},
     "output_type": "execute_result"
    }
   ],
   "source": [
    "input_arr[:5]"
   ]
  },
  {
   "cell_type": "code",
   "execution_count": 18,
   "id": "4341f614-daa5-4c92-a1ba-690e433beb5d",
   "metadata": {},
   "outputs": [
    {
     "name": "stdout",
     "output_type": "stream",
     "text": [
      "[[ 26.3 290. ]\n",
      " [ 29.  363. ]]\n"
     ]
    }
   ],
   "source": [
    "print(input_arr[[1,3]])"
   ]
  },
  {
   "cell_type": "markdown",
   "id": "c489f9a4-ae99-4f5d-9bcd-042fdb536799",
   "metadata": {},
   "source": [
    "`-` 랜덤하게 섞인 인덱스 배열에서 앞부분 35개를 훈련셋으로 두고, 뒷부분 14개를 테스트 셋으로 둔다"
   ]
  },
  {
   "cell_type": "code",
   "execution_count": 35,
   "id": "601cfb11-385d-4bec-8549-48e1b6c4671f",
   "metadata": {},
   "outputs": [
    {
     "name": "stdout",
     "output_type": "stream",
     "text": [
      "[13 45 47 44 17 27 26 25 31 19 12  4 34  8  3  6 40 41 46 15  9 16 24 33\n",
      " 30  0 43 32  5 29 11 36  1 21  2 37 35 23 39 10 22 18 48 20  7 42 14 28\n",
      " 38]\n"
     ]
    }
   ],
   "source": [
    "print(index)"
   ]
  },
  {
   "cell_type": "code",
   "execution_count": 34,
   "id": "8c8a1001-b9f3-4cc8-8143-8ea075ca6762",
   "metadata": {},
   "outputs": [],
   "source": [
    "train_input = input_arr[index[:35]]\n",
    "train_target = target_arr[index[:35]]"
   ]
  },
  {
   "cell_type": "code",
   "execution_count": 35,
   "id": "7b3fa07d-18b6-47bd-8227-3ba532ad7495",
   "metadata": {},
   "outputs": [
    {
     "name": "stdout",
     "output_type": "stream",
     "text": [
      "[ 32. 340.] [ 32. 340.]\n"
     ]
    }
   ],
   "source": [
    "print(input_arr[13], train_input[0])"
   ]
  },
  {
   "cell_type": "code",
   "execution_count": 36,
   "id": "654cd039-199e-4fd3-8932-615de1aba2e8",
   "metadata": {},
   "outputs": [],
   "source": [
    "test_input = input_arr[index[35:]]\n",
    "test_target = target_arr[index[35:]]"
   ]
  },
  {
   "cell_type": "code",
   "execution_count": 37,
   "id": "e5fcfa78-7f31-41bf-ad14-4120b98d4ff5",
   "metadata": {},
   "outputs": [
    {
     "data": {
      "image/png": "[encoded data removed]",
      "text/plain": [
       "<Figure size 432x288 with 1 Axes>"
      ]
     },
     "metadata": {
      "needs_background": "light"
     },
     "output_type": "display_data"
    }
   ],
   "source": [
    "import matplotlib.pyplot as plt\n",
    "\n",
    "plt.scatter(train_input[:,0], train_input[:,1])\n",
    "plt.scatter(test_input[:,0], test_input[:,1])\n",
    "plt.xlabel('length')\n",
    "plt.ylabel('weight')\n",
    "plt.show()"
   ]
  },
  {
   "cell_type": "markdown",
   "id": "3694e36b-ddca-4fc1-8359-3db4338bbc7c",
   "metadata": {},
   "source": [
    "### KNN (두번째 머신러닝 프로그램)"
   ]
  },
  {
   "cell_type": "code",
   "execution_count": 38,
   "id": "40d96b9a-83d6-4ea1-84bc-1d8cf9749390",
   "metadata": {},
   "outputs": [],
   "source": [
    "kn = kn.fit(train_input, train_target)"
   ]
  },
  {
   "cell_type": "code",
   "execution_count": 39,
   "id": "4fa433f4-bd9c-45f4-8ecc-028f543c6e88",
   "metadata": {},
   "outputs": [
    {
     "data": {
      "text/plain": [
       "1.0"
      ]
     },
     "execution_count": 39,
     "metadata": {},
     "output_type": "execute_result"
    }
   ],
   "source": [
    "kn.score(test_input, test_target)"
   ]
  },
  {
   "cell_type": "code",
   "execution_count": 40,
   "id": "65c2fb67-a3f9-42c8-a7a5-b784015c7d5b",
   "metadata": {},
   "outputs": [
    {
     "data": {
      "text/plain": [
       "array([0, 0, 1, 0, 1, 1, 1, 0, 1, 1, 0, 1, 1, 0])"
      ]
     },
     "execution_count": 40,
     "metadata": {},
     "output_type": "execute_result"
    }
   ],
   "source": [
    "kn.predict(test_input)"
   ]
  },
  {
   "cell_type": "code",
   "execution_count": 41,
   "id": "2535e8d7-fbf9-413d-9966-39ce1197c72d",
   "metadata": {},
   "outputs": [
    {
     "data": {
      "text/plain": [
       "array([0, 0, 1, 0, 1, 1, 1, 0, 1, 1, 0, 1, 1, 0])"
      ]
     },
     "execution_count": 41,
     "metadata": {},
     "output_type": "execute_result"
    }
   ],
   "source": [
    "test_target"
   ]
  },
  {
   "cell_type": "code",
   "execution_count": null,
   "id": "8796b5eb-29f1-4531-bce5-95f497adb7b0",
   "metadata": {},
   "outputs": [],
   "source": []
  }
 ],
 "metadata": {
  "kernelspec": {
   "display_name": "Python 3 (ipykernel)",
   "language": "python",
   "name": "python3"
  },
  "language_info": {
   "codemirror_mode": {
    "name": "ipython",
    "version": 3
   },
   "file_extension": ".py",
   "mimetype": "text/x-python",
   "name": "python",
   "nbconvert_exporter": "python",
   "pygments_lexer": "ipython3",
   "version": "3.8.11"
  }
 },
 "nbformat": 4,
 "nbformat_minor": 5
}
